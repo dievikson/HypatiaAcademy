{
  "nbformat": 4,
  "nbformat_minor": 0,
  "metadata": {
    "colab": {
      "provenance": [],
      "authorship_tag": "ABX9TyNfUm6YaxHCE6TwaCBC+jSF",
      "include_colab_link": true
    },
    "kernelspec": {
      "name": "python3",
      "display_name": "Python 3"
    },
    "language_info": {
      "name": "python"
    }
  },
  "cells": [
    {
      "cell_type": "markdown",
      "metadata": {
        "id": "view-in-github",
        "colab_type": "text"
      },
      "source": [
        "<a href=\"https://colab.research.google.com/github/werowe/HypatiaAcademy/blob/master/charts/2023_03_26_charting_heatmap_histogram.ipynb\" target=\"_parent\"><img src=\"https://colab.research.google.com/assets/colab-badge.svg\" alt=\"Open In Colab\"/></a>"
      ]
    },
    {
      "cell_type": "code",
      "source": [
        "a = np.random.normal(loc=0, scale=3, size=25)\n",
        "\n",
        "b= np.round(a).astype(int)\n",
        "c= b.reshape(5,5)\n",
        "\n",
        "plt.imshow(c, cmap='viridis')\n",
        "\n",
        "plt.colorbar()\n",
        "\n",
        "for i in range(c.shape[0]):\n",
        "    for j in range(c.shape[1]):\n",
        "        plt.annotate(str(c[i, j]), xy=(j, i), ha='center', va='center', color='white')\n",
        "\n",
        "\n",
        "plt.show()\n",
        "\n",
        "\n"
      ],
      "metadata": {
        "id": "h8Y6aToUvW3w",
        "outputId": "fe7e2531-6856-4e4f-c132-efc051a2a835",
        "colab": {
          "base_uri": "https://localhost:8080/",
          "height": 435
        }
      },
      "execution_count": 110,
      "outputs": [
        {
          "output_type": "display_data",
          "data": {
            "text/plain": [
              "<Figure size 640x480 with 2 Axes>"
            ],
            "image/png": "[encoded data removed]"
          },
          "metadata": {}
        }
      ]
    },
    {
      "cell_type": "code",
      "source": [
        "c[4,0]"
      ],
      "metadata": {
        "id": "aCWulPo7_VD5",
        "outputId": "db0df408-3cdd-4156-b3f5-3978f333e398",
        "colab": {
          "base_uri": "https://localhost:8080/"
        }
      },
      "execution_count": 111,
      "outputs": [
        {
          "output_type": "execute_result",
          "data": {
            "text/plain": [
              "-3"
            ]
          },
          "metadata": {},
          "execution_count": 111
        }
      ]
    },
    {
      "cell_type": "code",
      "source": [
        "counts, values = np.unique(b, return_counts=True)"
      ],
      "metadata": {
        "id": "XvHEy4pSDrP5"
      },
      "execution_count": 112,
      "outputs": []
    },
    {
      "cell_type": "code",
      "source": [
        "np.array([counts,values])"
      ],
      "metadata": {
        "id": "D0L4CPmOHm5S",
        "outputId": "bff7b060-2a37-40e5-91c2-32002753f3d2",
        "colab": {
          "base_uri": "https://localhost:8080/"
        }
      },
      "execution_count": 113,
      "outputs": [
        {
          "output_type": "execute_result",
          "data": {
            "text/plain": [
              "array([[-6, -4, -3, -2, -1,  0,  1,  2,  3],\n",
              "       [ 1,  2,  3,  3,  2,  6,  5,  1,  2]])"
            ]
          },
          "metadata": {},
          "execution_count": 113
        }
      ]
    },
    {
      "cell_type": "code",
      "source": [
        "np.column_stack((counts, values))"
      ],
      "metadata": {
        "colab": {
          "base_uri": "https://localhost:8080/"
        },
        "id": "r3Pgmv33D_Bi",
        "outputId": "dfaadef7-77cb-4d2c-bdfd-f75262c192f7"
      },
      "execution_count": 114,
      "outputs": [
        {
          "output_type": "execute_result",
          "data": {
            "text/plain": [
              "array([[-6,  1],\n",
              "       [-4,  2],\n",
              "       [-3,  3],\n",
              "       [-2,  3],\n",
              "       [-1,  2],\n",
              "       [ 0,  6],\n",
              "       [ 1,  5],\n",
              "       [ 2,  1],\n",
              "       [ 3,  2]])"
            ]
          },
          "metadata": {},
          "execution_count": 114
        }
      ]
    },
    {
      "cell_type": "code",
      "source": [
        "plt.bar(counts,values)"
      ],
      "metadata": {
        "id": "qQT3T8WgHSik",
        "outputId": "a7e96ff4-5d5c-470f-9315-b8c77d61cd17",
        "colab": {
          "base_uri": "https://localhost:8080/",
          "height": 447
        }
      },
      "execution_count": 115,
      "outputs": [
        {
          "output_type": "execute_result",
          "data": {
            "text/plain": [
              "<BarContainer object of 9 artists>"
            ]
          },
          "metadata": {},
          "execution_count": 115
        },
        {
          "output_type": "display_data",
          "data": {
            "text/plain": [
              "<Figure size 640x480 with 1 Axes>"
            ],
            "image/png": "[encoded data removed]"
          },
          "metadata": {}
        }
      ]
    }
  ]
}