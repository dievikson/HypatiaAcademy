{
  "nbformat": 4,
  "nbformat_minor": 0,
  "metadata": {
    "colab": {
      "provenance": [],
      "authorship_tag": "ABX9TyMxnXOzAssa0TeDzjTkUiyU",
      "include_colab_link": true
    },
    "kernelspec": {
      "name": "python3",
      "display_name": "Python 3"
    },
    "language_info": {
      "name": "python"
    }
  },
  "cells": [
    {
      "cell_type": "markdown",
      "metadata": {
        "id": "view-in-github",
        "colab_type": "text"
      },
      "source": [
        "<a href=\"https://colab.research.google.com/github/werowe/HypatiaAcademy/blob/master/ml/manually_calculate_linear_regression.ipynb\" target=\"_parent\"><img src=\"https://colab.research.google.com/assets/colab-badge.svg\" alt=\"Open In Colab\"/></a>"
      ]
    },
    {
      "cell_type": "code",
      "execution_count": null,
      "metadata": {
        "id": "BQJHSdPPxTGQ"
      },
      "outputs": [],
      "source": []
    },
    {
      "cell_type": "markdown",
      "source": [
        "The mean of \\(x\\) and \\(y\\):\n",
        "$$\n",
        "\\bar{x} = \\frac{1}{n} \\sum_{i=1}^{n} x_i\n",
        "$$\n",
        "$$\n",
        "\\bar{y} = \\frac{1}{n} \\sum_{i=1}^{n} y_i\n",
        "$$\n",
        "\n",
        "\n",
        "\n",
        "\n",
        "The slope $$\\beta_1$$:\n",
        "$$\n",
        "\\beta_1 = \\frac{\\sum_{i=1}^{n} (x_i - \\bar{x})(y_i - \\bar{y})}{\\sum_{i=1}^{n} (x_i - \\bar{x})^2}\n",
        "$$\n",
        "\n",
        "The intercept $$\\beta_2$$:\n",
        "$$\n",
        "\\beta_0 = \\bar{y} - \\beta_1 \\bar{x}\n",
        "$$\n",
        "\n",
        "Linear Model Equation:\n",
        "$$\n",
        "y = \\beta_0 + \\beta_1 x\n",
        "$$\n"
      ],
      "metadata": {
        "id": "08fcrTjax4p7"
      }
    }
  ]
}