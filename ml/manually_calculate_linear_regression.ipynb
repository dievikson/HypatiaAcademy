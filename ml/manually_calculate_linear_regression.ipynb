{
  "nbformat": 4,
  "nbformat_minor": 0,
  "metadata": {
    "colab": {
      "provenance": [],
      "authorship_tag": "ABX9TyN1pqCC1PNOmkPpzArXPIKs",
      "include_colab_link": true
    },
    "kernelspec": {
      "name": "python3",
      "display_name": "Python 3"
    },
    "language_info": {
      "name": "python"
    }
  },
  "cells": [
    {
      "cell_type": "markdown",
      "metadata": {
        "id": "view-in-github",
        "colab_type": "text"
      },
      "source": [
        "<a href=\"https://colab.research.google.com/github/werowe/HypatiaAcademy/blob/master/ml/manually_calculate_linear_regression.ipynb\" target=\"_parent\"><img src=\"https://colab.research.google.com/assets/colab-badge.svg\" alt=\"Open In Colab\"/></a>"
      ]
    },
    {
      "cell_type": "markdown",
      "source": [
        "the gooogle sheets version of this is here\n",
        "\n",
        "https://docs.google.com/spreadsheets/d/1YCRLxVRAo55gQos9ODFHm9JH0FGGwwOE-JN2D4NM7Tk/edit?usp=sharing\n",
        "\n",
        "\n"
      ],
      "metadata": {
        "id": "QJOm0T86rh4w"
      }
    },
    {
      "cell_type": "markdown",
      "source": [
        "The mean of \\(x\\) and \\(y\\):\n",
        "$$\n",
        "\\bar{x} = \\frac{1}{n} \\sum_{i=1}^{n} x_i\n",
        "$$\n",
        "$$\n",
        "\\bar{y} = \\frac{1}{n} \\sum_{i=1}^{n} y_i\n",
        "$$\n",
        "\n",
        "\n",
        "\n",
        "\n",
        "The slope $$\\beta_1$$:\n",
        "$$\n",
        "\\beta_1 = \\frac{\\sum_{i=1}^{n} (x_i - \\bar{x})(y_i - \\bar{y})}{\\sum_{i=1}^{n} (x_i - \\bar{x})^2}\n",
        "$$\n",
        "\n",
        "The intercept $$\\beta_2$$:\n",
        "$$\n",
        "\\beta_0 = \\bar{y} - \\beta_1 \\bar{x}\n",
        "$$\n",
        "\n",
        "Linear Model Equation:\n",
        "$$\n",
        "y = \\beta_0 + \\beta_1 x\n",
        "$$\n"
      ],
      "metadata": {
        "id": "08fcrTjax4p7"
      }
    },
    {
      "cell_type": "code",
      "source": [
        "import numpy as np\n",
        "\n",
        "x=np.array([2,4,6,8,10,12,14,16,18,20,22,24,26,28,30,32])\n",
        "\n",
        "y=np.array([24.90,31.01,41.08,45.01,57.58,60.35,71.67,74.18,85.93,89.99,97.25,102.63,115.08,116.39,127.84,128.38])"
      ],
      "metadata": {
        "id": "jHXfQ5JMl2hR"
      },
      "execution_count": 9,
      "outputs": []
    },
    {
      "cell_type": "code",
      "source": [
        "slope, intercept = np.polyfit(x, y, 1)\n",
        "\n",
        "# Print the slope and intercept\n",
        "print(f\"Slope: {slope}\")\n",
        "print(f\"Intercept: {intercept}\")\n",
        "\n",
        "# Optional: Use the model to predict new values\n",
        "\n"
      ],
      "metadata": {
        "colab": {
          "base_uri": "https://localhost:8080/"
        },
        "id": "3DmWF80Mn8t3",
        "outputId": "a20b36dd-7421-4819-b9a8-652df790dfe0"
      },
      "execution_count": 10,
      "outputs": [
        {
          "output_type": "stream",
          "name": "stdout",
          "text": [
            "Slope: 3.5563161764705886\n",
            "Intercept: 18.872\n"
          ]
        }
      ]
    }
  ]
}