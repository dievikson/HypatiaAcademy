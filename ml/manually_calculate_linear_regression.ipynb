{
  "nbformat": 4,
  "nbformat_minor": 0,
  "metadata": {
    "colab": {
      "provenance": [],
      "authorship_tag": "ABX9TyOvbfGVbYxtIYpBH3Pxkqb+",
      "include_colab_link": true
    },
    "kernelspec": {
      "name": "python3",
      "display_name": "Python 3"
    },
    "language_info": {
      "name": "python"
    }
  },
  "cells": [
    {
      "cell_type": "markdown",
      "metadata": {
        "id": "view-in-github",
        "colab_type": "text"
      },
      "source": [
        "<a href=\"https://colab.research.google.com/github/werowe/HypatiaAcademy/blob/master/ml/manually_calculate_linear_regression.ipynb\" target=\"_parent\"><img src=\"https://colab.research.google.com/assets/colab-badge.svg\" alt=\"Open In Colab\"/></a>"
      ]
    },
    {
      "cell_type": "markdown",
      "source": [
        "the gooogle sheets version of this is here\n",
        "\n",
        "https://docs.google.com/spreadsheets/d/1YCRLxVRAo55gQos9ODFHm9JH0FGGwwOE-JN2D4NM7Tk/edit?usp=sharing\n",
        "\n",
        "\n"
      ],
      "metadata": {
        "id": "QJOm0T86rh4w"
      }
    },
    {
      "cell_type": "markdown",
      "source": [
        "The mean of \\(x\\) and \\(y\\):\n",
        "$$\n",
        "\\bar{x} = \\frac{1}{n} \\sum_{i=1}^{n} x_i\n",
        "$$\n",
        "$$\n",
        "\\bar{y} = \\frac{1}{n} \\sum_{i=1}^{n} y_i\n",
        "$$\n",
        "\n",
        "\n",
        "\n",
        "\n",
        "The slope $\\beta_1$:\n",
        "$$\n",
        "\\beta_1 = \\frac{\\sum_{i=1}^{n} (x_i - \\bar{x})(y_i - \\bar{y})}{\\sum_{i=1}^{n} (x_i - \\bar{x})^2}\n",
        "$$\n",
        "\n",
        "The intercept $\\beta_2$:\n",
        "$$\n",
        "\\beta_0 = \\bar{y} - \\beta_1 \\bar{x}\n",
        "$$\n",
        "\n",
        "Linear Model Equation:\n",
        "$$\n",
        "y = \\beta_0 + \\beta_1 x\n",
        "$$\n"
      ],
      "metadata": {
        "id": "08fcrTjax4p7"
      }
    },
    {
      "cell_type": "code",
      "source": [
        "import numpy as np\n",
        "\n",
        "x=np.array([2,4,6,8,10,12,14,16,18,20,22,24,26,28,30,32])\n",
        "\n",
        "y=np.array([24.90,31.01,41.08,45.01,57.58,60.35,71.67,74.18,85.93,89.99,97.25,102.63,115.08,116.39,127.84,128.38])"
      ],
      "metadata": {
        "id": "jHXfQ5JMl2hR"
      },
      "execution_count": 2,
      "outputs": []
    },
    {
      "cell_type": "code",
      "source": [
        "slope, intercept = np.polyfit(x, y, 1)\n",
        "\n",
        "\n",
        "print(f\"Slope: {slope}\")\n",
        "print(f\"Intercept: {intercept}\")\n",
        "\n"
      ],
      "metadata": {
        "colab": {
          "base_uri": "https://localhost:8080/"
        },
        "id": "3DmWF80Mn8t3",
        "outputId": "d2effc83-a512-4ceb-8c00-718cb7cb3ae4"
      },
      "execution_count": 4,
      "outputs": [
        {
          "output_type": "stream",
          "name": "stdout",
          "text": [
            "Slope: 3.5563161764705886\n",
            "Intercept: 18.872\n"
          ]
        }
      ]
    },
    {
      "cell_type": "code",
      "source": [
        "\n",
        "# the problem is we don't how how to take his stock prices and turn them into numbers.\n",
        "\n",
        "# linear regression makes a prediction\n",
        "\n",
        "# so the input is hours studied (x) predict (y).  score\n",
        "\n",
        "# he is trying to show correlation between what and what?\n",
        "\n",
        "\n",
        "\n",
        "\n",
        "from scipy import stats\n",
        "\n",
        "\n",
        "slope, intercept, r, p, std_err = stats.linregress(x, y)\n",
        "\n",
        "print (slope, intercept, r, p, std_err )\n",
        "\n"
      ],
      "metadata": {
        "id": "Xo06EwwtlpY8",
        "outputId": "036af69d-b896-483a-97ad-b83d886fc40d",
        "colab": {
          "base_uri": "https://localhost:8080/"
        }
      },
      "execution_count": 6,
      "outputs": [
        {
          "output_type": "stream",
          "name": "stdout",
          "text": [
            "3.5563161764705877 18.872000000000007 0.9974438932447016 1.898780245114861e-17 0.06808864009036217\n"
          ]
        }
      ]
    }
  ]
}