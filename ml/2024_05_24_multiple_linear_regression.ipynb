{
  "nbformat": 4,
  "nbformat_minor": 0,
  "metadata": {
    "colab": {
      "provenance": [],
      "authorship_tag": "ABX9TyO9K/JVc63VmLrHKaeJ/vO6",
      "include_colab_link": true
    },
    "kernelspec": {
      "name": "python3",
      "display_name": "Python 3"
    },
    "language_info": {
      "name": "python"
    }
  },
  "cells": [
    {
      "cell_type": "markdown",
      "metadata": {
        "id": "view-in-github",
        "colab_type": "text"
      },
      "source": [
        "<a href=\"https://colab.research.google.com/github/werowe/HypatiaAcademy/blob/master/ml/2024_05_24_multiple_linear_regression.ipynb\" target=\"_parent\"><img src=\"https://colab.research.google.com/assets/colab-badge.svg\" alt=\"Open In Colab\"/></a>"
      ]
    },
    {
      "cell_type": "code",
      "source": [
        "\n",
        "import pandas as pd\n",
        "\n",
        "\n",
        "# we have nothing to predict\n",
        "\n",
        "\n",
        "populationData = pd.DataFrame(\n",
        "    \"year\": [2010,2010,2010]\n",
        "    \"country\": ['USA', 'India', 'Japan']\n",
        "    \"population\" : [ 1000, 2000, 3000]\n",
        ")\n",
        "\n",
        "# here we can predict what grade you might get given how many hours that you study\n",
        "\n",
        "gradePredictor =  pd.DataFrame(\n",
        "    \"grades\": [10,15,20]\n",
        "    \"hoursStudied\": [5, 7, 10]\n",
        ")\n",
        "\n",
        "\n",
        "# the goal of machine learning is to made a prediction\n",
        "\n",
        "\n",
        "\n",
        "\n",
        "\n"
      ],
      "metadata": {
        "id": "7frfD4g-6-NI",
        "outputId": "904e7d7a-c1bc-4aa8-9c0c-6e036dbb99fb",
        "colab": {
          "base_uri": "https://localhost:8080/",
          "height": 106
        }
      },
      "execution_count": 1,
      "outputs": [
        {
          "output_type": "error",
          "ename": "SyntaxError",
          "evalue": "invalid syntax (<ipython-input-1-2e4da131b67c>, line 8)",
          "traceback": [
            "\u001b[0;36m  File \u001b[0;32m\"<ipython-input-1-2e4da131b67c>\"\u001b[0;36m, line \u001b[0;32m8\u001b[0m\n\u001b[0;31m    \"year\": [2010,2010,2010]\u001b[0m\n\u001b[0m          ^\u001b[0m\n\u001b[0;31mSyntaxError\u001b[0m\u001b[0;31m:\u001b[0m invalid syntax\n"
          ]
        }
      ]
    },
    {
      "cell_type": "markdown",
      "source": [
        "\n",
        "# Examples of Machine Learning\n",
        "\n",
        "* predict the weather\n",
        "* facial recognition\n",
        "* image recognition Iris flower\n",
        "\n",
        "pixel is a dot on the computer screen\n",
        "a picture of someone's face or a flow is pixels\n",
        "\n",
        "## business oriented machine learning would do things like\n",
        "\n",
        "* predict sales\n",
        "\n",
        "should I build another store\n",
        "\n",
        "revenue =   m1 * (how many stores already there) + m2 * (income of people who live there)\n",
        "\n",
        "\n",
        "# simple linear regression\n",
        "\n",
        "that means one independent variable, x\n",
        "and one dependent variable, y\n",
        "\n",
        "the value of y depends on x\n",
        "\n",
        "grades = some number * hours studied + constant\n",
        "\n",
        "y = m * x + b\n",
        "\n",
        "\n",
        "how did we find m?\n",
        "\n",
        "m is the line with the least squared error\n",
        "\n",
        "# now we are well paid data scientists working for a big company\n",
        "\n",
        "you will still have only one y <-----what we will predict\n",
        "\n",
        "but you will have lots of x's\n",
        "\n",
        "\n",
        "predictive model will be\n",
        "\n",
        "y = m1 * x1 + m2 * x2 + m3 * x3 * + ... + mn xn + b\n",
        "\n",
        "\n",
        "\n",
        "# tools.  how do we calculate m\n",
        "\n",
        "1.  google sheets. too difficult for two variabels.  when we only had x and y we used lintest() function\n",
        "\n",
        "2. numpy.fit???\n",
        "\n",
        "3. scipy\n",
        "\n",
        "4.  sklearn.linear_model import LinearRegression\n",
        "\n",
        "\n",
        "for neural netoworks, these for like image recognition\n",
        "\n",
        "\n",
        "5.  tensorflow (google)\n",
        "\n",
        "6.  pytorch (facebook)\n",
        "\n",
        "\n",
        "\n",
        "\n",
        "\n",
        "\n",
        "\n",
        "\n"
      ],
      "metadata": {
        "id": "P2_DA9yi8OSw"
      }
    },
    {
      "cell_type": "code",
      "execution_count": 2,
      "metadata": {
        "id": "95NSqTFEeoRA"
      },
      "outputs": [],
      "source": [
        "import pandas as pd\n",
        "import matplotlib.pyplot as plt\n",
        "from sklearn import linear_model\n",
        "import numpy as np\n",
        "from sklearn.metrics import mean_squared_error, r2_score\n",
        "from pylab import *\n",
        "from sklearn.model_selection import train_test_split\n",
        "from sklearn.linear_model import LinearRegression\n",
        "\n",
        "\n",
        "# y to be wine quality\n",
        "\n",
        "\n",
        "\n",
        "\n",
        "red=pd.read_csv(\"https://raw.githubusercontent.com/werowe/HypatiaAcademy/master/ml/winequality-red.csv\",delimiter=\";\")\n",
        "white=pd.read_csv(\"https://raw.githubusercontent.com/werowe/HypatiaAcademy/master/ml/winequality-white.csv\",delimiter=\";\")"
      ]
    },
    {
      "cell_type": "markdown",
      "source": [
        "**simple linear regression** y = mx + b\n",
        "\n",
        "x one independent variable\n",
        "y one dependent variable\n",
        "\n",
        "y = mx + b\n",
        "\n",
        "\n",
        "**multiple linear regression**\n",
        "is when you have multiple inputs\n",
        "\n",
        "wine quality is correlated with sugar level, acid level, PH, etc.\n",
        "\n",
        "least square errors technique\n",
        "\n",
        "error:  \n",
        "\n",
        "predicted value - observed value ** 2\n",
        "\n",
        "SME (sum of mean squared errors)\n",
        "\n",
        "\n",
        "y = m1*x1 + m2*x2 + m3*x +. .....  + b\n",
        "\n",
        "\n",
        "\n",
        "\n",
        "\n",
        "\n"
      ],
      "metadata": {
        "id": "ad8rzF43eu21"
      }
    },
    {
      "cell_type": "code",
      "source": [
        "red.columns"
      ],
      "metadata": {
        "colab": {
          "base_uri": "https://localhost:8080/"
        },
        "id": "npnc0m6Ug_3k",
        "outputId": "0a7ac8c9-2134-423c-dcc4-60aaa57ac457"
      },
      "execution_count": 3,
      "outputs": [
        {
          "output_type": "execute_result",
          "data": {
            "text/plain": [
              "Index(['fixed acidity', 'volatile acidity', 'citric acid', 'residual sugar',\n",
              "       'chlorides', 'free sulfur dioxide', 'total sulfur dioxide', 'density',\n",
              "       'pH', 'sulphates', 'alcohol', 'quality'],\n",
              "      dtype='object')"
            ]
          },
          "metadata": {},
          "execution_count": 3
        }
      ]
    },
    {
      "cell_type": "code",
      "source": [
        "# quality = m1 * fixed acidity + m2 * volatile acidity + m3 * citric acid + ... + b\n"
      ],
      "metadata": {
        "id": "87PU_CIn-1fv"
      },
      "execution_count": null,
      "outputs": []
    },
    {
      "cell_type": "code",
      "source": [
        "# first step is to combine red and white wine datasets into one data set\n",
        "# perplexity ai\n",
        "\n",
        "# what pandas command can I use to combine two pandas datasets\n",
        "\n",
        "# inner join creates what is called the intersection of two data sets\n",
        "\n",
        "'''\n",
        "\n",
        "(1, 2, 3)\n",
        "\n",
        "(3, 4, 6)\n",
        "\n",
        "\n",
        "(3)\n",
        "\n",
        "union:\n",
        "\n",
        "(1,2,3,3,4,6)\n",
        "\n",
        "\n",
        "you would not join red and white wines because these are all different joins\n",
        "\n",
        "what we want is all of them\n",
        "\n",
        "'''\n",
        "\n",
        "\n",
        "\n",
        "wine=pd.concat([red,white],axis=1)\n",
        "wine\n",
        "\n",
        "\n",
        "\n",
        "\n",
        "\n"
      ],
      "metadata": {
        "id": "Zf5tM9JJhVqs"
      },
      "execution_count": null,
      "outputs": []
    },
    {
      "cell_type": "code",
      "source": [
        "red.info()"
      ],
      "metadata": {
        "id": "zo6lg9xjjPWO"
      },
      "execution_count": null,
      "outputs": []
    },
    {
      "cell_type": "code",
      "source": [
        "wine.info()"
      ],
      "metadata": {
        "id": "-4KBFjC2jLX9"
      },
      "execution_count": null,
      "outputs": []
    },
    {
      "cell_type": "code",
      "source": [
        "wine"
      ],
      "metadata": {
        "id": "MQKJB76ljUtY"
      },
      "execution_count": null,
      "outputs": []
    },
    {
      "cell_type": "code",
      "source": [
        "wine.dropna(axis=1,inplace=True)\n"
      ],
      "metadata": {
        "id": "1zXO8893jlDw"
      },
      "execution_count": null,
      "outputs": []
    },
    {
      "cell_type": "code",
      "source": [
        "wine"
      ],
      "metadata": {
        "id": "utX2DLzTj-v5"
      },
      "execution_count": null,
      "outputs": []
    },
    {
      "cell_type": "code",
      "source": [
        "import seaborn as sns\n",
        "\n",
        "corr_matrix = wine.corr()\n",
        "\n",
        "plt.figure(figsize=(8, 6))  # Adjust the figure size for better readability\n",
        "sns.heatmap(corr_matrix, annot=True, cmap='coolwarm', vmin=-1, vmax=1,\n",
        "            linewidths=0.5, linecolor='black')\n",
        "plt.title('Correlation Matrix')\n",
        "plt.show()\n",
        "\n",
        "# when two items are perfectly correlated then we write 1\n",
        "# if there no relationship at all between them we write 0\n",
        "\n",
        "# is there a relationship between grades and how time you study?\n",
        "\n",
        "# if one goes up the other goes up\n",
        "# if one goes down the other goes down\n",
        "\n",
        "# press the throttle is correlated with speed\n",
        "\n",
        "# throttle means the car go faster brakes it go slower\n",
        "\n",
        "\n",
        "# Rule\n",
        "#\n",
        "# you cannot have covariance\n",
        "# all of the input data is supposed to be independent\n",
        "# but we can see below there is a relationship between density and residual sugar\n",
        "\n",
        "\n"
      ],
      "metadata": {
        "id": "7a70dytWkKkP"
      },
      "execution_count": null,
      "outputs": []
    },
    {
      "cell_type": "code",
      "source": [
        "wine = wine.drop(columns=['density'])\n",
        "wine"
      ],
      "metadata": {
        "id": "xuQTF7WImM9B"
      },
      "execution_count": null,
      "outputs": []
    },
    {
      "cell_type": "code",
      "source": [
        "# how can I get the last column in a pandas dataframe\n",
        "\n",
        "\n",
        "# using .iloc and then use the slicing operation .iloc(rows, columns)\n",
        "# use values because we only wants value\n",
        "\n",
        "y=wine.iloc[:,-1].values\n",
        "y"
      ],
      "metadata": {
        "id": "22dl5wenmbAN"
      },
      "execution_count": null,
      "outputs": []
    },
    {
      "cell_type": "code",
      "source": [
        "wine['quality'].values"
      ],
      "metadata": {
        "id": "NmvSdBZvn5ET"
      },
      "execution_count": null,
      "outputs": []
    },
    {
      "cell_type": "code",
      "source": [
        "# homework figure out how to get all the columns except the last column\n",
        "\n",
        "x=wine.iloc[?,?].values\n"
      ],
      "metadata": {
        "id": "Rd3xJgfqoLIc"
      },
      "execution_count": null,
      "outputs": []
    },
    {
      "cell_type": "code",
      "source": [
        "# homework\n",
        "\n",
        "# Go find some data that we can use for linear regression\n",
        "\n",
        "\n",
        "'''\n",
        "\n",
        "repeat what I did above using the data that you found yourself\n",
        "\n",
        "upload it to github\n",
        "\n",
        "\n",
        "read it into a dataframe\n",
        "\n",
        "dropna (get rid of rows with Not a NUmber columns)\n",
        "\n",
        "stop\n",
        "\n",
        "and do do the item above this:  x=wine.iloc[?,?].values\n",
        "\n",
        "\n",
        "'''\n"
      ],
      "metadata": {
        "id": "8BlR0DKIoXs_"
      },
      "execution_count": null,
      "outputs": []
    }
  ]
}