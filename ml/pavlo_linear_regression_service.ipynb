{
  "nbformat": 4,
  "nbformat_minor": 0,
  "metadata": {
    "colab": {
      "provenance": [],
      "authorship_tag": "ABX9TyPGIOE3ZfZff/wXheE3PWR1",
      "include_colab_link": true
    },
    "kernelspec": {
      "name": "python3",
      "display_name": "Python 3"
    },
    "language_info": {
      "name": "python"
    }
  },
  "cells": [
    {
      "cell_type": "markdown",
      "metadata": {
        "id": "view-in-github",
        "colab_type": "text"
      },
      "source": [
        "<a href=\"https://colab.research.google.com/github/werowe/HypatiaAcademy/blob/master/ml/pavlo_linear_regression_service.ipynb\" target=\"_parent\"><img src=\"https://colab.research.google.com/assets/colab-badge.svg\" alt=\"Open In Colab\"/></a>"
      ]
    },
    {
      "cell_type": "code",
      "execution_count": 6,
      "metadata": {
        "id": "ylasLgtwftyK"
      },
      "outputs": [],
      "source": [
        "import logging\n",
        "\n",
        "\n",
        "from scipy import stats\n",
        "import numpy as np\n",
        "\n",
        "\n",
        "class LinearRegressionService:\n",
        "\n",
        "    '''\n",
        "    Net Income list examples (numbers for calculate_on_numbers method)\n",
        "\n",
        "    DE Company: Deere & Company\n",
        "    [980.70, 850.70, 649.20, 386.80, 690.50, 511.60, 351.20, 254.40, 495.40, 488.80, 285.30, 193.80, 802.40, 641.80, 510.30, -535.10, 1,208.30, 910.30, 784.80, 498.50, 1,134.90, 899.00, 722.00, 517.00, 666.00, 811.00, 757.00, 1,224.00, 1,790.00, 1,667.00, 1,283.00, 903.00, 2,098.00, 1,884.00, 2,246.00, 1,959.00, 2,860.00, 2,978.00, 2,369.00, 1,751.00]\n",
        "\n",
        "    AMZN Company: Amazon.com Inc\n",
        "    y: [108.00, -126.00, -437.00, 214.00, -57.00, 92.00, 79.00, 482.00, 513.00, 857.00, 252.00, 749.00, 724.00, 197.00, 256.00, 1,856.00, 1,629.00, 2,534.00, 2,883.00, 3,027.00, 3,561.00, 2,625.00, 2,134.00, 3,268.00, 2,535.00, 5,243.00, 6,331.00, 7,222.00, 8,107.00, 7,778.00, 3,156.00, 14,323.00, -3,844.00, -2,028.00, 2,872.00, 278.00, 3,172.00, 6,750.00, 9,879.00, 10,624.00]\n",
        "\n",
        "    MCD Company: McDonald’s Corporation;\n",
        "    [1,204.80, 1,387.10, 1,068.40, 1,097.50, 811.50, 1,202.40, 1,309.20, 1,206.20, 1,098.60, 1,092.90, 1,275.40, 1,193.40, 1,214.80, 1,395.10, 1,883.70, 698.70, 1,375.40, 1,496.30, 1,637.30, 1,415.30, 1,328.40, 1,516.90, 1,607.90, 1,572.20, 1,106.90, 483.80, 1,762.60, 1,377.20, 1,537.20, 2,219.30, 2,149.90, 1,638.80, 1,104.40, 1,188.00, 1,981.60, 1,903.40, 1,802.30, 2,310.40, 2,317.10, 2,039.00]\n",
        "\n",
        "    LEVI Company: Levi Strauss & Co Class A\n",
        "    [49.97, 11.46, 50.62, -6.00, 38.39, 11.69, 58.17, 101.18, 65.84, 30.73, 98.32, 96.17, 60.14, 17.52, 87.99, 115.75, -19.01, 74.93, 130.12, 97.10, 146.58, 28.23, 124.51, 95.30, 152.69, -363.55, 27.05, 56.67, 142.50, 64.72, 193.33, 152.99, 195.84, 49.74, 172.96, 150.56, 114.70, -1.60, 9.60, 126.90]\n",
        "\n",
        "    DAL Company: Delta Air Lines Inc;\n",
        "    [213.00, 801.00, 357.00, -712.00, 746.00, 1,485.00, 1,315.00, 980.00, 946.00, 1,546.00, 1,259.00, 622.00, 603.00, 1,224.00, 1,178.00, 299.00, 547.00, 1,025.00, 1,312.00, 1,019.00, 730.00, 1,443.00, 1,495.00, 1,099.00, -534.00, -5,717.00, -5,379.00, -755.00, -1,177.00, 652.00, 1,212.00, -408.00, -940.00, 735.00, 695.00, 829.00, -363.00, 1,827.00, 1,108.00, 2,037.00]\n",
        "\n",
        "    DIS Company: Walt Disney Company\n",
        "    [1,917.00, 2,245.00, 1,499.00, 2,182.00, 2,108.00, 2,483.00, 1,609.00, 2,880.00, 2,143.00, 2,597.00, 1,771.00, 2,479.00, 2,388.00, 2,366.00, 1,747.00, 4,423.00, 2,937.00, 2,916.00, 2,322.00, 2,788.00, 5,452.00, 1,760.00, 1,054.00, 2,107.00, 460.00, -4,721.00, -710.00, 17.00, 901.00, 918.00, 159.00, 1,104.00, 470.00, 1,409.00, 254.00, 1,279.00, 1,271.00, -460.00, 264.00, 1,911.00]\n",
        "\n",
        "    F Company: Ford Motor Company\n",
        "    [989.00, 1,311.00, 835.00, 52.00, 924.00, 1,885.00, 1,909.00, 2,655.00, 2,452.00, 1,970.00, 957.00, -783.00, 1,587.00, 2,042.00, 1,564.00, 2,409.00, 1,736.00, 1,066.00, 991.00, -116.00, 1,146.00, 148.00, 425.00, -1,672.00, -1,993.00, 1,117.00, 2,385.00, -2,788.00, 3,262.00, 561.00, 1,832.00, 12,282.00, -3,119.00, 667.00, -930.00, 1,289.00, 1,757.00, 1,917.00, 1,199.00, -526.00]\n",
        "    '''\n",
        "\n",
        "    def __init__(self):\n",
        "        pass\n",
        "\n",
        "    def calculate_on_numbers(self, numbers):\n",
        "        if not numbers:\n",
        "            logging.info(f'numbers not provided.')\n",
        "            return self.__inint_regression_result()\n",
        "        return self.__calculate(numbers)\n",
        "\n",
        "    def calculate_on_history(self, history):\n",
        "        if not history:\n",
        "            logging.info(f'historic_values not provided.')\n",
        "            return self.__inint_regression_result()\n",
        "        numbers = [e.value for e in history]\n",
        "        return self.__calculate(numbers)\n",
        "\n",
        "    def __inint_regression_result(self):\n",
        "        regression_result = RegressionResult()\n",
        "        regression_result.linear_regression = LinearRegressionResult()\n",
        "        regression_result.polynomial_regression_1 = PolynomialRegressionResult()\n",
        "        regression_result.polynomial_regression_2 = PolynomialRegressionResult()\n",
        "        regression_result.polynomial_regression_3 = PolynomialRegressionResult()\n",
        "        return regression_result\n",
        "\n",
        "    def __calculate(self, numbers):\n",
        "        regression_result = self.__inint_regression_result()\n",
        "        regression_result.x = list(range(0, len(numbers)))\n",
        "        regression_result.y = [None if n is None else float(n) for n in numbers]\n",
        "        # Linear regression cannot be calculated if None values in lists\n",
        "        clean_x = []\n",
        "        clean_y = []\n",
        "        for idx, val in enumerate(regression_result.y):\n",
        "            if val is not None:\n",
        "                clean_x.append(idx)\n",
        "                clean_y.append(val)\n",
        "\n",
        "        regression_result.polynomial_regression_1 = self.__calculate_polynomial_regression(clean_x, clean_y, 1)\n",
        "        regression_result.polynomial_regression_2 = self.__calculate_polynomial_regression(clean_x, clean_y, 2)\n",
        "        regression_result.polynomial_regression_3 = self.__calculate_polynomial_regression(clean_x, clean_y, 3)\n",
        "        regression_result.linear_regression = self.__calculate_linear_regression(clean_x, clean_y)\n",
        "        return regression_result\n",
        "\n",
        "    # deg is an order of polynom\n",
        "    def __calculate_polynomial_regression(self, clean_x, clean_y, deg):\n",
        "        result = PolynomialRegressionResult()\n",
        "        if not clean_y or len(clean_y) < 5 :\n",
        "            return result\n",
        "        result.x = clean_x\n",
        "        result.y = clean_y\n",
        "        result.model = np.poly1d(np.polyfit(result.x, result.y, deg))\n",
        "        return result\n",
        "\n",
        "    def __calculate_linear_regression(self, clean_x, clean_y):\n",
        "        result = LinearRegressionResult()\n",
        "        result.x = clean_x\n",
        "        result.y = clean_y\n",
        "        if len(clean_y) <= 5:\n",
        "            logging.info(f'Data list length: {len(clean_y)} too short to process')\n",
        "            result.slope, result.intercept, result.r, result.p, result.std_err = 0, 0, 0, 0, 0\n",
        "        else:\n",
        "            result.slope, result.intercept, result.r, result.p, result.std_err = stats.linregress(clean_x, clean_y)\n",
        "            result.slope = round(result.slope, 2)\n",
        "            result.intercept = round(result.intercept, 2)\n",
        "            result.r = round(result.r, 2)\n",
        "            result.p = round(result.p, 4)\n",
        "            result.std_err = round(result.std_err, 2)\n",
        "        logging.info(f'slope: {result.slope}, intercept: {result.intercept}, r: {result.r}, p: {result.p}, '\n",
        "                     f'std_err: {result.std_err}')\n",
        "        return result\n",
        "\n",
        "\n",
        "class RegressionResult(object):\n",
        "    def __init__(self):\n",
        "        self.x = None\n",
        "        self.y = None\n",
        "        self.linear_regression = None\n",
        "        self.polynomial_regression_1 = None\n",
        "        self.polynomial_regression_2 = None\n",
        "        self.polynomial_regression_3 = None\n",
        "\n",
        "\n",
        "class LinearRegressionResult(object):\n",
        "    def __init__(self):\n",
        "        self.x = None\n",
        "        self.y = None\n",
        "        self.slope = None\n",
        "        self.intercept = None\n",
        "        self.r = None\n",
        "        self.p = None\n",
        "        self.std_err = None\n",
        "\n",
        "\n",
        "class PolynomialRegressionResult(object):\n",
        "    def __init__(self):\n",
        "        self.x = None\n",
        "        self.y = None\n",
        "        self.model = None"
      ]
    },
    {
      "cell_type": "code",
      "source": [
        "lr = LinearRegressionService()"
      ],
      "metadata": {
        "id": "n9GQ_Wc-hVOm"
      },
      "execution_count": 7,
      "outputs": []
    },
    {
      "cell_type": "code",
      "source": [
        "dir(lr)"
      ],
      "metadata": {
        "colab": {
          "base_uri": "https://localhost:8080/"
        },
        "id": "gNZ7Rt30h-ew",
        "outputId": "e5474e6f-96fb-475c-e218-fadd7c6d992d"
      },
      "execution_count": 11,
      "outputs": [
        {
          "output_type": "execute_result",
          "data": {
            "text/plain": [
              "['_LinearRegressionService__calculate',\n",
              " '_LinearRegressionService__calculate_linear_regression',\n",
              " '_LinearRegressionService__calculate_polynomial_regression',\n",
              " '_LinearRegressionService__inint_regression_result',\n",
              " '__class__',\n",
              " '__delattr__',\n",
              " '__dict__',\n",
              " '__dir__',\n",
              " '__doc__',\n",
              " '__eq__',\n",
              " '__format__',\n",
              " '__ge__',\n",
              " '__getattribute__',\n",
              " '__gt__',\n",
              " '__hash__',\n",
              " '__init__',\n",
              " '__init_subclass__',\n",
              " '__le__',\n",
              " '__lt__',\n",
              " '__module__',\n",
              " '__ne__',\n",
              " '__new__',\n",
              " '__reduce__',\n",
              " '__reduce_ex__',\n",
              " '__repr__',\n",
              " '__setattr__',\n",
              " '__sizeof__',\n",
              " '__str__',\n",
              " '__subclasshook__',\n",
              " '__weakref__',\n",
              " 'calculate_on_history',\n",
              " 'calculate_on_numbers']"
            ]
          },
          "metadata": {},
          "execution_count": 11
        }
      ]
    },
    {
      "cell_type": "code",
      "source": [
        "# how do we make it go?\n",
        "\n",
        "\n",
        "lr.calculate_on_numbers([1,2,3])"
      ],
      "metadata": {
        "colab": {
          "base_uri": "https://localhost:8080/"
        },
        "id": "Kgzs3hgVgEBO",
        "outputId": "801d5e3a-51f6-4803-f175-a2090911e683"
      },
      "execution_count": 14,
      "outputs": [
        {
          "output_type": "execute_result",
          "data": {
            "text/plain": [
              "<__main__.RegressionResult at 0x7ef1e96afd90>"
            ]
          },
          "metadata": {},
          "execution_count": 14
        }
      ]
    },
    {
      "cell_type": "code",
      "source": [],
      "metadata": {
        "id": "l2aRjcRdjtug"
      },
      "execution_count": null,
      "outputs": []
    }
  ]
}