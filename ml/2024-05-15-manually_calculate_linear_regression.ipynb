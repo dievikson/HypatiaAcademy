{
  "nbformat": 4,
  "nbformat_minor": 0,
  "metadata": {
    "colab": {
      "provenance": [],
      "authorship_tag": "ABX9TyOaC4NaoBscbJrvapP1u/UX",
      "include_colab_link": true
    },
    "kernelspec": {
      "name": "python3",
      "display_name": "Python 3"
    },
    "language_info": {
      "name": "python"
    }
  },
  "cells": [
    {
      "cell_type": "markdown",
      "metadata": {
        "id": "view-in-github",
        "colab_type": "text"
      },
      "source": [
        "<a href=\"https://colab.research.google.com/github/werowe/HypatiaAcademy/blob/master/ml/2024-05-15-manually_calculate_linear_regression.ipynb\" target=\"_parent\"><img src=\"https://colab.research.google.com/assets/colab-badge.svg\" alt=\"Open In Colab\"/></a>"
      ]
    },
    {
      "cell_type": "markdown",
      "source": [
        "the gooogle sheets version of this is here\n",
        "\n",
        "https://docs.google.com/spreadsheets/d/1YCRLxVRAo55gQos9ODFHm9JH0FGGwwOE-JN2D4NM7Tk/edit?usp=sharing\n",
        "\n",
        "\n"
      ],
      "metadata": {
        "id": "QJOm0T86rh4w"
      }
    },
    {
      "cell_type": "markdown",
      "source": [
        "The mean of \\(x\\) and \\(y\\):\n",
        "$$\n",
        "\\bar{x} = \\frac{1}{n} \\sum_{i=1}^{n} x_i\n",
        "$$\n",
        "$$\n",
        "\\bar{y} = \\frac{1}{n} \\sum_{i=1}^{n} y_i\n",
        "$$\n",
        "\n",
        "\n",
        "\n",
        "\n",
        "The slope $\\beta_1$:\n",
        "$$\n",
        "\\beta_1 = \\frac{\\sum_{i=1}^{n} (x_i - \\bar{x})(y_i - \\bar{y})}{\\sum_{i=1}^{n} (x_i - \\bar{x})^2}\n",
        "$$\n",
        "\n",
        "The intercept $\\beta_2$:\n",
        "$$\n",
        "\\beta_0 = \\bar{y} - \\beta_1 \\bar{x}\n",
        "$$\n",
        "\n",
        "Linear Model Equation:\n",
        "$$\n",
        "y = \\beta_0 + \\beta_1 x\n",
        "$$\n"
      ],
      "metadata": {
        "id": "08fcrTjax4p7"
      }
    },
    {
      "cell_type": "code",
      "source": [
        "import numpy as np\n",
        "\n",
        "x=np.array([2,4,6,8,10,12,14,16,18,20,22,24,26,28,30,32])\n",
        "\n",
        "y=np.array([24.90,31.01,41.08,45.01,57.58,60.35,71.67,74.18,85.93,89.99,97.25,102.63,115.08,116.39,127.84,128.38])"
      ],
      "metadata": {
        "id": "jHXfQ5JMl2hR"
      },
      "execution_count": 1,
      "outputs": []
    },
    {
      "cell_type": "code",
      "source": [
        "# do linear regression.  remember in google sheets we use lintest function\n",
        "\n",
        "\n",
        "slope, intercept = np.polyfit(x, y, 1)\n",
        "\n",
        "\n",
        "print(f\"Slope: {slope}\")\n",
        "print(f\"Intercept: {intercept}\")\n",
        "\n"
      ],
      "metadata": {
        "colab": {
          "base_uri": "https://localhost:8080/"
        },
        "id": "3DmWF80Mn8t3",
        "outputId": "2bf497be-b566-401d-8d75-7882219bed79"
      },
      "execution_count": 2,
      "outputs": [
        {
          "output_type": "stream",
          "name": "stdout",
          "text": [
            "Slope: 3.5563161764705886\n",
            "Intercept: 18.872\n"
          ]
        }
      ]
    },
    {
      "cell_type": "code",
      "source": [
        "(3.5 * 2) + 18.872"
      ],
      "metadata": {
        "id": "bU7FyYtv5RrX",
        "outputId": "1d380576-21d8-4e85-f516-f0c113f7a504",
        "colab": {
          "base_uri": "https://localhost:8080/"
        }
      },
      "execution_count": 14,
      "outputs": [
        {
          "output_type": "execute_result",
          "data": {
            "text/plain": [
              "25.872"
            ]
          },
          "metadata": {},
          "execution_count": 14
        }
      ]
    },
    {
      "cell_type": "code",
      "source": [
        "# this is not this:\n",
        "#\n",
        "# do slope * every value in x and the add y to it\n",
        "\n",
        "# this is not doing simple arithemtic\n",
        "p = (slope * x) + y"
      ],
      "metadata": {
        "id": "IbU9UmbD4f-n"
      },
      "execution_count": 18,
      "outputs": []
    },
    {
      "cell_type": "code",
      "source": [
        "p"
      ],
      "metadata": {
        "id": "G4bOUxp54nYE",
        "outputId": "1333dd41-546d-47c3-f5a7-76fdd9ad736e",
        "colab": {
          "base_uri": "https://localhost:8080/"
        }
      },
      "execution_count": 19,
      "outputs": [
        {
          "output_type": "execute_result",
          "data": {
            "text/plain": [
              "array([ 32.01263235,  45.23526471,  62.41789706,  73.46052941,\n",
              "        93.14316176, 103.02579412, 121.45842647, 131.08105882,\n",
              "       149.94369118, 161.11632353, 175.48895588, 187.98158824,\n",
              "       207.54422059, 215.96685294, 234.52948529, 242.18211765])"
            ]
          },
          "metadata": {},
          "execution_count": 19
        }
      ]
    },
    {
      "cell_type": "code",
      "source": [
        "x[0]"
      ],
      "metadata": {
        "id": "FTrMy60Y41yP",
        "outputId": "50839a89-7291-47af-c9fe-455a492f7ace",
        "colab": {
          "base_uri": "https://localhost:8080/"
        }
      },
      "execution_count": 10,
      "outputs": [
        {
          "output_type": "execute_result",
          "data": {
            "text/plain": [
              "2"
            ]
          },
          "metadata": {},
          "execution_count": 10
        }
      ]
    },
    {
      "cell_type": "code",
      "source": [
        "y[0]"
      ],
      "metadata": {
        "id": "ojVpG8AV48nf",
        "outputId": "74d6876a-a1dd-46be-a491-bd3d729cb63c",
        "colab": {
          "base_uri": "https://localhost:8080/"
        }
      },
      "execution_count": 11,
      "outputs": [
        {
          "output_type": "execute_result",
          "data": {
            "text/plain": [
              "24.9"
            ]
          },
          "metadata": {},
          "execution_count": 11
        }
      ]
    },
    {
      "cell_type": "code",
      "source": [
        "slope * x[0]  + y[0]"
      ],
      "metadata": {
        "id": "loiTfKsi4_3c",
        "outputId": "7f90bf4c-0e88-4daa-dabb-3a3bc02a8106",
        "colab": {
          "base_uri": "https://localhost:8080/"
        }
      },
      "execution_count": 12,
      "outputs": [
        {
          "output_type": "execute_result",
          "data": {
            "text/plain": [
              "32.012632352941175"
            ]
          },
          "metadata": {},
          "execution_count": 12
        }
      ]
    },
    {
      "cell_type": "code",
      "source": [
        "import numpy as np\n",
        "\n",
        "# Define a lambda function\n",
        "f = lambda x: x*slope + intercept\n",
        "\n",
        "\n",
        "# Vectorize the lambda function\n",
        "vectorized_f = np.vectorize(f)\n",
        "\n",
        "# Apply the vectorized function to the array\n",
        "result = vectorized_f(x)\n",
        "\n",
        "\n",
        "\n",
        "# this is our predictive model.  this is the answer linear regression question\n",
        "\n",
        "print(result)\n"
      ],
      "metadata": {
        "id": "q1o9AfVn5xJw",
        "outputId": "0c0e67bd-4b23-4ce9-bfaa-0c0cdc7b46ab",
        "colab": {
          "base_uri": "https://localhost:8080/"
        }
      },
      "execution_count": 15,
      "outputs": [
        {
          "output_type": "stream",
          "name": "stdout",
          "text": [
            "[ 25.98463235  33.09726471  40.20989706  47.32252941  54.43516176\n",
            "  61.54779412  68.66042647  75.77305882  82.88569118  89.99832353\n",
            "  97.11095588 104.22358824 111.33622059 118.44885294 125.56148529\n",
            " 132.67411765]\n"
          ]
        }
      ]
    },
    {
      "cell_type": "code",
      "source": [
        "import matplotlib.pyplot as plt\n",
        "\n",
        "# red it line that we calculated using linear regression\n",
        "# red is y = mx + b\n",
        "# it's the line with the squared error\n",
        "\n",
        "\n",
        "# we want see it on a chart.  by definition what is that line.  it's the line with\n",
        "# the least squared error\n",
        "\n",
        "plt.scatter(x,y,color=\"green\")\n",
        "plt.scatter(x,result,color=\"red\")"
      ],
      "metadata": {
        "id": "7HFiGFIh4Le-",
        "outputId": "c7bb1ab8-da43-48a2-b745-5e0a87ee8f93",
        "colab": {
          "base_uri": "https://localhost:8080/",
          "height": 447
        }
      },
      "execution_count": 21,
      "outputs": [
        {
          "output_type": "execute_result",
          "data": {
            "text/plain": [
              "<matplotlib.collections.PathCollection at 0x7c125bc53a00>"
            ]
          },
          "metadata": {},
          "execution_count": 21
        },
        {
          "output_type": "display_data",
          "data": {
            "text/plain": [
              "<Figure size 640x480 with 1 Axes>"
            ],
            "image/png": "[encoded data removed]"
          },
          "metadata": {}
        }
      ]
    },
    {
      "cell_type": "code",
      "source": [
        "\n",
        "# the problem is we don't how how to take his stock prices and turn them into numbers.\n",
        "\n",
        "# linear regression makes a prediction\n",
        "\n",
        "# so the input is hours studied (x) predict (y).  score\n",
        "\n",
        "# he is trying to show correlation between what and what?\n",
        "\n",
        "# scipy scientific python\n",
        "\n",
        "\n",
        "from scipy import stats\n",
        "\n",
        "\n",
        "slope, intercept, r, p, std_err = stats.linregress(x, y)\n",
        "\n",
        "print (\" slope \" , slope)\n",
        "print (\"intercept\",       intercept)\n",
        "print (\"r \",      r)\n",
        "print (\"p\",       p)\n",
        "print (\"std_err \",       std_err )\n",
        "\n",
        "# if r is 1 then we can see that the data is perfectly correlation.\n",
        "\n",
        "# if r is 0 then we say that there is no correlation at all\n",
        "\n",
        "# x = eat ice cream kd y = height then we know r = 0\n",
        "\n"
      ],
      "metadata": {
        "id": "Xo06EwwtlpY8",
        "outputId": "bb65f044-ef47-4a13-d7e0-2dd46595f438",
        "colab": {
          "base_uri": "https://localhost:8080/"
        }
      },
      "execution_count": 24,
      "outputs": [
        {
          "output_type": "stream",
          "name": "stdout",
          "text": [
            " slope  3.5563161764705877\n",
            "intercept 18.872000000000007\n",
            "r  0.9974438932447016\n",
            "p 1.898780245114861e-17\n",
            "std_err  0.06808864009036217\n"
          ]
        }
      ]
    },
    {
      "cell_type": "markdown",
      "source": [
        "We just assumed that x and y are related.  Why. It seemed logical.\n",
        "\n",
        "y = m * x + b\n",
        "\n",
        "add noise to it\n",
        "\n",
        "we created some random data by adding +- a little bit to linear equation y = m * x + b\n",
        "\n",
        "\n",
        "it could have been that y was a normal distribution.  it could have been a distribution.\n",
        "\n",
        "cancer.\n",
        "\n",
        "how do cancer cells grow in a sick person.\n",
        "\n",
        "if it's linear then\n",
        "\n",
        "2, 4, 6, 8,\n",
        "\n",
        "but if its exponent\n",
        "\n",
        "2**2, 3**2, 4**4, 5**5\n",
        "\n",
        "4, 9, 16, 25\n",
        "\n",
        "so we need some kind of test to of test out hypothesis\n",
        "\n",
        "our hypothesis is that x and y were"
      ],
      "metadata": {
        "id": "W6COsSf29Aox"
      }
    },
    {
      "cell_type": "markdown",
      "source": [
        "# Homework\n",
        "\n",
        "Is do multiple regression.  \n",
        "\n",
        "This means more than one input\n",
        "\n",
        "\n",
        "income = y\n",
        "\n",
        "x1, x2, x3, x4, x5, x6\n",
        "\n",
        "\n",
        "x1=years of school\n",
        "\n",
        "x2=years work experience\n",
        "\n",
        "x3=kind of job (yes but this is not number)\n",
        "\n",
        "x4=what country do you live in\n",
        "\n",
        "\n",
        "\n",
        "linear regression here would calculate 4 coeccients\n",
        "\n",
        "y = m1x1 + m2x2 + m3x3 + m4x4 + b\n",
        "\n",
        "simple reqression was just\n",
        "\n",
        "y = mx + b\n",
        "\n",
        "\n",
        "# for homework go out and find some suitable data for multiple regression in csv or json format\n",
        "\n",
        "# income could work\n",
        "\n",
        "\n"
      ],
      "metadata": {
        "id": "Q4RAetWLAvuc"
      }
    }
  ]
}