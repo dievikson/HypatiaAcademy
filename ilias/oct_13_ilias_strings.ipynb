{
  "nbformat": 4,
  "nbformat_minor": 0,
  "metadata": {
    "colab": {
      "provenance": [],
      "authorship_tag": "ABX9TyOV9qI7ribxF4kQNCUraUgo",
      "include_colab_link": true
    },
    "kernelspec": {
      "name": "python3",
      "display_name": "Python 3"
    },
    "language_info": {
      "name": "python"
    }
  },
  "cells": [
    {
      "cell_type": "markdown",
      "metadata": {
        "id": "view-in-github",
        "colab_type": "text"
      },
      "source": [
        "<a href=\"https://colab.research.google.com/github/werowe/HypatiaAcademy/blob/master/ilias/oct_13_ilias_strings.ipynb\" target=\"_parent\"><img src=\"https://colab.research.google.com/assets/colab-badge.svg\" alt=\"Open In Colab\"/></a>"
      ]
    },
    {
      "cell_type": "code",
      "execution_count": 1,
      "metadata": {
        "colab": {
          "base_uri": "https://localhost:8080/",
          "height": 37
        },
        "id": "2NwGVBxyurIK",
        "outputId": "806025cb-8629-4d76-bca3-c9fbfcb4b777"
      },
      "outputs": [
        {
          "output_type": "execute_result",
          "data": {
            "text/plain": [
              "'george'"
            ],
            "application/vnd.google.colaboratory.intrinsic+json": {
              "type": "string"
            }
          },
          "metadata": {},
          "execution_count": 1
        }
      ],
      "source": [
        "# strings means letters\n",
        "\n",
        "ilias=\"ilias\"\n",
        "\n",
        "family = [\"george\", \"nina\", \"mari\"]\n",
        "\n",
        "family[0]"
      ]
    },
    {
      "cell_type": "code",
      "source": [
        "# first letter\n",
        "print(\"first letter \", ilias[0])\n",
        "\n",
        "# second letter\n",
        "\n",
        "print(\"second letter \", ilias[1])"
      ],
      "metadata": {
        "colab": {
          "base_uri": "https://localhost:8080/"
        },
        "id": "oEfVbX69vX90",
        "outputId": "91076472-897b-428f-8cfa-f788edccf41f"
      },
      "execution_count": 4,
      "outputs": [
        {
          "output_type": "stream",
          "name": "stdout",
          "text": [
            "first letter  i\n",
            "second letter  l\n"
          ]
        }
      ]
    },
    {
      "cell_type": "code",
      "source": [
        "# print the first two letters:\n",
        "\n",
        "\n",
        "# ilias[from:to + 1]\n",
        "ilias[0:2]"
      ],
      "metadata": {
        "colab": {
          "base_uri": "https://localhost:8080/",
          "height": 37
        },
        "id": "Aho0y073v5FO",
        "outputId": "21ffc08d-f094-46fe-ba69-99236f571885"
      },
      "execution_count": 5,
      "outputs": [
        {
          "output_type": "execute_result",
          "data": {
            "text/plain": [
              "'il'"
            ],
            "application/vnd.google.colaboratory.intrinsic+json": {
              "type": "string"
            }
          },
          "metadata": {},
          "execution_count": 5
        }
      ]
    },
    {
      "cell_type": "code",
      "source": [
        "ilias[0:1]"
      ],
      "metadata": {
        "colab": {
          "base_uri": "https://localhost:8080/",
          "height": 37
        },
        "id": "OKv1kY2twHQs",
        "outputId": "02aa1b15-a1a6-4a3b-c28d-51a2fcde701c"
      },
      "execution_count": 6,
      "outputs": [
        {
          "output_type": "execute_result",
          "data": {
            "text/plain": [
              "'i'"
            ],
            "application/vnd.google.colaboratory.intrinsic+json": {
              "type": "string"
            }
          },
          "metadata": {},
          "execution_count": 6
        }
      ]
    },
    {
      "cell_type": "code",
      "source": [
        "# len means how many\n",
        "\n",
        "len(ilias)"
      ],
      "metadata": {
        "colab": {
          "base_uri": "https://localhost:8080/"
        },
        "id": "uy_w91Q3wLzf",
        "outputId": "c5e6c1da-7e1a-4091-8033-a3c08325b884"
      },
      "execution_count": 7,
      "outputs": [
        {
          "output_type": "execute_result",
          "data": {
            "text/plain": [
              "5"
            ]
          },
          "metadata": {},
          "execution_count": 7
        }
      ]
    },
    {
      "cell_type": "code",
      "source": [
        "# it starts at 0 so the last letter is 5 - 1\n",
        "\n",
        "ilias[len(ilias)-1]\n",
        "\n",
        "\n",
        "# when we use : it means 1 less than\n",
        "# when we use [some number] we subtract 1 from 5 because we start at 0\n",
        "\n",
        "# 0 1 2 3 4\n",
        "\n",
        "print(ilias[0:len(ilias)])"
      ],
      "metadata": {
        "colab": {
          "base_uri": "https://localhost:8080/"
        },
        "id": "3jfHiwYHwa_c",
        "outputId": "32339171-045c-4720-b689-f616086d9ba8"
      },
      "execution_count": 10,
      "outputs": [
        {
          "output_type": "stream",
          "name": "stdout",
          "text": [
            "ilias\n"
          ]
        }
      ]
    },
    {
      "cell_type": "code",
      "source": [
        "# this is the first letter of the second item in the list\n",
        "\n",
        "\n",
        "family[1][0]\n",
        "\n",
        "# we can make a variable called nina\n",
        "\n",
        "nina=family[1]\n",
        "print(nina)"
      ],
      "metadata": {
        "colab": {
          "base_uri": "https://localhost:8080/"
        },
        "id": "WouGh-4wxFUj",
        "outputId": "11260c42-dfca-4daa-f119-a521dfb7a532"
      },
      "execution_count": 13,
      "outputs": [
        {
          "output_type": "stream",
          "name": "stdout",
          "text": [
            "nina\n"
          ]
        }
      ]
    },
    {
      "cell_type": "code",
      "source": [
        "# these are the same.  nina is = family[1].  nina[0] is first letter in nina\n",
        "\n",
        "print(nina[0])\n",
        "\n",
        "# this is first letter in nina\n",
        "\n",
        "print(family[1][0])\n"
      ],
      "metadata": {
        "colab": {
          "base_uri": "https://localhost:8080/"
        },
        "id": "7Uqew2bcxaM5",
        "outputId": "1553e0d5-6264-419e-e727-a844e31459a6"
      },
      "execution_count": 14,
      "outputs": [
        {
          "output_type": "stream",
          "name": "stdout",
          "text": [
            "n\n",
            "n\n"
          ]
        }
      ]
    },
    {
      "cell_type": "code",
      "source": [
        "'''\n",
        "homework\n",
        "\n",
        "1.  print the 2nd letter in mari\n",
        "\n",
        "how to do:\n",
        "\n",
        "1.  get mari is family[2]\n",
        "2.  then get second letter which is [1]\n",
        "\n",
        "'''"
      ],
      "metadata": {
        "id": "yWK8DwYVxwm8"
      },
      "execution_count": null,
      "outputs": []
    }
  ]
}