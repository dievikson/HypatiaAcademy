{
  "cells": [
    {
      "cell_type": "markdown",
      "metadata": {
        "id": "view-in-github",
        "colab_type": "text"
      },
      "source": [
        "<a href=\"https://colab.research.google.com/github/werowe/HypatiaAcademy/blob/master/basics/bitsAndBytes.ipynb\" target=\"_parent\"><img src=\"https://colab.research.google.com/assets/colab-badge.svg\" alt=\"Open In Colab\"/></a>"
      ]
    },
    {
      "cell_type": "markdown",
      "metadata": {
        "id": "oR1z0sGHxJWd"
      },
      "source": [
        "# Bits, Bytes, Hexadecimal numbers, and ASCII characters\n",
        "\n",
        "\n",
        "\n",
        "* decimal number—are based 10 numbers, like 345\n",
        "* bit—are the digits 0 and 1.  These are base 2 numbers, like 11 is 3.\n",
        "* bytes—are 8 bits.  Each ASCII character (see below)is one byte.\n",
        "* hexadecimal numbers—is a base 16 number system, often used in computer memory addresses, HTML color codes, etc.  For example, the hexadecimal letter F is the decimal number 16.\n",
        "* ASCII characters—are the English (latin) letters, $, !, etc.\n",
        "* UTF-8—extends the characters to double-byte character sets, like Greek and Chinese, and 4 byte emojis.\n",
        "\n"
      ]
    },
    {
      "cell_type": "markdown",
      "metadata": {
        "id": "ASet4CehxJWn"
      },
      "source": [
        "#Decimal Numbers\n",
        "In the decimal system numbers are written as powers of 10.  We use the digits 0,1,2,3,4,5,6,7,8,9.\n",
        "\n",
        "353 is:\n",
        "\n",
        "\\begin{align}\n",
        "(3*10^2)+(5*10^1)+(3*10^0)=353\n",
        "\\end{align}\n",
        "\n",
        "\n",
        "\n",
        "\n",
        "\n",
        "\n",
        "\n"
      ]
    },
    {
      "cell_type": "markdown",
      "metadata": {
        "id": "pyIkjLAuxJWn"
      },
      "source": [
        "#Binary Numbers\n",
        "In the binary system numbers are written as power of 2.  We use the digits 0 and 1.\n",
        "\n",
        "110 binary is 6 decimal:\n",
        "\n",
        "\n"
      ]
    },
    {
      "cell_type": "markdown",
      "metadata": {
        "id": "L2y9zCHGxJWn"
      },
      "source": [
        "\\begin{align}\n",
        "(1*2^2)+(1*2^1)+(0*2^0)\n",
        "\\end{align}\n",
        "\\begin{align}\n",
        "=(1*4)+(1*2)+(0*1)\n",
        "\\end{align}\n",
        "\\begin{align}\n",
        "=6\n",
        "\\end{align}\n"
      ]
    },
    {
      "cell_type": "markdown",
      "metadata": {
        "id": "_StSsscLxJWn"
      },
      "source": [
        "# Hexadecidamel Numbers\n",
        "Hexadecimal numbers are written as powers of 16.\n",
        "\n",
        "| number | hex digit |\n",
        "| ----------- | ----------- |\n",
        "| 0 | 0 |\n",
        "| 1 | 1 |\n",
        "| 2 | 2 |\n",
        "| 3 | 3 |\n",
        "| 4 | 4 |\n",
        "| 5 | 5 |\n",
        "| 6 | 6 |\n",
        "| 7 | 7 |\n",
        "| 8 | 8 |\n",
        "| 9 | 9 |\n",
        "| 10 | A |\n",
        "| 11 | B |\n",
        "| 12 | C |\n",
        "| 13 | D |\n",
        "| 14 | E |\n",
        "| 15 | F |\n",
        "\n",
        "\n",
        "\n",
        "\n",
        "1AC hex is 428 decimal:"
      ]
    },
    {
      "cell_type": "markdown",
      "metadata": {
        "id": "gD5PYQVVxJWn"
      },
      "source": []
    },
    {
      "cell_type": "markdown",
      "metadata": {
        "id": "KloWCpdjxJWo"
      },
      "source": [
        "\\begin{align}\n",
        "(1*16^2)+(A*16^1)+(C*16^0)  \n",
        "\\end{align}\n",
        "\\begin{align}\n",
        " =(1*16^2)+(10*16^1)+(12*16^0)=428\n",
        "\\end{align}"
      ]
    },
    {
      "cell_type": "markdown",
      "metadata": {
        "id": "9DdwbkvtxJWo"
      },
      "source": [
        "Here is the hexdecimal value of 16."
      ]
    },
    {
      "cell_type": "markdown",
      "metadata": {
        "id": "TrYsIXQyxJWo"
      },
      "source": [
        "FF is:"
      ]
    },
    {
      "cell_type": "code",
      "execution_count": 1,
      "metadata": {
        "colab": {
          "base_uri": "https://localhost:8080/"
        },
        "id": "yXeaPgqNxJWo",
        "outputId": "7aece053-4e50-4ecd-8e62-8780caafb3b2"
      },
      "outputs": [
        {
          "output_type": "execute_result",
          "data": {
            "text/plain": [
              "240"
            ]
          },
          "metadata": {},
          "execution_count": 1
        }
      ],
      "source": [
        "\n",
        "\n",
        "15*(16*1)+15*(16*0)"
      ]
    },
    {
      "cell_type": "code",
      "execution_count": 2,
      "metadata": {
        "colab": {
          "base_uri": "https://localhost:8080/",
          "height": 37
        },
        "id": "XFUHf2cGxJWo",
        "outputId": "f8dbe269-0066-47af-b3c9-900891b3100e"
      },
      "outputs": [
        {
          "output_type": "execute_result",
          "data": {
            "text/plain": [
              "'0x10'"
            ],
            "application/vnd.google.colaboratory.intrinsic+json": {
              "type": "string"
            }
          },
          "metadata": {},
          "execution_count": 2
        }
      ],
      "source": [
        "hex(16)"
      ]
    },
    {
      "cell_type": "markdown",
      "metadata": {
        "id": "MCmI2JprxJWo"
      },
      "source": [
        "Here is the binary value of 2."
      ]
    },
    {
      "cell_type": "code",
      "execution_count": 3,
      "metadata": {
        "colab": {
          "base_uri": "https://localhost:8080/",
          "height": 37
        },
        "id": "Qnu3XlwqxJWo",
        "outputId": "88b30bbb-f28a-4d05-eadd-70fc887ef484"
      },
      "outputs": [
        {
          "output_type": "execute_result",
          "data": {
            "text/plain": [
              "'0b10'"
            ],
            "application/vnd.google.colaboratory.intrinsic+json": {
              "type": "string"
            }
          },
          "metadata": {},
          "execution_count": 3
        }
      ],
      "source": [
        "bin(2)"
      ]
    },
    {
      "cell_type": "markdown",
      "metadata": {
        "id": "CpjzaAFixJWo"
      },
      "source": [
        "Convert hexadecimal number to integer"
      ]
    },
    {
      "cell_type": "code",
      "execution_count": 4,
      "metadata": {
        "colab": {
          "base_uri": "https://localhost:8080/"
        },
        "id": "-kWwBY-_xJWp",
        "outputId": "6969a814-56a7-40bd-89ba-80caf518b341"
      },
      "outputs": [
        {
          "output_type": "execute_result",
          "data": {
            "text/plain": [
              "52914"
            ]
          },
          "metadata": {},
          "execution_count": 4
        }
      ],
      "source": [
        "int(\"0xceb2\", 16)"
      ]
    },
    {
      "cell_type": "code",
      "execution_count": 4,
      "metadata": {
        "id": "7ha1p6WYxJWp"
      },
      "outputs": [],
      "source": []
    },
    {
      "cell_type": "markdown",
      "metadata": {
        "id": "aqJ4b78JxJWp"
      },
      "source": [
        "In the ASCII character set there are 256 letters?  Why?  Because 8 bits the largest number you can make is 11111111.\n",
        "\n",
        "mike:  prove"
      ]
    },
    {
      "cell_type": "code",
      "execution_count": 5,
      "metadata": {
        "colab": {
          "base_uri": "https://localhost:8080/"
        },
        "id": "SsUCMmFTxJWp",
        "outputId": "fa3b830e-f91f-4df2-82cb-fab5cc0cf99f"
      },
      "outputs": [
        {
          "output_type": "execute_result",
          "data": {
            "text/plain": [
              "256"
            ]
          },
          "metadata": {},
          "execution_count": 5
        }
      ],
      "source": [
        "2**8"
      ]
    },
    {
      "cell_type": "markdown",
      "metadata": {
        "id": "2p5s51-1xJWp"
      },
      "source": [
        "what is ffef?\n",
        "\n",
        "This is:\n",
        "    \n",
        "    f----15*(16**3)\n",
        "    f----15*(16**2)\n",
        "    e----14*(16**1)\n",
        "    f----15*(16**0)"
      ]
    },
    {
      "cell_type": "code",
      "execution_count": 6,
      "metadata": {
        "colab": {
          "base_uri": "https://localhost:8080/"
        },
        "id": "bYwiFy18xJWp",
        "outputId": "7f959a04-7a69-4065-8e2a-0cbb3f033950"
      },
      "outputs": [
        {
          "output_type": "execute_result",
          "data": {
            "text/plain": [
              "65519"
            ]
          },
          "metadata": {},
          "execution_count": 6
        }
      ],
      "source": [
        "15*(16**3)+15*(16**2)+14*(16**1)+15*(16**0)"
      ]
    },
    {
      "cell_type": "code",
      "source": [
        "# decimal\n",
        "\n",
        "#321 = 300 + 20 + 1\n",
        "\n",
        "3 * (10**2) + 2 * (10**1) + 1 * (10**0)"
      ],
      "metadata": {
        "colab": {
          "base_uri": "https://localhost:8080/"
        },
        "id": "3L_EawNMyG6q",
        "outputId": "be3e7f25-d4d6-48f0-c0fc-f2cae5d82363"
      },
      "execution_count": 7,
      "outputs": [
        {
          "output_type": "execute_result",
          "data": {
            "text/plain": [
              "321"
            ]
          },
          "metadata": {},
          "execution_count": 7
        }
      ]
    },
    {
      "cell_type": "code",
      "source": [
        "# binary\n",
        "\n",
        "# 110\n",
        "\n",
        "1*(2**2)+1*(2**1)+0*(2**0)\n"
      ],
      "metadata": {
        "colab": {
          "base_uri": "https://localhost:8080/"
        },
        "id": "jIWtRjv-yMT9",
        "outputId": "0ec55e1e-e8e8-4316-e71c-71b1acf54bb1"
      },
      "execution_count": 8,
      "outputs": [
        {
          "output_type": "execute_result",
          "data": {
            "text/plain": [
              "6"
            ]
          },
          "metadata": {},
          "execution_count": 8
        }
      ]
    },
    {
      "cell_type": "code",
      "source": [
        "print(\"hex(65) \" , hex(65))\n",
        "print(\"bin(65) \" , bin(65))"
      ],
      "metadata": {
        "colab": {
          "base_uri": "https://localhost:8080/"
        },
        "id": "ZMrkltADyRwg",
        "outputId": "ac82a30a-6573-4d1f-957f-130315699de7"
      },
      "execution_count": 9,
      "outputs": [
        {
          "output_type": "stream",
          "name": "stdout",
          "text": [
            "hex(65)  0x41\n",
            "bin(65)  0b1000001\n"
          ]
        }
      ]
    },
    {
      "cell_type": "code",
      "source": [
        "b'1000001'.decode('ascii')"
      ],
      "metadata": {
        "colab": {
          "base_uri": "https://localhost:8080/",
          "height": 37
        },
        "id": "4K-2uBKuyXw-",
        "outputId": "514ae805-5772-4c0b-de75-ff292b9e39b6"
      },
      "execution_count": 10,
      "outputs": [
        {
          "output_type": "execute_result",
          "data": {
            "text/plain": [
              "'1000001'"
            ],
            "application/vnd.google.colaboratory.intrinsic+json": {
              "type": "string"
            }
          },
          "metadata": {},
          "execution_count": 10
        }
      ]
    },
    {
      "cell_type": "code",
      "source": [
        "'''\n",
        "how do we convert from binary 1000001 to the letter A\n",
        "\n",
        "int('1000001',2) says convert int('1000001' to a base 2 number\n",
        "\n",
        "'''\n",
        "\n",
        "\n",
        "chr(int('1000001',2))\n"
      ],
      "metadata": {
        "colab": {
          "base_uri": "https://localhost:8080/",
          "height": 37
        },
        "id": "u3xtDhhcyYrp",
        "outputId": "c13bd0d8-e2b9-450d-bda7-89cde9e94c22"
      },
      "execution_count": 11,
      "outputs": [
        {
          "output_type": "execute_result",
          "data": {
            "text/plain": [
              "'A'"
            ],
            "application/vnd.google.colaboratory.intrinsic+json": {
              "type": "string"
            }
          },
          "metadata": {},
          "execution_count": 11
        }
      ]
    },
    {
      "cell_type": "markdown",
      "source": [
        "#ASCII Characters\n",
        "\n",
        "ASCII characters are basically the latin letters (i.e., English).  There are only 128 of these, because computer languages are in English.  Later this was extended to Greek and other alphabets and emojis using the UTF-8 character encoding standard.\n",
        "\n",
        "A single ASCII character is one byte.  So it is 8 bits.  So there are 2**8=256 possible letters.\n",
        "\n",
        "The ASCII characters are divided into:\n",
        "\n",
        "* non printable—this includes the space, table, line feed, and even a bell (remember computers are old)\n",
        "\n",
        "* printable—the alphabet, dollar sign, numbers, exclamation (!)\n",
        "\n",
        "* extended—this added the British Pound, Japanese Yen, copyright symbol (©)\n",
        "\n",
        "# Double Byte Charactes\n",
        "Greek letters take 2 byte, like this 2 byte string:\n",
        "\n",
        "```python\n",
        "\"λ\".encode('utf-8')\n",
        "b'\\xce\\xbb'\n",
        "```\n",
        "\n",
        "# Four Byte Characters\n",
        "Emojis are 4 bites, like this 4 byte string:\n",
        "\n",
        "\n",
        "```python\n",
        "\"😀\".encode('utf-8')\n",
        "b'\\xf0\\x9f\\x98\\x80'\n",
        "\n",
        "```"
      ],
      "metadata": {
        "id": "DfSllYB0-Nj6"
      }
    }
  ],
  "metadata": {
    "kernelspec": {
      "display_name": "Python 3",
      "language": "python",
      "name": "python3"
    },
    "language_info": {
      "codemirror_mode": {
        "name": "ipython",
        "version": 3
      },
      "file_extension": ".py",
      "mimetype": "text/x-python",
      "name": "python",
      "nbconvert_exporter": "python",
      "pygments_lexer": "ipython3",
      "version": "3.4.4"
    },
    "colab": {
      "provenance": [],
      "include_colab_link": true
    }
  },
  "nbformat": 4,
  "nbformat_minor": 0
}