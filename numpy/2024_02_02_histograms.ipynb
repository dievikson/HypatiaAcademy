{
  "nbformat": 4,
  "nbformat_minor": 0,
  "metadata": {
    "colab": {
      "provenance": [],
      "authorship_tag": "ABX9TyM6Z8zNXOwnLRgRATEAAKOW",
      "include_colab_link": true
    },
    "kernelspec": {
      "name": "python3",
      "display_name": "Python 3"
    },
    "language_info": {
      "name": "python"
    }
  },
  "cells": [
    {
      "cell_type": "markdown",
      "metadata": {
        "id": "view-in-github",
        "colab_type": "text"
      },
      "source": [
        "<a href=\"https://colab.research.google.com/github/werowe/HypatiaAcademy/blob/master/numpy/2024_02_02_histograms.ipynb\" target=\"_parent\"><img src=\"https://colab.research.google.com/assets/colab-badge.svg\" alt=\"Open In Colab\"/></a>"
      ]
    },
    {
      "cell_type": "code",
      "execution_count": 3,
      "metadata": {
        "id": "I3Hcamgic1Br"
      },
      "outputs": [],
      "source": [
        "import numpy as np\n",
        "\n",
        "\n",
        "diceRolls=np.random.randint(1,7,103)"
      ]
    },
    {
      "cell_type": "code",
      "source": [
        "diceRolls"
      ],
      "metadata": {
        "colab": {
          "base_uri": "https://localhost:8080/"
        },
        "id": "EYGIAtBYdVlo",
        "outputId": "a0af018e-c405-4026-8021-7c9ef749b4f2"
      },
      "execution_count": 4,
      "outputs": [
        {
          "output_type": "execute_result",
          "data": {
            "text/plain": [
              "array([5, 5, 3, 4, 1, 2, 6, 1, 4, 1, 1, 2, 5, 5, 5, 5, 1, 1, 2, 6, 1, 4,\n",
              "       5, 1, 5, 2, 4, 6, 2, 5, 5, 2, 5, 4, 4, 2, 5, 2, 5, 4, 1, 6, 4, 1,\n",
              "       5, 4, 2, 5, 3, 5, 4, 3, 6, 2, 5, 3, 4, 3, 4, 4, 4, 1, 1, 1, 3, 3,\n",
              "       2, 1, 2, 2, 6, 1, 1, 3, 1, 2, 4, 5, 3, 2, 3, 1, 1, 5, 1, 5, 2, 3,\n",
              "       6, 2, 6, 3, 5, 1, 3, 6, 2, 5, 4, 6, 1, 5, 1])"
            ]
          },
          "metadata": {},
          "execution_count": 4
        }
      ]
    },
    {
      "cell_type": "code",
      "source": [
        "# how many 4s did we roll?\n",
        "\n",
        "counts = np.histogram(diceRolls,bins=[1,2,3,4,5,6,7])"
      ],
      "metadata": {
        "id": "dYODTmNndeh1"
      },
      "execution_count": 17,
      "outputs": []
    },
    {
      "cell_type": "code",
      "source": [
        "counts"
      ],
      "metadata": {
        "colab": {
          "base_uri": "https://localhost:8080/"
        },
        "id": "wYngB5pRdhLu",
        "outputId": "3bb8857a-dbc7-412e-ed62-e02c2ab75e15"
      },
      "execution_count": 18,
      "outputs": [
        {
          "output_type": "execute_result",
          "data": {
            "text/plain": [
              "(array([23, 18, 13, 16, 23, 10]), array([1, 2, 3, 4, 5, 6, 7]))"
            ]
          },
          "metadata": {},
          "execution_count": 18
        }
      ]
    },
    {
      "cell_type": "code",
      "source": [
        "rolls = np.array([1,2,2,3,4,4,4])\n"
      ],
      "metadata": {
        "id": "To1VgTJyfavN"
      },
      "execution_count": 11,
      "outputs": []
    },
    {
      "cell_type": "code",
      "source": [
        "rolls"
      ],
      "metadata": {
        "colab": {
          "base_uri": "https://localhost:8080/"
        },
        "id": "xzE9u69nfjtk",
        "outputId": "16be93c3-0746-4971-a08d-070e1c046020"
      },
      "execution_count": 12,
      "outputs": [
        {
          "output_type": "execute_result",
          "data": {
            "text/plain": [
              "array([1, 2, 2, 3, 4, 4, 4])"
            ]
          },
          "metadata": {},
          "execution_count": 12
        }
      ]
    },
    {
      "cell_type": "code",
      "source": [
        "hist=np.histogram(rolls,bins=[1,2,3,4,5])\n",
        "\n",
        "\n",
        "\n",
        "hist"
      ],
      "metadata": {
        "colab": {
          "base_uri": "https://localhost:8080/"
        },
        "id": "Ebzv28d3foPs",
        "outputId": "cf9bb873-5fad-4a96-c55a-9a15b013c6cc"
      },
      "execution_count": 16,
      "outputs": [
        {
          "output_type": "execute_result",
          "data": {
            "text/plain": [
              "(array([1, 2, 1, 3]), array([1, 2, 3, 4, 5]))"
            ]
          },
          "metadata": {},
          "execution_count": 16
        }
      ]
    },
    {
      "cell_type": "markdown",
      "source": [
        "Here is a summar of what we did.\n",
        "\n",
        "The [google sheets is here](https://docs.google.com/spreadsheets/d/1ESpcFAKZq4Pn5M-4F1xxJ6H2M6gfcmAgMuaxcKv0tq8/edit?usp=sharing).\n",
        "\n",
        "A histogram is a frequency count.  A normal curve is a more difficult to understand because it using real numbers.\n",
        "\n",
        "If we do a count of dice rolling that is easy to understand.  Above we rolled one 1, two twos, etc.\n",
        "\n",
        "We did this using the numpy histogram function\n",
        "\n",
        "\n",
        "```\n",
        "\n",
        "# here we manually put in the dice rolls.  at the top of this #notebook we used the numpy random function\n",
        "\n",
        "rolls = np.array([1,2,2,3,4,4,4])\n",
        "\n",
        "\n",
        "# here we tell it what array to count.  we have to put bins so that #it uses numbers for the edges.  otherwise we get real numbers\n",
        "\n",
        "hist=np.histogram(rolls,bins=[1,2,3,4,5])\n",
        "\n",
        "```\n",
        "\n",
        "\n",
        "The goal of what are doing is to understand the difference between uniform (dice) and normal (student grades) distributions\n",
        "\n"
      ],
      "metadata": {
        "id": "Pk60mHXihvcq"
      }
    },
    {
      "cell_type": "code",
      "source": [],
      "metadata": {
        "id": "OIa-PNcwicvZ"
      },
      "execution_count": null,
      "outputs": []
    }
  ]
}