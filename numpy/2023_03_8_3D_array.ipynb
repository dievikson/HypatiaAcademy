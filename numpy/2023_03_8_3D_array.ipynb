{
  "nbformat": 4,
  "nbformat_minor": 0,
  "metadata": {
    "colab": {
      "provenance": [],
      "authorship_tag": "ABX9TyP7+yX6Q/XV61Eb6jWcoDA3",
      "include_colab_link": true
    },
    "kernelspec": {
      "name": "python3",
      "display_name": "Python 3"
    },
    "language_info": {
      "name": "python"
    }
  },
  "cells": [
    {
      "cell_type": "markdown",
      "metadata": {
        "id": "view-in-github",
        "colab_type": "text"
      },
      "source": [
        "<a href=\"https://colab.research.google.com/github/werowe/HypatiaAcademy/blob/master/numpy/2023_03_8_3D_array.ipynb\" target=\"_parent\"><img src=\"https://colab.research.google.com/assets/colab-badge.svg\" alt=\"Open In Colab\"/></a>"
      ]
    },
    {
      "cell_type": "code",
      "execution_count": 19,
      "metadata": {
        "id": "I7tnD3VHsu1x",
        "colab": {
          "base_uri": "https://localhost:8080/"
        },
        "outputId": "ed3eaf6b-a07f-4b0e-856d-00bea2580178"
      },
      "outputs": [
        {
          "output_type": "stream",
          "name": "stdout",
          "text": [
            "[[[1 2 3]\n",
            "  [4 5 6]\n",
            "  [7 8 9]]\n",
            "\n",
            " [[1 2 3]\n",
            "  [4 5 6]\n",
            "  [7 8 9]]\n",
            "\n",
            " [[1 2 3]\n",
            "  [4 5 6]\n",
            "  [7 8 9]]]\n",
            "\n",
            "d3 shape (3, 3, 3)\n",
            "\n",
            "d3 dim  3\n"
          ]
        }
      ],
      "source": [
        "import numpy as np\n",
        "\n",
        "x = np.array([\n",
        "     [1,2, 3],\n",
        "    [4, 5 , 6],\n",
        "     [7, 8, 9]\n",
        "    ]\n",
        "     )\n",
        "\n",
        "y = np.array([\n",
        "     [1,2, 3],\n",
        "      [4, 5 , 6],\n",
        "     [7, 8, 9]\n",
        "    ]\n",
        "     )\n",
        "\n",
        "z = np.array([\n",
        "     [1,2, 3],\n",
        "      [4, 5 , 6],\n",
        "     [7, 8, 9]\n",
        "    ]\n",
        "     )\n",
        "\n",
        "\n",
        "\n",
        "d3 = np.array([x,y,z])\n",
        "print(d3)\n",
        "print(\"\\nd3 shape\", d3.shape)\n",
        "print(\"\\nd3 dim \", d3.ndim)"
      ]
    }
  ]
}