{
  "nbformat": 4,
  "nbformat_minor": 0,
  "metadata": {
    "colab": {
      "provenance": [],
      "authorship_tag": "ABX9TyNONpyvctQuQ2UoQ0H6MRA4",
      "include_colab_link": true
    },
    "kernelspec": {
      "name": "python3",
      "display_name": "Python 3"
    },
    "language_info": {
      "name": "python"
    }
  },
  "cells": [
    {
      "cell_type": "markdown",
      "metadata": {
        "id": "view-in-github",
        "colab_type": "text"
      },
      "source": [
        "<a href=\"https://colab.research.google.com/github/werowe/HypatiaAcademy/blob/master/numpy/November_7_scikit_learn_linear_regression.ipynb\" target=\"_parent\"><img src=\"https://colab.research.google.com/assets/colab-badge.svg\" alt=\"Open In Colab\"/></a>"
      ]
    },
    {
      "cell_type": "code",
      "execution_count": 2,
      "metadata": {
        "colab": {
          "base_uri": "https://localhost:8080/"
        },
        "id": "clZXXvKAA9hV",
        "outputId": "0eb1ec9e-6da3-4695-bde5-45b35a122865"
      },
      "outputs": [
        {
          "output_type": "stream",
          "name": "stdout",
          "text": [
            "Coefficients: \n",
            " [2.06428571]\n",
            "Intercept: \n",
            " -0.4999999999999991\n",
            "Score: \n",
            " 0.9111050507254281\n",
            "Mean squared error: 20.31\n",
            "Coefficient of determination: -4.08\n"
          ]
        }
      ],
      "source": [
        "import matplotlib.pyplot as plt\n",
        "from sklearn import linear_model\n",
        "import numpy as np\n",
        "from sklearn.metrics import mean_squared_error, r2_score\n",
        "\n",
        "reg = linear_model.LinearRegression(fit_intercept=True)\n",
        "\n",
        "data = np.array([[1, 2, 3, 4, 5, 6, 7],[1.8, 4.3, 6.2,  5, 11, 11, 15]])\n",
        "\n",
        "x = data[0,:].reshape(7,1)\n",
        "y = data[1,:]\n",
        "\n",
        "\n",
        "reg.fit(x,y)\n",
        "\n",
        "print('Coefficients: \\n', reg.coef_)\n",
        "print('Intercept: \\n', reg.intercept_)\n",
        "print('Score: \\n' , reg.score(x, y))\n",
        "print('Mean squared error: %.2f' % mean_squared_error(x, y))\n",
        "print('Coefficient of determination: %.2f' % r2_score(x, y))"
      ]
    },
    {
      "cell_type": "markdown",
      "source": [],
      "metadata": {
        "id": "SKmHTYVtDMoa"
      }
    },
    {
      "cell_type": "markdown",
      "source": [],
      "metadata": {
        "id": "GRIBZrzKDJQB"
      }
    },
    {
      "cell_type": "markdown",
      "source": [
        "So, your function is y = 2.06428571x - 0.4999999999999991\n",
        "Remember that ML uses the normal curve in expressing errors.\n",
        "\n",
        "Mean Squared Error (MSE) is used here.\n",
        "\n",
        "The **coefficient of determination** (R2) is the proportion of variance that can be explained by the independent variables. If it is 0, then the two are not in any way correlated."
      ],
      "metadata": {
        "id": "q1tKRKNkDKm2"
      }
    },
    {
      "cell_type": "code",
      "source": [
        "print('Mean squared error: %.2f' % mean_squared_error(y, reg.predict(x)))\n"
      ],
      "metadata": {
        "colab": {
          "base_uri": "https://localhost:8080/"
        },
        "id": "OBNIMsUSOM-r",
        "outputId": "1c1ffb1a-5de9-40d5-92bb-86b2e8af0ddf"
      },
      "execution_count": 20,
      "outputs": [
        {
          "output_type": "stream",
          "name": "stdout",
          "text": [
            "Mean squared error: 1.66\n"
          ]
        }
      ]
    },
    {
      "cell_type": "markdown",
      "source": [
        "Homework.  Please figure out why in the spreadsheet I have the wrong answer for MSE.\n",
        "\n",
        "https://docs.google.com/spreadsheets/d/1YHy2Th3Vmc0Ye3bt21YnTtoygWtl927TkyS1wMRTep0/edit#gid=0"
      ],
      "metadata": {
        "id": "99--vM8CGHbR"
      }
    }
  ]
}