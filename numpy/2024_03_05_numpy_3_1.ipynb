{
  "nbformat": 4,
  "nbformat_minor": 0,
  "metadata": {
    "colab": {
      "provenance": [],
      "authorship_tag": "ABX9TyORE4NqypnK9oCUe4LjN6M4",
      "include_colab_link": true
    },
    "kernelspec": {
      "name": "python3",
      "display_name": "Python 3"
    },
    "language_info": {
      "name": "python"
    }
  },
  "cells": [
    {
      "cell_type": "markdown",
      "metadata": {
        "id": "view-in-github",
        "colab_type": "text"
      },
      "source": [
        "<a href=\"https://colab.research.google.com/github/werowe/HypatiaAcademy/blob/master/numpy/2024_03_05_numpy_3_1.ipynb\" target=\"_parent\"><img src=\"https://colab.research.google.com/assets/colab-badge.svg\" alt=\"Open In Colab\"/></a>"
      ]
    },
    {
      "cell_type": "code",
      "execution_count": 21,
      "metadata": {
        "id": "9Je6jtGCKJyY"
      },
      "outputs": [],
      "source": [
        "import numpy as np\n",
        "\n",
        "x = np.array([1, 2, 3, 4, 5])\n"
      ]
    },
    {
      "cell_type": "code",
      "source": [
        "# nvidia\n",
        "\n",
        "# GPUs graphical processing unit\n",
        "\n",
        "# Microsoft put billions of dollars into chatgpt\n",
        "\n",
        "# they spent the money on GPUs\n",
        "\n",
        "# because machine learning is mainly matrix multiplicate\n",
        "\n",
        "# as you do this asynchronously\n",
        "\n",
        "\n"
      ],
      "metadata": {
        "id": "jQQPIz1LKcOY"
      },
      "execution_count": 22,
      "outputs": []
    },
    {
      "cell_type": "code",
      "source": [
        "# ndim(x)\n",
        "\n",
        "# dimensions and axes are the same\n",
        "\n",
        "\n",
        "\n",
        "np.linalg.matrix_rank(x)"
      ],
      "metadata": {
        "colab": {
          "base_uri": "https://localhost:8080/"
        },
        "id": "VKFthQqdLJFA",
        "outputId": "8579ecc7-d20b-43f5-a579-9c45262dae4e"
      },
      "execution_count": 23,
      "outputs": [
        {
          "output_type": "execute_result",
          "data": {
            "text/plain": [
              "1"
            ]
          },
          "metadata": {},
          "execution_count": 23
        }
      ]
    },
    {
      "cell_type": "code",
      "source": [
        "# this shows that axes and dimensions are not the same\n",
        "\n",
        "# since this is 1\n",
        "\n",
        "\n",
        "np.linalg.matrix_rank(np.array([\n",
        "                  [1.0, 2.0, 3.0, 4.0, 5.0]\n",
        "                  ]))\n",
        "\n"
      ],
      "metadata": {
        "colab": {
          "base_uri": "https://localhost:8080/"
        },
        "id": "7vL4zjnDMBKJ",
        "outputId": "268671fc-e930-4de1-ece0-5521f60be35c"
      },
      "execution_count": 24,
      "outputs": [
        {
          "output_type": "execute_result",
          "data": {
            "text/plain": [
              "1"
            ]
          },
          "metadata": {},
          "execution_count": 24
        }
      ]
    },
    {
      "cell_type": "code",
      "source": [
        "np.array([\n",
        "                  [1.0, 2.0, 3.0, 4.0, 5.0]\n",
        "                  ]).ndim"
      ],
      "metadata": {
        "colab": {
          "base_uri": "https://localhost:8080/"
        },
        "id": "q3m6wXSoMs8G",
        "outputId": "2e9223f5-38fa-4bab-9f1c-ca5de41be782"
      },
      "execution_count": 25,
      "outputs": [
        {
          "output_type": "execute_result",
          "data": {
            "text/plain": [
              "2"
            ]
          },
          "metadata": {},
          "execution_count": 25
        }
      ]
    },
    {
      "cell_type": "code",
      "source": [
        "np.array([[[1], [2], [3], [4], [5]]]).ndim"
      ],
      "metadata": {
        "colab": {
          "base_uri": "https://localhost:8080/"
        },
        "id": "OVxiPWwPM4IV",
        "outputId": "2b1267b3-ca19-4987-897c-30af9bcbb477"
      },
      "execution_count": 26,
      "outputs": [
        {
          "output_type": "execute_result",
          "data": {
            "text/plain": [
              "3"
            ]
          },
          "metadata": {},
          "execution_count": 26
        }
      ]
    },
    {
      "cell_type": "code",
      "source": [
        "# this is a 2 dimensional function\n",
        "\n",
        "#y=f(x)\n",
        "\n",
        "# a line is a 1 dimensional\n",
        "\n",
        "\n",
        "# <--------------0------------->\n",
        "\n",
        "# in a two dimensional coordinate system we write x,y pairs like this\n",
        "\n",
        "#(2,3)\n",
        "\n",
        "#(x=2,y=3)\n",
        "\n",
        "# in a 3 dimensional coordinate system we have three dimension\n",
        "\n",
        "# some point (x=0,y=0,z=0)\n",
        "\n",
        "\n",
        "\n",
        "\n",
        "\n",
        "\n"
      ],
      "metadata": {
        "id": "VjHTOsu_NUY5"
      },
      "execution_count": 27,
      "outputs": []
    },
    {
      "cell_type": "code",
      "source": [
        "twoD=np.array([[1], [2], [3], [4], [5]])\n",
        "twoD\n"
      ],
      "metadata": {
        "colab": {
          "base_uri": "https://localhost:8080/"
        },
        "id": "kdbF_qmpOJiM",
        "outputId": "7a772a11-556d-471c-888e-8695f7272cb9"
      },
      "execution_count": 28,
      "outputs": [
        {
          "output_type": "execute_result",
          "data": {
            "text/plain": [
              "array([[1],\n",
              "       [2],\n",
              "       [3],\n",
              "       [4],\n",
              "       [5]])"
            ]
          },
          "metadata": {},
          "execution_count": 28
        }
      ]
    },
    {
      "cell_type": "code",
      "source": [
        "y=np.array([\n",
        " [1,1],\n",
        " [2,2],\n",
        " [3,3]\n",
        "])\n",
        "\n",
        "y.ndim\n",
        "y"
      ],
      "metadata": {
        "colab": {
          "base_uri": "https://localhost:8080/"
        },
        "id": "NPdrSzMcOs3D",
        "outputId": "58fd9298-b9a8-4a52-8109-95b3f6ce9b11"
      },
      "execution_count": 29,
      "outputs": [
        {
          "output_type": "execute_result",
          "data": {
            "text/plain": [
              "array([[1, 1],\n",
              "       [2, 2],\n",
              "       [3, 3]])"
            ]
          },
          "metadata": {},
          "execution_count": 29
        }
      ]
    },
    {
      "cell_type": "code",
      "source": [
        "y=np.array([\n",
        " [1,1,1],\n",
        " [2,2,2],\n",
        " [3,3,3]\n",
        "])\n",
        "\n",
        "y.ndim\n",
        ""
      ],
      "metadata": {
        "colab": {
          "base_uri": "https://localhost:8080/"
        },
        "id": "AQY5i78UPAOz",
        "outputId": "80062d9b-66fe-4bac-8f35-64d7b88139af"
      },
      "execution_count": 30,
      "outputs": [
        {
          "output_type": "execute_result",
          "data": {
            "text/plain": [
              "2"
            ]
          },
          "metadata": {},
          "execution_count": 30
        }
      ]
    },
    {
      "cell_type": "code",
      "source": [
        "# first row\n",
        "\n",
        "# here 0 means first dimension go get 0\n",
        "# here : second dimenion go get everything on that dimension\n",
        "\n",
        "# this is called a slicing operation\n",
        "\n",
        "y[0,:]"
      ],
      "metadata": {
        "colab": {
          "base_uri": "https://localhost:8080/"
        },
        "id": "BKTgUU5lPNGf",
        "outputId": "64e27e87-53a3-4038-fcb5-59b2a032319b"
      },
      "execution_count": 31,
      "outputs": [
        {
          "output_type": "execute_result",
          "data": {
            "text/plain": [
              "array([1, 1, 1])"
            ]
          },
          "metadata": {},
          "execution_count": 31
        }
      ]
    },
    {
      "cell_type": "code",
      "source": [
        "# first colum\n",
        "\n",
        "y[:,0]"
      ],
      "metadata": {
        "colab": {
          "base_uri": "https://localhost:8080/"
        },
        "id": "7zkUwBcnPUtj",
        "outputId": "9577fa4e-2bdd-4da1-ed20-bff157a91f0a"
      },
      "execution_count": 32,
      "outputs": [
        {
          "output_type": "execute_result",
          "data": {
            "text/plain": [
              "array([1, 2, 3])"
            ]
          },
          "metadata": {},
          "execution_count": 32
        }
      ]
    },
    {
      "cell_type": "code",
      "source": [
        "y[:,:]"
      ],
      "metadata": {
        "colab": {
          "base_uri": "https://localhost:8080/"
        },
        "id": "uW6ff4H6Pm2b",
        "outputId": "df1cdf8d-12fd-4065-fbc3-565705f5889b"
      },
      "execution_count": 33,
      "outputs": [
        {
          "output_type": "execute_result",
          "data": {
            "text/plain": [
              "array([[1, 1, 1],\n",
              "       [2, 2, 2],\n",
              "       [3, 3, 3]])"
            ]
          },
          "metadata": {},
          "execution_count": 33
        }
      ]
    },
    {
      "cell_type": "code",
      "source": [
        "** definitions**\n",
        "\n",
        "#shape-the number of elements along each dimension of the array\n",
        "#dimension-the same as axes\n",
        "#rank-the number of dimensions\n"
      ],
      "metadata": {
        "id": "t-cjBM3sQFXJ"
      },
      "execution_count": null,
      "outputs": []
    },
    {
      "cell_type": "code",
      "source": [
        "y=np.array([\n",
        " [1,1,1],\n",
        " [2,2,2],\n",
        " [3,3,3]\n",
        "])\n",
        "\n",
        "print(\"dim\",y.ndim)\n",
        "print(\"shape\", y.shape)\n"
      ],
      "metadata": {
        "colab": {
          "base_uri": "https://localhost:8080/"
        },
        "id": "q4F3AUV8QjaJ",
        "outputId": "16219f2c-5cd2-4a11-8a33-057873deeaa3"
      },
      "execution_count": 35,
      "outputs": [
        {
          "output_type": "stream",
          "name": "stdout",
          "text": [
            "dim 2\n",
            "shape (3, 3)\n"
          ]
        }
      ]
    },
    {
      "cell_type": "code",
      "source": [
        "y = np.array([1, 2, 3, 4, 5])\n",
        "\n",
        "print(\"dim\",y.ndim)\n",
        "print(\"shape\", y.shape)"
      ],
      "metadata": {
        "colab": {
          "base_uri": "https://localhost:8080/"
        },
        "id": "3QP3vqlpRI5A",
        "outputId": "fcb54e0d-3ba6-43c5-e1cd-33654692cd23"
      },
      "execution_count": 36,
      "outputs": [
        {
          "output_type": "stream",
          "name": "stdout",
          "text": [
            "dim 1\n",
            "shape (5,)\n"
          ]
        }
      ]
    },
    {
      "cell_type": "code",
      "source": [
        "y = np.array([[1, 2, 3, 4, 5]])\n",
        "\n",
        "print(\"dim\",y.ndim)\n",
        "print(\"shape\", y.shape)\n",
        "\n",
        "# so given the definition of shape it must be that we have 1 element\n",
        "# on the first dimension and 5 along the second dimension"
      ],
      "metadata": {
        "colab": {
          "base_uri": "https://localhost:8080/"
        },
        "id": "bPgqzKmRRT61",
        "outputId": "82c31e02-7101-412b-fd6a-edd6d5cc1db5"
      },
      "execution_count": 37,
      "outputs": [
        {
          "output_type": "stream",
          "name": "stdout",
          "text": [
            "dim 2\n",
            "shape (1, 5)\n"
          ]
        }
      ]
    },
    {
      "cell_type": "markdown",
      "source": [
        "In NumPy, the .shape attribute of an array is a tuple that contains the size of the array along each of its dimensions. The length of the shape tuple is therefore the number of dimensions, ndim.\n",
        "\n",
        "For a 2D array (a matrix), the shape would be (m, n), where m is the number of rows and n is the number of columns."
      ],
      "metadata": {
        "id": "BfxzN6ETR3it"
      }
    },
    {
      "cell_type": "code",
      "source": [
        "y = np.array([[1, 2, 3, 4, 5],\n",
        "              [1, 2, 3, 4, 5]])\n",
        "\n",
        "print(\"dim\",y.ndim)\n",
        "print(\"shape\", y.shape)"
      ],
      "metadata": {
        "colab": {
          "base_uri": "https://localhost:8080/"
        },
        "id": "BPPRA9m-R4aF",
        "outputId": "34c343c8-d74e-43f5-8167-e56f328ee4a6"
      },
      "execution_count": 38,
      "outputs": [
        {
          "output_type": "stream",
          "name": "stdout",
          "text": [
            "dim 2\n",
            "shape (2, 5)\n"
          ]
        }
      ]
    },
    {
      "cell_type": "markdown",
      "source": [
        "# homework\n",
        "\n",
        "1.  create a 2 dimensional array.  print its shape and dimensions\n",
        "2. create a 3 dimensional array.  print its shape and dimensions\n",
        "3. create a 4 dimensional array.  print its shape and dimensions.  hint: to add a dimension just add another pair of brackets [].  so a 4 dimensional array will have [[[[...]]]]\n",
        "\n",
        "\n",
        "\n",
        "\n",
        "\n"
      ],
      "metadata": {
        "id": "4tpFE0glSh91"
      }
    },
    {
      "cell_type": "code",
      "source": [],
      "metadata": {
        "id": "BNIaKB_0StEd"
      },
      "execution_count": null,
      "outputs": []
    }
  ]
}