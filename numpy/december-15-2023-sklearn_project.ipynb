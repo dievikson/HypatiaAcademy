{
  "nbformat": 4,
  "nbformat_minor": 0,
  "metadata": {
    "colab": {
      "provenance": [],
      "include_colab_link": true
    },
    "kernelspec": {
      "name": "python3",
      "display_name": "Python 3"
    },
    "language_info": {
      "name": "python"
    }
  },
  "cells": [
    {
      "cell_type": "markdown",
      "metadata": {
        "id": "view-in-github",
        "colab_type": "text"
      },
      "source": [
        "<a href=\"https://colab.research.google.com/github/werowe/HypatiaAcademy/blob/master/numpy/december-15-2023-sklearn_project.ipynb\" target=\"_parent\"><img src=\"https://colab.research.google.com/assets/colab-badge.svg\" alt=\"Open In Colab\"/></a>"
      ]
    },
    {
      "cell_type": "code",
      "execution_count": 50,
      "metadata": {
        "colab": {
          "base_uri": "https://localhost:8080/"
        },
        "id": "HtO_ccI4bB7K",
        "outputId": "f510a2ad-9ad2-4fb8-a27d-dbe7181d68c7"
      },
      "outputs": [
        {
          "output_type": "stream",
          "name": "stdout",
          "text": [
            "--2023-12-15 14:12:19--  https://raw.githubusercontent.com/mumtehaartun/pandas/0c528a8711fd59ee166c4e507ac8b219074019ed/housing_price_dataset.csv\n",
            "Resolving raw.githubusercontent.com (raw.githubusercontent.com)... 185.199.108.133, 185.199.110.133, 185.199.109.133, ...\n",
            "Connecting to raw.githubusercontent.com (raw.githubusercontent.com)|185.199.108.133|:443... connected.\n",
            "HTTP request sent, awaiting response... 200 OK\n",
            "Length: 1944010 (1.9M) [text/plain]\n",
            "Saving to: ‘housing_price_dataset.csv.2’\n",
            "\n",
            "housing_price_datas 100%[===================>]   1.85M  --.-KB/s    in 0.06s   \n",
            "\n",
            "2023-12-15 14:12:19 (33.5 MB/s) - ‘housing_price_dataset.csv.2’ saved [1944010/1944010]\n",
            "\n"
          ]
        }
      ],
      "source": [
        "!wget https://raw.githubusercontent.com/mumtehaartun/pandas/0c528a8711fd59ee166c4e507ac8b219074019ed/housing_price_dataset.csv"
      ]
    },
    {
      "cell_type": "code",
      "source": [
        "!ls"
      ],
      "metadata": {
        "colab": {
          "base_uri": "https://localhost:8080/"
        },
        "id": "L8CxRr2YXghU",
        "outputId": "a179c2b6-2361-4474-fe5d-d1281d95404a"
      },
      "execution_count": 51,
      "outputs": [
        {
          "output_type": "stream",
          "name": "stdout",
          "text": [
            "housing_price_dataset.csv  housing_price_dataset.csv.1\thousing_price_dataset.csv.2  sample_data\n"
          ]
        }
      ]
    },
    {
      "cell_type": "code",
      "source": [
        "import pandas as pd\n",
        "\n",
        "df = pd.read_csv('housing_price_dataset.csv')\n",
        "\n",
        "print(df)"
      ],
      "metadata": {
        "colab": {
          "base_uri": "https://localhost:8080/"
        },
        "id": "nkUTDPhAeKF4",
        "outputId": "f8c71e5e-56e0-4323-dae2-0610e9174c08"
      },
      "execution_count": 52,
      "outputs": [
        {
          "output_type": "stream",
          "name": "stdout",
          "text": [
            "       SquareFeet  Bedrooms  Bathrooms Neighborhood  YearBuilt          Price\n",
            "0            2126         4          1        Rural       1969  215355.283618\n",
            "1            2459         3          2        Rural       1980  195014.221626\n",
            "2            1860         2          1       Suburb       1970  306891.012076\n",
            "3            2294         2          1        Urban       1996  206786.787153\n",
            "4            2130         5          2       Suburb       2001  272436.239065\n",
            "...           ...       ...        ...          ...        ...            ...\n",
            "49995        1282         5          3        Rural       1975  100080.865895\n",
            "49996        2854         2          2       Suburb       1988  374507.656727\n",
            "49997        2979         5          3       Suburb       1962  384110.555590\n",
            "49998        2596         5          2        Rural       1984  380512.685957\n",
            "49999        1572         5          3        Rural       2011  221618.583218\n",
            "\n",
            "[50000 rows x 6 columns]\n"
          ]
        }
      ]
    },
    {
      "cell_type": "code",
      "source": [
        "import pandas as pd\n",
        "import matplotlib.pyplot as plt\n",
        "from sklearn.linear_model import LinearRegression\n",
        "from sklearn.model_selection import train_test_split\n",
        "from sklearn.metrics import mean_squared_error, r2_score\n",
        "\n",
        "#columns_to_encode = ['Neighborhood']\n",
        "\n",
        "df = pd.read_csv('housing_price_dataset.csv')\n",
        "\n",
        "\n",
        "# hypothese is neighborhood positively correlated with price\n",
        "\n",
        "#data_encoded = pd.get_dummies(data, columns=columns_to_encode)\n",
        "\n"
      ],
      "metadata": {
        "id": "lcyiJDXs2BDa"
      },
      "execution_count": 63,
      "outputs": []
    },
    {
      "cell_type": "code",
      "source": [
        "import matplotlib.pyplot as mp\n",
        "import seaborn as sb\n",
        "\n",
        "# prints data that will be plotted\n",
        "# columns shown here are selected by corr() since\n",
        "# they are ideal for the plot\n",
        "print(df.corr())\n",
        "\n",
        "# plotting correlation heatmap\n",
        "dataplot = sb.heatmap(df.corr(), cmap=\"YlGnBu\", annot=True)\n",
        "\n",
        "# displaying heatmap\n",
        "mp.show()\n"
      ],
      "metadata": {
        "id": "KttkT34JzFCV",
        "outputId": "2075d051-2367-424b-89c2-a34442b718e6",
        "colab": {
          "base_uri": "https://localhost:8080/",
          "height": 629
        }
      },
      "execution_count": 54,
      "outputs": [
        {
          "output_type": "stream",
          "name": "stdout",
          "text": [
            "            SquareFeet  Bedrooms  Bathrooms  YearBuilt     Price\n",
            "SquareFeet    1.000000 -0.002638  -0.003275   0.000482  0.750720\n",
            "Bedrooms     -0.002638  1.000000   0.007405   0.003147  0.072624\n",
            "Bathrooms    -0.003275  0.007405   1.000000   0.003748  0.028418\n",
            "YearBuilt     0.000482  0.003147   0.003748   1.000000 -0.002288\n",
            "Price         0.750720  0.072624   0.028418  -0.002288  1.000000\n"
          ]
        },
        {
          "output_type": "stream",
          "name": "stderr",
          "text": [
            "<ipython-input-54-081011065436>:7: FutureWarning: The default value of numeric_only in DataFrame.corr is deprecated. In a future version, it will default to False. Select only valid columns or specify the value of numeric_only to silence this warning.\n",
            "  print(data.corr())\n",
            "<ipython-input-54-081011065436>:10: FutureWarning: The default value of numeric_only in DataFrame.corr is deprecated. In a future version, it will default to False. Select only valid columns or specify the value of numeric_only to silence this warning.\n",
            "  dataplot = sb.heatmap(data.corr(), cmap=\"YlGnBu\", annot=True)\n"
          ]
        },
        {
          "output_type": "display_data",
          "data": {
            "text/plain": [
              "<Figure size 640x480 with 2 Axes>"
            ],
            "image/png": "[encoded data removed]"
          },
          "metadata": {}
        }
      ]
    },
    {
      "cell_type": "markdown",
      "source": [],
      "metadata": {
        "id": "r0toR4dI2_GR"
      }
    },
    {
      "cell_type": "code",
      "source": [
        "# we want to convert neighborhood which categorical to a number\n"
      ],
      "metadata": {
        "id": "EWA5qJZlyXVH"
      },
      "execution_count": 55,
      "outputs": []
    },
    {
      "cell_type": "code",
      "source": [
        "#X = data_encoded.drop('Price', axis=1)\n",
        "#y = data_encoded['Price']\n",
        "\n",
        "X = df['SquareFeet']\n",
        "y = df['Price']\n",
        "\n",
        "data = pd.DataFrame(data=np.column_stack([X, y]), columns=['X', 'y'])\n",
        "\n",
        "\n",
        "X_train, X_test, y_train, y_test = train_test_split(data['X'].values.reshape(-1, 1), data['y'].values, test_size=0.2, random_state=42)\n",
        "\n",
        "reg = LinearRegression()\n",
        "\n",
        "reg.fit(X_train, y_train)\n",
        "\n",
        "y_pred = reg.predict(X_test)\n",
        "\n",
        "print('Coefficients: \\n', reg.coef_)\n",
        "print('Intercept: \\n', reg.intercept_)\n",
        "print('Score: \\n', reg.score(X_test, y_test))\n",
        "print('Mean squared error: %.2f' % mean_squared_error(y_test, y_pred))\n",
        "print('Coefficient of determination: %.2f' % r2_score(y_test, y_pred))\n"
      ],
      "metadata": {
        "id": "q4TNMISOyP8D",
        "outputId": "3ce1202b-08ad-4db5-c4bb-6144026a8870",
        "colab": {
          "base_uri": "https://localhost:8080/"
        }
      },
      "execution_count": 65,
      "outputs": [
        {
          "output_type": "stream",
          "name": "stdout",
          "text": [
            "Coefficients: \n",
            " [99.3462242]\n",
            "Intercept: \n",
            " 25511.1905987591\n",
            "Score: \n",
            " 0.5703289305615942\n",
            "Mean squared error: 2466291899.58\n",
            "Coefficient of determination: 0.57\n"
          ]
        }
      ]
    },
    {
      "cell_type": "code",
      "source": [
        "data"
      ],
      "metadata": {
        "id": "mvKiEGjQ1nAO",
        "outputId": "ad59ef17-a794-4944-f76e-22f0843dffc0",
        "colab": {
          "base_uri": "https://localhost:8080/",
          "height": 423
        }
      },
      "execution_count": 66,
      "outputs": [
        {
          "output_type": "execute_result",
          "data": {
            "text/plain": [
              "            X              y\n",
              "0      2126.0  215355.283618\n",
              "1      2459.0  195014.221626\n",
              "2      1860.0  306891.012076\n",
              "3      2294.0  206786.787153\n",
              "4      2130.0  272436.239065\n",
              "...       ...            ...\n",
              "49995  1282.0  100080.865895\n",
              "49996  2854.0  374507.656727\n",
              "49997  2979.0  384110.555590\n",
              "49998  2596.0  380512.685957\n",
              "49999  1572.0  221618.583218\n",
              "\n",
              "[50000 rows x 2 columns]"
            ],
            "text/html": [
              "\n",
              "  <div id=\"df-1ce0afee-2d21-4118-8f7b-269a64e488d8\" class=\"colab-df-container\">\n",
              "    <div>\n",
              "<style scoped>\n",
              "    .dataframe tbody tr th:only-of-type {\n",
              "        vertical-align: middle;\n",
              "    }\n",
              "\n",
              "    .dataframe tbody tr th {\n",
              "        vertical-align: top;\n",
              "    }\n",
              "\n",
              "    .dataframe thead th {\n",
              "        text-align: right;\n",
              "    }\n",
              "</style>\n",
              "<table border=\"1\" class=\"dataframe\">\n",
              "  <thead>\n",
              "    <tr style=\"text-align: right;\">\n",
              "      <th></th>\n",
              "      <th>X</th>\n",
              "      <th>y</th>\n",
              "    </tr>\n",
              "  </thead>\n",
              "  <tbody>\n",
              "    <tr>\n",
              "      <th>0</th>\n",
              "      <td>2126.0</td>\n",
              "      <td>215355.283618</td>\n",
              "    </tr>\n",
              "    <tr>\n",
              "      <th>1</th>\n",
              "      <td>2459.0</td>\n",
              "      <td>195014.221626</td>\n",
              "    </tr>\n",
              "    <tr>\n",
              "      <th>2</th>\n",
              "      <td>1860.0</td>\n",
              "      <td>306891.012076</td>\n",
              "    </tr>\n",
              "    <tr>\n",
              "      <th>3</th>\n",
              "      <td>2294.0</td>\n",
              "      <td>206786.787153</td>\n",
              "    </tr>\n",
              "    <tr>\n",
              "      <th>4</th>\n",
              "      <td>2130.0</td>\n",
              "      <td>272436.239065</td>\n",
              "    </tr>\n",
              "    <tr>\n",
              "      <th>...</th>\n",
              "      <td>...</td>\n",
              "      <td>...</td>\n",
              "    </tr>\n",
              "    <tr>\n",
              "      <th>49995</th>\n",
              "      <td>1282.0</td>\n",
              "      <td>100080.865895</td>\n",
              "    </tr>\n",
              "    <tr>\n",
              "      <th>49996</th>\n",
              "      <td>2854.0</td>\n",
              "      <td>374507.656727</td>\n",
              "    </tr>\n",
              "    <tr>\n",
              "      <th>49997</th>\n",
              "      <td>2979.0</td>\n",
              "      <td>384110.555590</td>\n",
              "    </tr>\n",
              "    <tr>\n",
              "      <th>49998</th>\n",
              "      <td>2596.0</td>\n",
              "      <td>380512.685957</td>\n",
              "    </tr>\n",
              "    <tr>\n",
              "      <th>49999</th>\n",
              "      <td>1572.0</td>\n",
              "      <td>221618.583218</td>\n",
              "    </tr>\n",
              "  </tbody>\n",
              "</table>\n",
              "<p>50000 rows × 2 columns</p>\n",
              "</div>\n",
              "    <div class=\"colab-df-buttons\">\n",
              "\n",
              "  <div class=\"colab-df-container\">\n",
              "    <button class=\"colab-df-convert\" onclick=\"convertToInteractive('df-1ce0afee-2d21-4118-8f7b-269a64e488d8')\"\n",
              "            title=\"Convert this dataframe to an interactive table.\"\n",
              "            style=\"display:none;\">\n",
              "\n",
              "  <svg xmlns=\"http://www.w3.org/2000/svg\" height=\"24px\" viewBox=\"0 -960 960 960\">\n",
              "    <path d=\"M120-120v-720h720v720H120Zm60-500h600v-160H180v160Zm220 220h160v-160H400v160Zm0 220h160v-160H400v160ZM180-400h160v-160H180v160Zm440 0h160v-160H620v160ZM180-180h160v-160H180v160Zm440 0h160v-160H620v160Z\"/>\n",
              "  </svg>\n",
              "    </button>\n",
              "\n",
              "  <style>\n",
              "    .colab-df-container {\n",
              "      display:flex;\n",
              "      gap: 12px;\n",
              "    }\n",
              "\n",
              "    .colab-df-convert {\n",
              "      background-color: #E8F0FE;\n",
              "      border: none;\n",
              "      border-radius: 50%;\n",
              "      cursor: pointer;\n",
              "      display: none;\n",
              "      fill: #1967D2;\n",
              "      height: 32px;\n",
              "      padding: 0 0 0 0;\n",
              "      width: 32px;\n",
              "    }\n",
              "\n",
              "    .colab-df-convert:hover {\n",
              "      background-color: #E2EBFA;\n",
              "      box-shadow: 0px 1px 2px rgba(60, 64, 67, 0.3), 0px 1px 3px 1px rgba(60, 64, 67, 0.15);\n",
              "      fill: #174EA6;\n",
              "    }\n",
              "\n",
              "    .colab-df-buttons div {\n",
              "      margin-bottom: 4px;\n",
              "    }\n",
              "\n",
              "    [theme=dark] .colab-df-convert {\n",
              "      background-color: #3B4455;\n",
              "      fill: #D2E3FC;\n",
              "    }\n",
              "\n",
              "    [theme=dark] .colab-df-convert:hover {\n",
              "      background-color: #434B5C;\n",
              "      box-shadow: 0px 1px 3px 1px rgba(0, 0, 0, 0.15);\n",
              "      filter: drop-shadow(0px 1px 2px rgba(0, 0, 0, 0.3));\n",
              "      fill: #FFFFFF;\n",
              "    }\n",
              "  </style>\n",
              "\n",
              "    <script>\n",
              "      const buttonEl =\n",
              "        document.querySelector('#df-1ce0afee-2d21-4118-8f7b-269a64e488d8 button.colab-df-convert');\n",
              "      buttonEl.style.display =\n",
              "        google.colab.kernel.accessAllowed ? 'block' : 'none';\n",
              "\n",
              "      async function convertToInteractive(key) {\n",
              "        const element = document.querySelector('#df-1ce0afee-2d21-4118-8f7b-269a64e488d8');\n",
              "        const dataTable =\n",
              "          await google.colab.kernel.invokeFunction('convertToInteractive',\n",
              "                                                    [key], {});\n",
              "        if (!dataTable) return;\n",
              "\n",
              "        const docLinkHtml = 'Like what you see? Visit the ' +\n",
              "          '<a target=\"_blank\" href=https://colab.research.google.com/notebooks/data_table.ipynb>data table notebook</a>'\n",
              "          + ' to learn more about interactive tables.';\n",
              "        element.innerHTML = '';\n",
              "        dataTable['output_type'] = 'display_data';\n",
              "        await google.colab.output.renderOutput(dataTable, element);\n",
              "        const docLink = document.createElement('div');\n",
              "        docLink.innerHTML = docLinkHtml;\n",
              "        element.appendChild(docLink);\n",
              "      }\n",
              "    </script>\n",
              "  </div>\n",
              "\n",
              "\n",
              "<div id=\"df-a63a5ef9-a3d7-4874-9ab3-40895a9e386a\">\n",
              "  <button class=\"colab-df-quickchart\" onclick=\"quickchart('df-a63a5ef9-a3d7-4874-9ab3-40895a9e386a')\"\n",
              "            title=\"Suggest charts\"\n",
              "            style=\"display:none;\">\n",
              "\n",
              "<svg xmlns=\"http://www.w3.org/2000/svg\" height=\"24px\"viewBox=\"0 0 24 24\"\n",
              "     width=\"24px\">\n",
              "    <g>\n",
              "        <path d=\"M19 3H5c-1.1 0-2 .9-2 2v14c0 1.1.9 2 2 2h14c1.1 0 2-.9 2-2V5c0-1.1-.9-2-2-2zM9 17H7v-7h2v7zm4 0h-2V7h2v10zm4 0h-2v-4h2v4z\"/>\n",
              "    </g>\n",
              "</svg>\n",
              "  </button>\n",
              "\n",
              "<style>\n",
              "  .colab-df-quickchart {\n",
              "      --bg-color: #E8F0FE;\n",
              "      --fill-color: #1967D2;\n",
              "      --hover-bg-color: #E2EBFA;\n",
              "      --hover-fill-color: #174EA6;\n",
              "      --disabled-fill-color: #AAA;\n",
              "      --disabled-bg-color: #DDD;\n",
              "  }\n",
              "\n",
              "  [theme=dark] .colab-df-quickchart {\n",
              "      --bg-color: #3B4455;\n",
              "      --fill-color: #D2E3FC;\n",
              "      --hover-bg-color: #434B5C;\n",
              "      --hover-fill-color: #FFFFFF;\n",
              "      --disabled-bg-color: #3B4455;\n",
              "      --disabled-fill-color: #666;\n",
              "  }\n",
              "\n",
              "  .colab-df-quickchart {\n",
              "    background-color: var(--bg-color);\n",
              "    border: none;\n",
              "    border-radius: 50%;\n",
              "    cursor: pointer;\n",
              "    display: none;\n",
              "    fill: var(--fill-color);\n",
              "    height: 32px;\n",
              "    padding: 0;\n",
              "    width: 32px;\n",
              "  }\n",
              "\n",
              "  .colab-df-quickchart:hover {\n",
              "    background-color: var(--hover-bg-color);\n",
              "    box-shadow: 0 1px 2px rgba(60, 64, 67, 0.3), 0 1px 3px 1px rgba(60, 64, 67, 0.15);\n",
              "    fill: var(--button-hover-fill-color);\n",
              "  }\n",
              "\n",
              "  .colab-df-quickchart-complete:disabled,\n",
              "  .colab-df-quickchart-complete:disabled:hover {\n",
              "    background-color: var(--disabled-bg-color);\n",
              "    fill: var(--disabled-fill-color);\n",
              "    box-shadow: none;\n",
              "  }\n",
              "\n",
              "  .colab-df-spinner {\n",
              "    border: 2px solid var(--fill-color);\n",
              "    border-color: transparent;\n",
              "    border-bottom-color: var(--fill-color);\n",
              "    animation:\n",
              "      spin 1s steps(1) infinite;\n",
              "  }\n",
              "\n",
              "  @keyframes spin {\n",
              "    0% {\n",
              "      border-color: transparent;\n",
              "      border-bottom-color: var(--fill-color);\n",
              "      border-left-color: var(--fill-color);\n",
              "    }\n",
              "    20% {\n",
              "      border-color: transparent;\n",
              "      border-left-color: var(--fill-color);\n",
              "      border-top-color: var(--fill-color);\n",
              "    }\n",
              "    30% {\n",
              "      border-color: transparent;\n",
              "      border-left-color: var(--fill-color);\n",
              "      border-top-color: var(--fill-color);\n",
              "      border-right-color: var(--fill-color);\n",
              "    }\n",
              "    40% {\n",
              "      border-color: transparent;\n",
              "      border-right-color: var(--fill-color);\n",
              "      border-top-color: var(--fill-color);\n",
              "    }\n",
              "    60% {\n",
              "      border-color: transparent;\n",
              "      border-right-color: var(--fill-color);\n",
              "    }\n",
              "    80% {\n",
              "      border-color: transparent;\n",
              "      border-right-color: var(--fill-color);\n",
              "      border-bottom-color: var(--fill-color);\n",
              "    }\n",
              "    90% {\n",
              "      border-color: transparent;\n",
              "      border-bottom-color: var(--fill-color);\n",
              "    }\n",
              "  }\n",
              "</style>\n",
              "\n",
              "  <script>\n",
              "    async function quickchart(key) {\n",
              "      const quickchartButtonEl =\n",
              "        document.querySelector('#' + key + ' button');\n",
              "      quickchartButtonEl.disabled = true;  // To prevent multiple clicks.\n",
              "      quickchartButtonEl.classList.add('colab-df-spinner');\n",
              "      try {\n",
              "        const charts = await google.colab.kernel.invokeFunction(\n",
              "            'suggestCharts', [key], {});\n",
              "      } catch (error) {\n",
              "        console.error('Error during call to suggestCharts:', error);\n",
              "      }\n",
              "      quickchartButtonEl.classList.remove('colab-df-spinner');\n",
              "      quickchartButtonEl.classList.add('colab-df-quickchart-complete');\n",
              "    }\n",
              "    (() => {\n",
              "      let quickchartButtonEl =\n",
              "        document.querySelector('#df-a63a5ef9-a3d7-4874-9ab3-40895a9e386a button');\n",
              "      quickchartButtonEl.style.display =\n",
              "        google.colab.kernel.accessAllowed ? 'block' : 'none';\n",
              "    })();\n",
              "  </script>\n",
              "</div>\n",
              "    </div>\n",
              "  </div>\n"
            ]
          },
          "metadata": {},
          "execution_count": 66
        }
      ]
    },
    {
      "cell_type": "code",
      "source": [
        "data_encoded.columns"
      ],
      "metadata": {
        "id": "uF26SKjqxb6w"
      },
      "execution_count": null,
      "outputs": []
    },
    {
      "cell_type": "code",
      "source": [
        "y_test.shape"
      ],
      "metadata": {
        "id": "cAvcbm0CxqDB"
      },
      "execution_count": null,
      "outputs": []
    },
    {
      "cell_type": "code",
      "source": [
        "'''\n",
        "plt.scatter(X_test, y_test, color='brown', label='Test Data')\n",
        "plt.plot(X_test, y_pred, color='blue', linewidth=3, label='Regression Line')\n",
        "plt.xlabel('X', color='green')\n",
        "plt.ylabel('y', color='purple')\n",
        "plt.title('Linear Regression Analysis', color='cyan')\n",
        "plt.legend()\n",
        "plt.show()\n",
        "'''"
      ],
      "metadata": {
        "id": "eIN7U-qIw2ar"
      },
      "execution_count": null,
      "outputs": []
    },
    {
      "cell_type": "code",
      "source": [
        "from sklearn.metrics import mean_squared_error\n",
        "\n",
        "mse = mean_squared_error(y_test, y_pred)\n",
        "print('Mean squared error: %.2f' % mse)\n"
      ],
      "metadata": {
        "id": "qha82AXu45MB"
      },
      "execution_count": null,
      "outputs": []
    },
    {
      "cell_type": "markdown",
      "source": [
        "# Below is simple X-Y regression"
      ],
      "metadata": {
        "id": "YBnT28k41Ghd"
      }
    },
    {
      "cell_type": "code",
      "source": [
        "import numpy as np\n",
        "import pandas as pd\n",
        "import matplotlib.pyplot as plt\n",
        "from sklearn.model_selection import train_test_split\n",
        "from sklearn.linear_model import LinearRegression\n",
        "from sklearn import metrics\n",
        "\n",
        "np.random.seed(42)\n",
        "\n",
        "X = 2 * np.random.rand(100, 1)\n",
        "y = 4 + 3 * X + np.random.randn(100, 1)\n",
        "\n",
        "data = pd.DataFrame(data=np.column_stack([X, y]), columns=['X', 'y'])\n",
        "\n",
        "X_train, X_test, y_train, y_test = train_test_split(data['X'].values.reshape(-1, 1), data['y'].values, test_size=0.2, random_state=42)\n",
        "\n",
        "model = LinearRegression()\n",
        "\n",
        "model.fit(X_train, y_train)\n",
        "\n",
        "y_pred = model.predict(X_test)\n",
        "\n",
        "mse = metrics.mean_squared_error(y_test, y_pred)\n",
        "rmse = np.sqrt(mse)\n",
        "r2 = metrics.r2_score(y_test, y_pred)\n",
        "\n",
        "plt.scatter(X_test, y_test, color='brown', label='Test Data')\n",
        "plt.plot(X_test, y_pred, color='blue', linewidth=3, label='Regression Line')\n",
        "plt.xlabel('X', color='green')\n",
        "plt.ylabel('y', color='purple')\n",
        "plt.title('Linear Regression Analysis', color='cyan')\n",
        "plt.legend()\n",
        "plt.show()\n",
        "\n",
        "print(\"Model Coefficients:\", model.coef_)\n",
        "print(\"Model Intercept:\", model.intercept_)\n",
        "print(\"Mean Squared Error:\", mse)\n",
        "print(\"Root Mean Squared Error:\", rmse)\n",
        "print(\"R-squared:\", r2)"
      ],
      "metadata": {
        "id": "VhJ2cDQ41KmC",
        "outputId": "7f7d2024-f0fb-4d37-b9dd-9bb3a4a7af12",
        "colab": {
          "base_uri": "https://localhost:8080/",
          "height": 559
        }
      },
      "execution_count": 58,
      "outputs": [
        {
          "output_type": "display_data",
          "data": {
            "text/plain": [
              "<Figure size 640x480 with 1 Axes>"
            ],
            "image/png": "[encoded data removed]"
          },
          "metadata": {}
        },
        {
          "output_type": "stream",
          "name": "stdout",
          "text": [
            "Model Coefficients: [2.79932366]\n",
            "Model Intercept: 4.142913319458566\n",
            "Mean Squared Error: 0.6536995137170021\n",
            "Root Mean Squared Error: 0.8085168605026132\n",
            "R-squared: 0.8072059636181392\n"
          ]
        }
      ]
    },
    {
      "cell_type": "code",
      "source": [
        "data['X'].values.reshape(-1, 1)"
      ],
      "metadata": {
        "id": "ZKxynOdW1f_r",
        "outputId": "2e9abe3d-ebbd-41d5-fa3f-3c3334306c40",
        "colab": {
          "base_uri": "https://localhost:8080/"
        }
      },
      "execution_count": 59,
      "outputs": [
        {
          "output_type": "execute_result",
          "data": {
            "text/plain": [
              "array([[0.74908024],\n",
              "       [1.90142861],\n",
              "       [1.46398788],\n",
              "       [1.19731697],\n",
              "       [0.31203728],\n",
              "       [0.31198904],\n",
              "       [0.11616722],\n",
              "       [1.73235229],\n",
              "       [1.20223002],\n",
              "       [1.41614516],\n",
              "       [0.04116899],\n",
              "       [1.9398197 ],\n",
              "       [1.66488528],\n",
              "       [0.42467822],\n",
              "       [0.36364993],\n",
              "       [0.36680902],\n",
              "       [0.60848449],\n",
              "       [1.04951286],\n",
              "       [0.86389004],\n",
              "       [0.58245828],\n",
              "       [1.22370579],\n",
              "       [0.27898772],\n",
              "       [0.5842893 ],\n",
              "       [0.73272369],\n",
              "       [0.91213997],\n",
              "       [1.57035192],\n",
              "       [0.39934756],\n",
              "       [1.02846888],\n",
              "       [1.18482914],\n",
              "       [0.09290083],\n",
              "       [1.2150897 ],\n",
              "       [0.34104825],\n",
              "       [0.13010319],\n",
              "       [1.89777107],\n",
              "       [1.93126407],\n",
              "       [1.6167947 ],\n",
              "       [0.60922754],\n",
              "       [0.19534423],\n",
              "       [1.36846605],\n",
              "       [0.88030499],\n",
              "       [0.24407647],\n",
              "       [0.99035382],\n",
              "       [0.06877704],\n",
              "       [1.8186408 ],\n",
              "       [0.51755996],\n",
              "       [1.32504457],\n",
              "       [0.62342215],\n",
              "       [1.04013604],\n",
              "       [1.09342056],\n",
              "       [0.36970891],\n",
              "       [1.93916926],\n",
              "       [1.55026565],\n",
              "       [1.87899788],\n",
              "       [1.7896547 ],\n",
              "       [1.19579996],\n",
              "       [1.84374847],\n",
              "       [0.176985  ],\n",
              "       [0.39196572],\n",
              "       [0.09045458],\n",
              "       [0.65066066],\n",
              "       [0.77735458],\n",
              "       [0.54269806],\n",
              "       [1.65747502],\n",
              "       [0.71350665],\n",
              "       [0.56186902],\n",
              "       [1.08539217],\n",
              "       [0.28184845],\n",
              "       [1.60439396],\n",
              "       [0.14910129],\n",
              "       [1.97377387],\n",
              "       [1.54448954],\n",
              "       [0.39743136],\n",
              "       [0.01104423],\n",
              "       [1.63092286],\n",
              "       [1.41371469],\n",
              "       [1.45801434],\n",
              "       [1.54254069],\n",
              "       [0.1480893 ],\n",
              "       [0.71693146],\n",
              "       [0.23173812],\n",
              "       [1.72620685],\n",
              "       [1.24659625],\n",
              "       [0.66179605],\n",
              "       [0.1271167 ],\n",
              "       [0.62196464],\n",
              "       [0.65036664],\n",
              "       [1.45921236],\n",
              "       [1.27511494],\n",
              "       [1.77442549],\n",
              "       [0.94442985],\n",
              "       [0.23918849],\n",
              "       [1.42648957],\n",
              "       [1.5215701 ],\n",
              "       [1.1225544 ],\n",
              "       [1.54193436],\n",
              "       [0.98759119],\n",
              "       [1.04546566],\n",
              "       [0.85508204],\n",
              "       [0.05083825],\n",
              "       [0.21578285]])"
            ]
          },
          "metadata": {},
          "execution_count": 59
        }
      ]
    },
    {
      "cell_type": "markdown",
      "source": [
        "# demographic information determines salaries\n",
        "\n",
        "* do the same thing with another data but use scikit-learn logistic regression instead of linear regression.\n",
        "\n",
        "* this gives you probability.  like given age, education, etc., what is the probablity of 1.  what is the probability of 0.\n",
        "\n",
        "* income is a multiple regression\n",
        "\n",
        "* income is a factor of education, race,\n",
        "\n",
        "use this dataset which needs you to convert all columns to numbers https://www.kaggle.com/datasets/wenruliu/adult-income-dataset\n"
      ],
      "metadata": {
        "id": "4J9O4DDR3Bk8"
      }
    },
    {
      "cell_type": "code",
      "source": [
        "age,workclass,fnlwgt,education,educational-num,marital-status,occupation,relationship,race,gender,capital-gain,capital-loss,hours-per-week,native-country,income\n",
        "25,Private,226802,11th,7,Never-married,Machine-op-inspct,Own-child,Black,Male,0,0,40,United-States,<=50K\n",
        "38,Private,89814,HS-grad,9,Married-civ-spouse,Farming-fishing,Husband,White,Male,0,0,50,United-States,<=50K\n",
        "28,Local-gov,336951,Assoc-acdm,12,Married-civ-spouse,Protective-serv,Husband,White,Male,0,0,40,United-States,>50K\n",
        "44,Private,160323,Some-college,10,Married-civ-spouse,Machine-op-inspct,Husband,Black,Male,7688,0,40,United-States,>50K\n",
        "18,?,103497,Some-college,10,Never-married,?,Own-child,White,Female,0,0,30,United-States,<=50K\n"
      ],
      "metadata": {
        "id": "wM-4gPXz4OZG"
      },
      "execution_count": null,
      "outputs": []
    },
    {
      "cell_type": "code",
      "source": [
        "# this converts categorical data into integers\n",
        "\n",
        "categorical_data = np.array(df['Neighborhood'])\n",
        "\n",
        "from sklearn.preprocessing import LabelEncoder\n",
        "label_encoder = LabelEncoder()\n",
        "#x = ['Apple', 'Orange', 'Apple', 'Pear']\n",
        "y = label_encoder.fit_transform(categorical_data)\n",
        "print(y)\n"
      ],
      "metadata": {
        "id": "uLlxBEto4i4J",
        "outputId": "0e4340b0-141e-4f30-9f06-1837c91db238",
        "colab": {
          "base_uri": "https://localhost:8080/"
        }
      },
      "execution_count": 70,
      "outputs": [
        {
          "output_type": "stream",
          "name": "stdout",
          "text": [
            "[0 0 1 ... 1 0 0]\n"
          ]
        }
      ]
    }
  ]
}