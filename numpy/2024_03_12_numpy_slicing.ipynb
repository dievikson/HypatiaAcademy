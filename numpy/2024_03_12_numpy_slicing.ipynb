{
  "nbformat": 4,
  "nbformat_minor": 0,
  "metadata": {
    "colab": {
      "provenance": [],
      "authorship_tag": "ABX9TyPURAXV/RKAuHfygUxIu5AI",
      "include_colab_link": true
    },
    "kernelspec": {
      "name": "python3",
      "display_name": "Python 3"
    },
    "language_info": {
      "name": "python"
    }
  },
  "cells": [
    {
      "cell_type": "markdown",
      "metadata": {
        "id": "view-in-github",
        "colab_type": "text"
      },
      "source": [
        "<a href=\"https://colab.research.google.com/github/werowe/HypatiaAcademy/blob/master/numpy/2024_03_12_numpy_slicing.ipynb\" target=\"_parent\"><img src=\"https://colab.research.google.com/assets/colab-badge.svg\" alt=\"Open In Colab\"/></a>"
      ]
    },
    {
      "cell_type": "code",
      "execution_count": 46,
      "metadata": {
        "colab": {
          "base_uri": "https://localhost:8080/"
        },
        "id": "WBnPTOt6Mabh",
        "outputId": "0035e29e-94a0-4195-e171-339690c750f7"
      },
      "outputs": [
        {
          "output_type": "execute_result",
          "data": {
            "text/plain": [
              "1"
            ]
          },
          "metadata": {},
          "execution_count": 46
        }
      ],
      "source": [
        "l=[1,2,3]\n",
        "l[0]"
      ]
    },
    {
      "cell_type": "code",
      "source": [
        "import numpy as np\n",
        "\n",
        "a = np.array([[1,2],\n",
        "     [3,4]])\n",
        "\n",
        "# it's common convention, the normal way of doing things, standard practice to use\n",
        "\n",
        "i=0\n",
        "j=1\n",
        "\n",
        "for i in [0,1]:\n",
        "  for j in [0,1]:\n",
        "    print(a[i,j])\n",
        "\n",
        "\n",
        "# when we have 2-d arrays we can row and column\n",
        "\n",
        "# when we have 3-d array we can row, column, and depth\n",
        "\n"
      ],
      "metadata": {
        "colab": {
          "base_uri": "https://localhost:8080/"
        },
        "id": "TEqbAaDJMlyQ",
        "outputId": "71891bb2-18fb-439b-da51-ca8c492f8566"
      },
      "execution_count": 47,
      "outputs": [
        {
          "output_type": "stream",
          "name": "stdout",
          "text": [
            "1\n",
            "2\n",
            "3\n",
            "4\n"
          ]
        }
      ]
    },
    {
      "cell_type": "code",
      "source": [
        "# it's common to use the i for index\n",
        "\n",
        "b = np.array([1,2,3]).astype(np.int8)\n",
        "\n",
        "for i in [0,1,2]:\n",
        "  print(b[i])\n"
      ],
      "metadata": {
        "colab": {
          "base_uri": "https://localhost:8080/"
        },
        "id": "tdpe2BkSM49c",
        "outputId": "00c94cda-5b63-460b-bc31-a335959c741e"
      },
      "execution_count": 48,
      "outputs": [
        {
          "output_type": "stream",
          "name": "stdout",
          "text": [
            "1\n",
            "2\n",
            "3\n"
          ]
        }
      ]
    },
    {
      "cell_type": "code",
      "source": [
        "# in programming you call a single number a scala\n",
        "\n",
        "type(b[0])\n",
        "\n",
        "\n",
        "# this is not a regular integer\n",
        "\n",
        "#. this is a 64 bit integer\n",
        "\n",
        "\n"
      ],
      "metadata": {
        "colab": {
          "base_uri": "https://localhost:8080/"
        },
        "id": "Y7VV-QNdOsSW",
        "outputId": "cae6234a-d2f7-4d67-f83c-af9043c6a0c1"
      },
      "execution_count": 49,
      "outputs": [
        {
          "output_type": "execute_result",
          "data": {
            "text/plain": [
              "numpy.int8"
            ]
          },
          "metadata": {},
          "execution_count": 49
        }
      ]
    },
    {
      "cell_type": "code",
      "source": [
        "# numpy arrays are mutable, meaning not immutable\n",
        "\n",
        "x = np.array([1.0,2.0,3.0,4.0,5.0])\n",
        "x[0]=2\n",
        "\n",
        "print(x)\n"
      ],
      "metadata": {
        "colab": {
          "base_uri": "https://localhost:8080/"
        },
        "id": "h0ZB0pw9PytH",
        "outputId": "fb787a7e-f232-4b7e-9899-8af0d235e528"
      },
      "execution_count": 50,
      "outputs": [
        {
          "output_type": "stream",
          "name": "stdout",
          "text": [
            "[2. 2. 3. 4. 5.]\n"
          ]
        }
      ]
    },
    {
      "cell_type": "code",
      "source": [
        "# strings are immutable\n",
        "# memory management\n",
        "# when and object is immutable then you create a new object to show the changed object\n",
        "\n",
        "\n",
        "s = \"tamara\"\n",
        "s[0]=\"w\""
      ],
      "metadata": {
        "colab": {
          "base_uri": "https://localhost:8080/",
          "height": 176
        },
        "id": "_3jf8iB1QCfI",
        "outputId": "337dbdb6-767c-4cd8-c7a4-d5d8f448ed78"
      },
      "execution_count": 51,
      "outputs": [
        {
          "output_type": "error",
          "ename": "TypeError",
          "evalue": "'str' object does not support item assignment",
          "traceback": [
            "\u001b[0;31m---------------------------------------------------------------------------\u001b[0m",
            "\u001b[0;31mTypeError\u001b[0m                                 Traceback (most recent call last)",
            "\u001b[0;32m<ipython-input-51-86cd05da4954>\u001b[0m in \u001b[0;36m<cell line: 7>\u001b[0;34m()\u001b[0m\n\u001b[1;32m      5\u001b[0m \u001b[0;34m\u001b[0m\u001b[0m\n\u001b[1;32m      6\u001b[0m \u001b[0ms\u001b[0m \u001b[0;34m=\u001b[0m \u001b[0;34m\"tamara\"\u001b[0m\u001b[0;34m\u001b[0m\u001b[0;34m\u001b[0m\u001b[0m\n\u001b[0;32m----> 7\u001b[0;31m \u001b[0ms\u001b[0m\u001b[0;34m[\u001b[0m\u001b[0;36m0\u001b[0m\u001b[0;34m]\u001b[0m\u001b[0;34m=\u001b[0m\u001b[0;34m\"w\"\u001b[0m\u001b[0;34m\u001b[0m\u001b[0;34m\u001b[0m\u001b[0m\n\u001b[0m",
            "\u001b[0;31mTypeError\u001b[0m: 'str' object does not support item assignment"
          ]
        }
      ]
    },
    {
      "cell_type": "code",
      "source": [
        "np.random.randint(1, 64,(8,8))"
      ],
      "metadata": {
        "id": "DucGBnNIR6nI"
      },
      "execution_count": null,
      "outputs": []
    },
    {
      "cell_type": "code",
      "source": [
        "# b = np.random.randint(start, stop, how many)\n",
        "\n",
        "b = np.random.randint(1, 64, 64)"
      ],
      "metadata": {
        "id": "mAvIQ21AQlS7"
      },
      "execution_count": null,
      "outputs": []
    },
    {
      "cell_type": "code",
      "source": [
        "# I want 8 rows and 8 columns\n",
        "\n",
        "c=b.reshape(8,8)\n",
        "print(c)"
      ],
      "metadata": {
        "id": "DIhcW_B4RS06"
      },
      "execution_count": null,
      "outputs": []
    },
    {
      "cell_type": "code",
      "source": [
        "# every odd index number in the row\n",
        "\n",
        "# if we say slice a 2d array like this:\n",
        "\n",
        "# c[columns from: to +1, rows from to + 1  ]\n",
        "\n",
        "\n",
        "c[0:2,0:2]"
      ],
      "metadata": {
        "id": "FzGf6ZD8RmLO"
      },
      "execution_count": null,
      "outputs": []
    },
    {
      "cell_type": "code",
      "source": [
        "# c[columns,rows]\n",
        "\n",
        "\n",
        "# c[0:2] means 1st and 2nd row.  which is index 0 and index 1\n",
        "\n",
        "# why isn't c[6:8] the 7th and 8th row why don't have to write c[6:9]?\n",
        "\n",
        "# when we write c[6:8] that is index number not actual number.  so 6 means the 7th item 7 means the 8th item\n",
        "\n",
        "\n",
        "c[6:8,6:8]"
      ],
      "metadata": {
        "id": "iGOHrKdOTL9N"
      },
      "execution_count": null,
      "outputs": []
    },
    {
      "cell_type": "code",
      "source": [
        "# : means get all elements c[:,:] along that axis\n",
        "\n",
        "# how can get all columns on the 2nd row\n",
        "\n",
        "# c[columns,rows]\n",
        "\n",
        "c[0:2,:]\n"
      ],
      "metadata": {
        "id": "aKZaqs_GUm1A"
      },
      "execution_count": null,
      "outputs": []
    },
    {
      "cell_type": "code",
      "source": [
        "c[0:2,0:8]"
      ],
      "metadata": {
        "id": "ugEuTGLLVMnt"
      },
      "execution_count": null,
      "outputs": []
    },
    {
      "cell_type": "code",
      "source": [
        "c"
      ],
      "metadata": {
        "id": "2NyOqBYRVu9D"
      },
      "execution_count": null,
      "outputs": []
    },
    {
      "cell_type": "code",
      "source": [
        "# f=np.array(a,b,(shape))\n",
        "\n",
        "#a=starting number\n",
        "#b=ending number\n",
        "#shape is shape\n",
        "\n",
        "f=np.random.randint(1,25,(5,5))\n",
        "print(f)\n",
        "\n",
        "# linspace\n"
      ],
      "metadata": {
        "id": "l1RuHj5bWStV"
      },
      "execution_count": null,
      "outputs": []
    },
    {
      "cell_type": "code",
      "source": [
        "f[0:2,0:5]"
      ],
      "metadata": {
        "id": "N1TODwxdXDX2"
      },
      "execution_count": null,
      "outputs": []
    },
    {
      "cell_type": "markdown",
      "source": [
        "\n",
        "# review\n",
        "\n",
        "* we learned to do slicing operations on a 1-d and 2-d array\n",
        "\n",
        "* we learned that when you have a 2-d array then you do slicing like this:\n",
        "\n",
        "* array name is d\n",
        "\n",
        "\n",
        "* d[for the columns put from:to +1 , rows put from:to + 1]\n",
        "\n",
        "* if we have 5 columns how do we write that\n",
        "\n",
        "* from [0:5]\n",
        "\n",
        "\n",
        "\n",
        "\n"
      ],
      "metadata": {
        "id": "avIbIYZyXUxH"
      }
    },
    {
      "cell_type": "markdown",
      "source": [
        "# homework:\n",
        "\n",
        "\n",
        "* use randint to create an array of 49 elements\n",
        "* reshape the array to size 7x7\n",
        "* select all columns in rowss 3 and 4\n",
        "* select all rows in columns 3 and 4\n"
      ],
      "metadata": {
        "id": "D07mkWwcYD-6"
      }
    }
  ]
}