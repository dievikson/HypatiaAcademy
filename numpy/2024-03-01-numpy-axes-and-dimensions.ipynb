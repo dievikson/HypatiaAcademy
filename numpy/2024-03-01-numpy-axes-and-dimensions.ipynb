{
 "cells": [
  {
   "cell_type": "markdown",
   "id": "ba1547c7",
   "metadata": {},
   "source": [
    "a two dimensional array has two axis\n",
    "\n",
    "in math this is called the cartesian plane\n",
    "\n",
    "than is the x-y graph"
   ]
  },
  {
   "cell_type": "code",
   "execution_count": 29,
   "id": "de9b9991",
   "metadata": {},
   "outputs": [
    {
     "data": {
      "text/plain": [
       "(4,)"
      ]
     },
     "execution_count": 29,
     "metadata": {},
     "output_type": "execute_result"
    }
   ],
   "source": [
    "import numpy as np\n",
    "\n",
    "ar=np.array([1,2,3,4])\n",
    "ar.shape"
   ]
  },
  {
   "cell_type": "code",
   "execution_count": 30,
   "id": "551b761a",
   "metadata": {},
   "outputs": [
    {
     "name": "stdout",
     "output_type": "stream",
     "text": [
      "[[1 2]\n",
      " [3 4]]\n",
      "(2, 2)\n"
     ]
    }
   ],
   "source": [
    "b=ar.reshape(2,2)\n",
    "print(b)\n",
    "print(b.shape)"
   ]
  },
  {
   "cell_type": "code",
   "execution_count": 31,
   "id": "e23d48ec",
   "metadata": {},
   "outputs": [
    {
     "data": {
      "text/plain": [
       "(2,)"
      ]
     },
     "execution_count": 31,
     "metadata": {},
     "output_type": "execute_result"
    }
   ],
   "source": [
    "b[0].shape"
   ]
  },
  {
   "cell_type": "code",
   "execution_count": 32,
   "id": "87e38238",
   "metadata": {},
   "outputs": [
    {
     "data": {
      "text/plain": [
       "[[1, 2], [3, 4]]"
      ]
     },
     "execution_count": 32,
     "metadata": {},
     "output_type": "execute_result"
    }
   ],
   "source": [
    "[ [1,2],\n",
    "   [3,4]\n",
    "]"
   ]
  },
  {
   "cell_type": "code",
   "execution_count": 33,
   "id": "564e09a9",
   "metadata": {},
   "outputs": [
    {
     "data": {
      "text/plain": [
       "(1,)"
      ]
     },
     "execution_count": 33,
     "metadata": {},
     "output_type": "execute_result"
    }
   ],
   "source": [
    "np.array([1]).shape"
   ]
  },
  {
   "cell_type": "markdown",
   "id": "2e1faf0c",
   "metadata": {},
   "source": [
    "** definitions**\n",
    "\n",
    "* shape-the number of elements along each dimension of the array\n",
    "* dimension-the same as axes\n",
    "* rank-the number of dimensions\n"
   ]
  },
  {
   "cell_type": "code",
   "execution_count": 34,
   "id": "206cc8c3",
   "metadata": {},
   "outputs": [
    {
     "data": {
      "text/plain": [
       "2"
      ]
     },
     "execution_count": 34,
     "metadata": {},
     "output_type": "execute_result"
    }
   ],
   "source": [
    "np.linalg.matrix_rank(b)"
   ]
  },
  {
   "cell_type": "code",
   "execution_count": 35,
   "id": "44008ec8",
   "metadata": {},
   "outputs": [
    {
     "data": {
      "text/plain": [
       "array([[1, 2],\n",
       "       [3, 4]])"
      ]
     },
     "execution_count": 35,
     "metadata": {},
     "output_type": "execute_result"
    }
   ],
   "source": [
    "b"
   ]
  },
  {
   "cell_type": "markdown",
   "id": "d0f64995",
   "metadata": {},
   "source": [
    "# geometry #\n",
    "\n",
    "in math a 2-dimensional coordinate is called the cartesian plane\n",
    "\n",
    "why?  Because the French Rene Descartes invented it.\n",
    "\n",
    "an element on the array is (x,y)\n",
    "\n",
    "in a 3-dimensional coordinate system points are give at location (x,y,z)\n",
    "\n",
    "a 1-dimensional ?  a line.  its point x\n"
   ]
  },
  {
   "cell_type": "code",
   "execution_count": 36,
   "id": "d58aed30",
   "metadata": {},
   "outputs": [],
   "source": [
    "c=np.array([\n",
    "   [[1],[2],[3]],\n",
    "    [[1], [2], [3]]\n",
    "])"
   ]
  },
  {
   "cell_type": "code",
   "execution_count": 37,
   "id": "adc7e8f1",
   "metadata": {},
   "outputs": [
    {
     "data": {
      "text/plain": [
       "array([1, 1])"
      ]
     },
     "execution_count": 37,
     "metadata": {},
     "output_type": "execute_result"
    }
   ],
   "source": [
    "np.linalg.matrix_rank(c)"
   ]
  },
  {
   "cell_type": "code",
   "execution_count": 38,
   "id": "a5f8803c",
   "metadata": {},
   "outputs": [
    {
     "data": {
      "text/plain": [
       "(2, 3, 1)"
      ]
     },
     "execution_count": 38,
     "metadata": {},
     "output_type": "execute_result"
    }
   ],
   "source": [
    "c.shape"
   ]
  },
  {
   "cell_type": "markdown",
   "id": "913da284",
   "metadata": {},
   "source": [
    "#. shape-the number of elements along each dimension of the array\n",
    "\n",
    "since this shape has 3 numbers there must be 3 dimension\n",
    "\n",
    "so it's saying that we have:\n",
    "\n",
    "* 2 elements on the 1st dimension\n",
    "* 3 elements on the 2nd dimension\n",
    "* 1 element on the 3rd dimension\n"
   ]
  },
  {
   "cell_type": "code",
   "execution_count": 42,
   "id": "14047e08",
   "metadata": {},
   "outputs": [],
   "source": [
    "# this part here we have not yet covered but this is \n",
    "# slicing and operations\n",
    "\n",
    "d = np.array([ \n",
    "              [1]\n",
    "             ])\n",
    " "
   ]
  },
  {
   "cell_type": "code",
   "execution_count": 43,
   "id": "f2dfebfc",
   "metadata": {},
   "outputs": [
    {
     "data": {
      "text/plain": [
       "(1, 1)"
      ]
     },
     "execution_count": 43,
     "metadata": {},
     "output_type": "execute_result"
    }
   ],
   "source": [
    " d.shape"
   ]
  },
  {
   "cell_type": "code",
   "execution_count": null,
   "id": "1f86e11d",
   "metadata": {},
   "outputs": [],
   "source": [
    " # one dimensional\n",
    "    \n",
    "    [1,2]\n",
    "    \n",
    "# two dimensional is\n",
    "   [[1,2]] \n",
    "    \n",
    "# three dimensional must be:\n",
    "\n",
    "  [[[1]]]\n",
    "    "
   ]
  },
  {
   "cell_type": "code",
   "execution_count": 46,
   "id": "195098ad",
   "metadata": {},
   "outputs": [],
   "source": [
    "z=np.array(  [[[1]]])"
   ]
  },
  {
   "cell_type": "code",
   "execution_count": 48,
   "id": "7ba63eed",
   "metadata": {},
   "outputs": [
    {
     "data": {
      "text/plain": [
       "(1, 1, 1)"
      ]
     },
     "execution_count": 48,
     "metadata": {},
     "output_type": "execute_result"
    }
   ],
   "source": [
    "z.shape"
   ]
  },
  {
   "cell_type": "code",
   "execution_count": 51,
   "id": "8a56d6ca",
   "metadata": {},
   "outputs": [],
   "source": [
    "e=np.array([\n",
    "    [ \n",
    "        [1]\n",
    "    \n",
    "    ]\n",
    "    \n",
    "    \n",
    "])\n",
    "\n",
    "\n"
   ]
  },
  {
   "cell_type": "code",
   "execution_count": 52,
   "id": "1f1aad4e",
   "metadata": {},
   "outputs": [
    {
     "data": {
      "text/plain": [
       "(1, 1, 1)"
      ]
     },
     "execution_count": 52,
     "metadata": {},
     "output_type": "execute_result"
    }
   ],
   "source": [
    "e.shape"
   ]
  },
  {
   "cell_type": "code",
   "execution_count": null,
   "id": "197c22a2",
   "metadata": {},
   "outputs": [],
   "source": [
    "# so it's similar to the x,y,z coordinate system\n",
    "\n",
    "# but don't of it as math as beyond 3 dimensions you cannot\n",
    "# picture that in your head\n",
    "\n"
   ]
  }
 ],
 "metadata": {
  "kernelspec": {
   "display_name": "Python 3 (ipykernel)",
   "language": "python",
   "name": "python3"
  },
  "language_info": {
   "codemirror_mode": {
    "name": "ipython",
    "version": 3
   },
   "file_extension": ".py",
   "mimetype": "text/x-python",
   "name": "python",
   "nbconvert_exporter": "python",
   "pygments_lexer": "ipython3",
   "version": "3.10.9"
  }
 },
 "nbformat": 4,
 "nbformat_minor": 5
}
