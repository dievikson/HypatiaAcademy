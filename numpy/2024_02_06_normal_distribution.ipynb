{
  "nbformat": 4,
  "nbformat_minor": 0,
  "metadata": {
    "colab": {
      "provenance": [],
      "authorship_tag": "ABX9TyMFojHiYmUAZY0iFk21Pr9v",
      "include_colab_link": true
    },
    "kernelspec": {
      "name": "python3",
      "display_name": "Python 3"
    },
    "language_info": {
      "name": "python"
    }
  },
  "cells": [
    {
      "cell_type": "markdown",
      "metadata": {
        "id": "view-in-github",
        "colab_type": "text"
      },
      "source": [
        "<a href=\"https://colab.research.google.com/github/werowe/HypatiaAcademy/blob/master/numpy/2024_02_06_normal_distribution.ipynb\" target=\"_parent\"><img src=\"https://colab.research.google.com/assets/colab-badge.svg\" alt=\"Open In Colab\"/></a>"
      ]
    },
    {
      "cell_type": "markdown",
      "source": [
        "The google spreadsheet that goes with this Python is [here](https://docs.google.com/spreadsheets/d/1eNj096W3kvPCkLuU3MSGkTD4LsXyZ3gxlJwZthYMh9M/edit?usp=sharing"
      ],
      "metadata": {
        "id": "HAvzQc3qE0HT"
      }
    },
    {
      "cell_type": "code",
      "execution_count": 3,
      "metadata": {
        "id": "WY5VTI6bB_He"
      },
      "outputs": [],
      "source": [
        "import numpy as np\n",
        "\n",
        "fiveRandomNumbers=np.random.randint(1, 7, 300)"
      ]
    },
    {
      "cell_type": "code",
      "source": [
        "fiveRandomNumbers"
      ],
      "metadata": {
        "colab": {
          "base_uri": "https://localhost:8080/"
        },
        "id": "R-UeYrJJCiAE",
        "outputId": "9527918e-920d-42ea-afc3-250b7e96262f"
      },
      "execution_count": 4,
      "outputs": [
        {
          "output_type": "execute_result",
          "data": {
            "text/plain": [
              "array([1, 4, 2, 5, 4, 5, 4, 2, 4, 5, 4, 2, 3, 3, 2, 6, 1, 5, 5, 4, 3, 5,\n",
              "       1, 3, 5, 4, 5, 5, 5, 4, 4, 3, 5, 6, 4, 3, 2, 4, 2, 3, 5, 1, 3, 5,\n",
              "       6, 6, 1, 5, 3, 5, 5, 1, 3, 2, 4, 5, 5, 2, 1, 4, 4, 1, 5, 3, 3, 2,\n",
              "       1, 5, 1, 5, 3, 6, 5, 3, 2, 1, 3, 1, 5, 1, 1, 5, 4, 5, 2, 1, 6, 4,\n",
              "       3, 6, 2, 1, 4, 3, 5, 5, 5, 2, 3, 4, 4, 2, 5, 5, 1, 6, 5, 1, 3, 6,\n",
              "       4, 5, 3, 2, 6, 5, 6, 1, 3, 5, 1, 5, 1, 6, 1, 3, 1, 2, 4, 1, 6, 2,\n",
              "       3, 3, 3, 5, 3, 5, 2, 6, 3, 5, 3, 4, 6, 5, 3, 2, 6, 3, 6, 6, 4, 2,\n",
              "       3, 2, 2, 1, 3, 1, 2, 3, 2, 3, 1, 2, 1, 6, 2, 2, 6, 5, 5, 1, 4, 5,\n",
              "       5, 5, 2, 4, 4, 6, 3, 5, 1, 5, 1, 4, 4, 5, 3, 2, 4, 2, 1, 1, 1, 2,\n",
              "       4, 3, 1, 4, 2, 3, 2, 6, 3, 3, 1, 2, 3, 1, 3, 1, 2, 5, 4, 5, 3, 3,\n",
              "       3, 1, 6, 3, 1, 5, 6, 1, 1, 1, 3, 2, 6, 2, 4, 3, 1, 5, 1, 3, 5, 6,\n",
              "       3, 5, 3, 5, 4, 5, 5, 1, 1, 6, 6, 5, 5, 2, 1, 6, 1, 3, 5, 4, 5, 6,\n",
              "       1, 3, 3, 3, 5, 6, 5, 6, 1, 6, 2, 1, 4, 5, 4, 3, 4, 6, 4, 2, 1, 1,\n",
              "       3, 5, 3, 5, 6, 3, 4, 1, 5, 1, 6, 2, 6, 1])"
            ]
          },
          "metadata": {},
          "execution_count": 4
        }
      ]
    },
    {
      "cell_type": "code",
      "source": [
        "diceRollCount=np.histogram(fiveRandomNumbers,bins=[1,2,3,4,5,6,7])\n"
      ],
      "metadata": {
        "id": "7KD6sAckCqxk"
      },
      "execution_count": 17,
      "outputs": []
    },
    {
      "cell_type": "code",
      "source": [
        "diceRollCount"
      ],
      "metadata": {
        "colab": {
          "base_uri": "https://localhost:8080/"
        },
        "id": "TnZVgD1HDCAy",
        "outputId": "af3c3b7b-7055-4a1a-94e4-b0d2972d08d3"
      },
      "execution_count": 16,
      "outputs": [
        {
          "output_type": "execute_result",
          "data": {
            "text/plain": [
              "(array([57,  0, 41,  0, 59,  0, 40,  0, 66, 37]),\n",
              " array([1. , 1.5, 2. , 2.5, 3. , 3.5, 4. , 4.5, 5. , 5.5, 6. ]))"
            ]
          },
          "metadata": {},
          "execution_count": 16
        }
      ]
    },
    {
      "cell_type": "code",
      "source": [
        "#how do we calculate random integers using numpy using a normal distribution\n",
        "\n",
        "\n",
        "\n",
        "# homework will be change the numbers that we calculated in the normal\n",
        "# distribution to integers\n",
        "\n",
        "\n",
        "\n",
        "\n",
        "# calculate a histogram\n",
        "\n",
        "# Generate 10 random integers from a normal distribution with mean 50 and standard deviation 10\n",
        "\n",
        "mean = 10\n",
        "std_dev = 3\n",
        "random_integers_normal = np.random.normal(mean, std_dev, size=30)\n",
        "print(\"Random integers from normal distribution:\", random_integers_normal)\n",
        "\n",
        "# so look up using google how to convert the numbers in the numpy array random_integers_normal to integers\n",
        "\n",
        "# then calculat the histogram like I did above.  in orders put:\n",
        "\n",
        "np.histogram(random_integers_normal,bins=[1,2,3,4,5,6,7 (put 1 to 31 here)])"
      ],
      "metadata": {
        "colab": {
          "base_uri": "https://localhost:8080/"
        },
        "id": "-cajX2JEDb0a",
        "outputId": "06d1268a-352f-4fea-cb9b-0b312e683eec"
      },
      "execution_count": 14,
      "outputs": [
        {
          "output_type": "stream",
          "name": "stdout",
          "text": [
            "Random integers from normal distribution: [ 9.95015142 12.13796488 11.25159043  3.40864756 13.47232896  4.66998392\n",
            " 13.14506853  9.20928997  7.21975895 14.38171668  9.56931698 14.32237782\n",
            " 13.03516993  6.72737996 12.2706381   8.77596714 10.24750525  9.56336553\n",
            " 14.68596356  7.93704745  7.48303934  6.63091117 10.65893596  9.3259575\n",
            "  8.76179318 11.76231531  7.82831424  9.32888984  8.65957052  9.40506769]\n"
          ]
        }
      ]
    },
    {
      "cell_type": "code",
      "source": [
        "# next time I will show you how to draw a chart in Python like we did in Google Sheets"
      ],
      "metadata": {
        "id": "lQLyCdlTGiX2"
      },
      "execution_count": 18,
      "outputs": []
    },
    {
      "cell_type": "code",
      "source": [
        "# and this time we are hard-coding 1 to 31.  I will show you how to generate the array"
      ],
      "metadata": {
        "id": "LF90S750HCaE"
      },
      "execution_count": 19,
      "outputs": []
    },
    {
      "cell_type": "code",
      "source": [
        "# 1 to 31 automatically.  hint use np.linespace()"
      ],
      "metadata": {
        "id": "57yohJtKHGtg"
      },
      "execution_count": null,
      "outputs": []
    }
  ]
}