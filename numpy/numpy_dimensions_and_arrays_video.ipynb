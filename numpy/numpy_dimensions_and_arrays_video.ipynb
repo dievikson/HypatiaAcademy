{
  "nbformat": 4,
  "nbformat_minor": 0,
  "metadata": {
    "colab": {
      "provenance": [],
      "authorship_tag": "ABX9TyOTxh0NXm+RLfvCWoWt0toM",
      "include_colab_link": true
    },
    "kernelspec": {
      "name": "python3",
      "display_name": "Python 3"
    },
    "language_info": {
      "name": "python"
    }
  },
  "cells": [
    {
      "cell_type": "markdown",
      "metadata": {
        "id": "view-in-github",
        "colab_type": "text"
      },
      "source": [
        "<a href=\"https://colab.research.google.com/github/werowe/HypatiaAcademy/blob/master/numpy/numpy_dimensions_and_arrays_video.ipynb\" target=\"_parent\"><img src=\"https://colab.research.google.com/assets/colab-badge.svg\" alt=\"Open In Colab\"/></a>"
      ]
    },
    {
      "cell_type": "code",
      "execution_count": 161,
      "metadata": {
        "id": "r8_cvTfbHYpk"
      },
      "outputs": [],
      "source": [
        "import numpy as np"
      ]
    },
    {
      "cell_type": "code",
      "source": [
        "# a one dimensional array in numpy is like this.\n",
        "\n",
        "a=np.array([1,2,3])\n",
        "\n",
        "a"
      ],
      "metadata": {
        "colab": {
          "base_uri": "https://localhost:8080/"
        },
        "id": "t4IY29zMyCun",
        "outputId": "ea80109c-46ee-4447-faf4-5cb8660196ef"
      },
      "execution_count": 162,
      "outputs": [
        {
          "output_type": "execute_result",
          "data": {
            "text/plain": [
              "array([1, 2, 3])"
            ]
          },
          "metadata": {},
          "execution_count": 162
        }
      ]
    },
    {
      "cell_type": "code",
      "source": [
        "# here we ask it how many dimensions it has\n",
        "\n",
        "a.ndim"
      ],
      "metadata": {
        "colab": {
          "base_uri": "https://localhost:8080/"
        },
        "id": "epmhLz-jyOBW",
        "outputId": "34be46c0-620b-4135-8047-7efacb2315fe"
      },
      "execution_count": 163,
      "outputs": [
        {
          "output_type": "execute_result",
          "data": {
            "text/plain": [
              "1"
            ]
          },
          "metadata": {},
          "execution_count": 163
        }
      ]
    },
    {
      "cell_type": "code",
      "source": [
        "# here is the shape.  The shape in the number of elements along each dimension\n",
        "# you can think of this as having one dimension when it puts (3,)\n",
        "\n",
        "a.shape"
      ],
      "metadata": {
        "colab": {
          "base_uri": "https://localhost:8080/"
        },
        "id": "5-FTIiSGyS8S",
        "outputId": "190b6ddd-b637-4fad-bc54-a276ca23f824"
      },
      "execution_count": 164,
      "outputs": [
        {
          "output_type": "execute_result",
          "data": {
            "text/plain": [
              "(3,)"
            ]
          },
          "metadata": {},
          "execution_count": 164
        }
      ]
    },
    {
      "cell_type": "code",
      "source": [
        "# if we changed it to this shape it would still have 1 dimension:\n",
        "\n",
        "a=np.array([[1],[2],[3]])\n",
        "a.shape"
      ],
      "metadata": {
        "colab": {
          "base_uri": "https://localhost:8080/"
        },
        "id": "HwixYkDH56-C",
        "outputId": "0e4315b1-dce4-4e93-9513-32960538dcd5"
      },
      "execution_count": 165,
      "outputs": [
        {
          "output_type": "execute_result",
          "data": {
            "text/plain": [
              "(3, 1)"
            ]
          },
          "metadata": {},
          "execution_count": 165
        }
      ]
    },
    {
      "cell_type": "code",
      "source": [
        "# that's easier to see if you write it like this\n",
        "\n",
        "a=np.array([[1],\n",
        "            [2],\n",
        "            [3]\n",
        "            ])\n",
        "\n",
        "a.shape"
      ],
      "metadata": {
        "colab": {
          "base_uri": "https://localhost:8080/"
        },
        "id": "_enJVZkz6kQ9",
        "outputId": "4df8117e-b5d2-4ce4-bbac-a54b80a764e8"
      },
      "execution_count": 166,
      "outputs": [
        {
          "output_type": "execute_result",
          "data": {
            "text/plain": [
              "(3, 1)"
            ]
          },
          "metadata": {},
          "execution_count": 166
        }
      ]
    },
    {
      "cell_type": "code",
      "source": [
        "# a two dimension array you can think of as row-column pairs.  We have two outer brackets since\n",
        "# this is an array of 2-dimensional arrays\n",
        "\n",
        "\n",
        "b= np.array([\n",
        "              [1,2],\n",
        "             [3,4],\n",
        "             [5,5]\n",
        "  ])\n",
        "b"
      ],
      "metadata": {
        "colab": {
          "base_uri": "https://localhost:8080/"
        },
        "id": "dt60UxkmyXeD",
        "outputId": "bffdc360-c10e-4c8f-9578-852aa1b041a9"
      },
      "execution_count": 167,
      "outputs": [
        {
          "output_type": "execute_result",
          "data": {
            "text/plain": [
              "array([[1, 2],\n",
              "       [3, 4],\n",
              "       [5, 5]])"
            ]
          },
          "metadata": {},
          "execution_count": 167
        }
      ]
    },
    {
      "cell_type": "code",
      "source": [
        "# here we have 2 dimensions\n",
        "\n",
        "b.ndim"
      ],
      "metadata": {
        "colab": {
          "base_uri": "https://localhost:8080/"
        },
        "id": "hrcVrePOyt3d",
        "outputId": "b8a5cece-3366-4450-cae8-e5bd1a1c6714"
      },
      "execution_count": 168,
      "outputs": [
        {
          "output_type": "execute_result",
          "data": {
            "text/plain": [
              "2"
            ]
          },
          "metadata": {},
          "execution_count": 168
        }
      ]
    },
    {
      "cell_type": "code",
      "source": [
        "# the shape is 3 because we have shape (3,2).  this is because there are 3 elements\n",
        "# in the outer array\n",
        "\n",
        "b.shape"
      ],
      "metadata": {
        "colab": {
          "base_uri": "https://localhost:8080/"
        },
        "id": "d2R4y3wQyxab",
        "outputId": "10ecd7c8-7db0-4199-ab5f-2bbf999578bb"
      },
      "execution_count": 169,
      "outputs": [
        {
          "output_type": "execute_result",
          "data": {
            "text/plain": [
              "(3, 2)"
            ]
          },
          "metadata": {},
          "execution_count": 169
        }
      ]
    },
    {
      "cell_type": "code",
      "source": [
        "\n",
        "# to understand that.  here we have shape (2,3) because we have 2 elements in the outer array.\n",
        "\n",
        "b= np.array([\n",
        "              [1,2,3],\n",
        "             [4,5,6]\n",
        "\n",
        "  ])\n",
        "\n",
        "b.shape\n",
        "\n",
        "\n",
        "# you can also think of axes and dimensions as the same"
      ],
      "metadata": {
        "colab": {
          "base_uri": "https://localhost:8080/"
        },
        "id": "osQ1MPGX3crY",
        "outputId": "1d67e0ea-d49d-4614-87c9-1ffe2e8e44ce"
      },
      "execution_count": 170,
      "outputs": [
        {
          "output_type": "execute_result",
          "data": {
            "text/plain": [
              "(2, 3)"
            ]
          },
          "metadata": {},
          "execution_count": 170
        }
      ]
    },
    {
      "cell_type": "code",
      "source": [
        "# now we will make an array of shape (3,3).  this is an array of 3 elements along each dimension.\n",
        "# with a three dimensional array we call the third dimension depth.  so we have rows, columns, and depth\n",
        "# so put another array we will construct an array of 3 rows, 3 columns, and depth of 3\n",
        "\n",
        "# we can indent this to see this easier.  see that there are 3 2-dimensional arrays\n",
        "\n",
        "c=np.array([\n",
        "           [\n",
        "             [1, 2, 3],\n",
        "             [4, 5, 6],\n",
        "             [7, 8, 9]\n",
        "          ],\n",
        "         [\n",
        "           [1, 2, 3],\n",
        "           [4, 5, 6],\n",
        "          [7, 8, 9]\n",
        "        ],\n",
        "         [\n",
        "           [1, 2, 3],\n",
        "           [4, 5, 6],\n",
        "           [7, 8, 9]\n",
        "           ]\n",
        "        ])\n",
        "\n",
        "c"
      ],
      "metadata": {
        "colab": {
          "base_uri": "https://localhost:8080/"
        },
        "id": "a4d5MKf00g0i",
        "outputId": "ecda791c-c06b-46b8-a430-fe9e8d202f3f"
      },
      "execution_count": 171,
      "outputs": [
        {
          "output_type": "execute_result",
          "data": {
            "text/plain": [
              "array([[[1, 2, 3],\n",
              "        [4, 5, 6],\n",
              "        [7, 8, 9]],\n",
              "\n",
              "       [[1, 2, 3],\n",
              "        [4, 5, 6],\n",
              "        [7, 8, 9]],\n",
              "\n",
              "       [[1, 2, 3],\n",
              "        [4, 5, 6],\n",
              "        [7, 8, 9]]])"
            ]
          },
          "metadata": {},
          "execution_count": 171
        }
      ]
    },
    {
      "cell_type": "code",
      "source": [
        "# there are 3 dimensions\n",
        "\n",
        "c.ndim"
      ],
      "metadata": {
        "colab": {
          "base_uri": "https://localhost:8080/"
        },
        "id": "jM7pMnes0o9G",
        "outputId": "fbc6660b-95bf-4821-eff2-7529568c6a63"
      },
      "execution_count": 172,
      "outputs": [
        {
          "output_type": "execute_result",
          "data": {
            "text/plain": [
              "3"
            ]
          },
          "metadata": {},
          "execution_count": 172
        }
      ]
    },
    {
      "cell_type": "code",
      "source": [
        "# and 3 elements along each dimension.\n",
        "c.shape"
      ],
      "metadata": {
        "colab": {
          "base_uri": "https://localhost:8080/"
        },
        "id": "ebfSJlTK0vBO",
        "outputId": "f457bd4c-3fa0-492b-8119-3a26f8972181"
      },
      "execution_count": 173,
      "outputs": [
        {
          "output_type": "execute_result",
          "data": {
            "text/plain": [
              "(3, 3, 3)"
            ]
          },
          "metadata": {},
          "execution_count": 173
        }
      ]
    },
    {
      "cell_type": "code",
      "source": [
        "# first lets make an array of random integers ranging from 0 to 100 with shape (7,7)\n",
        "# so it will have 49 elements\n",
        "\n",
        "a = np.random.randint(1,100,(7,7))\n",
        "a"
      ],
      "metadata": {
        "colab": {
          "base_uri": "https://localhost:8080/"
        },
        "id": "hTxXbgNT5J9p",
        "outputId": "f3f549d8-337b-4765-ce71-6aa8c4f661b9"
      },
      "execution_count": 174,
      "outputs": [
        {
          "output_type": "execute_result",
          "data": {
            "text/plain": [
              "array([[57, 11, 13, 71, 10, 49, 77],\n",
              "       [28, 72, 59,  8, 56, 69, 98],\n",
              "       [74, 84, 37, 50, 97, 35, 68],\n",
              "       [ 7, 68,  7, 63, 21, 72,  8],\n",
              "       [47, 72, 43, 59, 13, 53, 40],\n",
              "       [ 6, 35,  9, 51, 90, 83, 30],\n",
              "       [19, 96, 42,  9, 91, 22, 57]])"
            ]
          },
          "metadata": {},
          "execution_count": 174
        }
      ]
    },
    {
      "cell_type": "code",
      "source": [
        "# now we show how to do slicing.  the general format for a 2x2 array is\n",
        "\n",
        "# a[from : to -1 , from : to -1]\n",
        "\n",
        "# the colon by itself means all elements, like a[:,:]\n",
        "\n",
        "# so the comma seperates the axis and the colon says what to do within the axis\n",
        "\n",
        "\n",
        "# first columns from the 4th and 5th rows\n",
        "# remember we start counting array elements at 0 so we write 3 when we mean element 4\n",
        "\n",
        "a[3:5,:]\n"
      ],
      "metadata": {
        "colab": {
          "base_uri": "https://localhost:8080/"
        },
        "id": "nkNRQkeQ-6EA",
        "outputId": "a4386ec8-bc23-4ea7-a5f6-b572fb593ec4"
      },
      "execution_count": 175,
      "outputs": [
        {
          "output_type": "execute_result",
          "data": {
            "text/plain": [
              "array([[ 7, 68,  7, 63, 21, 72,  8],\n",
              "       [47, 72, 43, 59, 13, 53, 40]])"
            ]
          },
          "metadata": {},
          "execution_count": 175
        }
      ]
    },
    {
      "cell_type": "code",
      "source": [
        "# now get all rows from the 4th and 5th column\n",
        "a[:,3:5]"
      ],
      "metadata": {
        "colab": {
          "base_uri": "https://localhost:8080/"
        },
        "id": "2DDydILK_TgL",
        "outputId": "dc7b2c03-120b-4e5f-b9b9-2a8c07b11130"
      },
      "execution_count": 176,
      "outputs": [
        {
          "output_type": "execute_result",
          "data": {
            "text/plain": [
              "array([[71, 10],\n",
              "       [ 8, 56],\n",
              "       [50, 97],\n",
              "       [63, 21],\n",
              "       [59, 13],\n",
              "       [51, 90],\n",
              "       [ 9, 91]])"
            ]
          },
          "metadata": {},
          "execution_count": 176
        }
      ]
    },
    {
      "cell_type": "code",
      "source": [
        "# make 16 elements raning from 1 to 16\n",
        "\n",
        "a=np.linspace(1,16,16)\n",
        "\n",
        "# this would be the same as writing\n",
        "\n",
        "a=np.linspace(1,16,16,(16,))\n",
        "\n",
        "a.shape\n"
      ],
      "metadata": {
        "colab": {
          "base_uri": "https://localhost:8080/"
        },
        "id": "WLFmgHE65RD7",
        "outputId": "00033e85-a1e5-43be-eac4-67e5331ea6d9"
      },
      "execution_count": 177,
      "outputs": [
        {
          "output_type": "execute_result",
          "data": {
            "text/plain": [
              "(16,)"
            ]
          },
          "metadata": {},
          "execution_count": 177
        }
      ]
    },
    {
      "cell_type": "code",
      "source": [
        "# here we show how to print every other element.\n",
        "\n",
        "# so the format is [from : to : step]\n",
        "\n",
        "a[0:4:2]"
      ],
      "metadata": {
        "colab": {
          "base_uri": "https://localhost:8080/"
        },
        "id": "2yuW1y2b5fxx",
        "outputId": "e578671b-f599-4765-8038-acb324db3239"
      },
      "execution_count": 178,
      "outputs": [
        {
          "output_type": "execute_result",
          "data": {
            "text/plain": [
              "array([1., 3.])"
            ]
          },
          "metadata": {},
          "execution_count": 178
        }
      ]
    },
    {
      "cell_type": "code",
      "source": [
        "# here we show that y[a:b,c:d] is the same as y[a:b,:][:,c:d] or y[a:b][:,c:d]\n",
        "\n",
        "# first let's make the array have 2 dimensions using reshape.  we have 16 elements\n",
        "# which w can divide into 4 rows and 4 columns\n",
        "\n",
        "a=a.reshape(4,4).astype(np.int8)\n",
        "\n",
        "a"
      ],
      "metadata": {
        "colab": {
          "base_uri": "https://localhost:8080/"
        },
        "id": "BdbNI7kL5lRd",
        "outputId": "b9343bf5-76df-44df-83cb-eb22884ece46"
      },
      "execution_count": 179,
      "outputs": [
        {
          "output_type": "execute_result",
          "data": {
            "text/plain": [
              "array([[ 1,  2,  3,  4],\n",
              "       [ 5,  6,  7,  8],\n",
              "       [ 9, 10, 11, 12],\n",
              "       [13, 14, 15, 16]], dtype=int8)"
            ]
          },
          "metadata": {},
          "execution_count": 179
        }
      ]
    },
    {
      "cell_type": "code",
      "source": [
        "# lets print the 2nd and 3rd row item from the 2rd and 3rd column\n",
        "\n",
        "a[1:3, 1:3]"
      ],
      "metadata": {
        "colab": {
          "base_uri": "https://localhost:8080/"
        },
        "id": "GwWiJwtyA4DY",
        "outputId": "37f3327d-87e6-4696-f7cf-91979871ac80"
      },
      "execution_count": 180,
      "outputs": [
        {
          "output_type": "execute_result",
          "data": {
            "text/plain": [
              "array([[ 6,  7],\n",
              "       [10, 11]], dtype=int8)"
            ]
          },
          "metadata": {},
          "execution_count": 180
        }
      ]
    },
    {
      "cell_type": "code",
      "source": [
        "# now we can get the same results using two sets of brackets. think of that\n",
        "# as doing two operations:  slice and then slice again\n",
        "# the it is easier to understand\n",
        "\n",
        "a[1:3,:][:,1:3]"
      ],
      "metadata": {
        "colab": {
          "base_uri": "https://localhost:8080/"
        },
        "id": "F0n-66469uVF",
        "outputId": "1eff3788-b12e-432a-d922-020af23ef178"
      },
      "execution_count": 181,
      "outputs": [
        {
          "output_type": "execute_result",
          "data": {
            "text/plain": [
              "array([[ 6,  7],\n",
              "       [10, 11]], dtype=int8)"
            ]
          },
          "metadata": {},
          "execution_count": 181
        }
      ]
    },
    {
      "cell_type": "code",
      "source": [
        "# the asterisk is short-hand for 0:\n",
        "\n",
        "# so a[0:5] is the same as a[*5]\n",
        "\n",
        "print(a[0:5])\n",
        "\n",
        "print(\"\\n\")\n",
        "\n",
        "print(a[:5])"
      ],
      "metadata": {
        "colab": {
          "base_uri": "https://localhost:8080/"
        },
        "id": "pylmwPml5usn",
        "outputId": "72fc67a6-3591-4689-c118-5cb0f3c13cc9"
      },
      "execution_count": 182,
      "outputs": [
        {
          "output_type": "stream",
          "name": "stdout",
          "text": [
            "[[ 1  2  3  4]\n",
            " [ 5  6  7  8]\n",
            " [ 9 10 11 12]\n",
            " [13 14 15 16]]\n",
            "\n",
            "\n",
            "[[ 1  2  3  4]\n",
            " [ 5  6  7  8]\n",
            " [ 9 10 11 12]\n",
            " [13 14 15 16]]\n"
          ]
        }
      ]
    },
    {
      "cell_type": "code",
      "source": [
        "# a negative sign means go backwards from the end moving to the left\n",
        "\n",
        "b = np.array([10, 20, 30, 40, 50, 60, 70, 80])\n",
        "\n",
        "b[-4]\n"
      ],
      "metadata": {
        "colab": {
          "base_uri": "https://localhost:8080/"
        },
        "id": "8UPMNw3X5zBI",
        "outputId": "e5dfd0de-7382-4665-9810-d91585ea8d54"
      },
      "execution_count": 183,
      "outputs": [
        {
          "output_type": "execute_result",
          "data": {
            "text/plain": [
              "50"
            ]
          },
          "metadata": {},
          "execution_count": 183
        }
      ]
    },
    {
      "cell_type": "code",
      "source": [
        "# let's think about our 3 dimensional array again\n",
        "#first print it so we can it see again\n",
        "\n",
        "c"
      ],
      "metadata": {
        "colab": {
          "base_uri": "https://localhost:8080/"
        },
        "id": "WfgsrWmO8Gvi",
        "outputId": "0badeb70-fac6-4eb4-db44-811c71a62db3"
      },
      "execution_count": 184,
      "outputs": [
        {
          "output_type": "execute_result",
          "data": {
            "text/plain": [
              "array([[[1, 2, 3],\n",
              "        [4, 5, 6],\n",
              "        [7, 8, 9]],\n",
              "\n",
              "       [[1, 2, 3],\n",
              "        [4, 5, 6],\n",
              "        [7, 8, 9]],\n",
              "\n",
              "       [[1, 2, 3],\n",
              "        [4, 5, 6],\n",
              "        [7, 8, 9]]])"
            ]
          },
          "metadata": {},
          "execution_count": 184
        }
      ]
    },
    {
      "cell_type": "code",
      "source": [
        "# now, this gets the first row element in each of the 3 arrays\n",
        "c[:,0,0]"
      ],
      "metadata": {
        "colab": {
          "base_uri": "https://localhost:8080/"
        },
        "id": "Ew0HxkhT8RLa",
        "outputId": "eca8a3a8-f6e9-4f3f-d7fe-dfdcccc69067"
      },
      "execution_count": 185,
      "outputs": [
        {
          "output_type": "execute_result",
          "data": {
            "text/plain": [
              "array([1, 1, 1])"
            ]
          },
          "metadata": {},
          "execution_count": 185
        }
      ]
    },
    {
      "cell_type": "code",
      "source": [
        "# this gets the all the rows and columns in the first 2d array at depth 0\n",
        "\n",
        "c[:,:,0]"
      ],
      "metadata": {
        "colab": {
          "base_uri": "https://localhost:8080/"
        },
        "id": "RLUvg00B8eOY",
        "outputId": "bed1bea2-cda0-450e-b5ae-d1b75d5d91ce"
      },
      "execution_count": 186,
      "outputs": [
        {
          "output_type": "execute_result",
          "data": {
            "text/plain": [
              "array([[1, 4, 7],\n",
              "       [1, 4, 7],\n",
              "       [1, 4, 7]])"
            ]
          },
          "metadata": {},
          "execution_count": 186
        }
      ]
    },
    {
      "cell_type": "code",
      "source": [
        "# this gets the first element in the 3d array.  so it is the first element in the first row,\n",
        "# in the first column, in the first depth\n",
        "\n",
        "c[0,0,0]"
      ],
      "metadata": {
        "colab": {
          "base_uri": "https://localhost:8080/"
        },
        "id": "8WAo6o8fCg0p",
        "outputId": "406213a1-1423-47f3-9be0-9f8bdc9c0c98"
      },
      "execution_count": 187,
      "outputs": [
        {
          "output_type": "execute_result",
          "data": {
            "text/plain": [
              "1"
            ]
          },
          "metadata": {},
          "execution_count": 187
        }
      ]
    }
  ]
}