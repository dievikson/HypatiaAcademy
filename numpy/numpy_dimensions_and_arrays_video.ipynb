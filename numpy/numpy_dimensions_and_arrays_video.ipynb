{
  "nbformat": 4,
  "nbformat_minor": 0,
  "metadata": {
    "colab": {
      "provenance": [],
      "authorship_tag": "ABX9TyM1ImEa5SmObxc+6qbHyav5",
      "include_colab_link": true
    },
    "kernelspec": {
      "name": "python3",
      "display_name": "Python 3"
    },
    "language_info": {
      "name": "python"
    }
  },
  "cells": [
    {
      "cell_type": "markdown",
      "metadata": {
        "id": "view-in-github",
        "colab_type": "text"
      },
      "source": [
        "<a href=\"https://colab.research.google.com/github/werowe/HypatiaAcademy/blob/master/numpy/numpy_dimensions_and_arrays_video.ipynb\" target=\"_parent\"><img src=\"https://colab.research.google.com/assets/colab-badge.svg\" alt=\"Open In Colab\"/></a>"
      ]
    },
    {
      "cell_type": "markdown",
      "source": [
        "> **Video that goes with this Tutorial**\n",
        ">\n",
        "> [Here is the video that goes with this tutorial](https://www.youtube.com/watch?v=CgA0EQjkxlk)\n",
        "\n",
        "\n",
        "# Other Tutorials\n",
        "|   |   |\n",
        "| --- | --- |  \n",
        "| [Python Basics](#python-basics) |  [Algorithms](#algorithms) |\n",
        "| [Pandas](#pandas) |  [Numpy](#numpy) |  \n",
        "| [Statistics](#statistics)  | [Charting](#charting) |\n",
        "| [Linear and Logistic Regression](#linear-and-logistic-regression) | [Data Science Analysis](#data-science-analysis) |\n",
        "| [Games](#games) | [Python Certification](python-certification) |   "
      ],
      "metadata": {
        "id": "pFs_lcAp6_Y4"
      }
    },
    {
      "cell_type": "code",
      "execution_count": null,
      "metadata": {
        "id": "r8_cvTfbHYpk"
      },
      "outputs": [],
      "source": [
        "import numpy as np"
      ]
    },
    {
      "cell_type": "code",
      "source": [
        "# a one dimensional array in numpy is like this.\n",
        "\n",
        "a=np.array([1,2,3])\n",
        "\n",
        "a"
      ],
      "metadata": {
        "colab": {
          "base_uri": "https://localhost:8080/"
        },
        "id": "t4IY29zMyCun",
        "outputId": "d4ed2f1b-7fa0-41d6-bb55-219f8ed83898"
      },
      "execution_count": null,
      "outputs": [
        {
          "output_type": "execute_result",
          "data": {
            "text/plain": [
              "array([1, 2, 3])"
            ]
          },
          "metadata": {},
          "execution_count": 3
        }
      ]
    },
    {
      "cell_type": "code",
      "source": [
        "# here we ask it how many dimensions it has\n",
        "\n",
        "a.ndim"
      ],
      "metadata": {
        "colab": {
          "base_uri": "https://localhost:8080/"
        },
        "id": "epmhLz-jyOBW",
        "outputId": "44762993-9c92-42ac-8e74-9ea22577fc38"
      },
      "execution_count": null,
      "outputs": [
        {
          "output_type": "execute_result",
          "data": {
            "text/plain": [
              "1"
            ]
          },
          "metadata": {},
          "execution_count": 4
        }
      ]
    },
    {
      "cell_type": "code",
      "source": [
        "# here is the shape.  The shape in the number of elements along each dimension\n",
        "# you can think of this as having one dimension when it puts (3,)\n",
        "\n",
        "a.shape"
      ],
      "metadata": {
        "colab": {
          "base_uri": "https://localhost:8080/"
        },
        "id": "5-FTIiSGyS8S",
        "outputId": "0da3e9b5-a846-499c-c84d-6a1c221e9016"
      },
      "execution_count": null,
      "outputs": [
        {
          "output_type": "execute_result",
          "data": {
            "text/plain": [
              "(3,)"
            ]
          },
          "metadata": {},
          "execution_count": 5
        }
      ]
    },
    {
      "cell_type": "code",
      "source": [
        "# if we changed it to this shape it would still have 1 dimension:\n",
        "\n",
        "a=np.array([[1],[2],[3]])\n",
        "a.shape"
      ],
      "metadata": {
        "colab": {
          "base_uri": "https://localhost:8080/"
        },
        "id": "HwixYkDH56-C",
        "outputId": "c47137ac-b99a-4cf8-f2dd-efe2c0e4cfdd"
      },
      "execution_count": null,
      "outputs": [
        {
          "output_type": "execute_result",
          "data": {
            "text/plain": [
              "(3, 1)"
            ]
          },
          "metadata": {},
          "execution_count": 6
        }
      ]
    },
    {
      "cell_type": "code",
      "source": [
        "# that's easier to see if you write it like this\n",
        "\n",
        "a=np.array([[1],\n",
        "            [2],\n",
        "            [3]\n",
        "            ])\n",
        "\n",
        "a.shape"
      ],
      "metadata": {
        "colab": {
          "base_uri": "https://localhost:8080/"
        },
        "id": "_enJVZkz6kQ9",
        "outputId": "d071d6d5-4fed-4aca-dbda-ab3990ecb245"
      },
      "execution_count": null,
      "outputs": [
        {
          "output_type": "execute_result",
          "data": {
            "text/plain": [
              "(3, 1)"
            ]
          },
          "metadata": {},
          "execution_count": 7
        }
      ]
    },
    {
      "cell_type": "code",
      "source": [
        "# a two dimension array you can think of as row-column pairs.  We have two outer brackets since\n",
        "# this is an array of 2-dimensional arrays\n",
        "\n",
        "\n",
        "b= np.array([\n",
        "              [1,2],\n",
        "             [3,4],\n",
        "             [5,5]\n",
        "  ])\n",
        "b"
      ],
      "metadata": {
        "colab": {
          "base_uri": "https://localhost:8080/"
        },
        "id": "dt60UxkmyXeD",
        "outputId": "b32edbcb-a207-4c45-c6f1-08c7775dbebd"
      },
      "execution_count": null,
      "outputs": [
        {
          "output_type": "execute_result",
          "data": {
            "text/plain": [
              "array([[1, 2],\n",
              "       [3, 4],\n",
              "       [5, 5]])"
            ]
          },
          "metadata": {},
          "execution_count": 8
        }
      ]
    },
    {
      "cell_type": "code",
      "source": [
        "# here we have 2 dimensions\n",
        "\n",
        "b.ndim"
      ],
      "metadata": {
        "colab": {
          "base_uri": "https://localhost:8080/"
        },
        "id": "hrcVrePOyt3d",
        "outputId": "7c0b5ad7-fef9-4d70-ee28-879ff99ecaf6"
      },
      "execution_count": null,
      "outputs": [
        {
          "output_type": "execute_result",
          "data": {
            "text/plain": [
              "2"
            ]
          },
          "metadata": {},
          "execution_count": 9
        }
      ]
    },
    {
      "cell_type": "code",
      "source": [
        "# the shape is 3 because we have shape (3,2).  this is because there are 3 elements\n",
        "# in the outer array\n",
        "\n",
        "b.shape"
      ],
      "metadata": {
        "colab": {
          "base_uri": "https://localhost:8080/"
        },
        "id": "d2R4y3wQyxab",
        "outputId": "cf7c0e9c-a5bb-4e36-ecf2-172534532eda"
      },
      "execution_count": null,
      "outputs": [
        {
          "output_type": "execute_result",
          "data": {
            "text/plain": [
              "(3, 2)"
            ]
          },
          "metadata": {},
          "execution_count": 10
        }
      ]
    },
    {
      "cell_type": "code",
      "source": [
        "\n",
        "# to understand that.  here we have shape (2,3) because we have 2 elements in the outer array.\n",
        "\n",
        "b= np.array([\n",
        "              [1,2,3],\n",
        "             [4,5,6]\n",
        "\n",
        "  ])\n",
        "\n",
        "b.shape\n",
        "\n",
        "\n",
        "# you can also think of axes and dimensions as the same"
      ],
      "metadata": {
        "colab": {
          "base_uri": "https://localhost:8080/"
        },
        "id": "osQ1MPGX3crY",
        "outputId": "5fa69758-2651-4795-aae3-72b6a1c2a55c"
      },
      "execution_count": null,
      "outputs": [
        {
          "output_type": "execute_result",
          "data": {
            "text/plain": [
              "(2, 3)"
            ]
          },
          "metadata": {},
          "execution_count": 11
        }
      ]
    },
    {
      "cell_type": "code",
      "source": [
        "# now we will make an array of shape (3,3).  this is an array of 3 elements along each dimension.\n",
        "# with a three dimensional array we call the third dimension depth.  so we have rows, columns, and depth\n",
        "# so put another array we will construct an array of 3 rows, 3 columns, and depth of 3\n",
        "\n",
        "# we can indent this to see this easier.  see that there are 3 2-dimensional arrays\n",
        "\n",
        "c=np.array([\n",
        "           [\n",
        "             [1, 2, 3],\n",
        "             [4, 5, 6],\n",
        "             [7, 8, 9]\n",
        "          ],\n",
        "         [\n",
        "           [1, 2, 3],\n",
        "           [4, 5, 6],\n",
        "          [7, 8, 9]\n",
        "        ],\n",
        "         [\n",
        "           [1, 2, 3],\n",
        "           [4, 5, 6],\n",
        "           [7, 8, 9]\n",
        "           ]\n",
        "        ])\n",
        "\n",
        "c"
      ],
      "metadata": {
        "colab": {
          "base_uri": "https://localhost:8080/"
        },
        "id": "a4d5MKf00g0i",
        "outputId": "b08d4359-0ea4-424b-8149-a23f9243284f"
      },
      "execution_count": null,
      "outputs": [
        {
          "output_type": "execute_result",
          "data": {
            "text/plain": [
              "array([[[1, 2, 3],\n",
              "        [4, 5, 6],\n",
              "        [7, 8, 9]],\n",
              "\n",
              "       [[1, 2, 3],\n",
              "        [4, 5, 6],\n",
              "        [7, 8, 9]],\n",
              "\n",
              "       [[1, 2, 3],\n",
              "        [4, 5, 6],\n",
              "        [7, 8, 9]]])"
            ]
          },
          "metadata": {},
          "execution_count": 12
        }
      ]
    },
    {
      "cell_type": "code",
      "source": [
        "# there are 3 dimensions\n",
        "\n",
        "c.ndim"
      ],
      "metadata": {
        "colab": {
          "base_uri": "https://localhost:8080/"
        },
        "id": "jM7pMnes0o9G",
        "outputId": "5176b284-03eb-462a-dc39-968fd32ce182"
      },
      "execution_count": null,
      "outputs": [
        {
          "output_type": "execute_result",
          "data": {
            "text/plain": [
              "3"
            ]
          },
          "metadata": {},
          "execution_count": 13
        }
      ]
    },
    {
      "cell_type": "code",
      "source": [
        "# and 3 elements along each dimension.\n",
        "c.shape"
      ],
      "metadata": {
        "colab": {
          "base_uri": "https://localhost:8080/"
        },
        "id": "ebfSJlTK0vBO",
        "outputId": "0c01f96f-5577-438d-cc02-e2b0952f7d61"
      },
      "execution_count": null,
      "outputs": [
        {
          "output_type": "execute_result",
          "data": {
            "text/plain": [
              "(3, 3, 3)"
            ]
          },
          "metadata": {},
          "execution_count": 14
        }
      ]
    },
    {
      "cell_type": "code",
      "source": [
        "# first lets make an array of random integers ranging from 0 to 100 with shape (7,7)\n",
        "# so it will have 49 elements\n",
        "\n",
        "a = np.random.randint(1,100,(7,7))\n",
        "a"
      ],
      "metadata": {
        "colab": {
          "base_uri": "https://localhost:8080/"
        },
        "id": "hTxXbgNT5J9p",
        "outputId": "e920836a-c2a7-4b1d-c6c4-d3f828824e8e"
      },
      "execution_count": null,
      "outputs": [
        {
          "output_type": "execute_result",
          "data": {
            "text/plain": [
              "array([[10, 23, 34, 29, 38, 80, 40],\n",
              "       [58, 97, 99,  9, 52, 76, 38],\n",
              "       [50, 54, 63, 39, 92, 49, 98],\n",
              "       [16, 64, 98,  3, 80, 27, 88],\n",
              "       [64,  7, 20, 42, 92, 59, 91],\n",
              "       [75, 92, 80, 63, 38, 43, 52],\n",
              "       [61, 99, 45, 10, 55, 70, 67]])"
            ]
          },
          "metadata": {},
          "execution_count": 15
        }
      ]
    },
    {
      "cell_type": "code",
      "source": [
        "# now we show how to do slicing.  the general format for a 2x2 array is\n",
        "\n",
        "# a[from : to -1 , from : to -1]\n",
        "\n",
        "# the colon by itself means all elements, like a[:,:]\n",
        "\n",
        "# so the comma seperates the axis and the colon says what to do within the axis\n",
        "\n",
        "\n",
        "# first columns from the 4th and 5th rows\n",
        "# remember we start counting array elements at 0 so we write 3 when we mean element 4\n",
        "\n",
        "a[3:5,:]\n"
      ],
      "metadata": {
        "colab": {
          "base_uri": "https://localhost:8080/"
        },
        "id": "nkNRQkeQ-6EA",
        "outputId": "2ecbd65b-2d27-4a58-b4fd-6daaef0cf53a"
      },
      "execution_count": null,
      "outputs": [
        {
          "output_type": "execute_result",
          "data": {
            "text/plain": [
              "array([[16, 64, 98,  3, 80, 27, 88],\n",
              "       [64,  7, 20, 42, 92, 59, 91]])"
            ]
          },
          "metadata": {},
          "execution_count": 16
        }
      ]
    },
    {
      "cell_type": "code",
      "source": [
        "# now get all rows from the 4th and 5th column\n",
        "a[:,3:5]"
      ],
      "metadata": {
        "colab": {
          "base_uri": "https://localhost:8080/"
        },
        "id": "2DDydILK_TgL",
        "outputId": "ad631df7-80ab-43c1-8017-bb6e0a826e33"
      },
      "execution_count": null,
      "outputs": [
        {
          "output_type": "execute_result",
          "data": {
            "text/plain": [
              "array([[29, 38],\n",
              "       [ 9, 52],\n",
              "       [39, 92],\n",
              "       [ 3, 80],\n",
              "       [42, 92],\n",
              "       [63, 38],\n",
              "       [10, 55]])"
            ]
          },
          "metadata": {},
          "execution_count": 17
        }
      ]
    },
    {
      "cell_type": "code",
      "source": [
        "# make 16 elements raning from 1 to 16\n",
        "\n",
        "a=np.linspace(1,16,16)\n",
        "\n",
        "# this would be the same as writing\n",
        "\n",
        "a=np.linspace(1,16,16,(16,))\n",
        "\n",
        "a.shape\n"
      ],
      "metadata": {
        "colab": {
          "base_uri": "https://localhost:8080/"
        },
        "id": "WLFmgHE65RD7",
        "outputId": "749e6333-8447-4307-f016-eef8454e7ba2"
      },
      "execution_count": null,
      "outputs": [
        {
          "output_type": "execute_result",
          "data": {
            "text/plain": [
              "(16,)"
            ]
          },
          "metadata": {},
          "execution_count": 18
        }
      ]
    },
    {
      "cell_type": "code",
      "source": [
        "# here we show how to print every other element.\n",
        "\n",
        "# so the format is [from : to : step]\n",
        "\n",
        "a[0:4:2]"
      ],
      "metadata": {
        "colab": {
          "base_uri": "https://localhost:8080/"
        },
        "id": "2yuW1y2b5fxx",
        "outputId": "cea0ba61-0e52-4a31-c097-6ddaa259ab06"
      },
      "execution_count": null,
      "outputs": [
        {
          "output_type": "execute_result",
          "data": {
            "text/plain": [
              "array([1., 3.])"
            ]
          },
          "metadata": {},
          "execution_count": 19
        }
      ]
    },
    {
      "cell_type": "code",
      "source": [
        "# here we show that y[a:b,c:d] is the same as y[a:b,:][:,c:d] or y[a:b][:,c:d]\n",
        "\n",
        "# first let's make the array have 2 dimensions using reshape.  we have 16 elements\n",
        "# which w can divide into 4 rows and 4 columns\n",
        "\n",
        "a=a.reshape(4,4).astype(np.int8)\n",
        "\n",
        "a"
      ],
      "metadata": {
        "colab": {
          "base_uri": "https://localhost:8080/"
        },
        "id": "BdbNI7kL5lRd",
        "outputId": "628ee8b4-fb65-494a-9e49-0f93d200d6f7"
      },
      "execution_count": null,
      "outputs": [
        {
          "output_type": "execute_result",
          "data": {
            "text/plain": [
              "array([[ 1,  2,  3,  4],\n",
              "       [ 5,  6,  7,  8],\n",
              "       [ 9, 10, 11, 12],\n",
              "       [13, 14, 15, 16]], dtype=int8)"
            ]
          },
          "metadata": {},
          "execution_count": 20
        }
      ]
    },
    {
      "cell_type": "code",
      "source": [
        "# lets print the 2nd and 3rd row item from the 2rd and 3rd column\n",
        "\n",
        "a[1:3, 1:3]"
      ],
      "metadata": {
        "colab": {
          "base_uri": "https://localhost:8080/"
        },
        "id": "GwWiJwtyA4DY",
        "outputId": "775386b3-0ef5-46d6-e996-63ab1774608b"
      },
      "execution_count": null,
      "outputs": [
        {
          "output_type": "execute_result",
          "data": {
            "text/plain": [
              "array([[ 6,  7],\n",
              "       [10, 11]], dtype=int8)"
            ]
          },
          "metadata": {},
          "execution_count": 21
        }
      ]
    },
    {
      "cell_type": "code",
      "source": [
        "# now we can get the same results using two sets of brackets. think of that\n",
        "# as doing two operations:  slice and then slice again\n",
        "# the it is easier to understand\n",
        "\n",
        "a[1:3,:][:,1:3]"
      ],
      "metadata": {
        "colab": {
          "base_uri": "https://localhost:8080/"
        },
        "id": "F0n-66469uVF",
        "outputId": "613afea1-96e6-4dca-cc89-2dc506cb5cd7"
      },
      "execution_count": null,
      "outputs": [
        {
          "output_type": "execute_result",
          "data": {
            "text/plain": [
              "array([[ 6,  7],\n",
              "       [10, 11]], dtype=int8)"
            ]
          },
          "metadata": {},
          "execution_count": 22
        }
      ]
    },
    {
      "cell_type": "code",
      "source": [
        "# the asterisk is short-hand for 0:\n",
        "\n",
        "# so a[0:5] is the same as a[*5]\n",
        "\n",
        "print(a[0:5])\n",
        "\n",
        "print(\"\\n\")\n",
        "\n",
        "print(a[:5])"
      ],
      "metadata": {
        "colab": {
          "base_uri": "https://localhost:8080/"
        },
        "id": "pylmwPml5usn",
        "outputId": "7609f953-fd07-40a2-ef33-247b60ddc97b"
      },
      "execution_count": null,
      "outputs": [
        {
          "output_type": "stream",
          "name": "stdout",
          "text": [
            "[[ 1  2  3  4]\n",
            " [ 5  6  7  8]\n",
            " [ 9 10 11 12]\n",
            " [13 14 15 16]]\n",
            "\n",
            "\n",
            "[[ 1  2  3  4]\n",
            " [ 5  6  7  8]\n",
            " [ 9 10 11 12]\n",
            " [13 14 15 16]]\n"
          ]
        }
      ]
    },
    {
      "cell_type": "code",
      "source": [
        "# a negative sign means go backwards from the end moving to the left\n",
        "\n",
        "b = np.array([10, 20, 30, 40, 50, 60, 70, 80])\n",
        "\n",
        "b[-4]\n"
      ],
      "metadata": {
        "colab": {
          "base_uri": "https://localhost:8080/"
        },
        "id": "8UPMNw3X5zBI",
        "outputId": "44aa6354-0901-4aec-ffa7-b520f266a5ba"
      },
      "execution_count": null,
      "outputs": [
        {
          "output_type": "execute_result",
          "data": {
            "text/plain": [
              "50"
            ]
          },
          "metadata": {},
          "execution_count": 24
        }
      ]
    },
    {
      "cell_type": "code",
      "source": [
        "# let's think about our 3 dimensional array again\n",
        "#first print it so we can it see again\n",
        "\n",
        "c"
      ],
      "metadata": {
        "colab": {
          "base_uri": "https://localhost:8080/"
        },
        "id": "WfgsrWmO8Gvi",
        "outputId": "38b00bf1-57f5-4a38-c27e-131745624fe5"
      },
      "execution_count": null,
      "outputs": [
        {
          "output_type": "execute_result",
          "data": {
            "text/plain": [
              "array([[[1, 2, 3],\n",
              "        [4, 5, 6],\n",
              "        [7, 8, 9]],\n",
              "\n",
              "       [[1, 2, 3],\n",
              "        [4, 5, 6],\n",
              "        [7, 8, 9]],\n",
              "\n",
              "       [[1, 2, 3],\n",
              "        [4, 5, 6],\n",
              "        [7, 8, 9]]])"
            ]
          },
          "metadata": {},
          "execution_count": 25
        }
      ]
    },
    {
      "cell_type": "code",
      "source": [
        "# the slice operation on the array c is over (depth, row, column)\n",
        "\n",
        "# now, this gets the first row and column is each of the outermost array,\n",
        "# i.e., the one measured by depth\n",
        "\n",
        "c[:,0,0]"
      ],
      "metadata": {
        "colab": {
          "base_uri": "https://localhost:8080/"
        },
        "id": "Ew0HxkhT8RLa",
        "outputId": "ef46660c-4249-45bc-f2a5-bea1282d80f0"
      },
      "execution_count": null,
      "outputs": [
        {
          "output_type": "execute_result",
          "data": {
            "text/plain": [
              "array([1, 1, 1])"
            ]
          },
          "metadata": {},
          "execution_count": 26
        }
      ]
    },
    {
      "cell_type": "code",
      "source": [
        "# this all rows in the first column from each of the 3 outer arrays, i.e., depth\n",
        "\n",
        "\n",
        "c[:,:,0]"
      ],
      "metadata": {
        "colab": {
          "base_uri": "https://localhost:8080/"
        },
        "id": "RLUvg00B8eOY",
        "outputId": "e87de194-cbc8-481a-9332-85233ef23e2f"
      },
      "execution_count": null,
      "outputs": [
        {
          "output_type": "execute_result",
          "data": {
            "text/plain": [
              "array([[1, 4, 7],\n",
              "       [1, 4, 7],\n",
              "       [1, 4, 7]])"
            ]
          },
          "metadata": {},
          "execution_count": 27
        }
      ]
    },
    {
      "cell_type": "code",
      "source": [
        "# this gets the first element in the 3d array.  so it is the first element in the first depth,\n",
        "# row, and column\n",
        "\n",
        "c[0,0,0]"
      ],
      "metadata": {
        "colab": {
          "base_uri": "https://localhost:8080/"
        },
        "id": "8WAo6o8fCg0p",
        "outputId": "ffe0c7c7-f357-4726-955f-51b8488b388b"
      },
      "execution_count": null,
      "outputs": [
        {
          "output_type": "execute_result",
          "data": {
            "text/plain": [
              "1"
            ]
          },
          "metadata": {},
          "execution_count": 28
        }
      ]
    }
  ]
}