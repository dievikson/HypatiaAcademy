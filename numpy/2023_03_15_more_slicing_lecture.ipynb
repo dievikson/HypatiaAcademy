{
  "nbformat": 4,
  "nbformat_minor": 0,
  "metadata": {
    "colab": {
      "provenance": [],
      "authorship_tag": "ABX9TyNEJr3dnN/Iqo3os7H+2o7t",
      "include_colab_link": true
    },
    "kernelspec": {
      "name": "python3",
      "display_name": "Python 3"
    },
    "language_info": {
      "name": "python"
    }
  },
  "cells": [
    {
      "cell_type": "markdown",
      "metadata": {
        "id": "view-in-github",
        "colab_type": "text"
      },
      "source": [
        "<a href=\"https://colab.research.google.com/github/werowe/HypatiaAcademy/blob/master/numpy/2023_03_15_more_slicing_lecture.ipynb\" target=\"_parent\"><img src=\"https://colab.research.google.com/assets/colab-badge.svg\" alt=\"Open In Colab\"/></a>"
      ]
    },
    {
      "cell_type": "code",
      "execution_count": 3,
      "metadata": {
        "colab": {
          "base_uri": "https://localhost:8080/"
        },
        "id": "V85Qcvx7iF14",
        "outputId": "028ddcfd-c55a-42c9-f5b5-96f08a51a581"
      },
      "outputs": [
        {
          "output_type": "stream",
          "name": "stdout",
          "text": [
            "[[12 94 11 63  5 26 79]\n",
            " [37 30 48 95 22  1 43]\n",
            " [84 17 91 89 16 54 99]\n",
            " [44 82 76 64 47 32 17]\n",
            " [59 53 40  6 88 71 70]\n",
            " [68 66 73 75 17 64 29]\n",
            " [44 46 35 65  4 14 77]]\n",
            "\n",
            "\n",
            "[[44 82 76 64 47 32 17]\n",
            " [59 53 40  6 88 71 70]]\n",
            "\n",
            "\n",
            "[[63  5]\n",
            " [95 22]\n",
            " [89 16]\n",
            " [64 47]\n",
            " [ 6 88]\n",
            " [75 17]\n",
            " [65  4]]\n"
          ]
        }
      ],
      "source": [
        "\n",
        "import numpy as np\n",
        "\n",
        "array = np.random.randint(1,100,(7,7))\n",
        "print(array)\n",
        "\n",
        "print(\"\\n\")\n",
        "\n",
        "# select 3rd and 4th rows all columns\n",
        "# select 3rd and 4th columns all rows\n",
        "\n",
        "# array[start at: end at 1 less than]\n",
        "\n",
        "print(array[3:5,:])\n",
        "\n",
        "print(\"\\n\")\n",
        "\n",
        "print(array[:,3:5])\n",
        "\n",
        "\n"
      ]
    },
    {
      "cell_type": "code",
      "source": [
        "#. first index is row array[1st is row, the 2nd is column]\n",
        "\n",
        "# array[0:3 means print from 0 to 2 index number]\n",
        "\n",
        "array[0:3,0:4]\n"
      ],
      "metadata": {
        "colab": {
          "base_uri": "https://localhost:8080/"
        },
        "id": "shBt6FpNq-g8",
        "outputId": "12a33abe-1682-409a-8a70-45b573b96ef6"
      },
      "execution_count": 4,
      "outputs": [
        {
          "output_type": "execute_result",
          "data": {
            "text/plain": [
              "array([[12, 94, 11, 63],\n",
              "       [37, 30, 48, 95],\n",
              "       [84, 17, 91, 89]])"
            ]
          },
          "metadata": {},
          "execution_count": 4
        }
      ]
    },
    {
      "cell_type": "code",
      "source": [
        "a=np.linspace(1,16,16).astype(np.int8)\n",
        "\n",
        "a"
      ],
      "metadata": {
        "colab": {
          "base_uri": "https://localhost:8080/"
        },
        "id": "tPlZBwnJr1rE",
        "outputId": "6ca19c4e-0c84-4b7b-8bf1-b5c5f1fa9618"
      },
      "execution_count": 7,
      "outputs": [
        {
          "output_type": "execute_result",
          "data": {
            "text/plain": [
              "array([ 1,  2,  3,  4,  5,  6,  7,  8,  9, 10, 11, 12, 13, 14, 15, 16],\n",
              "      dtype=int8)"
            ]
          },
          "metadata": {},
          "execution_count": 7
        }
      ]
    },
    {
      "cell_type": "code",
      "source": [
        "# ndim means dimenion\n",
        "\n",
        "print(a.ndim)\n",
        "\n",
        "# shape means number of elements along each dimension\n",
        "\n",
        "print(a.shape)"
      ],
      "metadata": {
        "colab": {
          "base_uri": "https://localhost:8080/"
        },
        "id": "qyl8OvxCsE84",
        "outputId": "b73d4ea7-7964-4eed-f677-cc72a1104a44"
      },
      "execution_count": 10,
      "outputs": [
        {
          "output_type": "stream",
          "name": "stdout",
          "text": [
            "1\n",
            "(16,)\n"
          ]
        }
      ]
    },
    {
      "cell_type": "code",
      "source": [
        "np.array([1,2,3,4,5,6,7])\n",
        "\n",
        "np.linspace(1,7,7)"
      ],
      "metadata": {
        "colab": {
          "base_uri": "https://localhost:8080/"
        },
        "id": "MtptGqcxsWxk",
        "outputId": "7f4db105-252c-4838-a1cc-fd9bfac7cdd3"
      },
      "execution_count": 12,
      "outputs": [
        {
          "output_type": "execute_result",
          "data": {
            "text/plain": [
              "array([1., 2., 3., 4., 5., 6., 7.])"
            ]
          },
          "metadata": {},
          "execution_count": 12
        }
      ]
    },
    {
      "cell_type": "code",
      "source": [
        "a=a.reshape(4,4)\n",
        "a"
      ],
      "metadata": {
        "colab": {
          "base_uri": "https://localhost:8080/"
        },
        "id": "tSJ76A8XsjkZ",
        "outputId": "b2d7a14d-c321-424f-db69-5250fd90a42e"
      },
      "execution_count": 15,
      "outputs": [
        {
          "output_type": "execute_result",
          "data": {
            "text/plain": [
              "array([[ 1,  2,  3,  4],\n",
              "       [ 5,  6,  7,  8],\n",
              "       [ 9, 10, 11, 12],\n",
              "       [13, 14, 15, 16]], dtype=int8)"
            ]
          },
          "metadata": {},
          "execution_count": 15
        }
      ]
    },
    {
      "cell_type": "code",
      "source": [
        "print(a[0:4,:])"
      ],
      "metadata": {
        "colab": {
          "base_uri": "https://localhost:8080/"
        },
        "id": "uylNrGL_swQi",
        "outputId": "f68af29d-e273-48d8-901f-12484709a012"
      },
      "execution_count": 16,
      "outputs": [
        {
          "output_type": "stream",
          "name": "stdout",
          "text": [
            "[[ 1  2  3  4]\n",
            " [ 5  6  7  8]\n",
            " [ 9 10 11 12]\n",
            " [13 14 15 16]]\n"
          ]
        }
      ]
    },
    {
      "cell_type": "code",
      "source": [
        "print(a[0:4])"
      ],
      "metadata": {
        "colab": {
          "base_uri": "https://localhost:8080/"
        },
        "id": "11m-MnDhtA7a",
        "outputId": "95261743-a693-45cb-fa06-ab2f90aab7e4"
      },
      "execution_count": 17,
      "outputs": [
        {
          "output_type": "stream",
          "name": "stdout",
          "text": [
            "[[ 1  2  3  4]\n",
            " [ 5  6  7  8]\n",
            " [ 9 10 11 12]\n",
            " [13 14 15 16]]\n"
          ]
        }
      ]
    },
    {
      "cell_type": "code",
      "source": [
        "# a[from, to - 1, step]\n",
        "\n",
        "\n",
        "a[0:4:2]"
      ],
      "metadata": {
        "colab": {
          "base_uri": "https://localhost:8080/"
        },
        "id": "25hnJBjhtJ6D",
        "outputId": "d314208b-51cb-4739-bfde-70473fbabbf4"
      },
      "execution_count": 18,
      "outputs": [
        {
          "output_type": "execute_result",
          "data": {
            "text/plain": [
              "array([[ 1,  2,  3,  4],\n",
              "       [ 9, 10, 11, 12]], dtype=int8)"
            ]
          },
          "metadata": {},
          "execution_count": 18
        }
      ]
    },
    {
      "cell_type": "code",
      "source": [
        "\n",
        "f"
      ],
      "metadata": {
        "colab": {
          "base_uri": "https://localhost:8080/"
        },
        "id": "P_nQWqyJtZyr",
        "outputId": "759c9947-f9b8-441a-8b97-c9aed6488172"
      },
      "execution_count": 19,
      "outputs": [
        {
          "output_type": "execute_result",
          "data": {
            "text/plain": [
              "array([ 1,  2,  3,  4,  5,  6,  7,  8,  9, 10, 11, 12, 13, 14, 15, 16, 17,\n",
              "       18, 19, 20, 21, 22, 23, 24, 25], dtype=int8)"
            ]
          },
          "metadata": {},
          "execution_count": 19
        }
      ]
    },
    {
      "cell_type": "code",
      "source": [],
      "metadata": {
        "colab": {
          "base_uri": "https://localhost:8080/"
        },
        "id": "sQZh7NAhti80",
        "outputId": "19d5d6da-50f1-491c-9d67-ad69c2548ef3"
      },
      "execution_count": 30,
      "outputs": [
        {
          "output_type": "stream",
          "name": "stdout",
          "text": [
            "[ 1  7 13 19 25]\n",
            "[ 1  5  9 13 17 21 25]\n",
            "[ 1  6 11 16 21]\n"
          ]
        }
      ]
    },
    {
      "cell_type": "code",
      "source": [
        "# y[a:b,c:d] is the same as\n",
        "# y[a:b,:][:,c:d] or y[a:b][:,c:d]\n",
        "\n",
        "print(a[1:3, 1:3])\n",
        "print(\"\\n\")\n",
        "\n",
        "\n",
        "# this is easy to see if you think of this as two slices\n",
        "\n",
        "# step 1:  go get rows 1 and 2 and all columns\n",
        "\n",
        "# step 2: from what you created above go yet all rows and columns 1 and 2\n",
        "\n",
        "print(a[1:3,:][:,1:3])\n",
        "\n"
      ],
      "metadata": {
        "colab": {
          "base_uri": "https://localhost:8080/"
        },
        "id": "_Purp4Sgt7sk",
        "outputId": "e3929788-5b1f-4a1b-e7b1-f6cf9a69f975"
      },
      "execution_count": 32,
      "outputs": [
        {
          "output_type": "stream",
          "name": "stdout",
          "text": [
            "[[ 6  7]\n",
            " [10 11]]\n",
            "\n",
            "\n",
            "[[ 6  7]\n",
            " [10 11]]\n"
          ]
        }
      ]
    },
    {
      "cell_type": "code",
      "source": [
        "\n",
        "a[1:3,:][:,1:3]\n"
      ],
      "metadata": {
        "colab": {
          "base_uri": "https://localhost:8080/"
        },
        "id": "6gJgmEJOuIdd",
        "outputId": "09716e04-74b7-4611-ce61-77fb0057e112"
      },
      "execution_count": 34,
      "outputs": [
        {
          "output_type": "execute_result",
          "data": {
            "text/plain": [
              "array([[ 6,  7],\n",
              "       [10, 11]], dtype=int8)"
            ]
          },
          "metadata": {},
          "execution_count": 34
        }
      ]
    },
    {
      "cell_type": "code",
      "source": [
        "# short-hand notation.  shorthand means a different way to write something\n",
        "\n",
        "# Diana.  Lady \"Di\"\n",
        "\n",
        "\n",
        "\n",
        "# a[0:5] is the same as a[*5]\n",
        "\n",
        "print(a[0:4])\n",
        "\n",
        "print(\"\\n\")\n",
        "\n",
        "print(a[:4])"
      ],
      "metadata": {
        "colab": {
          "base_uri": "https://localhost:8080/"
        },
        "id": "L8nap84IuXNK",
        "outputId": "bff5fe8a-3594-4db0-edcc-16451d99ac3f"
      },
      "execution_count": 36,
      "outputs": [
        {
          "output_type": "stream",
          "name": "stdout",
          "text": [
            "[[ 1  2  3  4]\n",
            " [ 5  6  7  8]\n",
            " [ 9 10 11 12]\n",
            " [13 14 15 16]]\n",
            "\n",
            "\n",
            "[[ 1  2  3  4]\n",
            " [ 5  6  7  8]\n",
            " [ 9 10 11 12]\n",
            " [13 14 15 16]]\n"
          ]
        }
      ]
    },
    {
      "cell_type": "code",
      "source": [
        "b = np.array([10, 20, 30, 40, 50, 60, 70, 80])\n",
        "\n",
        "\n",
        "# this means start from the end and go backways\n",
        "\n",
        "\n",
        "b[-4]\n"
      ],
      "metadata": {
        "colab": {
          "base_uri": "https://localhost:8080/"
        },
        "id": "DHX2EuWHw00D",
        "outputId": "5d624c56-cae5-4d19-de76-42ee5a7f3dc6"
      },
      "execution_count": 37,
      "outputs": [
        {
          "output_type": "execute_result",
          "data": {
            "text/plain": [
              "50"
            ]
          },
          "metadata": {},
          "execution_count": 37
        }
      ]
    },
    {
      "cell_type": "markdown",
      "source": [
        "```\n",
        "\n",
        "def f(x)\n",
        "   return x\n",
        "\n",
        "for i in [1,2,3,4,5]:\n",
        "   print(i)\n",
        "\n",
        "\n",
        "[[1,2,3],\n",
        " [4,5,6],\n",
        " [7,8,9]]\n",
        "\n",
        "```\n"
      ],
      "metadata": {
        "id": "ab7XlkNqxE6t"
      }
    },
    {
      "cell_type": "code",
      "source": [
        "d=np.array([[1,2,3],\n",
        " [4,5,6],\n",
        " [7,8,9]])\n",
        "\n",
        "d"
      ],
      "metadata": {
        "colab": {
          "base_uri": "https://localhost:8080/"
        },
        "id": "i_YeWpdlxDPe",
        "outputId": "1fa8e552-e9b5-4a8c-9c20-929bbdf0e9d1"
      },
      "execution_count": 38,
      "outputs": [
        {
          "output_type": "execute_result",
          "data": {
            "text/plain": [
              "array([[1, 2, 3],\n",
              "       [4, 5, 6],\n",
              "       [7, 8, 9]])"
            ]
          },
          "metadata": {},
          "execution_count": 38
        }
      ]
    },
    {
      "cell_type": "code",
      "source": [
        "# in a 2 array a diagonal are the elements where the row number and the column number are the same\n",
        "\n",
        "print(d[0,0])\n",
        "print(d[1,1])\n",
        "print(d[2,2])"
      ],
      "metadata": {
        "colab": {
          "base_uri": "https://localhost:8080/"
        },
        "id": "48yvQWc7xfF7",
        "outputId": "ef013895-1612-4eb6-e1a7-50f5bdab153e"
      },
      "execution_count": 39,
      "outputs": [
        {
          "output_type": "stream",
          "name": "stdout",
          "text": [
            "1\n",
            "5\n",
            "9\n"
          ]
        }
      ]
    },
    {
      "cell_type": "code",
      "source": [
        "# this is the number of elements along the first dimension\n",
        "\n",
        "d.shape[0]"
      ],
      "metadata": {
        "colab": {
          "base_uri": "https://localhost:8080/"
        },
        "id": "ezsPaOImx3fG",
        "outputId": "d1c91a2f-6a31-4f0c-aad4-5683e7447526"
      },
      "execution_count": 42,
      "outputs": [
        {
          "output_type": "execute_result",
          "data": {
            "text/plain": [
              "3"
            ]
          },
          "metadata": {},
          "execution_count": 42
        }
      ]
    },
    {
      "cell_type": "markdown",
      "source": [
        "```\n",
        "Homework:\n",
        "\n",
        "write an algorithm to do that:\n",
        "\n",
        "make a loop to loop 3 times, d.shape[0]\n",
        "\n",
        "print the element at (i,i)\n",
        "\n",
        "remember we use i in loops as in\n",
        "\n",
        "\n",
        "for i in [1,2,3]:\n",
        "   print(i)\n",
        "\n",
        "\n",
        "don't hard-codem use d.shape[0]\n",
        "\n",
        "\n",
        "first get it working to just print the elements\n",
        "\n",
        "makeing the function will be a little harder because  you have to return the array:  [1, 5, 9]\n",
        "\n",
        "that requires creating and empty array the add one element to it three times and then returning that\n",
        "\n",
        "if you can figure this out then do it: make it a function\n",
        "\n",
        "\n",
        "def diagonal():\n",
        "\n",
        "    # return the elements along the diagonal\n",
        "\n",
        "\n",
        "\n",
        "\n",
        "\n",
        "```\n",
        "\n",
        "\n",
        "```"
      ],
      "metadata": {
        "id": "omzeRzUExv8R"
      }
    },
    {
      "cell_type": "markdown",
      "source": [
        "```\n",
        "\n",
        "# Homework extra credit : difficult\n",
        "\n",
        "# why does the last print not print the last element\n",
        "\n",
        "# print every 5th element\n",
        "f=np.linspace(1,25,25).astype(np.int8)\n",
        "\n",
        "print(f[0:25:6])\n",
        "print(f[0:25:4])\n",
        "print(f[0:25:5])\n",
        "\n",
        "```"
      ],
      "metadata": {
        "id": "8cItvuxlzFI1"
      }
    }
  ]
}