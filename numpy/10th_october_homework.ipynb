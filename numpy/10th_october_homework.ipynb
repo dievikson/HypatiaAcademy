{
  "nbformat": 4,
  "nbformat_minor": 0,
  "metadata": {
    "colab": {
      "provenance": [],
      "include_colab_link": true
    },
    "kernelspec": {
      "name": "python3",
      "display_name": "Python 3"
    },
    "language_info": {
      "name": "python"
    }
  },
  "cells": [
    {
      "cell_type": "markdown",
      "metadata": {
        "id": "view-in-github",
        "colab_type": "text"
      },
      "source": [
        "<a href=\"https://colab.research.google.com/github/werowe/HypatiaAcademy/blob/master/numpy/10th_october_homework.ipynb\" target=\"_parent\"><img src=\"https://colab.research.google.com/assets/colab-badge.svg\" alt=\"Open In Colab\"/></a>"
      ]
    },
    {
      "cell_type": "code",
      "source": [
        "import pandas as pd\n",
        "import numpy as np\n",
        "\n",
        "\n",
        "countries = [\n",
        "    \"Monaco\", \"Bermuda\", \"Norway\", \"Luxembourg\", \"Switzerland\", \"Ireland\",\n",
        "    \"United States\", \"Denmark\", \"Qatar\", \"Iceland\", \"Singapore\", \"Sweden\",\n",
        "    \"Australia\", \"Netherlands\", \"Austria\", \"Israel\", \"Hong Kong *\", \"Finland\",\n",
        "    \"Germany\", \"Canada\", \"United Arab Emirates\", \"United Kingdom\", \"Belgium\",\n",
        "    \"New Zealand\", \"France\", \"Macao\", \"Japan\", \"Italy\", \"South Korea\", \"Spain\",\n",
        "    \"Slovenia\", \"Estonia\", \"Saudi Arabia\", \"Czechia\", \"Portugal\", \"Lithuania\",\n",
        "    \"Slovakia\", \"Greece\", \"Latvia\", \"Hungary\", \"Poland\", \"Romania\", \"Chile\",\n",
        "    \"China\", \"Russia\", \"Malaysia\", \"Argentina\", \"Turkey\", \"Mexico\", \"Brazil\",\n",
        "    \"Thailand\", \"South Africa\", \"Colombia\", \"Ecuador\", \"Indonesia\", \"Ukraine\",\n",
        "    \"Egypt\", \"Vietnam\", \"Philippines\", \"Algeria\", \"Iran\", \"Morocco\",\n",
        "    \"Sri Lanka\", \"Bangladesh\", \"India\", \"Kenya\", \"Nigeria\", \"Cambodia\",\n",
        "    \"Cameroon\", \"Pakistan\", \"Nepal\", \"Myanmar\", \"Ethiopia\", \"Sudan\", \"Niger\",\n",
        "    \"Afghanistan\"\n",
        "]\n",
        "\n",
        "\n",
        "np.random.seed(0)  # For reproducibility\n",
        "\n",
        "\n",
        "# random income\n",
        "\n",
        "income = np.random.randint(500, 50000, len(countries))\n",
        "\n",
        "# we need to find the mean and the stand deviation for the data that you created\n",
        "\n",
        "\n",
        "# this says that the z-score is randomly created using the uniformation distribution\n",
        "\n",
        "# z-score is (observation - mean) / std\n",
        "\n",
        "\n",
        "#z_score = np.round(np.random.uniform(-1, 4.5, len(countries)), 2)\n",
        "\n",
        "\n",
        "\n",
        "# what is the average and stand of income\n",
        "\n",
        "mean = income.mean\n",
        "std = income.std\n",
        "\n",
        "\n",
        "# income is a Numpy array\n",
        "\n",
        "# is a scalar.  thats a single number.  so is std\n",
        "\n",
        "z_score = (income - mean) / std\n",
        "\n",
        "\n",
        "df = pd.DataFrame({\n",
        "    \"country\": countries,\n",
        "    \"income\": income,\n",
        "    \"z-score\": z_score\n",
        "})\n",
        "\n",
        "print()\n",
        "df\n"
      ],
      "metadata": {
        "colab": {
          "base_uri": "https://localhost:8080/",
          "height": 250
        },
        "id": "wbCCT4XukA8I",
        "outputId": "d46c8976-bc52-48d4-c13e-8e12bd4b448b"
      },
      "execution_count": 5,
      "outputs": [
        {
          "output_type": "error",
          "ename": "NameError",
          "evalue": "ignored",
          "traceback": [
            "\u001b[0;31m---------------------------------------------------------------------------\u001b[0m",
            "\u001b[0;31mNameError\u001b[0m                                 Traceback (most recent call last)",
            "\u001b[0;32m<ipython-input-5-4b931baff5c0>\u001b[0m in \u001b[0;36m<cell line: 47>\u001b[0;34m()\u001b[0m\n\u001b[1;32m     48\u001b[0m     \u001b[0;34m\"country\"\u001b[0m\u001b[0;34m:\u001b[0m \u001b[0mcountries\u001b[0m\u001b[0;34m,\u001b[0m\u001b[0;34m\u001b[0m\u001b[0;34m\u001b[0m\u001b[0m\n\u001b[1;32m     49\u001b[0m     \u001b[0;34m\"income\"\u001b[0m\u001b[0;34m:\u001b[0m \u001b[0mincome\u001b[0m\u001b[0;34m,\u001b[0m\u001b[0;34m\u001b[0m\u001b[0;34m\u001b[0m\u001b[0m\n\u001b[0;32m---> 50\u001b[0;31m     \u001b[0;34m\"z-score\"\u001b[0m\u001b[0;34m:\u001b[0m \u001b[0mz_score\u001b[0m\u001b[0;34m\u001b[0m\u001b[0;34m\u001b[0m\u001b[0m\n\u001b[0m\u001b[1;32m     51\u001b[0m })\n\u001b[1;32m     52\u001b[0m \u001b[0;34m\u001b[0m\u001b[0m\n",
            "\u001b[0;31mNameError\u001b[0m: name 'z_score' is not defined"
          ]
        }
      ]
    },
    {
      "cell_type": "code",
      "source": [
        "z_score = (income - mean) / std\n"
      ],
      "metadata": {
        "id": "SmaHRkGTm8eR",
        "outputId": "fbac7c30-4464-484e-db76-8b766acb7cda",
        "colab": {
          "base_uri": "https://localhost:8080/",
          "height": 179
        }
      },
      "execution_count": 11,
      "outputs": [
        {
          "output_type": "error",
          "ename": "TypeError",
          "evalue": "ignored",
          "traceback": [
            "\u001b[0;31m---------------------------------------------------------------------------\u001b[0m",
            "\u001b[0;31mTypeError\u001b[0m                                 Traceback (most recent call last)",
            "\u001b[0;32m<ipython-input-11-f0eb5b49b0f2>\u001b[0m in \u001b[0;36m<cell line: 1>\u001b[0;34m()\u001b[0m\n\u001b[0;32m----> 1\u001b[0;31m \u001b[0mz_score\u001b[0m \u001b[0;34m=\u001b[0m \u001b[0;34m(\u001b[0m\u001b[0mincome\u001b[0m \u001b[0;34m-\u001b[0m \u001b[0mmean\u001b[0m\u001b[0;34m)\u001b[0m \u001b[0;34m/\u001b[0m \u001b[0mstd\u001b[0m\u001b[0;34m\u001b[0m\u001b[0;34m\u001b[0m\u001b[0m\n\u001b[0m",
            "\u001b[0;31mTypeError\u001b[0m: unsupported operand type(s) for -: 'int' and 'builtin_function_or_method'"
          ]
        }
      ]
    }
  ]
}