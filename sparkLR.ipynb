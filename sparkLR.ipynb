{
 "cells": [
  {
   "cell_type": "code",
   "execution_count": 3,
   "id": "91f5f3a0",
   "metadata": {},
   "outputs": [],
   "source": [
    "from pyspark.sql import SparkSession\n",
    "\n",
    "# Create a SparkSession\n",
    "spark = SparkSession.builder \\\n",
    "    .appName(\"example-app\") \\\n",
    "    .getOrCreate()\n",
    "\n",
    "sc = spark.sparkContext"
   ]
  },
  {
   "cell_type": "code",
   "execution_count": 4,
   "id": "0e5e414b",
   "metadata": {},
   "outputs": [
    {
     "ename": "AttributeError",
     "evalue": "'SparkSession' object has no attribute 'parallelize'",
     "output_type": "error",
     "traceback": [
      "\u001b[0;31m---------------------------------------------------------------------------\u001b[0m",
      "\u001b[0;31mAttributeError\u001b[0m                            Traceback (most recent call last)",
      "Cell \u001b[0;32mIn[4], line 28\u001b[0m\n\u001b[1;32m     24\u001b[0m \tlp \u001b[38;5;241m=\u001b[39m parsePoint (worn, km, heat)\n\u001b[1;32m     25\u001b[0m \ta\u001b[38;5;241m.\u001b[39mappend(lp)\n\u001b[0;32m---> 28\u001b[0m lrm \u001b[38;5;241m=\u001b[39m LogisticRegressionWithLBFGS\u001b[38;5;241m.\u001b[39mtrain(\u001b[43msc\u001b[49m\u001b[38;5;241;43m.\u001b[39;49m\u001b[43mparallelize\u001b[49m(a))\n\u001b[1;32m     30\u001b[0m lrm\u001b[38;5;241m.\u001b[39msave(sc, \u001b[38;5;124m\"\u001b[39m\u001b[38;5;124m/tmp/brakeModel\u001b[39m\u001b[38;5;124m\"\u001b[39m)\n\u001b[1;32m     32\u001b[0m p \u001b[38;5;241m=\u001b[39m sc\u001b[38;5;241m.\u001b[39mparallelize(a)\n",
      "\u001b[0;31mAttributeError\u001b[0m: 'SparkSession' object has no attribute 'parallelize'"
     ]
    }
   ],
   "source": [
    "# brake train\n",
    "\n",
    "import pandas as pd\n",
    "from pyspark.mllib.regression import LabeledPoint\n",
    "from pyspark.mllib.classification import LogisticRegressionWithLBFGS\n",
    "import locale\n",
    "import math\n",
    "locale.setlocale( locale.LC_ALL, 'en_US.UTF-8' ) \n",
    "\n",
    "df = pd.read_csv('https://raw.githubusercontent.com/werowe/mist_preventive_maintenance_ml/master/brakedata.csv', sep= ',')\n",
    " \n",
    "brakeData =  df.iloc[:,0:3]\n",
    "\n",
    "a = [] \n",
    "\n",
    "\n",
    "def parsePoint(w,k,h):\n",
    "    return LabeledPoint(worn, [km, heat])\n",
    "\n",
    "for row in brakeData.itertuples():\n",
    "\tworn = getattr(row, 'worn')\n",
    "\tkm = locale.atof(getattr(row, 'km'))\n",
    "\theat = getattr(row,'heat')\n",
    "\tlp = parsePoint (worn, km, heat)\n",
    "\ta.append(lp)\n",
    "\n",
    "\n",
    "lrm = LogisticRegressionWithLBFGS.train(sc.parallelize(a))\n",
    "\n",
    "lrm.save(sc, \"/tmp/brakeModel\")\n",
    "\n",
    "p = sc.parallelize(a)\n",
    "\n",
    "valuesAndPreds = p.map(lambda p: (p.label, lrm.predict(p.features)))\n",
    " \n",
    "\n",
    "accurate = 1 - valuesAndPreds.map(lambda vp: math.fabs(vp[0] - vp[1])).reduce(lambda x, y: x + y) / valuesAndPreds.count()"
   ]
  },
  {
   "cell_type": "code",
   "execution_count": null,
   "id": "7c163e9e",
   "metadata": {},
   "outputs": [],
   "source": []
  }
 ],
 "metadata": {
  "kernelspec": {
   "display_name": "Python 3 (ipykernel)",
   "language": "python",
   "name": "python3"
  },
  "language_info": {
   "codemirror_mode": {
    "name": "ipython",
    "version": 3
   },
   "file_extension": ".py",
   "mimetype": "text/x-python",
   "name": "python",
   "nbconvert_exporter": "python",
   "pygments_lexer": "ipython3",
   "version": "3.10.9"
  }
 },
 "nbformat": 4,
 "nbformat_minor": 5
}
