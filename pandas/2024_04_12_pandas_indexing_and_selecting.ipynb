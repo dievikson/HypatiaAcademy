{
  "nbformat": 4,
  "nbformat_minor": 0,
  "metadata": {
    "colab": {
      "provenance": [],
      "include_colab_link": true
    },
    "kernelspec": {
      "name": "python3",
      "display_name": "Python 3"
    },
    "language_info": {
      "name": "python"
    }
  },
  "cells": [
    {
      "cell_type": "markdown",
      "metadata": {
        "id": "view-in-github",
        "colab_type": "text"
      },
      "source": [
        "<a href=\"https://colab.research.google.com/github/werowe/HypatiaAcademy/blob/master/pandas/2024_04_12_pandas_indexing_and_selecting.ipynb\" target=\"_parent\"><img src=\"https://colab.research.google.com/assets/colab-badge.svg\" alt=\"Open In Colab\"/></a>"
      ]
    },
    {
      "cell_type": "markdown",
      "source": [
        "# More on Selecting Data\n",
        "\n",
        "* .loc()\n",
        "* .iloc()\n",
        "\n",
        "* selecting rows based on column values\n",
        "\n",
        "* select columns based on row values\n",
        "\n",
        "\n",
        "* counting and group by"
      ],
      "metadata": {
        "id": "keF2Baj7q9tK"
      }
    },
    {
      "cell_type": "markdown",
      "source": [
        "# pandas_indexing_and_selecting\n",
        "\n",
        "\n",
        "https://www.kaggle.com/datasets/saurabhbadole/latest-data-science-job-salaries-2024\n",
        "\n",
        "* work_year: The year of the data related to the job salary.\n",
        "* experience_level: The level of experience of the employee (e.g., entry-level, mid-level, senior-level).\n",
        "employment_type: The type of employment (e.g., full-time, part-time, contract).\n",
        "* job_title: The title or role of the employee within the data science field.\n",
        "* salary: The salary of the employee.\n",
        "* salary_currency: The currency in which the salary is denoted.\n",
        "* salary_in_usd: The salary converted to US dollars for standardization.\n",
        "* employee_residence: The residence location of the employee.\n",
        "* remote_ratio: The ratio of remote work allowed for the position.\n",
        "* company_location: The location of the company.\n",
        "* company_size: The size of the company based on employee count or revenue.\n"
      ],
      "metadata": {
        "id": "tcdjFIqUR4wY"
      }
    },
    {
      "cell_type": "code",
      "source": [],
      "metadata": {
        "id": "MOOMwHP0QDXI"
      },
      "execution_count": null,
      "outputs": []
    },
    {
      "cell_type": "code",
      "source": [
        "import pandas as pd\n",
        "\n",
        "file=\"https://raw.githubusercontent.com/werowe/HypatiaAcademy/master/pandas/DataScience_salaries_2024.csv\"\n",
        "df = pd.read_csv(file)\n",
        "df"
      ],
      "metadata": {
        "id": "TZvgYfn9-2xT"
      },
      "execution_count": null,
      "outputs": []
    },
    {
      "cell_type": "code",
      "source": [
        "#df.loc[1:4,'experience_level, employment_type,job_title']\n",
        "\n",
        "df.loc[1:4,[['experience_level'],['employment_type']]]"
      ],
      "metadata": {
        "id": "2HhPjWh2yWwe"
      },
      "execution_count": null,
      "outputs": []
    },
    {
      "cell_type": "code",
      "source": [
        "# you can put [selection, columns]\n",
        "\n",
        "# .loc look up by labels\n",
        "# .iloc is look up positions\n",
        "\n",
        "#df.loc[ some logical statement, columns]\n",
        "\n",
        "\n",
        "\n",
        "fr = df.loc[(df['company_location'] == 'FR') & (df['work_year'] == 2023), ['salary', 'job_title']]\n",
        "\n",
        "fr"
      ],
      "metadata": {
        "id": "DRIkR9H2fZ9c"
      },
      "execution_count": null,
      "outputs": []
    },
    {
      "cell_type": "code",
      "source": [
        "df.loc[(df['company_location'] == 'FR') & (df['work_year'] == 2023)]"
      ],
      "metadata": {
        "id": "fcGtBi9vulHN"
      },
      "execution_count": null,
      "outputs": []
    },
    {
      "cell_type": "code",
      "source": [
        "fr.info()"
      ],
      "metadata": {
        "id": "m3NXjFMGtFQ_"
      },
      "execution_count": null,
      "outputs": []
    },
    {
      "cell_type": "code",
      "source": [
        "us=df.loc[(df['company_location'] == 'US') & (df['work_year'] == 2023) & ((df['experience_level'] == 'EN')), ['salary', 'job_title']]"
      ],
      "metadata": {
        "id": "77Lg9-83s6-u"
      },
      "execution_count": null,
      "outputs": []
    },
    {
      "cell_type": "code",
      "source": [
        "df.loc[(df['company_location'] == 'US') & (df['work_year'] == 2023) & ((df['experience_level'] == 'EN'))]"
      ],
      "metadata": {
        "id": "X9E_QTGXuDKF"
      },
      "execution_count": null,
      "outputs": []
    },
    {
      "cell_type": "code",
      "source": [
        "# df.loc []\n",
        "\n",
        "df.loc[(df['company_location'] == 'US') & (df['work_year'] == 2023)]"
      ],
      "metadata": {
        "id": "TbveJ2HytMgu"
      },
      "execution_count": null,
      "outputs": []
    },
    {
      "cell_type": "code",
      "source": [
        "df.loc[(df['company_location'] == 'FR') & (df['work_year'] == 2023)]"
      ],
      "metadata": {
        "id": "jctzIaqZskQj"
      },
      "execution_count": null,
      "outputs": []
    },
    {
      "cell_type": "code",
      "source": [
        "fr = df.loc[(df['company_location'] == 'FR') & (df['work_year'] == 2023)]\n",
        "fr"
      ],
      "metadata": {
        "id": "j5h7F5KRhYtv"
      },
      "execution_count": null,
      "outputs": []
    },
    {
      "cell_type": "code",
      "source": [
        "df.loc[(df['company_location'] == 'FR') & (df['work_year'] == 2023)]"
      ],
      "metadata": {
        "id": "nmjslCJsu8ws"
      },
      "execution_count": null,
      "outputs": []
    },
    {
      "cell_type": "code",
      "source": [
        "# this is not a unique index\n",
        "\n",
        "f=df.set_index(['company_location'])"
      ],
      "metadata": {
        "id": "5SnO0HTyiPqg"
      },
      "execution_count": null,
      "outputs": []
    },
    {
      "cell_type": "code",
      "source": [
        "f.index"
      ],
      "metadata": {
        "id": "sOLVix8fvSn4"
      },
      "execution_count": null,
      "outputs": []
    },
    {
      "cell_type": "code",
      "source": [
        "f.loc['US'].info()"
      ],
      "metadata": {
        "id": "cdAYlDMevYnh"
      },
      "execution_count": null,
      "outputs": []
    },
    {
      "cell_type": "code",
      "source": [
        "\n",
        "cw=df.set_index(['company_location','work_year'])\n",
        ""
      ],
      "metadata": {
        "id": "3fYnBblTi3fU"
      },
      "execution_count": null,
      "outputs": []
    },
    {
      "cell_type": "code",
      "source": [
        "cw.index"
      ],
      "metadata": {
        "id": "EhXGqxkhj-wT"
      },
      "execution_count": null,
      "outputs": []
    },
    {
      "cell_type": "code",
      "source": [
        "cw.loc[(\"FR\",2023)]"
      ],
      "metadata": {
        "id": "AXa_3kjljSbW"
      },
      "execution_count": null,
      "outputs": []
    },
    {
      "cell_type": "code",
      "source": [],
      "metadata": {
        "id": "GVFMZ0V2v-tX"
      },
      "execution_count": null,
      "outputs": []
    },
    {
      "cell_type": "code",
      "source": [
        "df.columns"
      ],
      "metadata": {
        "id": "iXcTCmDMdzab"
      },
      "execution_count": null,
      "outputs": []
    },
    {
      "cell_type": "markdown",
      "source": [
        "The .loc and .iloc functions are used in pandas for selecting data in a DataFrame. The main difference between the two is that .loc uses the label of the rows and columns to select data, while .iloc uses the integer position of the rows and columns."
      ],
      "metadata": {
        "id": "_aTn-mDrdZBF"
      }
    },
    {
      "cell_type": "code",
      "source": [
        "# what is wrong with this\n",
        "\n",
        "df.loc[:,'work_year']"
      ],
      "metadata": {
        "id": "HuirVnI1dbC8"
      },
      "execution_count": null,
      "outputs": []
    },
    {
      "cell_type": "code",
      "source": [
        "\n",
        "# fix this, how can we list just certain columns: name and mass\n",
        "\n",
        "\n",
        "# dataframe[series,series]\n",
        "\n",
        "\n",
        "# the other way to to look up stuff is without using .iloc or .loc\n",
        "\n",
        "#df[df['name'], df['mass']].sort_values(by=\"mass\")\n",
        "\n",
        "\n",
        "# fix this, how can we list just certain columns: name and mass\n",
        "\n",
        "\n",
        "# dataframe[series,series]\n",
        "\n",
        "# it looks like means look up by index and column but it's incomplete probably\n",
        "# because I moved company_location to be an index\n",
        "\n",
        "# leave open\n",
        "\n",
        "df[df['salary'], df['company_location']]"
      ],
      "metadata": {
        "id": "Jd1idfo_wvIZ"
      },
      "execution_count": null,
      "outputs": []
    },
    {
      "cell_type": "code",
      "source": [
        "df.columns"
      ],
      "metadata": {
        "id": "xw37hcY_xgvx"
      },
      "execution_count": null,
      "outputs": []
    },
    {
      "cell_type": "code",
      "source": [
        "# must put row and column\n",
        "\n",
        "# df.loc(index value, labels)\n",
        "\n",
        "df.loc[:,'work_year']"
      ],
      "metadata": {
        "id": "qfjj8NubeJE5"
      },
      "execution_count": null,
      "outputs": []
    },
    {
      "cell_type": "code",
      "source": [
        "# go get first 3 rows and 3 columns\n",
        "\n",
        "\n",
        "df.iloc[1:4,1:4]"
      ],
      "metadata": {
        "id": "37onqMvVmQB9"
      },
      "execution_count": null,
      "outputs": []
    },
    {
      "cell_type": "code",
      "source": [
        "df.loc[1:4,['experience_level, employment_type,job_title']]"
      ],
      "metadata": {
        "id": "k0EdKzUAx6Di"
      },
      "execution_count": null,
      "outputs": []
    },
    {
      "cell_type": "code",
      "source": [
        "europe = [\n",
        "        \"AL\", \"AD\", \"AM\", \"AT\", \"BY\", \"BE\", \"BA\", \"BG\", \"HR\", \"CY\", \"CZ\",\n",
        "        \"DK\", \"EE\", \"FI\", \"FR\", \"GE\", \"DE\", \"GR\", \"HU\", \"IS\", \"IE\", \"IT\",\n",
        "        \"XK\", \"LV\", \"LI\", \"LT\", \"LU\", \"MT\", \"MD\", \"MC\", \"ME\", \"NL\", \"MK\",\n",
        "        \"NO\", \"PL\", \"PT\", \"RO\", \"RU\", \"SM\", \"RS\", \"SK\", \"SI\", \"ES\", \"SE\",\n",
        "        \"CH\", \"TR\", \"UA\", \"GB\", \"VA\"\n",
        "    ]"
      ],
      "metadata": {
        "id": "XvSxAB5ZbnWm"
      },
      "execution_count": null,
      "outputs": []
    },
    {
      "cell_type": "code",
      "source": [
        "df.loc[(df.experience_level == 'EN') & (df.employee_residence.isin(europe))].loc[:,[\"job_title\",\"salary\",'employee_residence']]"
      ],
      "metadata": {
        "id": "uIXN3VSCYPmK"
      },
      "execution_count": null,
      "outputs": []
    },
    {
      "cell_type": "code",
      "source": [
        "df.loc[(df.employee_residence.isin(['US', 'FR']))].loc[:,[\"job_title\",\"salary\",\"experience_level\"]].groupby(['experience_level','job_title'])"
      ],
      "metadata": {
        "id": "w7qaWAQOarQi"
      },
      "execution_count": null,
      "outputs": []
    },
    {
      "cell_type": "code",
      "source": [
        "df[df['experience_level'] == 'EN'].groupby('employee_residence')['salary'].sum()"
      ],
      "metadata": {
        "id": "d9P00tsqX_LN"
      },
      "execution_count": null,
      "outputs": []
    },
    {
      "cell_type": "code",
      "source": [
        "df[df['experience_level'] == 'EN'].groupby('employee_residence')['salary'].describe()"
      ],
      "metadata": {
        "id": "XrBtu7HZZA8P"
      },
      "execution_count": null,
      "outputs": []
    },
    {
      "cell_type": "code",
      "source": [
        "# axes definition\n",
        "\n",
        " # Axis=0 corresponds to the rows, while Axis=1 corresponds to the columns\n",
        "\n"
      ],
      "metadata": {
        "id": "MPNLI7QPTZNx"
      },
      "execution_count": null,
      "outputs": []
    },
    {
      "cell_type": "code",
      "source": [
        "# loc\n",
        "\n",
        "#df.loc[row_indexer,column_indexer]\n",
        "\n",
        "df.loc[0:4,['salary', 'salary_currency', 'salary_in_usd', 'employee_residence']]"
      ],
      "metadata": {
        "id": "wtnUAg5v_fD1"
      },
      "execution_count": null,
      "outputs": []
    },
    {
      "cell_type": "code",
      "source": [
        "row_sums = df[['salary_in_usd']].sum(axis=1)\n",
        "row_sums\n"
      ],
      "metadata": {
        "id": "rbHDwTAoTX4d"
      },
      "execution_count": null,
      "outputs": []
    },
    {
      "cell_type": "code",
      "source": [
        "column_sums = df.sum(axis=0, numeric_only=True)\n",
        "print(column_sums)"
      ],
      "metadata": {
        "id": "NXiQYaO3Xg4Y"
      },
      "execution_count": null,
      "outputs": []
    },
    {
      "cell_type": "code",
      "source": [
        "# series\n",
        "\n",
        "df.salary_currency[0:3]\n"
      ],
      "metadata": {
        "id": "9XTw0woySYZG"
      },
      "execution_count": null,
      "outputs": []
    },
    {
      "cell_type": "code",
      "source": [
        "# homework\n",
        "\n",
        "\n",
        "\n",
        "#1. use loc: list all rows for  US company_location\n",
        "\n",
        "#2 . use loc: list all rows for FR (France) by only the columns salary, job_title, experience_level\n",
        "\n",
        "#3 use .iloc : list the first 3 rows and first 6 columns\n",
        "\n",
        "\n",
        "\n",
        "\n"
      ],
      "metadata": {
        "id": "ZMIYQdKaSnjl"
      },
      "execution_count": null,
      "outputs": []
    },
    {
      "cell_type": "code",
      "source": [
        "# time series\n",
        "\n",
        "# pd.date_range\n",
        "\n",
        "\n",
        "# https://raw.githubusercontent.com/dooyeoung/walmart_recruiting2_stormy_weather/master/data/weather.csv\n"
      ],
      "metadata": {
        "id": "L8koRBsxWyHG"
      },
      "execution_count": null,
      "outputs": []
    }
  ]
}