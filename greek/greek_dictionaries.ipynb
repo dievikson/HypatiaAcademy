{
  "cells": [
    {
      "cell_type": "markdown",
      "metadata": {
        "id": "view-in-github",
        "colab_type": "text"
      },
      "source": [
        "<a href=\"https://colab.research.google.com/github/werowe/HypatiaAcademy/blob/master/greek/greek_dictionaries.ipynb\" target=\"_parent\"><img src=\"https://colab.research.google.com/assets/colab-badge.svg\" alt=\"Open In Colab\"/></a>"
      ]
    },
    {
      "cell_type": "markdown",
      "metadata": {
        "id": "_2_w15uehXsb"
      },
      "source": [
        "# Dictionaries\n",
        "\n",
        "\n",
        "Ένα λεξικό είναι ένα ζεύγος κλειδιών-τιμών, όπως αυτό:\n"
      ]
    },
    {
      "cell_type": "code",
      "execution_count": 1,
      "metadata": {
        "id": "8InA6WZhhXsd"
      },
      "outputs": [],
      "source": [
        "dict = {\"key\": \"value\"}"
      ]
    },
    {
      "cell_type": "markdown",
      "metadata": {
        "id": "B9WhkrRAhXse"
      },
      "source": [
        "Εκτυπώστε τα κλειδιά του λεξικού ως εξής:"
      ]
    },
    {
      "cell_type": "code",
      "execution_count": 2,
      "metadata": {
        "colab": {
          "base_uri": "https://localhost:8080/"
        },
        "id": "9-kBGNRihXse",
        "outputId": "b7460188-0082-428e-eb01-29fc5c3f7abe"
      },
      "outputs": [
        {
          "output_type": "execute_result",
          "data": {
            "text/plain": [
              "dict_keys(['key'])"
            ]
          },
          "metadata": {},
          "execution_count": 2
        }
      ],
      "source": [
        "dict.keys()\n",
        "\n"
      ]
    },
    {
      "cell_type": "markdown",
      "metadata": {
        "id": "So1685twhXsf"
      },
      "source": [
        "Ξανακάντε το. Τώρα θα έχουμε περισσότερα κλειδιά."
      ]
    },
    {
      "cell_type": "code",
      "execution_count": 3,
      "metadata": {
        "id": "2iacj1SnhXsf"
      },
      "outputs": [],
      "source": [
        "dict={\"name\": \"Walker\", \"age\": 59, \"isMale\": True}"
      ]
    },
    {
      "cell_type": "code",
      "execution_count": 4,
      "metadata": {
        "colab": {
          "base_uri": "https://localhost:8080/"
        },
        "id": "50Dw3U0OhXsf",
        "outputId": "c8c4cbf2-0bf2-483e-8c2d-430d3a9b0f4a"
      },
      "outputs": [
        {
          "output_type": "execute_result",
          "data": {
            "text/plain": [
              "dict_keys(['name', 'age', 'isMale'])"
            ]
          },
          "metadata": {},
          "execution_count": 4
        }
      ],
      "source": [
        " dict.keys()"
      ]
    },
    {
      "cell_type": "markdown",
      "metadata": {
        "id": "XLW2GayohXsf"
      },
      "source": [
        "Αλλάζετε μια τιμή σε ένα λεξικό αναθέτοντας μια νέα τιμή σε ένα υπάρχον κλειδί."
      ]
    },
    {
      "cell_type": "code",
      "execution_count": 5,
      "metadata": {
        "colab": {
          "base_uri": "https://localhost:8080/"
        },
        "id": "pvisER0WhXsf",
        "outputId": "226871bc-e5a2-44ce-e725-96c137128d23"
      },
      "outputs": [
        {
          "output_type": "stream",
          "name": "stdout",
          "text": [
            "{'name': 'Akay', 'age': 59, 'isMale': True}\n"
          ]
        }
      ],
      "source": [
        "dict[\"name\"]=\"Akay\"\n",
        "print(dict)"
      ]
    },
    {
      "cell_type": "markdown",
      "metadata": {
        "id": "tNAwR19ThXsf"
      },
      "source": [
        "Προσθέτετε μια τιμή εκχωρώντας ένα νέο κλειδί και μια νέα τιμή.\n",
        ""
      ]
    },
    {
      "cell_type": "code",
      "execution_count": 6,
      "metadata": {
        "colab": {
          "base_uri": "https://localhost:8080/"
        },
        "id": "XJ3hkvKBhXsg",
        "outputId": "34e6a44b-5a96-4406-fc09-76a9f379e63e"
      },
      "outputs": [
        {
          "output_type": "stream",
          "name": "stdout",
          "text": [
            "{'name': 'Akay', 'age': 59, 'isMale': True, 'newKey': 'newValue'}\n"
          ]
        }
      ],
      "source": [
        "dict[\"newKey\"]=\"newValue\"\n",
        "print(dict)"
      ]
    },
    {
      "cell_type": "markdown",
      "metadata": {
        "id": "yFjtz252hXsg"
      },
      "source": [
        "Μια λίστα (πίνακας) μπορεί να περιέχει οτιδήποτε. Εδώ φτιάχνουμε μια λίστα με λεξικά.\n"
      ]
    },
    {
      "cell_type": "code",
      "execution_count": 7,
      "metadata": {
        "id": "ijQRxs2YhXsg"
      },
      "outputs": [],
      "source": [
        "students = [{'name': 'Akay', 'isMale': True, 'age': 16},\n",
        "            {'name': 'George', 'isMale': True, 'age': 14}]"
      ]
    },
    {
      "cell_type": "code",
      "execution_count": 8,
      "metadata": {
        "colab": {
          "base_uri": "https://localhost:8080/"
        },
        "id": "5Qk8DBJ1hXsg",
        "outputId": "c56f22aa-a418-4170-dd9f-e31a2644f481"
      },
      "outputs": [
        {
          "output_type": "execute_result",
          "data": {
            "text/plain": [
              "[{'name': 'Akay', 'isMale': True, 'age': 16},\n",
              " {'name': 'George', 'isMale': True, 'age': 14}]"
            ]
          },
          "metadata": {},
          "execution_count": 8
        }
      ],
      "source": [
        "students"
      ]
    },
    {
      "cell_type": "markdown",
      "metadata": {
        "id": "rCyFciPJhXsg"
      },
      "source": [
        "Χρησιμοποιήστε το **type** συχνά για να δείτε τι είδους αντικείμενο έχετε. Αφού οι μαθητές είναι μια λίστα, ξέρουμε ότι μπορούμε να κάνουμε βρόχο μέσα από αυτήν."
      ]
    },
    {
      "cell_type": "code",
      "execution_count": 9,
      "metadata": {
        "colab": {
          "base_uri": "https://localhost:8080/"
        },
        "id": "Pz4DSByXhXsg",
        "outputId": "28ab58c1-67c8-4976-f292-56da2ab41d5d"
      },
      "outputs": [
        {
          "output_type": "execute_result",
          "data": {
            "text/plain": [
              "list"
            ]
          },
          "metadata": {},
          "execution_count": 9
        }
      ],
      "source": [
        "type(students)"
      ]
    },
    {
      "cell_type": "markdown",
      "metadata": {
        "id": "FZfeprMKhXsg"
      },
      "source": [
        "Εδώ είμαστε:\n",
        "\n",
        "1. Βρόχο μέσα από τον πίνακα students.\n",
        "2. Βρόχος σε κάθε αντικείμενο λεξικού εκτυπώνοντας το κλειδί και τις τιμές."
      ]
    },
    {
      "cell_type": "code",
      "execution_count": 10,
      "metadata": {
        "colab": {
          "base_uri": "https://localhost:8080/"
        },
        "id": "sV3GzcmThXsh",
        "outputId": "cc62c8b8-067e-44a9-83bd-6ab4a284e0cd"
      },
      "outputs": [
        {
          "output_type": "stream",
          "name": "stdout",
          "text": [
            "\n",
            "\n",
            "counter= 0  type of l= <class 'dict'>\n",
            "key= name  value= Akay\n",
            "key= isMale  value= True\n",
            "key= age  value= 16\n",
            "\n",
            "\n",
            "counter= 1  type of l= <class 'dict'>\n",
            "key= name  value= George\n",
            "key= isMale  value= True\n",
            "key= age  value= 14\n"
          ]
        }
      ],
      "source": [
        "i=0\n",
        "\n",
        "for l in students:\n",
        "    print(\"\\n\\ncounter=\", i, \" type of l=\", type(l))\n",
        "    for key, value in l.items():\n",
        "        print(\"key=\", key, \" value=\", value)\n",
        "    i+=1\n",
        "\n",
        ""
      ]
    },
    {
      "cell_type": "code",
      "execution_count": 10,
      "metadata": {
        "id": "CPeP4tOzhXsh"
      },
      "outputs": [],
      "source": []
    }
  ],
  "metadata": {
    "kernelspec": {
      "display_name": "Python 3",
      "language": "python",
      "name": "python3"
    },
    "language_info": {
      "codemirror_mode": {
        "name": "ipython",
        "version": 3
      },
      "file_extension": ".py",
      "mimetype": "text/x-python",
      "name": "python",
      "nbconvert_exporter": "python",
      "pygments_lexer": "ipython3",
      "version": "3.4.4"
    },
    "colab": {
      "provenance": [],
      "include_colab_link": true
    }
  },
  "nbformat": 4,
  "nbformat_minor": 0
}