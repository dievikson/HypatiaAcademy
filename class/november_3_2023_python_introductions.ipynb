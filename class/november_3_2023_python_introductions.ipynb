{
  "nbformat": 4,
  "nbformat_minor": 0,
  "metadata": {
    "colab": {
      "provenance": [],
      "authorship_tag": "ABX9TyPqZO4dbgdK1gFXNEDeoTaA",
      "include_colab_link": true
    },
    "kernelspec": {
      "name": "python3",
      "display_name": "Python 3"
    },
    "language_info": {
      "name": "python"
    }
  },
  "cells": [
    {
      "cell_type": "markdown",
      "metadata": {
        "id": "view-in-github",
        "colab_type": "text"
      },
      "source": [
        "<a href=\"https://colab.research.google.com/github/werowe/HypatiaAcademy/blob/master/class/november_3_2023_python_introductions.ipynb\" target=\"_parent\"><img src=\"https://colab.research.google.com/assets/colab-badge.svg\" alt=\"Open In Colab\"/></a>"
      ]
    },
    {
      "cell_type": "code",
      "execution_count": 5,
      "metadata": {
        "colab": {
          "base_uri": "https://localhost:8080/"
        },
        "id": "zIPHzHf8_dy7",
        "outputId": "d4254203-5ae5-458d-9cc1-a9844c71b70f"
      },
      "outputs": [
        {
          "output_type": "stream",
          "name": "stdout",
          "text": [
            "3\n",
            "0\n",
            "1\n",
            "2\n",
            "3\n",
            "4\n"
          ]
        }
      ],
      "source": [
        "# variables\n",
        "\n",
        "# this means put the value 3 into x\n",
        "\n",
        "x=3\n",
        "print(x)\n",
        "\n",
        "\n",
        "# loops\n",
        "\n",
        "for i in range(5):\n",
        "  print(i)\n",
        "\n",
        "#peter\n",
        "\n",
        "# logic\n",
        "\n",
        "#if (3>2):\n",
        "# do something\n",
        "\n"
      ]
    },
    {
      "cell_type": "code",
      "source": [
        " # operators\n",
        "\n",
        " # addition\n",
        "\n",
        "print(\"3+2=\", 3+2)\n",
        "\n",
        "\n",
        " # multiplication\n",
        "\n",
        " # it prints the last thing in the cell\n",
        "\n",
        "print(\"oleksii says 3*2=\", 3 * 2)"
      ],
      "metadata": {
        "colab": {
          "base_uri": "https://localhost:8080/"
        },
        "id": "wCbwNKUlDmte",
        "outputId": "2a3eeb66-cb07-4f74-8c44-59e44bda10a5"
      },
      "execution_count": 7,
      "outputs": [
        {
          "output_type": "stream",
          "name": "stdout",
          "text": [
            "3+2= 5\n",
            "oleksii says 3*2= 6\n"
          ]
        }
      ]
    },
    {
      "cell_type": "code",
      "source": [
        "# division\n",
        "\n",
        "6 / 2\n",
        "\n",
        "\n",
        "# multiplication\n",
        "\n",
        "6*2\n"
      ],
      "metadata": {
        "colab": {
          "base_uri": "https://localhost:8080/"
        },
        "id": "hsrIngqlEWa2",
        "outputId": "6773d514-65b0-4309-bfc6-d0c365458435"
      },
      "execution_count": 9,
      "outputs": [
        {
          "output_type": "execute_result",
          "data": {
            "text/plain": [
              "12"
            ]
          },
          "metadata": {},
          "execution_count": 9
        }
      ]
    },
    {
      "cell_type": "code",
      "source": [
        "# exponent\n",
        "\n",
        "2**2\n"
      ],
      "metadata": {
        "colab": {
          "base_uri": "https://localhost:8080/"
        },
        "id": "pOOItjRGEitN",
        "outputId": "bff11e88-452b-4a29-e0d6-44717b7cb7b0"
      },
      "execution_count": 10,
      "outputs": [
        {
          "output_type": "execute_result",
          "data": {
            "text/plain": [
              "4"
            ]
          },
          "metadata": {},
          "execution_count": 10
        }
      ]
    },
    {
      "cell_type": "code",
      "source": [
        "import math\n",
        "\n",
        "math.sqrt(16)\n"
      ],
      "metadata": {
        "colab": {
          "base_uri": "https://localhost:8080/"
        },
        "id": "l7miYqw_EucV",
        "outputId": "c8e99bc1-e856-430c-fe5c-32e7f0f6c4e5"
      },
      "execution_count": 11,
      "outputs": [
        {
          "output_type": "execute_result",
          "data": {
            "text/plain": [
              "4.0"
            ]
          },
          "metadata": {},
          "execution_count": 11
        }
      ]
    },
    {
      "cell_type": "code",
      "source": [
        "# data types\n",
        "\n",
        "# integer\n",
        "\n",
        "a=2\n",
        "\n",
        "# math: decimal number computers: floating point\n",
        "\n",
        "b=2.5\n",
        "\n",
        "\n",
        "#print(a*b)\n",
        "\n",
        "c=a*b\n",
        "\n",
        "print(c, type(c))\n",
        "\n",
        "print(a, type(a))"
      ],
      "metadata": {
        "colab": {
          "base_uri": "https://localhost:8080/"
        },
        "id": "Lebarf3kE3j1",
        "outputId": "203bdf5c-20e0-470a-8738-921685f56166"
      },
      "execution_count": 15,
      "outputs": [
        {
          "output_type": "stream",
          "name": "stdout",
          "text": [
            "5.0 <class 'float'>\n",
            "2 <class 'int'>\n"
          ]
        }
      ]
    },
    {
      "cell_type": "code",
      "source": [
        "# letters we call charactes or strings\n",
        "\n",
        "f=\"fred\"\n",
        "\n",
        "print(f,type(f))\n",
        "\n"
      ],
      "metadata": {
        "colab": {
          "base_uri": "https://localhost:8080/"
        },
        "id": "TJqx0kg3FnWu",
        "outputId": "c663c439-0136-4e2a-a387-80e9078b1b74"
      },
      "execution_count": 18,
      "outputs": [
        {
          "output_type": "stream",
          "name": "stdout",
          "text": [
            "fred <class 'str'>\n"
          ]
        }
      ]
    },
    {
      "cell_type": "code",
      "source": [
        "# you can combine strings.  this is called concatenation\n",
        "\n",
        "p=\"peter\"\n",
        "\n",
        "o=\"oleksandr\"\n",
        "\n",
        "p+ \" \" + o\n",
        "\n",
        "\n"
      ],
      "metadata": {
        "colab": {
          "base_uri": "https://localhost:8080/",
          "height": 37
        },
        "id": "VgL96AAhF6Ih",
        "outputId": "7300d8e1-8f9c-4c33-bc35-38e328c40533"
      },
      "execution_count": 20,
      "outputs": [
        {
          "output_type": "execute_result",
          "data": {
            "text/plain": [
              "'peter oleksandr'"
            ],
            "application/vnd.google.colaboratory.intrinsic+json": {
              "type": "string"
            }
          },
          "metadata": {},
          "execution_count": 20
        }
      ]
    },
    {
      "cell_type": "code",
      "source": [
        "# parantheses are used to tell the computer where something starts and where it stops\n",
        "\n",
        "# functions are things that do useful things.  like upper() makes all letters capital\n",
        "\n",
        "\n",
        "\n",
        "(p+ \" \" + o).upper()\n"
      ],
      "metadata": {
        "colab": {
          "base_uri": "https://localhost:8080/",
          "height": 37
        },
        "id": "L6Lb6OZ0GjuZ",
        "outputId": "1c0ae4f7-3035-4bab-8f10-363033c53562"
      },
      "execution_count": 21,
      "outputs": [
        {
          "output_type": "execute_result",
          "data": {
            "text/plain": [
              "'PETER OLEKSANDR'"
            ],
            "application/vnd.google.colaboratory.intrinsic+json": {
              "type": "string"
            }
          },
          "metadata": {},
          "execution_count": 21
        }
      ]
    },
    {
      "cell_type": "code",
      "source": [
        "# homework\n",
        "\n",
        "\n",
        "#print 3 + 4\n",
        "\n",
        "#print any two names like I did peter and oleksandr\n"
      ],
      "metadata": {
        "id": "yhKdqIq_HBaT"
      },
      "execution_count": null,
      "outputs": []
    }
  ]
}