{
  "nbformat": 4,
  "nbformat_minor": 0,
  "metadata": {
    "colab": {
      "provenance": [],
      "authorship_tag": "ABX9TyMnSwF86ochJPgbNmfs/yK2",
      "include_colab_link": true
    },
    "kernelspec": {
      "name": "python3",
      "display_name": "Python 3"
    },
    "language_info": {
      "name": "python"
    }
  },
  "cells": [
    {
      "cell_type": "markdown",
      "metadata": {
        "id": "view-in-github",
        "colab_type": "text"
      },
      "source": [
        "<a href=\"https://colab.research.google.com/github/werowe/HypatiaAcademy/blob/master/class/september_26_2023_loops.ipynb\" target=\"_parent\"><img src=\"https://colab.research.google.com/assets/colab-badge.svg\" alt=\"Open In Colab\"/></a>"
      ]
    },
    {
      "cell_type": "code",
      "execution_count": 1,
      "metadata": {
        "colab": {
          "base_uri": "https://localhost:8080/"
        },
        "id": "NNmfmimP6eVO",
        "outputId": "8b09d478-c5b9-447f-c2ca-49f1cf731a98"
      },
      "outputs": [
        {
          "output_type": "stream",
          "name": "stdout",
          "text": [
            "1\n",
            "2\n",
            "3\n"
          ]
        }
      ],
      "source": [
        "# hard-coding\n",
        "\n",
        "print(1)\n",
        "print(2)\n",
        "print(3)\n"
      ]
    },
    {
      "cell_type": "code",
      "source": [
        "numbers=[1,2,3]\n",
        "\n",
        "# a simple loop\n",
        "# this loops over a list\n",
        "\n",
        "for i in numbers:\n",
        "  print(i)\n"
      ],
      "metadata": {
        "colab": {
          "base_uri": "https://localhost:8080/"
        },
        "id": "YInv957k6s-z",
        "outputId": "a787c60c-d742-4e83-b9d9-cbb6a5239e1d"
      },
      "execution_count": 2,
      "outputs": [
        {
          "output_type": "stream",
          "name": "stdout",
          "text": [
            "1\n",
            "2\n",
            "3\n"
          ]
        }
      ]
    },
    {
      "cell_type": "code",
      "source": [
        "# now we use the range object to make a counter\n",
        "\n",
        "for i in range(1,5):\n",
        "  print(i,end=\",\")\n"
      ],
      "metadata": {
        "colab": {
          "base_uri": "https://localhost:8080/"
        },
        "id": "vxXdXvly62ug",
        "outputId": "4afe62d6-cafb-4df8-db1c-899b4736fec8"
      },
      "execution_count": 23,
      "outputs": [
        {
          "output_type": "stream",
          "name": "stdout",
          "text": [
            "1,2,3,4,"
          ]
        }
      ]
    },
    {
      "cell_type": "code",
      "source": [
        "# print all students in the list\n",
        "\n",
        "students=['anna', 'diana', 'artem', 'joaquim', 'yehven']\n",
        "\n",
        "for student in students:\n",
        "  print(student)\n",
        "\n",
        ""
      ],
      "metadata": {
        "colab": {
          "base_uri": "https://localhost:8080/"
        },
        "id": "LRtBqWSQ7mFo",
        "outputId": "252313c0-25e7-43e9-f753-de9657873c18"
      },
      "execution_count": 24,
      "outputs": [
        {
          "output_type": "stream",
          "name": "stdout",
          "text": [
            "anna\n",
            "diana\n",
            "artem\n",
            "joaquim\n",
            "yehven\n"
          ]
        }
      ]
    },
    {
      "cell_type": "code",
      "source": [
        "# print all students in the list but use the student index like student[0]\n",
        "\n",
        "for i in range(len(students)):\n",
        "  print(students[i])\n",
        "\n"
      ],
      "metadata": {
        "colab": {
          "base_uri": "https://localhost:8080/"
        },
        "id": "BdiXoCk472kU",
        "outputId": "efc5be9e-d328-41bb-ca0e-0f29fb10021c"
      },
      "execution_count": 18,
      "outputs": [
        {
          "output_type": "stream",
          "name": "stdout",
          "text": [
            "anna\n",
            "diana\n",
            "artem\n",
            "joaquim\n",
            "yehven\n"
          ]
        }
      ]
    },
    {
      "cell_type": "code",
      "source": [
        "# this shows how the range object works\n",
        "\n",
        "\n",
        "for i in range(5):\n",
        "  print(i)\n",
        "\n"
      ],
      "metadata": {
        "colab": {
          "base_uri": "https://localhost:8080/"
        },
        "id": "KWnmQvyY8NxY",
        "outputId": "a9b6de8f-9877-40c3-afc3-bfada3a644a2"
      },
      "execution_count": 19,
      "outputs": [
        {
          "output_type": "stream",
          "name": "stdout",
          "text": [
            "0\n",
            "1\n",
            "2\n",
            "3\n",
            "4\n"
          ]
        }
      ]
    },
    {
      "cell_type": "code",
      "source": [
        "\n",
        "# how we do a loop but without a counter\n",
        "\n",
        "# does something until the while statement is false\n",
        "\n",
        "counter=0\n",
        "\n",
        "while counter < 20:\n",
        "  print(counter)\n",
        "  counter=counter + 1\n",
        "\n"
      ],
      "metadata": {
        "colab": {
          "base_uri": "https://localhost:8080/"
        },
        "id": "HE0vDDxl89nG",
        "outputId": "6cb35fee-df92-4668-c800-8e78c5e3fcd5"
      },
      "execution_count": 20,
      "outputs": [
        {
          "output_type": "stream",
          "name": "stdout",
          "text": [
            "0\n",
            "1\n",
            "2\n",
            "3\n",
            "4\n",
            "5\n",
            "6\n",
            "7\n",
            "8\n",
            "9\n",
            "10\n",
            "11\n",
            "12\n",
            "13\n",
            "14\n",
            "15\n",
            "16\n",
            "17\n",
            "18\n",
            "19\n"
          ]
        }
      ]
    },
    {
      "cell_type": "code",
      "source": [
        "counter=1\n",
        "\n",
        "# this is BAAAD.  It is an infinite loop.  because it missing instructions to tell it when to stop\n",
        "\n",
        "# problem here is it will never stop\n",
        "\n",
        "# in computers that is called an infinite loop\n",
        "\n",
        "while counter > 0 :\n",
        "  print(counter)\n",
        "  counter=counter + 1.  # this is backwards.  it should subtract not add\n",
        "\n"
      ],
      "metadata": {
        "colab": {
          "base_uri": "https://localhost:8080/"
        },
        "id": "N4rsB1729hbG",
        "outputId": "1e98072e-222a-413a-be71-3a1cf710f49c"
      },
      "execution_count": 26,
      "outputs": [
        {
          "output_type": "stream",
          "name": "stdout",
          "text": [
            "5\n",
            "4\n",
            "3\n",
            "2\n",
            "1\n"
          ]
        }
      ]
    },
    {
      "cell_type": "code",
      "source": [
        "counter=1\n",
        "\n",
        "# here we are checking the logical statement: counter > 0\n",
        "\n",
        "counter > 0"
      ],
      "metadata": {
        "colab": {
          "base_uri": "https://localhost:8080/"
        },
        "id": "IB-I2N3_-MaA",
        "outputId": "374848c5-7dbb-4c02-bf60-480941b0741b"
      },
      "execution_count": 27,
      "outputs": [
        {
          "output_type": "execute_result",
          "data": {
            "text/plain": [
              "True"
            ]
          },
          "metadata": {},
          "execution_count": 27
        }
      ]
    },
    {
      "cell_type": "code",
      "source": [
        "counter=1\n",
        "\n",
        "print(counter > 0 == True)\n",
        "\n",
        "# if I put paranthese around something it tells it what order to do something.  this is called precedence\n",
        "\n",
        "print((counter > 0) == True)\n",
        "\n",
        "\n"
      ],
      "metadata": {
        "colab": {
          "base_uri": "https://localhost:8080/"
        },
        "id": "5Q2Qf486-TK-",
        "outputId": "3f4d644a-d2ef-4ec0-8c0b-5b6bf0acce8b"
      },
      "execution_count": 33,
      "outputs": [
        {
          "output_type": "stream",
          "name": "stdout",
          "text": [
            "False\n",
            "True\n"
          ]
        }
      ]
    },
    {
      "cell_type": "code",
      "source": [
        "'''\n",
        "\n",
        "homework.\n",
        "\n",
        "1. make a list of 5 fruits.  print the list using 2 different ways like I did above.\n",
        "\n",
        "2.  make a while loop do something.  for example use while counter > 3 .  be careful of infinite loop\n",
        "\n",
        "bonus question:\n",
        "\n",
        "1. print the list of students above backwards.  hint: use range(???,????).  so look this up\n",
        "\n",
        "# range(start, stop, step) step be negative.  if we don't put it the default is +1.  TO go backwards use -1\n",
        "\n",
        "\n",
        "\n",
        "'''\n",
        "\n",
        "\n"
      ],
      "metadata": {
        "id": "sUsJn7WjBDJ0"
      },
      "execution_count": null,
      "outputs": []
    }
  ]
}