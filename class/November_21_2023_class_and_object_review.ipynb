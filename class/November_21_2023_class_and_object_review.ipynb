{
  "nbformat": 4,
  "nbformat_minor": 0,
  "metadata": {
    "colab": {
      "provenance": [],
      "authorship_tag": "ABX9TyPQjXR1OM9mzQ4h16nxcAoN",
      "include_colab_link": true
    },
    "kernelspec": {
      "name": "python3",
      "display_name": "Python 3"
    },
    "language_info": {
      "name": "python"
    }
  },
  "cells": [
    {
      "cell_type": "markdown",
      "metadata": {
        "id": "view-in-github",
        "colab_type": "text"
      },
      "source": [
        "<a href=\"https://colab.research.google.com/github/werowe/HypatiaAcademy/blob/master/class/November_21_2023_class_and_object_review.ipynb\" target=\"_parent\"><img src=\"https://colab.research.google.com/assets/colab-badge.svg\" alt=\"Open In Colab\"/></a>"
      ]
    },
    {
      "cell_type": "markdown",
      "source": [
        "\n",
        "* C was invented the 1970s.  low level\n",
        "\n",
        "* C++ is basically C with objects\n",
        "\n",
        "\n",
        "* What is an object?\n",
        "\n",
        "* An object in a abstractions\n",
        "\n"
      ],
      "metadata": {
        "id": "upri_sSkc6FA"
      }
    },
    {
      "cell_type": "code",
      "execution_count": 42,
      "metadata": {
        "colab": {
          "base_uri": "https://localhost:8080/",
          "height": 54
        },
        "id": "b96v9oCLc0G7",
        "outputId": "b1e6627e-a65d-4d5c-c7fc-fa5c1d20fa89"
      },
      "outputs": [
        {
          "output_type": "execute_result",
          "data": {
            "text/plain": [
              "'\\nfish = {\\n    \"kind\": \"Spanish Mackerel\",\\n    \"isSaltWater\": True,\\n    \"color\": [\"blue\", \"red\"],\\n    \"averagSize\": 1\\n}\\n'"
            ],
            "application/vnd.google.colaboratory.intrinsic+json": {
              "type": "string"
            }
          },
          "metadata": {},
          "execution_count": 42
        }
      ],
      "source": [
        "# this is hard-code . baaaaaaad.  it means you can only use it once\n",
        "\n",
        "'''\n",
        "fish = {\n",
        "    \"kind\": \"Spanish Mackerel\",\n",
        "    \"isSaltWater\": True,\n",
        "    \"color\": [\"blue\", \"red\"],\n",
        "    \"averagSize\": 1\n",
        "}\n",
        "'''\n"
      ]
    },
    {
      "cell_type": "code",
      "source": [
        "#fish.keys()"
      ],
      "metadata": {
        "id": "zqya44med6NH"
      },
      "execution_count": 43,
      "outputs": []
    },
    {
      "cell_type": "code",
      "source": [
        "# class means object definition\n",
        "'''\n",
        "class Fish:\n",
        "\n",
        "    kind = \"Spanish Mackerel\"\n",
        "    isSaltWater = True\n",
        "    color =  [\"blue\", \"red\"]\n",
        "    averagSize = 1\n",
        "\n",
        "\n",
        "# when you make an object you should also make a way to print it out.  We call this toString\n",
        "\n",
        "    def toString(self):\n",
        "      # formatted string\n",
        "      return \"Our fish is type %s and color %s\" % (self.kind, self.color)\n",
        "\n",
        "'''\n"
      ],
      "metadata": {
        "colab": {
          "base_uri": "https://localhost:8080/",
          "height": 72
        },
        "id": "UzTP2IsOd-UH",
        "outputId": "9c03cf3e-6777-481c-ce7a-645b2d0d357e"
      },
      "execution_count": 44,
      "outputs": [
        {
          "output_type": "execute_result",
          "data": {
            "text/plain": [
              "'\\nclass Fish:\\n\\n    kind = \"Spanish Mackerel\"\\n    isSaltWater = True\\n    color =  [\"blue\", \"red\"]\\n    averagSize = 1\\n\\n\\n# when you make an object you should also make a way to print it out.  We call this toString\\n\\n    def toString(self):\\n      # formatted string\\n      return \"Our fish is type %s and color %s\" % (self.kind, self.color)\\n\\n'"
            ],
            "application/vnd.google.colaboratory.intrinsic+json": {
              "type": "string"
            }
          },
          "metadata": {},
          "execution_count": 44
        }
      ]
    },
    {
      "cell_type": "code",
      "source": [
        "# an object instance is lower case first letter\n",
        "# an object definition is upper case\n",
        "\n",
        "\n",
        "#spanishMackerel = Fish()"
      ],
      "metadata": {
        "id": "YNvREyL-eR2D"
      },
      "execution_count": 45,
      "outputs": []
    },
    {
      "cell_type": "code",
      "source": [
        "spanishMackerel.toString()"
      ],
      "metadata": {
        "colab": {
          "base_uri": "https://localhost:8080/",
          "height": 37
        },
        "id": "E53A1JXofqq2",
        "outputId": "952d7678-0aa1-4a7d-cfd5-e56fdc4db456"
      },
      "execution_count": 46,
      "outputs": [
        {
          "output_type": "execute_result",
          "data": {
            "text/plain": [
              "\"Our fish is type Spanish Mackerel and color ['blue', 'red']\""
            ],
            "application/vnd.google.colaboratory.intrinsic+json": {
              "type": "string"
            }
          },
          "metadata": {},
          "execution_count": 46
        }
      ]
    },
    {
      "cell_type": "code",
      "source": [
        "spanishMackerel.color"
      ],
      "metadata": {
        "colab": {
          "base_uri": "https://localhost:8080/"
        },
        "id": "3Bz8d3MIeo5d",
        "outputId": "81c38eb3-732e-40ae-9755-c422b3c40e1e"
      },
      "execution_count": 47,
      "outputs": [
        {
          "output_type": "execute_result",
          "data": {
            "text/plain": [
              "['blue', 'red']"
            ]
          },
          "metadata": {},
          "execution_count": 47
        }
      ]
    },
    {
      "cell_type": "code",
      "source": [
        "type(3)\n",
        "\n",
        "# data types are?\n",
        "\n",
        "\n",
        "\n"
      ],
      "metadata": {
        "colab": {
          "base_uri": "https://localhost:8080/"
        },
        "id": "rippHcGtetck",
        "outputId": "ab170f56-b9d9-447c-f353-0a9c5c67b627"
      },
      "execution_count": 48,
      "outputs": [
        {
          "output_type": "execute_result",
          "data": {
            "text/plain": [
              "int"
            ]
          },
          "metadata": {},
          "execution_count": 48
        }
      ]
    },
    {
      "cell_type": "code",
      "source": [
        "type(spanishMackerel)"
      ],
      "metadata": {
        "colab": {
          "base_uri": "https://localhost:8080/"
        },
        "id": "tItxJkuOe99-",
        "outputId": "3c94fe18-58bd-4a9b-c09f-2fe1ea63fef3"
      },
      "execution_count": 49,
      "outputs": [
        {
          "output_type": "execute_result",
          "data": {
            "text/plain": [
              "__main__.Fish"
            ]
          },
          "metadata": {},
          "execution_count": 49
        }
      ]
    },
    {
      "cell_type": "markdown",
      "source": [
        "Problem:  not all fish are the same kind.  So not all fish are Spanish Mackerel. So let's make our class be generic"
      ],
      "metadata": {
        "id": "Nn6aoQjDf7Wq"
      }
    },
    {
      "cell_type": "code",
      "source": [
        "class XFish:\n",
        "\n",
        "  # constructor.  a constructor creates an object and fills in its attributes\n",
        "\n",
        "  def __init__(self, kind, isSaltWater, color, averageSize):\n",
        "\n",
        "    # kind is a parameter in the constructor\n",
        "    # self.kind is an attribute of Fish\n",
        "    self.kind = kind\n",
        "    self.isSaltWater = isSaltWater\n",
        "    self.color =  color\n",
        "    self.averageSize = averageSize\n",
        "\n",
        "\n",
        "# when you make an object you should also make a way to print it out.  We call this toString\n",
        "\n",
        "    def debug(self):\n",
        "      return \"it's working\"\n",
        "\n",
        "    def toString(self):\n",
        "      # formatted string\n",
        "      return \"Our fish is type %s and color %s\" % (self.kind, self.color)\n"
      ],
      "metadata": {
        "id": "sG909oOBgDUc"
      },
      "execution_count": 58,
      "outputs": []
    },
    {
      "cell_type": "code",
      "source": [
        "# here we see why objects are useful.  Because can reuse them.\n",
        "\n",
        "goldfish = XFish(\"Goldfish\",False,\"gold\",0.07)\n",
        "\n",
        "whale = XFish(\"Blue Whale\", True, [\"blue\", \"white\"], 60*1000)\n",
        "\n",
        "\n",
        "\n"
      ],
      "metadata": {
        "id": "XQxzjnXqgxYn"
      },
      "execution_count": 59,
      "outputs": []
    },
    {
      "cell_type": "code",
      "source": [
        "elonMuskCar = {\n",
        "    \"engine\" : \"petrol\"\n",
        "}\n",
        "\n",
        "class Car:\n",
        "\n",
        "  def __init__(self, engineType):\n",
        "      self.engineType=engineType\n"
      ],
      "metadata": {
        "id": "VHC9iWA-ho-h"
      },
      "execution_count": 52,
      "outputs": []
    },
    {
      "cell_type": "code",
      "source": [
        "aquarium=[goldfish,whale]\n",
        "\n",
        "aquarium"
      ],
      "metadata": {
        "colab": {
          "base_uri": "https://localhost:8080/"
        },
        "id": "MZoIGUtliEcD",
        "outputId": "f9e19014-365d-45ed-e12e-e8123d1c771c"
      },
      "execution_count": 53,
      "outputs": [
        {
          "output_type": "execute_result",
          "data": {
            "text/plain": [
              "[<__main__.Fish at 0x7f350bcd6620>, <__main__.Fish at 0x7f350bcd5ab0>]"
            ]
          },
          "metadata": {},
          "execution_count": 53
        }
      ]
    },
    {
      "cell_type": "code",
      "source": [
        "for fish in aquarium:\n",
        "  print(type(fish))\n",
        "  #print(fish.toString())"
      ],
      "metadata": {
        "colab": {
          "base_uri": "https://localhost:8080/"
        },
        "id": "nyTKiwtiiTTa",
        "outputId": "875f2ed5-dd02-4441-c7fb-173b935da2fa"
      },
      "execution_count": 54,
      "outputs": [
        {
          "output_type": "stream",
          "name": "stdout",
          "text": [
            "<class '__main__.Fish'>\n",
            "<class '__main__.Fish'>\n"
          ]
        }
      ]
    },
    {
      "cell_type": "code",
      "source": [
        "dir(goldfish)"
      ],
      "metadata": {
        "colab": {
          "base_uri": "https://localhost:8080/"
        },
        "id": "Bp2pAWSYihrg",
        "outputId": "5aa59147-653b-4f2d-9b80-0be6d6ba95e0"
      },
      "execution_count": 55,
      "outputs": [
        {
          "output_type": "execute_result",
          "data": {
            "text/plain": [
              "['__class__',\n",
              " '__delattr__',\n",
              " '__dict__',\n",
              " '__dir__',\n",
              " '__doc__',\n",
              " '__eq__',\n",
              " '__format__',\n",
              " '__ge__',\n",
              " '__getattribute__',\n",
              " '__gt__',\n",
              " '__hash__',\n",
              " '__init__',\n",
              " '__init_subclass__',\n",
              " '__le__',\n",
              " '__lt__',\n",
              " '__module__',\n",
              " '__ne__',\n",
              " '__new__',\n",
              " '__reduce__',\n",
              " '__reduce_ex__',\n",
              " '__repr__',\n",
              " '__setattr__',\n",
              " '__sizeof__',\n",
              " '__str__',\n",
              " '__subclasshook__',\n",
              " '__weakref__',\n",
              " 'averageSize',\n",
              " 'color',\n",
              " 'isSaltWater',\n",
              " 'kind']"
            ]
          },
          "metadata": {},
          "execution_count": 55
        }
      ]
    },
    {
      "cell_type": "code",
      "source": [
        "class Car:\n",
        "\n",
        "  def __init__(self, engineType, color):\n",
        "      self.engineType=engineType\n",
        "      self.color = color\n",
        "\n",
        "# overloading\n",
        "\n",
        "  # this function uses parameters self and car\n",
        "\n",
        "  # self is self\n",
        "\n",
        "  # car is another car\n",
        "\n",
        "  def isEqual(self, car):\n",
        "      return self.engineType ==  car.engineType and  self.color == car.color\n",
        "\n",
        "  def toString(self):\n",
        "    return \"the car is engine type %s and color %s \" % (self.engineType, self.color)\n",
        "\n",
        "\n"
      ],
      "metadata": {
        "id": "S2ikq6Xvj7zq"
      },
      "execution_count": 66,
      "outputs": []
    },
    {
      "cell_type": "code",
      "source": [
        "tesla=Car(\"electric\", \"blue\")\n",
        "\n",
        "byd=Car(\"electric\", \"blue\")\n",
        "\n",
        "\n"
      ],
      "metadata": {
        "id": "7EMnEn3XkjY3"
      },
      "execution_count": 75,
      "outputs": []
    },
    {
      "cell_type": "code",
      "source": [
        "tesla.isEqual(byd)"
      ],
      "metadata": {
        "colab": {
          "base_uri": "https://localhost:8080/"
        },
        "id": "k2LOuJyolVqL",
        "outputId": "81f9c2e0-b60c-4849-b563-b525499edb4a"
      },
      "execution_count": 76,
      "outputs": [
        {
          "output_type": "execute_result",
          "data": {
            "text/plain": [
              "True"
            ]
          },
          "metadata": {},
          "execution_count": 76
        }
      ]
    },
    {
      "cell_type": "code",
      "source": [
        "tesla.toString()\n"
      ],
      "metadata": {
        "colab": {
          "base_uri": "https://localhost:8080/",
          "height": 176
        },
        "id": "oe0lJTY9mO7Z",
        "outputId": "771e5c35-2b76-4fd9-89cc-b36adf0e6cb4"
      },
      "execution_count": 77,
      "outputs": [
        {
          "output_type": "error",
          "ename": "AttributeError",
          "evalue": "ignored",
          "traceback": [
            "\u001b[0;31m---------------------------------------------------------------------------\u001b[0m",
            "\u001b[0;31mAttributeError\u001b[0m                            Traceback (most recent call last)",
            "\u001b[0;32m<ipython-input-77-c84c392e1ba0>\u001b[0m in \u001b[0;36m<cell line: 1>\u001b[0;34m()\u001b[0m\n\u001b[0;32m----> 1\u001b[0;31m \u001b[0mtesla\u001b[0m\u001b[0;34m.\u001b[0m\u001b[0mtoString\u001b[0m\u001b[0;34m(\u001b[0m\u001b[0;34m)\u001b[0m\u001b[0;34m\u001b[0m\u001b[0;34m\u001b[0m\u001b[0m\n\u001b[0m",
            "\u001b[0;31mAttributeError\u001b[0m: 'Car' object has no attribute 'toString'"
          ]
        }
      ]
    },
    {
      "cell_type": "code",
      "source": [
        "dir(tesla)"
      ],
      "metadata": {
        "colab": {
          "base_uri": "https://localhost:8080/"
        },
        "id": "khHzZcAemd0M",
        "outputId": "8d3d32c8-0622-4471-b1dc-da475bc64e0a"
      },
      "execution_count": 78,
      "outputs": [
        {
          "output_type": "execute_result",
          "data": {
            "text/plain": [
              "['__class__',\n",
              " '__delattr__',\n",
              " '__dict__',\n",
              " '__dir__',\n",
              " '__doc__',\n",
              " '__eq__',\n",
              " '__format__',\n",
              " '__ge__',\n",
              " '__getattribute__',\n",
              " '__gt__',\n",
              " '__hash__',\n",
              " '__init__',\n",
              " '__init_subclass__',\n",
              " '__le__',\n",
              " '__lt__',\n",
              " '__module__',\n",
              " '__ne__',\n",
              " '__new__',\n",
              " '__reduce__',\n",
              " '__reduce_ex__',\n",
              " '__repr__',\n",
              " '__setattr__',\n",
              " '__sizeof__',\n",
              " '__str__',\n",
              " '__subclasshook__',\n",
              " '__weakref__',\n",
              " 'color',\n",
              " 'engineType',\n",
              " 'isEqual']"
            ]
          },
          "metadata": {},
          "execution_count": 78
        }
      ]
    }
  ]
}