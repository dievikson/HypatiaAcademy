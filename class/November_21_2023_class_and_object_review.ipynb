{
  "nbformat": 4,
  "nbformat_minor": 0,
  "metadata": {
    "colab": {
      "provenance": [],
      "authorship_tag": "ABX9TyOdrrFWCC7OS6PL+pM/IrrI",
      "include_colab_link": true
    },
    "kernelspec": {
      "name": "python3",
      "display_name": "Python 3"
    },
    "language_info": {
      "name": "python"
    }
  },
  "cells": [
    {
      "cell_type": "markdown",
      "metadata": {
        "id": "view-in-github",
        "colab_type": "text"
      },
      "source": [
        "<a href=\"https://colab.research.google.com/github/werowe/HypatiaAcademy/blob/master/class/November_21_2023_class_and_object_review.ipynb\" target=\"_parent\"><img src=\"https://colab.research.google.com/assets/colab-badge.svg\" alt=\"Open In Colab\"/></a>"
      ]
    },
    {
      "cell_type": "markdown",
      "source": [
        "\n",
        "* C was invented the 1970s.  low level\n",
        "\n",
        "* C++ is basically C with objects\n",
        "\n",
        "\n",
        "* What is an object?\n",
        "\n",
        "* An object in a abstractions\n",
        "\n"
      ],
      "metadata": {
        "id": "upri_sSkc6FA"
      }
    },
    {
      "cell_type": "code",
      "execution_count": 20,
      "metadata": {
        "colab": {
          "base_uri": "https://localhost:8080/",
          "height": 54
        },
        "id": "b96v9oCLc0G7",
        "outputId": "b12195c2-f21f-405b-e652-ec5d20cdae0a"
      },
      "outputs": [
        {
          "output_type": "execute_result",
          "data": {
            "text/plain": [
              "'\\nfish = {\\n    \"kind\": \"Spanish Mackerel\",\\n    \"isSaltWater\": True,\\n    \"color\": [\"blue\", \"red\"],\\n    \"averagSize\": 1\\n}\\n'"
            ],
            "application/vnd.google.colaboratory.intrinsic+json": {
              "type": "string"
            }
          },
          "metadata": {},
          "execution_count": 20
        }
      ],
      "source": [
        "# this is hard-code . baaaaaaad.  it means you can only use it once\n",
        "\n",
        "'''\n",
        "fish = {\n",
        "    \"kind\": \"Spanish Mackerel\",\n",
        "    \"isSaltWater\": True,\n",
        "    \"color\": [\"blue\", \"red\"],\n",
        "    \"averagSize\": 1\n",
        "}\n",
        "'''\n"
      ]
    },
    {
      "cell_type": "code",
      "source": [
        "#fish.keys()"
      ],
      "metadata": {
        "id": "zqya44med6NH"
      },
      "execution_count": 21,
      "outputs": []
    },
    {
      "cell_type": "code",
      "source": [
        "# class means object definition\n",
        "'''\n",
        "class Fish:\n",
        "\n",
        "    kind = \"Spanish Mackerel\"\n",
        "    isSaltWater = True\n",
        "    color =  [\"blue\", \"red\"]\n",
        "    averagSize = 1\n",
        "\n",
        "\n",
        "# when you make an object you should also make a way to print it out.  We call this toString\n",
        "\n",
        "    def toString(self):\n",
        "      # formatted string\n",
        "      return \"Our fish is type %s and color %s\" % (self.kind, self.color)\n",
        "\n",
        "'''\n"
      ],
      "metadata": {
        "colab": {
          "base_uri": "https://localhost:8080/",
          "height": 72
        },
        "id": "UzTP2IsOd-UH",
        "outputId": "1bc62d0c-7ef7-435d-b3b4-4d884610f14c"
      },
      "execution_count": 22,
      "outputs": [
        {
          "output_type": "execute_result",
          "data": {
            "text/plain": [
              "'\\nclass Fish:\\n\\n    kind = \"Spanish Mackerel\"\\n    isSaltWater = True\\n    color =  [\"blue\", \"red\"]\\n    averagSize = 1\\n\\n\\n# when you make an object you should also make a way to print it out.  We call this toString\\n\\n    def toString(self):\\n      # formatted string\\n      return \"Our fish is type %s and color %s\" % (self.kind, self.color)\\n\\n'"
            ],
            "application/vnd.google.colaboratory.intrinsic+json": {
              "type": "string"
            }
          },
          "metadata": {},
          "execution_count": 22
        }
      ]
    },
    {
      "cell_type": "code",
      "source": [
        "# an object instance is lower case first letter\n",
        "# an object definition is upper case\n",
        "\n",
        "\n",
        "#spanishMackerel = Fish()"
      ],
      "metadata": {
        "id": "YNvREyL-eR2D"
      },
      "execution_count": 23,
      "outputs": []
    },
    {
      "cell_type": "code",
      "source": [
        "#spanishMackerel.toString()"
      ],
      "metadata": {
        "id": "E53A1JXofqq2"
      },
      "execution_count": 24,
      "outputs": []
    },
    {
      "cell_type": "code",
      "source": [
        "#spanishMackerel.color"
      ],
      "metadata": {
        "id": "3Bz8d3MIeo5d"
      },
      "execution_count": 25,
      "outputs": []
    },
    {
      "cell_type": "code",
      "source": [
        "type(3)\n",
        "\n",
        "# data types are?\n",
        "\n",
        "\n",
        "\n"
      ],
      "metadata": {
        "colab": {
          "base_uri": "https://localhost:8080/"
        },
        "id": "rippHcGtetck",
        "outputId": "d78dec46-bd4c-4b6f-f373-ec504b129097"
      },
      "execution_count": 26,
      "outputs": [
        {
          "output_type": "execute_result",
          "data": {
            "text/plain": [
              "int"
            ]
          },
          "metadata": {},
          "execution_count": 26
        }
      ]
    },
    {
      "cell_type": "code",
      "source": [
        "#type(spanishMackerel)"
      ],
      "metadata": {
        "id": "tItxJkuOe99-"
      },
      "execution_count": 27,
      "outputs": []
    },
    {
      "cell_type": "markdown",
      "source": [
        "Problem:  not all fish are the same kind.  So not all fish are Spanish Mackerel. So let's make our class be generic"
      ],
      "metadata": {
        "id": "Nn6aoQjDf7Wq"
      }
    },
    {
      "cell_type": "code",
      "source": [
        "class XFish:\n",
        "\n",
        "  # constructor.  a constructor creates an object and fills in its attributes\n",
        "\n",
        "  def __init__(self, kind, isSaltWater, color, averageSize):\n",
        "\n",
        "    # kind is a parameter in the constructor\n",
        "    # self.kind is an attribute of Fish\n",
        "    self.kind = kind\n",
        "    self.isSaltWater = isSaltWater\n",
        "    self.color =  color\n",
        "    self.averageSize = averageSize\n",
        "\n",
        "\n",
        "# when you make an object you should also make a way to print it out.  We call this toString\n",
        "\n",
        "    def debug(self):\n",
        "      return \"it's working\"\n",
        "\n",
        "    def toString(self):\n",
        "      # formatted string\n",
        "      return \"Our fish is type %s and color %s\" % (self.kind, self.color)\n"
      ],
      "metadata": {
        "id": "sG909oOBgDUc"
      },
      "execution_count": 28,
      "outputs": []
    },
    {
      "cell_type": "code",
      "source": [
        "# here we see why objects are useful.  Because can reuse them.\n",
        "\n",
        "goldfish = XFish(\"Goldfish\",False,\"gold\",0.07)\n",
        "\n",
        "whale = XFish(\"Blue Whale\", True, [\"blue\", \"white\"], 60*1000)\n",
        "\n",
        "\n",
        "\n"
      ],
      "metadata": {
        "id": "XQxzjnXqgxYn"
      },
      "execution_count": 29,
      "outputs": []
    },
    {
      "cell_type": "code",
      "source": [
        "elonMuskCar = {\n",
        "    \"engine\" : \"petrol\"\n",
        "}\n",
        "\n",
        "class Car:\n",
        "\n",
        "  def __init__(self, engineType):\n",
        "      self.engineType=engineType\n"
      ],
      "metadata": {
        "id": "VHC9iWA-ho-h"
      },
      "execution_count": 30,
      "outputs": []
    },
    {
      "cell_type": "code",
      "source": [
        "aquarium=[goldfish,whale]\n",
        "\n",
        "aquarium"
      ],
      "metadata": {
        "colab": {
          "base_uri": "https://localhost:8080/"
        },
        "id": "MZoIGUtliEcD",
        "outputId": "66de8b73-c63e-4123-ed10-2f9a4cc5ec8e"
      },
      "execution_count": 31,
      "outputs": [
        {
          "output_type": "execute_result",
          "data": {
            "text/plain": [
              "[<__main__.XFish at 0x782623e86170>, <__main__.XFish at 0x782623e87400>]"
            ]
          },
          "metadata": {},
          "execution_count": 31
        }
      ]
    },
    {
      "cell_type": "code",
      "source": [
        "for fish in aquarium:\n",
        "  print(type(fish))\n",
        "  #print(fish.toString())"
      ],
      "metadata": {
        "colab": {
          "base_uri": "https://localhost:8080/"
        },
        "id": "nyTKiwtiiTTa",
        "outputId": "0399650c-b9e6-4fdd-f75b-71c85866d94f"
      },
      "execution_count": 32,
      "outputs": [
        {
          "output_type": "stream",
          "name": "stdout",
          "text": [
            "<class '__main__.XFish'>\n",
            "<class '__main__.XFish'>\n"
          ]
        }
      ]
    },
    {
      "cell_type": "code",
      "source": [
        "dir(goldfish)"
      ],
      "metadata": {
        "colab": {
          "base_uri": "https://localhost:8080/"
        },
        "id": "Bp2pAWSYihrg",
        "outputId": "25403da4-b0dd-4b24-8e74-a6af2762b6f2"
      },
      "execution_count": 33,
      "outputs": [
        {
          "output_type": "execute_result",
          "data": {
            "text/plain": [
              "['__class__',\n",
              " '__delattr__',\n",
              " '__dict__',\n",
              " '__dir__',\n",
              " '__doc__',\n",
              " '__eq__',\n",
              " '__format__',\n",
              " '__ge__',\n",
              " '__getattribute__',\n",
              " '__gt__',\n",
              " '__hash__',\n",
              " '__init__',\n",
              " '__init_subclass__',\n",
              " '__le__',\n",
              " '__lt__',\n",
              " '__module__',\n",
              " '__ne__',\n",
              " '__new__',\n",
              " '__reduce__',\n",
              " '__reduce_ex__',\n",
              " '__repr__',\n",
              " '__setattr__',\n",
              " '__sizeof__',\n",
              " '__str__',\n",
              " '__subclasshook__',\n",
              " '__weakref__',\n",
              " 'averageSize',\n",
              " 'color',\n",
              " 'isSaltWater',\n",
              " 'kind']"
            ]
          },
          "metadata": {},
          "execution_count": 33
        }
      ]
    },
    {
      "cell_type": "code",
      "source": [
        "class Car:\n",
        "\n",
        "  def __init__(self, engineType, color):\n",
        "      self.engineType=engineType\n",
        "      self.color = color\n",
        "\n",
        "# overloading\n",
        "\n",
        "  # this function uses parameters self and car\n",
        "\n",
        "  # self is self\n",
        "\n",
        "  # car is another car\n",
        "\n",
        "  def isEqual(self, car):\n",
        "      return self.engineType ==  car.engineType and  self.color == car.color\n",
        "\n",
        "  def toString(self):\n",
        "    return \"the car is engine type %s and color %s \" % (self.engineType, self.color)\n",
        "\n",
        "\n"
      ],
      "metadata": {
        "id": "S2ikq6Xvj7zq"
      },
      "execution_count": 34,
      "outputs": []
    },
    {
      "cell_type": "code",
      "source": [
        "tesla=Car(\"electric\", \"blue\")\n",
        "\n",
        "byd=Car(\"electric\", \"blue\")\n",
        "\n",
        "\n"
      ],
      "metadata": {
        "id": "7EMnEn3XkjY3"
      },
      "execution_count": 35,
      "outputs": []
    },
    {
      "cell_type": "code",
      "source": [
        "tesla.isEqual(byd)"
      ],
      "metadata": {
        "colab": {
          "base_uri": "https://localhost:8080/"
        },
        "id": "k2LOuJyolVqL",
        "outputId": "a785e8d9-0ca8-4b70-d254-fa968c8ba319"
      },
      "execution_count": 36,
      "outputs": [
        {
          "output_type": "execute_result",
          "data": {
            "text/plain": [
              "True"
            ]
          },
          "metadata": {},
          "execution_count": 36
        }
      ]
    },
    {
      "cell_type": "code",
      "source": [
        "tesla.toString()\n"
      ],
      "metadata": {
        "colab": {
          "base_uri": "https://localhost:8080/",
          "height": 37
        },
        "id": "oe0lJTY9mO7Z",
        "outputId": "c24cca3d-500a-4a53-82ae-ec3ad2eb53a6"
      },
      "execution_count": 37,
      "outputs": [
        {
          "output_type": "execute_result",
          "data": {
            "text/plain": [
              "'the car is engine type electric and color blue '"
            ],
            "application/vnd.google.colaboratory.intrinsic+json": {
              "type": "string"
            }
          },
          "metadata": {},
          "execution_count": 37
        }
      ]
    },
    {
      "cell_type": "code",
      "source": [
        "dir(tesla)"
      ],
      "metadata": {
        "colab": {
          "base_uri": "https://localhost:8080/"
        },
        "id": "khHzZcAemd0M",
        "outputId": "a255e78b-5923-4362-f8a9-490f3fd1d41f"
      },
      "execution_count": 38,
      "outputs": [
        {
          "output_type": "execute_result",
          "data": {
            "text/plain": [
              "['__class__',\n",
              " '__delattr__',\n",
              " '__dict__',\n",
              " '__dir__',\n",
              " '__doc__',\n",
              " '__eq__',\n",
              " '__format__',\n",
              " '__ge__',\n",
              " '__getattribute__',\n",
              " '__gt__',\n",
              " '__hash__',\n",
              " '__init__',\n",
              " '__init_subclass__',\n",
              " '__le__',\n",
              " '__lt__',\n",
              " '__module__',\n",
              " '__ne__',\n",
              " '__new__',\n",
              " '__reduce__',\n",
              " '__reduce_ex__',\n",
              " '__repr__',\n",
              " '__setattr__',\n",
              " '__sizeof__',\n",
              " '__str__',\n",
              " '__subclasshook__',\n",
              " '__weakref__',\n",
              " 'color',\n",
              " 'engineType',\n",
              " 'isEqual',\n",
              " 'toString']"
            ]
          },
          "metadata": {},
          "execution_count": 38
        }
      ]
    },
    {
      "cell_type": "code",
      "source": [
        "#. for Alexi\n",
        "\n",
        "\n",
        "# figure out why XFish toString() is not working\n",
        "\n",
        "\n",
        "\n",
        "# For everyone else\n",
        "\n",
        "# create a class of any type and make the constructor, tostring, and equals methods\n",
        "\n",
        "# for example, cellphone.  make a a shirt\n",
        "\n",
        "\n",
        "\n"
      ],
      "metadata": {
        "id": "wnR7XNkypPoO"
      },
      "execution_count": null,
      "outputs": []
    }
  ]
}