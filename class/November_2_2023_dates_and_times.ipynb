{
  "cells": [
    {
      "cell_type": "markdown",
      "metadata": {
        "id": "view-in-github",
        "colab_type": "text"
      },
      "source": [
        "<a href=\"https://colab.research.google.com/github/werowe/HypatiaAcademy/blob/master/class/November_2_2023_dates_and_times.ipynb\" target=\"_parent\"><img src=\"https://colab.research.google.com/assets/colab-badge.svg\" alt=\"Open In Colab\"/></a>"
      ]
    },
    {
      "cell_type": "markdown",
      "metadata": {
        "id": "8-yYAiJ3r4k7"
      },
      "source": [
        "# Dates and Times\n",
        "\n",
        "How do you find out what is 12 days from March 12, 2024?  You convert all dates in computers to numbers.  This is necessary so that you can do date math.   \n",
        "\n",
        "Before we explain how to do that, it is necessary to give some definitions about dates.\n",
        "\n",
        "\n",
        "##epoch time\n",
        "Is the number of seconds since January 1, 1970, 00:00:00.  There is no reason they picked that date, thus just needed to pick some date and the 1970s is when medium and small sized computers became available for regular people, meaning not just government and business.  I believe it is probably related to when UNIX was invented (Mac, Android, Linux, and Ubuntu all come from UNIX.)\n",
        "\n",
        "Calculate epoch time:\n",
        "\n",
        "```python\n",
        "import time\n",
        "time.time()\n",
        "```\n",
        "\n",
        "##UTC Time and Time Zones\n",
        "Is also called **Greenwich Mean Time**.  So that people living all over the world can talk about time they need a common reference point.  Greenwich in England was picked for this. All time around the world is relative to that point.  The offset from that point is called a **time zone**.  \n",
        "\n",
        "If you go East one hour from Greenwich then you enter the time zone UTC+1.  If you go west one hour that is UTC-1.\n",
        "\n",
        "Time zone names do not always follow the division of the globe into 24 equal sized slices where the time there is the same.\n",
        "\n",
        "Instead there are also political considerations.  For example, you can roughly say that Western Europe is at UTC+1.  And Eastern Europe is UTC+2.  Cyprus is in UTC+2.\n",
        "\n",
        "A country or region might change its time zone boundaries so that not one piece of the country is in a differene time zone than the rest of the country.  Plus many, but not all countries, change the time by one hour twice per year as the season changes.  This is to (1) save electricity, (2) not have children going to school in the dark, and (3) other.\n",
        "\n",
        "Common time zone names include **Eastern European Time**, **Pacific Time** (roughly California), **Greek Summer Time**, **Eastern Daylight Savings Time** (roughly New York).\n",
        "\n",
        "Here is the current UTC time, which would be the same as saying the current time in Greenwich, England.\n",
        "\n",
        "```python\n",
        "from datetime import datetime, timezone\n",
        "datetime.now(timezone.utc)\n",
        "```\n",
        "Here is how to list all time zone names.  Note that there are hundreds of names.   \n",
        "\n",
        "```python\n",
        "import pytz\n",
        "\n",
        "pytz.all_timezones\n",
        "\n",
        "````\n",
        "\n",
        "#ISO Date\n",
        "The ISO is an organization that sets standards for things like dates, times, and many things in business and engineering.  In computers, the most common time format is called ISO 8601.  This is **year-month-day time and then timezone offset give in minute and seconds**.\n",
        "\n",
        "India Standard Time, for example, is 5.5 hours ahead of UTC, so the time zone offset must allow minutes.  \n",
        "\n",
        "2023-11-02T14:30:00+00:00\n",
        "\n",
        "```python\n",
        "d=date.today()\n",
        "d.isoformat()\n",
        "```\n",
        "\n"
      ]
    },
    {
      "cell_type": "code",
      "source": [
        "#Epoch time\n",
        "\n",
        "import time\n",
        "time.time()\n"
      ],
      "metadata": {
        "colab": {
          "base_uri": "https://localhost:8080/"
        },
        "id": "scSqD_Yeu5z1",
        "outputId": "27e31662-5cc7-4c0a-9347-ca0382204d53"
      },
      "execution_count": null,
      "outputs": [
        {
          "output_type": "execute_result",
          "data": {
            "text/plain": [
              "1698909954.1945112"
            ]
          },
          "metadata": {},
          "execution_count": 33
        }
      ]
    },
    {
      "cell_type": "code",
      "source": [
        "# UTC time\n",
        "\n",
        "from datetime import datetime, timezone\n",
        "datetime.now(timezone.utc)"
      ],
      "metadata": {
        "colab": {
          "base_uri": "https://localhost:8080/"
        },
        "id": "y49TDTKLwCOu",
        "outputId": "fe9ff6f5-5a04-4d16-9acd-751105016e6a"
      },
      "execution_count": null,
      "outputs": [
        {
          "output_type": "execute_result",
          "data": {
            "text/plain": [
              "datetime.datetime(2023, 11, 2, 7, 25, 54, 731685, tzinfo=datetime.timezone.utc)"
            ]
          },
          "metadata": {},
          "execution_count": 34
        }
      ]
    },
    {
      "cell_type": "markdown",
      "source": [
        "Below, we get the Current date.  \n",
        "\n",
        "Defaults to your time zone, meaning the time which is on your computer, which should be where you are located.  \n",
        "\n",
        "**Note**:  If you rent a cloud server from Amazon or someone else note that the time there might not be the time where you are located.  That could be many timezones away."
      ],
      "metadata": {
        "id": "M7b2Swvf8aBF"
      }
    },
    {
      "cell_type": "code",
      "source": [
        "from datetime import date\n",
        "\n",
        "\n",
        "print(date.today())\n"
      ],
      "metadata": {
        "colab": {
          "base_uri": "https://localhost:8080/"
        },
        "id": "YST3u4QtsCvU",
        "outputId": "acf047aa-3453-4134-fbfa-91da6af6ef1d"
      },
      "execution_count": null,
      "outputs": [
        {
          "output_type": "stream",
          "name": "stdout",
          "text": [
            "2023-11-02\n"
          ]
        }
      ]
    },
    {
      "cell_type": "markdown",
      "source": [
        "Here is how to create a date using the date constructor.\n",
        "\n",
        "Now that there is a **datetime** Python package that includes both **date**, **time**, and **dateime** objects.  "
      ],
      "metadata": {
        "id": "oQHWrUuCzYg4"
      }
    },
    {
      "cell_type": "code",
      "source": [
        "\n",
        "someday = date(day=10, month=3, year=2023)\n",
        "\n",
        "print(someday.strftime('%a, %d-%b-%Y'))\n"
      ],
      "metadata": {
        "colab": {
          "base_uri": "https://localhost:8080/"
        },
        "id": "_2WqOTPysY-V",
        "outputId": "190c0276-f854-439a-918d-292ba9856cda"
      },
      "execution_count": null,
      "outputs": [
        {
          "output_type": "stream",
          "name": "stdout",
          "text": [
            "Fri, 10-Mar-2023\n"
          ]
        }
      ]
    },
    {
      "cell_type": "markdown",
      "source": [
        "Here we want to create a date and time, thus we use the **datetime** object instead of just date or time."
      ],
      "metadata": {
        "id": "-kZQfZv_0Fyu"
      }
    },
    {
      "cell_type": "code",
      "source": [
        "import datetime\n",
        "\n",
        "datetime.datetime(day=10, month=3, year=2023, hour=12, minute=10, second=40)"
      ],
      "metadata": {
        "colab": {
          "base_uri": "https://localhost:8080/"
        },
        "id": "gjOdG36Ozrh4",
        "outputId": "ba43bc50-b906-40f9-fbf1-24cd291e2b3d"
      },
      "execution_count": null,
      "outputs": [
        {
          "output_type": "execute_result",
          "data": {
            "text/plain": [
              "datetime.datetime(2023, 3, 10, 12, 10, 40)"
            ]
          },
          "metadata": {},
          "execution_count": 37
        }
      ]
    },
    {
      "cell_type": "markdown",
      "metadata": {
        "id": "IYpXz2Hur4k9"
      },
      "source": [
        "Here we get the current date and time.  Then we add 14 days, 14 hours, 14 minutes, and 14 seconds to it.  We use the **timedelta** object for that.  The word **delta** is a Greek word that is used in math to mean **change**.  It is represented by this symbol (Δ)."
      ]
    },
    {
      "cell_type": "code",
      "execution_count": null,
      "metadata": {
        "colab": {
          "base_uri": "https://localhost:8080/"
        },
        "id": "edmOT3nfGdet",
        "outputId": "2bf8814a-8943-4ca1-836b-e6aa6d07c0d8"
      },
      "outputs": [
        {
          "output_type": "stream",
          "name": "stdout",
          "text": [
            "date and time now: 02-11-23 07:40:11\n",
            "new date with time added 16-11 21:54:25\n"
          ]
        }
      ],
      "source": [
        "import datetime\n",
        "\n",
        "current_datetime = datetime.datetime.now()\n",
        "\n",
        "formatted_datetime = current_datetime.strftime(\"%d-%m-%y %H:%M:%S\")\n",
        "print(\"date and time now:\", formatted_datetime)\n",
        "\n",
        "\n",
        "delta = datetime.timedelta(days=14, hours=14, minutes=14, seconds=14)\n",
        "updated_datetime = current_datetime + delta\n",
        "\n",
        "formatted_updated_datetime = updated_datetime.strftime(\"%d-%m %H:%M:%S\")\n",
        "print(\"new date with time added\", formatted_updated_datetime)"
      ]
    },
    {
      "cell_type": "markdown",
      "metadata": {
        "id": "_h6HDrCPr4k_"
      },
      "source": [
        "Here we format the current date into ISO format."
      ]
    },
    {
      "cell_type": "code",
      "execution_count": null,
      "metadata": {
        "colab": {
          "base_uri": "https://localhost:8080/"
        },
        "id": "PizK7kImr4lA",
        "outputId": "58a8ded9-4e99-4c2c-c91b-37379c9c6632"
      },
      "outputs": [
        {
          "output_type": "stream",
          "name": "stdout",
          "text": [
            "2023-11-02\n"
          ]
        }
      ],
      "source": [
        "d=date.today()\n",
        "print(d.isoformat())"
      ]
    },
    {
      "cell_type": "markdown",
      "metadata": {
        "id": "JQuhXc23r4lA"
      },
      "source": [
        "Print date in year-month-day format."
      ]
    },
    {
      "cell_type": "code",
      "execution_count": null,
      "metadata": {
        "colab": {
          "base_uri": "https://localhost:8080/",
          "height": 37
        },
        "id": "MeC8MhO5r4lA",
        "outputId": "c73c454b-23cc-443f-b185-7b53a4e5f3fb"
      },
      "outputs": [
        {
          "output_type": "execute_result",
          "data": {
            "text/plain": [
              "'2023-Nov-02'"
            ],
            "application/vnd.google.colaboratory.intrinsic+json": {
              "type": "string"
            }
          },
          "metadata": {},
          "execution_count": 40
        }
      ],
      "source": [
        "d.strftime('%Y-%h-%d')"
      ]
    },
    {
      "cell_type": "markdown",
      "metadata": {
        "id": "cQnoFWKvr4lA"
      },
      "source": [
        "### Formating Dates\n",
        "\n",
        "Here is the complete list of and time formatting codes.  For example, you can see that %A means write the complete name of the day and not the abbreviated name. %x means print it according to the [locale](https://github.com/werowe/HypatiaAcademy/blob/master/basics/Localization.ipynb)."
      ]
    },
    {
      "cell_type": "code",
      "execution_count": null,
      "metadata": {
        "colab": {
          "base_uri": "https://localhost:8080/",
          "height": 37
        },
        "id": "b-l_UlMsr4lA",
        "outputId": "a769ae4c-053e-4b17-cd37-f9fee2e042d2"
      },
      "outputs": [
        {
          "output_type": "execute_result",
          "data": {
            "text/plain": [
              "'Thu Thursday 4 02 Nov November 11 23 2023 00 12 AM 00 00 000000   306 44 44 Thu Nov  2 00:00:00 2023 00:00:00 11/02/23'"
            ],
            "application/vnd.google.colaboratory.intrinsic+json": {
              "type": "string"
            }
          },
          "metadata": {},
          "execution_count": 41
        }
      ],
      "source": [
        "d.strftime('%a %A %w %d %b %B %m %y %Y %H %I %p %M %S %f %Z %z %j %U %W %c %X %x')"
      ]
    },
    {
      "cell_type": "markdown",
      "metadata": {
        "id": "Bkng0z2jr4lA"
      },
      "source": [
        "Go forward in time one week.\n"
      ]
    },
    {
      "cell_type": "code",
      "execution_count": null,
      "metadata": {
        "colab": {
          "base_uri": "https://localhost:8080/"
        },
        "id": "HMqLj9jHr4lB",
        "outputId": "aec56bf2-24f5-449f-c043-ab38d2e95c1a"
      },
      "outputs": [
        {
          "output_type": "stream",
          "name": "stdout",
          "text": [
            "2023-11-09\n"
          ]
        }
      ],
      "source": [
        "\n",
        "from datetime import timedelta\n",
        "oneWeek=timedelta(days=7,hours=0, minutes=0, seconds=0, microseconds=0)\n",
        "d=date.today()+oneWeek\n",
        "print(d.isoformat())"
      ]
    },
    {
      "cell_type": "markdown",
      "metadata": {
        "id": "ehf9HCkXr4lB"
      },
      "source": [
        "Go back in time one week."
      ]
    },
    {
      "cell_type": "code",
      "execution_count": null,
      "metadata": {
        "colab": {
          "base_uri": "https://localhost:8080/"
        },
        "id": "i5vzrnKvr4lB",
        "outputId": "485775bb-6d63-481a-fa82-f0e7a71491fe"
      },
      "outputs": [
        {
          "output_type": "stream",
          "name": "stdout",
          "text": [
            "2023-10-26\n"
          ]
        }
      ],
      "source": [
        "\n",
        "from datetime import timedelta\n",
        "oneWeek=timedelta(days=-7,hours=0, minutes=0, seconds=0, microseconds=0)\n",
        "d=date.today()+oneWeek\n",
        "print(d.isoformat())"
      ]
    },
    {
      "cell_type": "markdown",
      "source": [
        "#Homework\n",
        "\n",
        "Calculate the current time.  Then calculate how many days, hours, minutes, second, and miliseconds that is after epoch time.\n",
        "\n",
        "**Hint**:  use division.  24 hours in a day, 60 minutes in an hour, etc.  \n",
        "\n",
        "Anwer:  https://github.com/werowe/HypatiaAcademy/blob/master/class/november-10-2023-convert-epoch-time-to-days-hours-minutes-seconds.ipynb\n"
      ],
      "metadata": {
        "id": "X_SH5zwB7ZV3"
      }
    }
  ],
  "metadata": {
    "kernelspec": {
      "display_name": "Python 3",
      "language": "python",
      "name": "python3"
    },
    "language_info": {
      "codemirror_mode": {
        "name": "ipython",
        "version": 3
      },
      "file_extension": ".py",
      "mimetype": "text/x-python",
      "name": "python",
      "nbconvert_exporter": "python",
      "pygments_lexer": "ipython3",
      "version": "3.4.4"
    },
    "colab": {
      "provenance": [],
      "include_colab_link": true
    }
  },
  "nbformat": 4,
  "nbformat_minor": 0
}