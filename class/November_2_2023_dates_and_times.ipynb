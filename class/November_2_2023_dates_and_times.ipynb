{
  "cells": [
    {
      "cell_type": "markdown",
      "metadata": {
        "id": "view-in-github",
        "colab_type": "text"
      },
      "source": [
        "<a href=\"https://colab.research.google.com/github/werowe/HypatiaAcademy/blob/master/class/November_2_2023_dates_and_times.ipynb\" target=\"_parent\"><img src=\"https://colab.research.google.com/assets/colab-badge.svg\" alt=\"Open In Colab\"/></a>"
      ]
    },
    {
      "cell_type": "markdown",
      "metadata": {
        "id": "8-yYAiJ3r4k7"
      },
      "source": [
        "# Dates and Times\n",
        "\n",
        "How do you find out what is 12 days from March 12, 2024?  This is necessary so that you can do date math.   \n",
        "\n",
        "Before we explain that it is necessary to give some definitions about dates.\n",
        "\n",
        "\n",
        "##epoch time\n",
        "Is the number of seconds since this date, which is called January 1, 1970, 00:00:00.\n",
        "\n",
        "```python\n",
        "import time\n",
        "time.time()\n",
        "```\n",
        "\n",
        "##UTC Time and Time Zones\n",
        "Is also called **Greenwich Mean Time**.  So that people living all over the world can talk about time they need a point at which time will be zero.  Greenwich in England was picked for this.   \n",
        "\n",
        "If you go East one hour from Greenwich then you enter the **time zone** UTC+1.  If you go west one hour that is UTC-1.\n",
        "\n",
        "Time zones do not always follow the division of the globe into 24 equal sized slices where the time there is the same.  Instead they follow political division in addition to how far away the location is from Greenwich.  For example, you can roughly say that Western Europe is at UTC+1.  And Eastern Europe is UTC+2.  Like Cyprus is in UTC+2.\n",
        "\n",
        "Common time zone names include **Eastern European Time**, **Pacific Time** (roughly California).  \n",
        "\n",
        "```python\n",
        "from datetime import datetime, timezone\n",
        "datetime.now(timezone.utc)\n",
        "```\n",
        "Here is how to list all time zone names.   \n",
        "\n",
        "```python\n",
        "import pytz\n",
        "\n",
        "pytz.all_timezones\n",
        "\n",
        "````\n",
        "\n",
        "#ISO Date\n",
        "The ISO is an organization that sets standards for things like dates, times, and many things in business and engineering.  In computers, the most common time format is called ISO 8601.  This is year-month-day time and then timezone offset give in minute and seconds. (India, for example, havs one timezone that is 30 minutes different from the previous and not one hour, so the offset cannot always be a whole number.)\n",
        "\n",
        "2023-11-02T14:30:00+00:00\n",
        "\n",
        "```python\n",
        "d=date.today()\n",
        "d.isoformat()\n",
        "```\n",
        "\n"
      ]
    },
    {
      "cell_type": "code",
      "source": [
        "#Epoch time\n",
        "\n",
        "import time\n",
        "time.time()\n"
      ],
      "metadata": {
        "colab": {
          "base_uri": "https://localhost:8080/"
        },
        "id": "scSqD_Yeu5z1",
        "outputId": "a36a702e-daea-4d73-ef9c-58bb8b18c33c"
      },
      "execution_count": 22,
      "outputs": [
        {
          "output_type": "execute_result",
          "data": {
            "text/plain": [
              "1698908479.6292245"
            ]
          },
          "metadata": {},
          "execution_count": 22
        }
      ]
    },
    {
      "cell_type": "code",
      "source": [
        "# UTC time\n",
        "\n",
        "from datetime import datetime, timezone\n",
        "datetime.now(timezone.utc)"
      ],
      "metadata": {
        "colab": {
          "base_uri": "https://localhost:8080/"
        },
        "id": "y49TDTKLwCOu",
        "outputId": "c74644bf-a83c-4dbf-d0b1-b4255185f0d6"
      },
      "execution_count": 23,
      "outputs": [
        {
          "output_type": "execute_result",
          "data": {
            "text/plain": [
              "datetime.datetime(2023, 11, 2, 7, 1, 20, 25400, tzinfo=datetime.timezone.utc)"
            ]
          },
          "metadata": {},
          "execution_count": 23
        }
      ]
    },
    {
      "cell_type": "code",
      "source": [
        "from datetime import date\n",
        "\n",
        "\n",
        "print(date.today())\n"
      ],
      "metadata": {
        "colab": {
          "base_uri": "https://localhost:8080/"
        },
        "id": "YST3u4QtsCvU",
        "outputId": "301efdab-f6d7-47a3-ca4e-c999406d0c78"
      },
      "execution_count": 24,
      "outputs": [
        {
          "output_type": "stream",
          "name": "stdout",
          "text": [
            "2023-11-02\n"
          ]
        }
      ]
    },
    {
      "cell_type": "markdown",
      "source": [
        "Here is how to create a date using the date constructor.\n",
        "\n",
        "Now that there is a datetime Python package that includes both   date, time, and datime objects.  "
      ],
      "metadata": {
        "id": "oQHWrUuCzYg4"
      }
    },
    {
      "cell_type": "code",
      "source": [
        "\n",
        "someday = date(day=10, month=3, year=2023)\n",
        "\n",
        "print(someday.strftime('%a, %d-%b-%Y'))\n"
      ],
      "metadata": {
        "colab": {
          "base_uri": "https://localhost:8080/"
        },
        "id": "_2WqOTPysY-V",
        "outputId": "416eb7c2-b787-4f57-e4e1-9cde4e74de82"
      },
      "execution_count": 25,
      "outputs": [
        {
          "output_type": "stream",
          "name": "stdout",
          "text": [
            "Fri, 10-Mar-2023\n"
          ]
        }
      ]
    },
    {
      "cell_type": "markdown",
      "source": [
        "Here we want to create a date and time, thus we use the datetime object instead of just date or time."
      ],
      "metadata": {
        "id": "-kZQfZv_0Fyu"
      }
    },
    {
      "cell_type": "code",
      "source": [
        "import datetime\n",
        "\n",
        "datetime.datetime(day=10, month=3, year=2023, hour=12, minute=10, second=40)"
      ],
      "metadata": {
        "colab": {
          "base_uri": "https://localhost:8080/"
        },
        "id": "gjOdG36Ozrh4",
        "outputId": "fbc1c5d3-3294-4950-c83a-87180d29696e"
      },
      "execution_count": 26,
      "outputs": [
        {
          "output_type": "execute_result",
          "data": {
            "text/plain": [
              "datetime.datetime(2023, 3, 10, 12, 10, 40)"
            ]
          },
          "metadata": {},
          "execution_count": 26
        }
      ]
    },
    {
      "cell_type": "markdown",
      "metadata": {
        "id": "IYpXz2Hur4k9"
      },
      "source": [
        "Here we get the current date and time.  Then we add 14 days, 14 hours, 14 minutes, and 14 seconds to it."
      ]
    },
    {
      "cell_type": "code",
      "execution_count": 27,
      "metadata": {
        "colab": {
          "base_uri": "https://localhost:8080/"
        },
        "id": "edmOT3nfGdet",
        "outputId": "482df806-f8d8-4db0-fe3f-4be2cd2a22fb"
      },
      "outputs": [
        {
          "output_type": "stream",
          "name": "stdout",
          "text": [
            "date and time now: 02-11-23 07:01:20\n",
            "date and time with extra time: 16-11 21:15:34\n"
          ]
        }
      ],
      "source": [
        "import datetime\n",
        "\n",
        "current_datetime = datetime.datetime.now()\n",
        "\n",
        "formatted_datetime = current_datetime.strftime(\"%d-%m-%y %H:%M:%S\")\n",
        "print(\"date and time now:\", formatted_datetime)\n",
        "\n",
        "\n",
        "delta = datetime.timedelta(days=14, hours=14, minutes=14, seconds=14)\n",
        "updated_datetime = current_datetime + delta\n",
        "\n",
        "formatted_updated_datetime = updated_datetime.strftime(\"%d-%m %H:%M:%S\")\n",
        "print(\"date and time with extra time:\", formatted_updated_datetime)"
      ]
    },
    {
      "cell_type": "markdown",
      "metadata": {
        "id": "_h6HDrCPr4k_"
      },
      "source": [
        "Here we format the current date into ISO format."
      ]
    },
    {
      "cell_type": "code",
      "execution_count": 28,
      "metadata": {
        "colab": {
          "base_uri": "https://localhost:8080/"
        },
        "id": "PizK7kImr4lA",
        "outputId": "c3a59660-5678-4fe0-90f6-0bbb6ab12d07"
      },
      "outputs": [
        {
          "output_type": "stream",
          "name": "stdout",
          "text": [
            "2023-11-02\n"
          ]
        }
      ],
      "source": [
        "d=date.today()\n",
        "print(d.isoformat())"
      ]
    },
    {
      "cell_type": "markdown",
      "metadata": {
        "id": "JQuhXc23r4lA"
      },
      "source": [
        "Print date in year-month-day format."
      ]
    },
    {
      "cell_type": "code",
      "execution_count": 29,
      "metadata": {
        "colab": {
          "base_uri": "https://localhost:8080/",
          "height": 37
        },
        "id": "MeC8MhO5r4lA",
        "outputId": "d9106f2b-59e1-4cef-bfc5-80efa508779c"
      },
      "outputs": [
        {
          "output_type": "execute_result",
          "data": {
            "text/plain": [
              "'2023-Nov-02'"
            ],
            "application/vnd.google.colaboratory.intrinsic+json": {
              "type": "string"
            }
          },
          "metadata": {},
          "execution_count": 29
        }
      ],
      "source": [
        "d.strftime('%Y-%h-%d')"
      ]
    },
    {
      "cell_type": "markdown",
      "metadata": {
        "id": "cQnoFWKvr4lA"
      },
      "source": [
        "### Formating Dates\n",
        "\n",
        "Here is the complete list of and time formatting codes.  For example, you can see that %A means write the complete name of the day and not the abbreviated name. %x means print it according to the [locale](https://github.com/werowe/HypatiaAcademy/blob/master/basics/Localization.ipynb)."
      ]
    },
    {
      "cell_type": "code",
      "execution_count": 30,
      "metadata": {
        "colab": {
          "base_uri": "https://localhost:8080/",
          "height": 37
        },
        "id": "b-l_UlMsr4lA",
        "outputId": "cb5dc23a-e102-4bb3-f409-0966643833d9"
      },
      "outputs": [
        {
          "output_type": "execute_result",
          "data": {
            "text/plain": [
              "'Thu Thursday 4 02 Nov November 11 23 2023 00 12 AM 00 00 000000   306 44 44 Thu Nov  2 00:00:00 2023 00:00:00 11/02/23'"
            ],
            "application/vnd.google.colaboratory.intrinsic+json": {
              "type": "string"
            }
          },
          "metadata": {},
          "execution_count": 30
        }
      ],
      "source": [
        "d.strftime('%a %A %w %d %b %B %m %y %Y %H %I %p %M %S %f %Z %z %j %U %W %c %X %x')"
      ]
    },
    {
      "cell_type": "markdown",
      "metadata": {
        "id": "Bkng0z2jr4lA"
      },
      "source": [
        "Go forward in time one week.\n"
      ]
    },
    {
      "cell_type": "code",
      "execution_count": 31,
      "metadata": {
        "colab": {
          "base_uri": "https://localhost:8080/"
        },
        "id": "HMqLj9jHr4lB",
        "outputId": "56d361d0-dfb1-4073-afa6-cdd28fd1ebcc"
      },
      "outputs": [
        {
          "output_type": "stream",
          "name": "stdout",
          "text": [
            "2023-11-09\n"
          ]
        }
      ],
      "source": [
        "\n",
        "from datetime import timedelta\n",
        "oneWeek=timedelta(days=7,hours=0, minutes=0, seconds=0, microseconds=0)\n",
        "d=date.today()+oneWeek\n",
        "print(d.isoformat())"
      ]
    },
    {
      "cell_type": "markdown",
      "metadata": {
        "id": "ehf9HCkXr4lB"
      },
      "source": [
        "Go back in time one week."
      ]
    },
    {
      "cell_type": "code",
      "execution_count": 32,
      "metadata": {
        "colab": {
          "base_uri": "https://localhost:8080/"
        },
        "id": "i5vzrnKvr4lB",
        "outputId": "0f6a3995-915b-436d-ca6c-a7cf22871258"
      },
      "outputs": [
        {
          "output_type": "stream",
          "name": "stdout",
          "text": [
            "2023-10-26\n"
          ]
        }
      ],
      "source": [
        "\n",
        "from datetime import timedelta\n",
        "oneWeek=timedelta(days=-7,hours=0, minutes=0, seconds=0, microseconds=0)\n",
        "d=date.today()+oneWeek\n",
        "print(d.isoformat())"
      ]
    }
  ],
  "metadata": {
    "kernelspec": {
      "display_name": "Python 3",
      "language": "python",
      "name": "python3"
    },
    "language_info": {
      "codemirror_mode": {
        "name": "ipython",
        "version": 3
      },
      "file_extension": ".py",
      "mimetype": "text/x-python",
      "name": "python",
      "nbconvert_exporter": "python",
      "pygments_lexer": "ipython3",
      "version": "3.4.4"
    },
    "colab": {
      "provenance": [],
      "include_colab_link": true
    }
  },
  "nbformat": 4,
  "nbformat_minor": 0
}