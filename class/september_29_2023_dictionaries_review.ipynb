{
  "nbformat": 4,
  "nbformat_minor": 0,
  "metadata": {
    "colab": {
      "provenance": [],
      "authorship_tag": "ABX9TyPbypszshFBbmNcSGyG/2uB",
      "include_colab_link": true
    },
    "kernelspec": {
      "name": "python3",
      "display_name": "Python 3"
    },
    "language_info": {
      "name": "python"
    }
  },
  "cells": [
    {
      "cell_type": "markdown",
      "metadata": {
        "id": "view-in-github",
        "colab_type": "text"
      },
      "source": [
        "<a href=\"https://colab.research.google.com/github/werowe/HypatiaAcademy/blob/master/class/september_29_2023_dictionaries_review.ipynb\" target=\"_parent\"><img src=\"https://colab.research.google.com/assets/colab-badge.svg\" alt=\"Open In Colab\"/></a>"
      ]
    },
    {
      "cell_type": "code",
      "execution_count": 2,
      "metadata": {
        "colab": {
          "base_uri": "https://localhost:8080/"
        },
        "id": "EBg7YKR1QMl5",
        "outputId": "7bb52391-dd90-408e-ad6e-ea57b71c5192"
      },
      "outputs": [
        {
          "output_type": "stream",
          "name": "stdout",
          "text": [
            "{'name': 'Lika', 'age': 16}\n",
            "{'name': 'anna', 'age': 14}\n",
            "==============================\n",
            "The student anna is 14 years old\n",
            "The student anna is 14 years old\n",
            "The student anna is 14 years old\n"
          ]
        }
      ],
      "source": [
        "'''\n",
        "\n",
        "make a list of dictionary objects\n",
        "\n",
        "print each object\n",
        "\n",
        "print each dictionary\n",
        "\n",
        "'''\n",
        "\n",
        "\n",
        "# empty dictionary\n",
        "\n",
        "# constructor makes an empty object\n",
        "\n",
        "d={}\n",
        "\n",
        "# empty list\n",
        "\n",
        "l=[]\n",
        "\n",
        "# set\n",
        "s={}\n",
        "\n",
        "\n",
        "# a dictionary is key-value pairs\n",
        "\n",
        "students=[\"Lika\", \"Anna\"]\n",
        "\n",
        "students[0]\n",
        "\n",
        "# json\n",
        "# javascript object notation\n",
        "\n",
        "\n",
        "lika = {\n",
        "      \"name\": \"Lika\",\n",
        "      \"age\": 16\n",
        "}\n",
        "\n",
        "anna = {\n",
        "      \"name\": \"anna\",\n",
        "      \"age\": 14\n",
        "}\n",
        "\n",
        "print(lika)\n",
        "print(anna)\n",
        "\n",
        "print(\"==============================\")\n",
        "\n",
        "# here are three ways to print name and age\n",
        "\n",
        "print(\"The student\" , anna['name'] , \"is\" , anna[\"age\"] , \"years old\")\n",
        "\n",
        "print(\"The student \" + anna['name'] + \" is \" + str(anna[\"age\"]) + \" years old\")\n",
        "\n",
        "print(\"The student %s is %i years old\" % (anna['name'], anna[\"age\"]))"
      ]
    },
    {
      "cell_type": "code",
      "source": [
        "print(\"a\",\"b\",\"c\")\n",
        "print(\"a \"+\"b \"+\"c\")\n",
        "print(\"%s %s %s\" % (\"a\", \"b\", \"c\"))\n"
      ],
      "metadata": {
        "id": "yTf2ytom4Dqd",
        "outputId": "df31c117-dbd4-4f07-e7ec-85961967dbff",
        "colab": {
          "base_uri": "https://localhost:8080/"
        }
      },
      "execution_count": 7,
      "outputs": [
        {
          "output_type": "stream",
          "name": "stdout",
          "text": [
            "a b c\n",
            "a b c\n",
            "a b c\n"
          ]
        }
      ]
    },
    {
      "cell_type": "code",
      "source": [
        "# dictionary is key-value pairs\n",
        "\n",
        "# like :\n",
        "\n",
        "artem = {\n",
        "    \"name\": \"artem\",\n",
        "    \"pet\": \"dog\",\n",
        "    \"car\": \"bike\"\n",
        "    }\n",
        "\n",
        "artem=[\"dog\", \"bike\"]\n",
        "\n"
      ],
      "metadata": {
        "id": "yRjiAF2O25X8"
      },
      "execution_count": null,
      "outputs": []
    },
    {
      "cell_type": "code",
      "source": [
        "# add keys to a dictionary\n",
        "# make up a name and then write dictionaryObject['whateverName']\n",
        "\n",
        "anna['languages'] = ['en', 'uk', 'gr', 'ru']\n",
        "\n",
        "print(anna)\n",
        "\n",
        "print(\"The student %s knows %i languages\" % (anna['name'], len(anna['languages'])))"
      ],
      "metadata": {
        "colab": {
          "base_uri": "https://localhost:8080/"
        },
        "id": "lmouwqC8S7LC",
        "outputId": "0ce133ed-96b9-4348-8de7-b1a6b1db0e75"
      },
      "execution_count": 8,
      "outputs": [
        {
          "output_type": "stream",
          "name": "stdout",
          "text": [
            "{'name': 'anna', 'age': 14, 'languages': ['en', 'uk', 'gr', 'ru']}\n",
            "The student anna knows 4 languages\n"
          ]
        }
      ]
    },
    {
      "cell_type": "code",
      "source": [
        "\"the letter is %s\" % (\"a\")\n",
        "\"the number is %i\" % (1)\n",
        "\n",
        "\"a decimal number %2.2f\" % (3.4)\n",
        "\n",
        ""
      ],
      "metadata": {
        "id": "85vCJ_6O5diO",
        "outputId": "20ce3554-d128-4729-c35a-2a33b503655d",
        "colab": {
          "base_uri": "https://localhost:8080/",
          "height": 37
        }
      },
      "execution_count": 15,
      "outputs": [
        {
          "output_type": "execute_result",
          "data": {
            "text/plain": [
              "'a decimal number 3.40'"
            ],
            "application/vnd.google.colaboratory.intrinsic+json": {
              "type": "string"
            }
          },
          "metadata": {},
          "execution_count": 15
        }
      ]
    },
    {
      "cell_type": "code",
      "source": [
        "print(len(anna['languages']))"
      ],
      "metadata": {
        "id": "Q2OjVkQt5Spr",
        "outputId": "0ce810c4-2e39-4b06-84a9-76c22b270190",
        "colab": {
          "base_uri": "https://localhost:8080/"
        }
      },
      "execution_count": 10,
      "outputs": [
        {
          "output_type": "stream",
          "name": "stdout",
          "text": [
            "4\n"
          ]
        }
      ]
    },
    {
      "cell_type": "code",
      "source": [
        "g=[1,2,3,\"4\"]"
      ],
      "metadata": {
        "id": "Ih4NK6dj6MQ8"
      },
      "execution_count": 16,
      "outputs": []
    },
    {
      "cell_type": "code",
      "source": [
        " # make an empty list then add two objects to it\n",
        "\n",
        "lika['languages']=['en','ru','ge']\n",
        "\n",
        "# list\n",
        "students=[]\n",
        "\n",
        "#set\n",
        "#students={}\n",
        "\n",
        "\n",
        "students.append(lika)\n",
        "students.append(anna)\n",
        "print(students)\n",
        "\n",
        "\n",
        "for i in students:\n",
        "  print(i)\n",
        "  print(\"========\")"
      ],
      "metadata": {
        "colab": {
          "base_uri": "https://localhost:8080/"
        },
        "id": "xEVCwtb1TxTg",
        "outputId": "94506863-8ef5-47fa-f69b-0ea540698312"
      },
      "execution_count": 18,
      "outputs": [
        {
          "output_type": "stream",
          "name": "stdout",
          "text": [
            "[{'name': 'Lika', 'age': 16, 'languages': ['en', 'ru', 'ge']}, {'name': 'anna', 'age': 14, 'languages': ['en', 'uk', 'gr', 'ru']}]\n",
            "{'name': 'Lika', 'age': 16, 'languages': ['en', 'ru', 'ge']}\n",
            "========\n",
            "{'name': 'anna', 'age': 14, 'languages': ['en', 'uk', 'gr', 'ru']}\n",
            "========\n"
          ]
        }
      ]
    },
    {
      "cell_type": "code",
      "source": [
        "# a constructor initializes an object that means make it empty\n",
        "\n",
        "#student=[]\n",
        "\n",
        "\n",
        "students.append(lika)\n",
        "\n",
        "for s in students:\n",
        "  print(s)"
      ],
      "metadata": {
        "colab": {
          "base_uri": "https://localhost:8080/"
        },
        "id": "wdVPog1OUeR5",
        "outputId": "b86b1f65-daa1-458a-9dd2-6de8eb97ef03"
      },
      "execution_count": 22,
      "outputs": [
        {
          "output_type": "stream",
          "name": "stdout",
          "text": [
            "{'name': 'Lika', 'age': 16, 'languages': ['en', 'ru', 'ge']}\n",
            "{'name': 'anna', 'age': 14, 'languages': ['en', 'uk', 'gr', 'ru']}\n",
            "{'name': 'Lika', 'age': 16, 'languages': ['en', 'ru', 'ge']}\n",
            "{'name': 'Lika', 'age': 16, 'languages': ['en', 'ru', 'ge']}\n",
            "{'name': 'Lika', 'age': 16, 'languages': ['en', 'ru', 'ge']}\n",
            "{'name': 'Lika', 'age': 16, 'languages': ['en', 'ru', 'ge']}\n"
          ]
        }
      ]
    },
    {
      "cell_type": "code",
      "source": [
        "s={}\n",
        "\n",
        "type(s)\n",
        "\n",
        "s={\"a\",\"b\",\"c\"}\n",
        "s.add(\"d\")\n",
        "\n",
        "print(s)\n",
        "\n",
        "\n",
        "n={1,1,1,1,1,1}\n",
        "\n",
        "print(n)\n",
        "\n",
        "a={1,2,3}\n",
        "b={3,4,5}\n",
        "\n",
        "print(\"intersection=\", a.intersection(b))\n",
        "print(\"union=\",a.union(b))"
      ],
      "metadata": {
        "colab": {
          "base_uri": "https://localhost:8080/"
        },
        "id": "qKHvHxuCVEdg",
        "outputId": "c9264f36-1e82-4eac-e724-30456493274a"
      },
      "execution_count": 24,
      "outputs": [
        {
          "output_type": "stream",
          "name": "stdout",
          "text": [
            "{'d', 'b', 'c', 'a'}\n",
            "{1}\n",
            "intersection= {3}\n",
            "union= {1, 2, 3, 4, 5}\n"
          ]
        }
      ]
    },
    {
      "cell_type": "code",
      "source": [
        "k={1,2,3,3,3,3,3,3}\n",
        "\n",
        "print(k)\n",
        "\n"
      ],
      "metadata": {
        "id": "CynSoMoO7ArT",
        "outputId": "b9c785b5-5fa4-4b49-b0ac-3e9b0750d28e",
        "colab": {
          "base_uri": "https://localhost:8080/"
        }
      },
      "execution_count": 23,
      "outputs": [
        {
          "output_type": "stream",
          "name": "stdout",
          "text": [
            "{1, 2, 3}\n"
          ]
        }
      ]
    },
    {
      "cell_type": "code",
      "source": [
        "d={5,4,3}\n",
        "\n",
        "print(d)"
      ],
      "metadata": {
        "colab": {
          "base_uri": "https://localhost:8080/"
        },
        "id": "xqet0JKsWPvs",
        "outputId": "f4ebfd2b-e83e-4694-dd05-431a7e46f0c6"
      },
      "execution_count": null,
      "outputs": [
        {
          "output_type": "stream",
          "name": "stdout",
          "text": [
            "{3, 4, 5}\n"
          ]
        }
      ]
    },
    {
      "cell_type": "code",
      "source": [
        "# why did it print b,c,a\n",
        "\n",
        "\n",
        "c={\"c\",\"b\",\"a\"}\n",
        "print(c)"
      ],
      "metadata": {
        "colab": {
          "base_uri": "https://localhost:8080/"
        },
        "id": "L_sNTJx6Wlv3",
        "outputId": "a5bf36b5-f767-4e54-e8b7-04975f6849e8"
      },
      "execution_count": null,
      "outputs": [
        {
          "output_type": "stream",
          "name": "stdout",
          "text": [
            "{'b', 'c', 'a'}\n"
          ]
        }
      ]
    },
    {
      "cell_type": "code",
      "source": [
        "anna"
      ],
      "metadata": {
        "id": "wp7V-ci98Sfi",
        "outputId": "6f26a6f0-1bc0-49b8-be27-992c7a1d4d3a",
        "colab": {
          "base_uri": "https://localhost:8080/"
        }
      },
      "execution_count": 25,
      "outputs": [
        {
          "output_type": "execute_result",
          "data": {
            "text/plain": [
              "{'name': 'anna', 'age': 14, 'languages': ['en', 'uk', 'gr', 'ru']}"
            ]
          },
          "metadata": {},
          "execution_count": 25
        }
      ]
    },
    {
      "cell_type": "code",
      "source": [
        "\n",
        "\n",
        "print(\"keys \", anna.keys())\n",
        "print(\"values \", anna.values())\n"
      ],
      "metadata": {
        "colab": {
          "base_uri": "https://localhost:8080/"
        },
        "id": "7l1WkYNSXDA5",
        "outputId": "13f5367d-cd3f-410b-cf01-013349ec5e06"
      },
      "execution_count": null,
      "outputs": [
        {
          "output_type": "stream",
          "name": "stdout",
          "text": [
            "keys  dict_keys(['name', 'age', 'languages'])\n",
            "values  dict_values(['anna', 14, ['en', 'uk', 'gr', 'ru']])\n"
          ]
        }
      ]
    },
    {
      "cell_type": "code",
      "source": [
        "# items means go get both the keys and the values\n",
        "\n",
        "# items() is an iterator.  an iterator is anthing you can loop over\n",
        "\n",
        "for key,value in anna.items():\n",
        "  print(key,\":\",value)\n",
        "\n",
        "print(\"============\\n\\n\")\n",
        "\n",
        "for key,value in lika.items():\n",
        "  print(key,\":\",value)"
      ],
      "metadata": {
        "colab": {
          "base_uri": "https://localhost:8080/"
        },
        "id": "MNDgKk8GXVjo",
        "outputId": "ea472e93-e49a-45df-8fe5-c9c74a435f41"
      },
      "execution_count": 28,
      "outputs": [
        {
          "output_type": "stream",
          "name": "stdout",
          "text": [
            "name : anna\n",
            "age : 14\n",
            "languages : ['en', 'uk', 'gr', 'ru']\n",
            "============\n",
            "\n",
            "\n",
            "name : Lika\n",
            "age : 16\n",
            "languages : ['en', 'ru', 'ge']\n"
          ]
        }
      ]
    },
    {
      "cell_type": "code",
      "source": [
        "# loop within a loop\n",
        "\n",
        "# for students is list.  lists are iterable\n",
        "# for keys and values in dictionary item print that\n",
        "\n",
        "for s in students:\n",
        "  for key,value in s.items():\n",
        "    print(key,\":\",value)\n",
        "  print(\"=========\")"
      ],
      "metadata": {
        "colab": {
          "base_uri": "https://localhost:8080/"
        },
        "id": "QNskIzC0XpiM",
        "outputId": "12c02094-8393-4497-f70f-b4d13a03353b"
      },
      "execution_count": null,
      "outputs": [
        {
          "output_type": "stream",
          "name": "stdout",
          "text": [
            "name : Lika\n",
            "age : 16\n",
            "languages : ['en', 'ru', 'ge']\n",
            "=========\n",
            "name : anna\n",
            "age : 14\n",
            "languages : ['en', 'uk', 'gr', 'ru']\n",
            "=========\n"
          ]
        }
      ]
    },
    {
      "cell_type": "code",
      "source": [
        "from IPython.core.formatters import Dict\n",
        "'''\n",
        "\n",
        "we created a dictionary\n",
        "\n",
        "showed how to add keys to a dictionary\n",
        "\n",
        "e={\"key\":\"value\"}\n",
        "e['somethingNew]=\"blah blah\n",
        "\n",
        "we showed how to use sets\n",
        "\n",
        "sets don't allow duplicates\n",
        "\n",
        "s={}\n",
        "\n",
        "you use the s.add()\n",
        "\n",
        "to add an item to a set\n",
        "\n",
        "we added dictionary to a list\n",
        "\n",
        "l=[]\n",
        "\n",
        "use l.append() to add items to a list\n",
        "\n",
        "\n",
        "homework:\n",
        "\n",
        "print anns and lika but print the languages using a loop\n",
        "\n",
        "remember lika['languages'] is a list\n",
        "\n",
        "hint:\n",
        "\n",
        "in the loop above check each key if the type is list then use for i in xxxx to print the languages\n",
        "\n",
        "type(lika['languages'])\n",
        "\n",
        "\n",
        "\n",
        "'''\n",
        "\n",
        "\n",
        "isinstance(lika['languages'],list)\n",
        "\n",
        "\n",
        "isinstance(lika,dict)\n"
      ],
      "metadata": {
        "colab": {
          "base_uri": "https://localhost:8080/"
        },
        "id": "qF90dS_YYcDE",
        "outputId": "42a32fd7-fde9-4dbc-d22f-3c23d2b07d22"
      },
      "execution_count": null,
      "outputs": [
        {
          "output_type": "execute_result",
          "data": {
            "text/plain": [
              "True"
            ]
          },
          "metadata": {},
          "execution_count": 68
        }
      ]
    },
    {
      "cell_type": "code",
      "source": [
        "for l in lika['languages']:\n",
        "  print(l)"
      ],
      "metadata": {
        "id": "pPvZzrS19d1i",
        "outputId": "9f8caf62-f7c8-4705-8905-428f8d3f7c8c",
        "colab": {
          "base_uri": "https://localhost:8080/"
        }
      },
      "execution_count": 30,
      "outputs": [
        {
          "output_type": "stream",
          "name": "stdout",
          "text": [
            "en\n",
            "ru\n",
            "ge\n"
          ]
        }
      ]
    },
    {
      "cell_type": "code",
      "source": [
        "for key,value in anna.items():\n",
        "  print(key,\":\",value, type(value))\n"
      ],
      "metadata": {
        "id": "gwxp5lVQ9qPS",
        "outputId": "f9d7d1d0-3683-4f48-abd3-1da18d7dd9b4",
        "colab": {
          "base_uri": "https://localhost:8080/"
        }
      },
      "execution_count": 32,
      "outputs": [
        {
          "output_type": "stream",
          "name": "stdout",
          "text": [
            "name : anna <class 'str'>\n",
            "age : 14 <class 'int'>\n",
            "languages : ['en', 'uk', 'gr', 'ru'] <class 'list'>\n"
          ]
        }
      ]
    },
    {
      "cell_type": "code",
      "source": [
        "for key,value in anna.items():\n",
        "  print(key,type(value))\n",
        "  if type(value)==list:\n",
        "    for d in value:\n",
        "      print(d)\n",
        "  else:\n",
        "    print(key,\":\",value)\n",
        "\n"
      ],
      "metadata": {
        "id": "U655U72i96TY",
        "outputId": "5e0d8d7f-529f-44b9-99b0-cb66ecf9f372",
        "colab": {
          "base_uri": "https://localhost:8080/"
        }
      },
      "execution_count": 35,
      "outputs": [
        {
          "output_type": "stream",
          "name": "stdout",
          "text": [
            "name <class 'str'>\n",
            "name : anna\n",
            "age <class 'int'>\n",
            "age : 14\n",
            "languages <class 'list'>\n",
            "en\n",
            "uk\n",
            "gr\n",
            "ru\n"
          ]
        }
      ]
    },
    {
      "cell_type": "code",
      "source": [
        "for key,value in anna.items():\n",
        "  print(key,type(value))\n",
        "  if isinstance(value,list):\n",
        "    for d in value:\n",
        "      print(d)\n",
        "  else:\n",
        "    print(key,\":\",value)"
      ],
      "metadata": {
        "id": "2Pmaf7H3-3H_",
        "outputId": "7ef1c8f5-5e6c-4c13-a7a0-f9cf6566d023",
        "colab": {
          "base_uri": "https://localhost:8080/"
        }
      },
      "execution_count": 36,
      "outputs": [
        {
          "output_type": "stream",
          "name": "stdout",
          "text": [
            "name <class 'str'>\n",
            "name : anna\n",
            "age <class 'int'>\n",
            "age : 14\n",
            "languages <class 'list'>\n",
            "en\n",
            "uk\n",
            "gr\n",
            "ru\n"
          ]
        }
      ]
    }
  ]
}