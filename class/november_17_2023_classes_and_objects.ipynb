{
  "nbformat": 4,
  "nbformat_minor": 0,
  "metadata": {
    "colab": {
      "provenance": [],
      "authorship_tag": "ABX9TyPX1WgUuQAtCo5WFH4gD3e6",
      "include_colab_link": true
    },
    "kernelspec": {
      "name": "python3",
      "display_name": "Python 3"
    },
    "language_info": {
      "name": "python"
    }
  },
  "cells": [
    {
      "cell_type": "markdown",
      "metadata": {
        "id": "view-in-github",
        "colab_type": "text"
      },
      "source": [
        "<a href=\"https://colab.research.google.com/github/werowe/HypatiaAcademy/blob/master/class/november_17_2023_classes_and_objects.ipynb\" target=\"_parent\"><img src=\"https://colab.research.google.com/assets/colab-badge.svg\" alt=\"Open In Colab\"/></a>"
      ]
    },
    {
      "cell_type": "code",
      "execution_count": 123,
      "metadata": {
        "id": "Ck-H1luOztHm"
      },
      "outputs": [],
      "source": [
        "ball = {\n",
        "    'psi': 3,\n",
        "    'circumference': 20,\n",
        "    'manufacturer': 'Nike'\n",
        "}"
      ]
    },
    {
      "cell_type": "code",
      "source": [
        "# object definition\n",
        "\n",
        "# class definition\n",
        "\n",
        "class Ball:\n",
        "\n",
        "\n",
        "  # constructor, aka member function\n",
        "\n",
        "  def __init__(self, psi, circumference):\n",
        "    self.psi=psi\n",
        "    self.circumference=circumference\n",
        "\n",
        "\n",
        "  # we don't need, in Python all member attributes are public\n",
        "\n",
        "  def changePsi(self, psi):\n",
        "    self.psi = psi\n",
        "\n",
        "  # get something.\n",
        "  def toString(self):\n",
        "    return \"psi \" + str(self.psi) + \" circumference \" + str(self.circumference)\n"
      ],
      "metadata": {
        "id": "mFvNRIlt0bW8"
      },
      "execution_count": 124,
      "outputs": []
    },
    {
      "cell_type": "code",
      "source": [
        "# create an instance.  instantiate\n",
        "\n",
        "# at runtime pass in the parameters for the instance\n",
        "\n",
        "ball = Ball(psi=30, circumference=20)\n"
      ],
      "metadata": {
        "id": "JdRaugk00q-j"
      },
      "execution_count": 125,
      "outputs": []
    },
    {
      "cell_type": "code",
      "source": [
        "ball.toString()\n"
      ],
      "metadata": {
        "colab": {
          "base_uri": "https://localhost:8080/",
          "height": 37
        },
        "id": "JZVZbJjT001c",
        "outputId": "f80eaa01-68b4-433c-d682-504194358a9f"
      },
      "execution_count": 126,
      "outputs": [
        {
          "output_type": "execute_result",
          "data": {
            "text/plain": [
              "'psi 30 circumference 20'"
            ],
            "application/vnd.google.colaboratory.intrinsic+json": {
              "type": "string"
            }
          },
          "metadata": {},
          "execution_count": 126
        }
      ]
    },
    {
      "cell_type": "code",
      "source": [
        "ball.psi=30"
      ],
      "metadata": {
        "id": "GhDNzMBD2kSt"
      },
      "execution_count": 127,
      "outputs": []
    },
    {
      "cell_type": "code",
      "source": [
        "# not allowed in all programming languages\n",
        "# in Python member attributes are all consider public\n",
        "# there are no private member attributes\n",
        "\n",
        "\n",
        "ball.toString()"
      ],
      "metadata": {
        "colab": {
          "base_uri": "https://localhost:8080/",
          "height": 37
        },
        "id": "VSgm4Z792y0s",
        "outputId": "82b9f483-9e4d-4a58-991e-07e2506fb4e4"
      },
      "execution_count": 128,
      "outputs": [
        {
          "output_type": "execute_result",
          "data": {
            "text/plain": [
              "'psi 30 circumference 20'"
            ],
            "application/vnd.google.colaboratory.intrinsic+json": {
              "type": "string"
            }
          },
          "metadata": {},
          "execution_count": 128
        }
      ]
    },
    {
      "cell_type": "code",
      "source": [
        "# class definition\n",
        "\n",
        "import uuid\n",
        "import random\n",
        "\n",
        "class Student:\n",
        "\n",
        "  def __init__(self, name):\n",
        "    self.name=name\n",
        "    self.studentId=uuid.uuid4()\n",
        "\n",
        "\n",
        "  def toString(self):\n",
        "    return \"student name \" + self.name\n",
        "\n",
        "\n",
        "\n",
        "# creates a students\n",
        "\n",
        "lika=Student(\"Lika\")\n",
        "\n",
        "# print attribute\n",
        "\n",
        "print(lika.name)"
      ],
      "metadata": {
        "colab": {
          "base_uri": "https://localhost:8080/"
        },
        "id": "uK4KiJ_t5h7U",
        "outputId": "b1d16c08-f4fe-482d-a6b5-199583b62e14"
      },
      "execution_count": 129,
      "outputs": [
        {
          "output_type": "stream",
          "name": "stdout",
          "text": [
            "Lika\n"
          ]
        }
      ]
    },
    {
      "cell_type": "code",
      "source": [
        "lika.studentId"
      ],
      "metadata": {
        "colab": {
          "base_uri": "https://localhost:8080/"
        },
        "id": "P5wb1a4a6sE6",
        "outputId": "39cf8843-346f-4eb8-b22c-eea907dd41f7"
      },
      "execution_count": 130,
      "outputs": [
        {
          "output_type": "execute_result",
          "data": {
            "text/plain": [
              "UUID('04478584-8cb9-4446-8597-5f731cb1607f')"
            ]
          },
          "metadata": {},
          "execution_count": 130
        }
      ]
    },
    {
      "cell_type": "code",
      "source": [
        "lika.junk"
      ],
      "metadata": {
        "colab": {
          "base_uri": "https://localhost:8080/"
        },
        "id": "cbOfa-cw7KhD",
        "outputId": "e66f3992-642c-4b83-e73d-53d9eb4f2673"
      },
      "execution_count": 131,
      "outputs": [
        {
          "output_type": "execute_result",
          "data": {
            "text/plain": [
              "84194"
            ]
          },
          "metadata": {},
          "execution_count": 131
        }
      ]
    },
    {
      "cell_type": "code",
      "source": [
        "# parameters are positional\n",
        "\n",
        "diana=Student(name=\"Diana\")"
      ],
      "metadata": {
        "id": "K9Q68xce7d6O"
      },
      "execution_count": 132,
      "outputs": []
    },
    {
      "cell_type": "code",
      "source": [
        "gradeClass=[lika, diana]\n",
        "\n",
        "for student in gradeClass:\n",
        "  print(student.toString())\n"
      ],
      "metadata": {
        "colab": {
          "base_uri": "https://localhost:8080/"
        },
        "id": "gb1d9dhq7TFh",
        "outputId": "388c7037-041f-4faa-8d81-bf6a1851551d"
      },
      "execution_count": 133,
      "outputs": [
        {
          "output_type": "stream",
          "name": "stdout",
          "text": [
            "student name Lika\n",
            "student name Diana\n"
          ]
        }
      ]
    },
    {
      "cell_type": "code",
      "source": [
        "x=2\n",
        "\n",
        "print(type(x))\n",
        "\n",
        "\n",
        "oleksii=Student(\"Oleksii\")\n",
        "\n",
        "type(oleksii)"
      ],
      "metadata": {
        "colab": {
          "base_uri": "https://localhost:8080/"
        },
        "id": "oLhecUKV9N5S",
        "outputId": "ed4d499e-2809-4c27-9946-fdb2aa8175c6"
      },
      "execution_count": 134,
      "outputs": [
        {
          "output_type": "stream",
          "name": "stdout",
          "text": [
            "<class 'int'>\n"
          ]
        },
        {
          "output_type": "execute_result",
          "data": {
            "text/plain": [
              "__main__.Student"
            ]
          },
          "metadata": {},
          "execution_count": 134
        }
      ]
    },
    {
      "cell_type": "code",
      "source": [
        "# inheritance\n",
        "\n",
        "# Ball is the base clas\n",
        "\n",
        "# tennisBall is derived from Ball\n",
        "\n",
        "class tennisBall(Ball):\n",
        "\n",
        "  kind=\"tennis\"\n",
        "\n",
        "\n",
        "# the tennis ball is a type of ball\n",
        "\n",
        "\n",
        "  def __init__(self, wool,psi,circumference):\n",
        "\n",
        "    # all balls require\n",
        "    super().__init__(psi,circumference)\n",
        "\n",
        "    # only have wool\n",
        "    self.wool=wool\n",
        "\n",
        "\n",
        "class golfBall(Ball):\n",
        "\n",
        "  def __init__(self, dimple,psi,circumference):\n",
        "    super().__init__(psi,circumference)\n",
        "    self.dimple=52\n",
        "\n",
        "\n",
        "\n",
        "\n",
        "\n"
      ],
      "metadata": {
        "id": "Qz1yJKdU9odY"
      },
      "execution_count": 144,
      "outputs": []
    },
    {
      "cell_type": "code",
      "source": [
        "wilsonTennisBall = tennisBall(wool=\"32 stitches\",psi=12,circumference=20)\n",
        "\n"
      ],
      "metadata": {
        "id": "IesC_YCU-lFo"
      },
      "execution_count": 137,
      "outputs": []
    },
    {
      "cell_type": "code",
      "source": [
        "wilsonTennisBall.psi\n"
      ],
      "metadata": {
        "colab": {
          "base_uri": "https://localhost:8080/"
        },
        "id": "ZtifQiLk_Pz5",
        "outputId": "bc885401-48b6-468d-9adf-ca0e9674c5dd"
      },
      "execution_count": 139,
      "outputs": [
        {
          "output_type": "execute_result",
          "data": {
            "text/plain": [
              "12"
            ]
          },
          "metadata": {},
          "execution_count": 139
        }
      ]
    },
    {
      "cell_type": "code",
      "source": [
        "wilsonTennisBall.wool"
      ],
      "metadata": {
        "colab": {
          "base_uri": "https://localhost:8080/",
          "height": 37
        },
        "id": "jRX59D7rAaLA",
        "outputId": "fe740d71-809f-4874-8b8e-6a506def421a"
      },
      "execution_count": 140,
      "outputs": [
        {
          "output_type": "execute_result",
          "data": {
            "text/plain": [
              "'32 stitches'"
            ],
            "application/vnd.google.colaboratory.intrinsic+json": {
              "type": "string"
            }
          },
          "metadata": {},
          "execution_count": 140
        }
      ]
    },
    {
      "cell_type": "code",
      "source": [
        "titleist=golfBall(dimple=50,psi=20,circumference=12)\n",
        "\n",
        ""
      ],
      "metadata": {
        "id": "v1KPfE3lAisE"
      },
      "execution_count": 145,
      "outputs": []
    }
  ]
}