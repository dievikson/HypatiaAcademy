{
  "nbformat": 4,
  "nbformat_minor": 0,
  "metadata": {
    "colab": {
      "provenance": [],
      "include_colab_link": true
    },
    "kernelspec": {
      "name": "python3",
      "display_name": "Python 3"
    },
    "language_info": {
      "name": "python"
    }
  },
  "cells": [
    {
      "cell_type": "markdown",
      "metadata": {
        "id": "view-in-github",
        "colab_type": "text"
      },
      "source": [
        "<a href=\"https://colab.research.google.com/github/werowe/HypatiaAcademy/blob/master/class/september-26-2023-string-functions.ipynb\" target=\"_parent\"><img src=\"https://colab.research.google.com/assets/colab-badge.svg\" alt=\"Open In Colab\"/></a>"
      ]
    },
    {
      "cell_type": "code",
      "execution_count": null,
      "metadata": {
        "id": "uUxuus8wffm4",
        "outputId": "5915b314-e9a1-4489-f561-62077d58edd3",
        "colab": {
          "base_uri": "https://localhost:8080/",
          "height": 35
        }
      },
      "outputs": [
        {
          "output_type": "execute_result",
          "data": {
            "text/plain": [
              "'r'"
            ],
            "application/vnd.google.colaboratory.intrinsic+json": {
              "type": "string"
            }
          },
          "metadata": {},
          "execution_count": 2
        }
      ],
      "source": [
        "def lastLetter (str):\n",
        "  return str[-1:]\n",
        "\n",
        "lastLetter (\"weather\")\n",
        "\n"
      ]
    },
    {
      "cell_type": "code",
      "source": [
        "def left (str, howMany):\n",
        "\n",
        "  return str[0:howMany]\n",
        "\n",
        "\n",
        "left(\"walker\",3)\n"
      ],
      "metadata": {
        "id": "AWblfkoTg36I",
        "colab": {
          "base_uri": "https://localhost:8080/",
          "height": 37
        },
        "outputId": "870b49f3-dc9e-46a5-c93d-effd1039f5f5"
      },
      "execution_count": 1,
      "outputs": [
        {
          "output_type": "execute_result",
          "data": {
            "text/plain": [
              "'wal'"
            ],
            "application/vnd.google.colaboratory.intrinsic+json": {
              "type": "string"
            }
          },
          "metadata": {},
          "execution_count": 1
        }
      ]
    },
    {
      "cell_type": "code",
      "source": [
        "def lastLetters (str,howMany):\n",
        "\n",
        "  # -1 is like hard-coding\n",
        "\n",
        "  return str[howMany:]\n",
        "\n",
        "\n",
        "lastLetters (\"weather\",-1)"
      ],
      "metadata": {
        "colab": {
          "base_uri": "https://localhost:8080/",
          "height": 37
        },
        "id": "lRWrgBWf3HjF",
        "outputId": "d93d85c3-122d-42d6-cdd1-e637d40b3a7f"
      },
      "execution_count": 3,
      "outputs": [
        {
          "output_type": "execute_result",
          "data": {
            "text/plain": [
              "'r'"
            ],
            "application/vnd.google.colaboratory.intrinsic+json": {
              "type": "string"
            }
          },
          "metadata": {},
          "execution_count": 3
        }
      ]
    },
    {
      "cell_type": "code",
      "source": [
        "'joaquim'[0:2]"
      ],
      "metadata": {
        "colab": {
          "base_uri": "https://localhost:8080/",
          "height": 37
        },
        "id": "QUYAb0Nn3vY6",
        "outputId": "bc4959ea-e540-4a54-bbd6-4702bbfd4cb5"
      },
      "execution_count": 7,
      "outputs": [
        {
          "output_type": "execute_result",
          "data": {
            "text/plain": [
              "'jo'"
            ],
            "application/vnd.google.colaboratory.intrinsic+json": {
              "type": "string"
            }
          },
          "metadata": {},
          "execution_count": 7
        }
      ]
    },
    {
      "cell_type": "code",
      "source": [
        "# this is hard coded\n",
        "\n",
        "'joaquim'[-4:-2]\n",
        "\n",
        "\"artem\"[-4:-2]\n",
        "\n",
        "\"yehven\"[-4:-2]\n",
        "\n",
        "\n",
        "\n",
        "# so make a function thast we can use in lots of different names\n",
        "\n",
        "\n",
        "def function(name,fro,to):\n",
        "\n",
        "\n",
        "\n",
        "# open a data file\n",
        "\n",
        "f=\"walker.file\"\n",
        "open(f)\n",
        "\n",
        "\n",
        "\n"
      ],
      "metadata": {
        "colab": {
          "base_uri": "https://localhost:8080/",
          "height": 37
        },
        "id": "gShRPH8R3-5b",
        "outputId": "85df016f-7099-447c-84d4-f45268efe90f"
      },
      "execution_count": 12,
      "outputs": [
        {
          "output_type": "execute_result",
          "data": {
            "text/plain": [
              "'hv'"
            ],
            "application/vnd.google.colaboratory.intrinsic+json": {
              "type": "string"
            }
          },
          "metadata": {},
          "execution_count": 12
        }
      ]
    },
    {
      "cell_type": "code",
      "source": [
        "def fromTo(str,fro,to):\n",
        "\n",
        "  #'joaquim'[-4:-2]\n",
        "\n",
        "  return str[fro:to]\n",
        "\n",
        "fromTo(\"joaquim\",-4,-2)\n",
        "\n",
        "\n"
      ],
      "metadata": {
        "colab": {
          "base_uri": "https://localhost:8080/",
          "height": 37
        },
        "id": "OQ8M_Zdv4b47",
        "outputId": "53fa7244-b23f-40b2-b585-b535f77832f5"
      },
      "execution_count": 11,
      "outputs": [
        {
          "output_type": "execute_result",
          "data": {
            "text/plain": [
              "'qu'"
            ],
            "application/vnd.google.colaboratory.intrinsic+json": {
              "type": "string"
            }
          },
          "metadata": {},
          "execution_count": 11
        }
      ]
    },
    {
      "cell_type": "code",
      "source": [
        "\n",
        "# first two\n",
        "\"joaquim\"[0:2]\n"
      ],
      "metadata": {
        "colab": {
          "base_uri": "https://localhost:8080/",
          "height": 37
        },
        "id": "KCYAGcDq5qs0",
        "outputId": "6e7a520a-7d6b-43b3-b385-14facc2ea8c6"
      },
      "execution_count": 13,
      "outputs": [
        {
          "output_type": "execute_result",
          "data": {
            "text/plain": [
              "'jo'"
            ],
            "application/vnd.google.colaboratory.intrinsic+json": {
              "type": "string"
            }
          },
          "metadata": {},
          "execution_count": 13
        }
      ]
    },
    {
      "cell_type": "code",
      "source": [
        "# last two\n",
        "\n",
        "\"joaquim\"[-2:]"
      ],
      "metadata": {
        "colab": {
          "base_uri": "https://localhost:8080/",
          "height": 37
        },
        "id": "6hUkFhu05y9g",
        "outputId": "840ba471-d36c-4540-ceb8-23198b5262b8"
      },
      "execution_count": 15,
      "outputs": [
        {
          "output_type": "execute_result",
          "data": {
            "text/plain": [
              "'im'"
            ],
            "application/vnd.google.colaboratory.intrinsic+json": {
              "type": "string"
            }
          },
          "metadata": {},
          "execution_count": 15
        }
      ]
    }
  ]
}