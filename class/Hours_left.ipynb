{
  "nbformat": 4,
  "nbformat_minor": 0,
  "metadata": {
    "colab": {
      "provenance": [],
      "authorship_tag": "ABX9TyOOBYqsXn5ZZOyCc5VSkFzG",
      "include_colab_link": true
    },
    "kernelspec": {
      "name": "python3",
      "display_name": "Python 3"
    },
    "language_info": {
      "name": "python"
    }
  },
  "cells": [
    {
      "cell_type": "markdown",
      "metadata": {
        "id": "view-in-github",
        "colab_type": "text"
      },
      "source": [
        "<a href=\"https://colab.research.google.com/github/werowe/HypatiaAcademy/blob/master/class/Hours_left.ipynb\" target=\"_parent\"><img src=\"https://colab.research.google.com/assets/colab-badge.svg\" alt=\"Open In Colab\"/></a>"
      ]
    },
    {
      "cell_type": "code",
      "execution_count": 13,
      "metadata": {
        "colab": {
          "base_uri": "https://localhost:8080/"
        },
        "id": "sCTyvIpj1i1g",
        "outputId": "ab63550e-926e-4392-c848-0033c64333da"
      },
      "outputs": [
        {
          "output_type": "stream",
          "name": "stdout",
          "text": [
            "miliseconds passed since epoch: 1699462819430\n",
            "seconds passed since epoch: 1699462819\n",
            "minutes passed since epoch: 28324380\n",
            "hours passed since epoch: 472073\n",
            "days passed since epoch: 19669.708558258124\n"
          ]
        }
      ],
      "source": [
        "import time\n",
        "\n",
        "\n",
        "import time\n",
        "print('miliseconds passed since epoch:', round(time.time()*1000))\n",
        "print('seconds passed since epoch:', round(time.time()))\n",
        "print('minutes passed since epoch:',round(time.time()/60))\n",
        "print('hours passed since epoch:',round(time.time()/3600))\n",
        "print('days passed since epoch:',(time.time()/3600/24))\n"
      ]
    },
    {
      "cell_type": "code",
      "source": [
        "import math\n",
        "\n",
        "# how many hours, days, minutes, and seconds have passed\n",
        "\n",
        "daysSince=time.time()/3600/24\n",
        "\n",
        "# convert to hours\n",
        "\n",
        "daysSince\n",
        "\n",
        "# convert this to minutes\n",
        "\n",
        "#0.649261759852\n",
        "\n",
        "# take the remained convert to seconds"
      ],
      "metadata": {
        "colab": {
          "base_uri": "https://localhost:8080/"
        },
        "id": "X9s6TY8f15JG",
        "outputId": "37f82e8c-b1b5-47b1-f0fd-f78b8614dc2b"
      },
      "execution_count": 18,
      "outputs": [
        {
          "output_type": "execute_result",
          "data": {
            "text/plain": [
              "19669.716519390746"
            ]
          },
          "metadata": {},
          "execution_count": 18
        }
      ]
    },
    {
      "cell_type": "markdown",
      "source": [
        "# New Section"
      ],
      "metadata": {
        "id": "xinA2isF9a8w"
      }
    },
    {
      "cell_type": "code",
      "source": [],
      "metadata": {
        "id": "HZUY8-V-8Lnc"
      },
      "execution_count": null,
      "outputs": []
    },
    {
      "cell_type": "code",
      "source": [
        "hoursLeft=daysSince%1*24\n",
        "hoursLeft"
      ],
      "metadata": {
        "colab": {
          "base_uri": "https://localhost:8080/"
        },
        "id": "juDbY6_i2u3H",
        "outputId": "8cf5468f-92eb-4e33-dd61-390d471217a9"
      },
      "execution_count": 20,
      "outputs": [
        {
          "output_type": "execute_result",
          "data": {
            "text/plain": [
              "17.196465377899585"
            ]
          },
          "metadata": {},
          "execution_count": 20
        }
      ]
    },
    {
      "cell_type": "code",
      "source": [
        "minutesLeft=(hoursLeft%1)*60\n",
        "minutesLeft"
      ],
      "metadata": {
        "colab": {
          "base_uri": "https://localhost:8080/"
        },
        "id": "H-6ct48P8aAk",
        "outputId": "4a6efbb0-2fa7-41e9-c5e5-6eea5cbc7671"
      },
      "execution_count": 21,
      "outputs": [
        {
          "output_type": "execute_result",
          "data": {
            "text/plain": [
              "11.787922673975118"
            ]
          },
          "metadata": {},
          "execution_count": 21
        }
      ]
    },
    {
      "cell_type": "code",
      "source": [
        "secondsLeft=minutesLeft%1*60\n",
        "secondsLeft"
      ],
      "metadata": {
        "colab": {
          "base_uri": "https://localhost:8080/"
        },
        "id": "OhBFuv258-zZ",
        "outputId": "0e4effea-1565-4a3e-d972-df88ec2c33ae"
      },
      "execution_count": 22,
      "outputs": [
        {
          "output_type": "execute_result",
          "data": {
            "text/plain": [
              "47.27536043850705"
            ]
          },
          "metadata": {},
          "execution_count": 22
        }
      ]
    }
  ]
}