{
  "nbformat": 4,
  "nbformat_minor": 0,
  "metadata": {
    "colab": {
      "provenance": [],
      "authorship_tag": "ABX9TyMp9n60LrVfzVyKHD6RmO50",
      "include_colab_link": true
    },
    "kernelspec": {
      "name": "python3",
      "display_name": "Python 3"
    },
    "language_info": {
      "name": "python"
    }
  },
  "cells": [
    {
      "cell_type": "markdown",
      "metadata": {
        "id": "view-in-github",
        "colab_type": "text"
      },
      "source": [
        "<a href=\"https://colab.research.google.com/github/werowe/HypatiaAcademy/blob/master/class/Hours_left.ipynb\" target=\"_parent\"><img src=\"https://colab.research.google.com/assets/colab-badge.svg\" alt=\"Open In Colab\"/></a>"
      ]
    },
    {
      "cell_type": "code",
      "execution_count": 1,
      "metadata": {
        "colab": {
          "base_uri": "https://localhost:8080/"
        },
        "id": "sCTyvIpj1i1g",
        "outputId": "0bf2adc2-025e-4a56-fb71-0441b5fa0ec2"
      },
      "outputs": [
        {
          "output_type": "stream",
          "name": "stdout",
          "text": [
            "miliseconds passed since epoch: 1699546309677\n",
            "seconds passed since epoch: 1699546310\n",
            "minutes passed since epoch: 28325772\n",
            "hours passed since epoch: 472096\n",
            "days passed since epoch: 19670.674880530347\n"
          ]
        }
      ],
      "source": [
        "import time\n",
        "\n",
        "\n",
        "import time\n",
        "print('miliseconds passed since epoch:', round(time.time()*1000))\n",
        "print('seconds passed since epoch:', round(time.time()))\n",
        "print('minutes passed since epoch:',round(time.time()/60))\n",
        "print('hours passed since epoch:',round(time.time()/3600))\n",
        "print('days passed since epoch:',(time.time()/3600/24))\n"
      ]
    },
    {
      "cell_type": "code",
      "source": [
        "epochTime=time.time()\n",
        "print(epochTime)\n",
        "\n",
        "second=1\n",
        "minute = 60 * second\n",
        "hour = 60 * minute\n",
        "day = 24 * hour\n",
        "\n",
        "# how many days have passed since 1-01-1970\n",
        "\n",
        "print(\"\\n\\n\")\n",
        "\n",
        "days=time.time()/3600/24"
      ],
      "metadata": {
        "id": "nB7DF6lZ2roM",
        "outputId": "cc65d73e-edef-4281-ccb2-93035a5d1eef",
        "colab": {
          "base_uri": "https://localhost:8080/"
        }
      },
      "execution_count": 13,
      "outputs": [
        {
          "output_type": "stream",
          "name": "stdout",
          "text": [
            "1699546670.9088972\n",
            "\n",
            "\n",
            "\n"
          ]
        }
      ]
    },
    {
      "cell_type": "code",
      "source": [
        "round(days)\n",
        "\n",
        "'''\n",
        "\n",
        "convert this 19670.674880530347\n",
        "\n",
        "\n",
        "0.674880530347 is hours\n",
        "\n",
        "\n",
        "to this:\n",
        "\n",
        "19671 days\n",
        "x hours\n",
        "y minutes\n",
        "z seconds\n",
        "α miliseconds\n",
        "\n",
        "'''\n"
      ],
      "metadata": {
        "id": "wZhaZKUU38Tm",
        "outputId": "23445c20-cea7-4fcb-9c7c-96c7f4d8a4ce",
        "colab": {
          "base_uri": "https://localhost:8080/"
        }
      },
      "execution_count": 14,
      "outputs": [
        {
          "output_type": "execute_result",
          "data": {
            "text/plain": [
              "19671"
            ]
          },
          "metadata": {},
          "execution_count": 14
        }
      ]
    },
    {
      "cell_type": "code",
      "source": [
        "# 3 days is how many seconds?\n",
        "\n",
        "\n",
        "3 * 24 * 60 * 60\n",
        "\n",
        "\n"
      ],
      "metadata": {
        "id": "IzyDe3bd3o7k",
        "outputId": "8510c7f5-950f-457f-c735-78715348bd11",
        "colab": {
          "base_uri": "https://localhost:8080/"
        }
      },
      "execution_count": 11,
      "outputs": [
        {
          "output_type": "execute_result",
          "data": {
            "text/plain": [
              "259200"
            ]
          },
          "metadata": {},
          "execution_count": 11
        }
      ]
    },
    {
      "cell_type": "code",
      "source": [
        "import math\n",
        "\n",
        "# how many hours, days, minutes, and seconds have passed\n",
        "\n",
        "daysSince=time.time()/3600/24\n",
        "\n",
        "# convert to hours\n",
        "\n",
        "daysSince\n",
        "\n",
        "# convert this to minutes\n",
        "\n",
        "#0.649261759852\n",
        "\n",
        "# take the remained convert to seconds"
      ],
      "metadata": {
        "colab": {
          "base_uri": "https://localhost:8080/"
        },
        "id": "X9s6TY8f15JG",
        "outputId": "f3583fb8-9552-4608-de47-b28e4b727916"
      },
      "execution_count": 2,
      "outputs": [
        {
          "output_type": "execute_result",
          "data": {
            "text/plain": [
              "19670.674880682473"
            ]
          },
          "metadata": {},
          "execution_count": 2
        }
      ]
    },
    {
      "cell_type": "markdown",
      "source": [
        "# New Section"
      ],
      "metadata": {
        "id": "xinA2isF9a8w"
      }
    },
    {
      "cell_type": "code",
      "source": [
        "# the remainder is the percent sign\n",
        "# what is remainder of 3/2 divided by 1\n",
        "\n",
        "3/2%1"
      ],
      "metadata": {
        "id": "HZUY8-V-8Lnc",
        "outputId": "013b72e0-edb8-471f-88bd-a3fadd4aa28a",
        "colab": {
          "base_uri": "https://localhost:8080/"
        }
      },
      "execution_count": 16,
      "outputs": [
        {
          "output_type": "execute_result",
          "data": {
            "text/plain": [
              "0.5"
            ]
          },
          "metadata": {},
          "execution_count": 16
        }
      ]
    },
    {
      "cell_type": "code",
      "source": [
        "17.323223222\n",
        "17.323223222%1"
      ],
      "metadata": {
        "id": "d4nrkuF3494X",
        "outputId": "7afd57d9-1f95-4ba9-a873-db99bf093fb7",
        "colab": {
          "base_uri": "https://localhost:8080/"
        }
      },
      "execution_count": 17,
      "outputs": [
        {
          "output_type": "execute_result",
          "data": {
            "text/plain": [
              "0.3232232219999993"
            ]
          },
          "metadata": {},
          "execution_count": 17
        }
      ]
    },
    {
      "cell_type": "code",
      "source": [
        "hoursLeft=daysSince%1*24\n",
        "hoursLeft"
      ],
      "metadata": {
        "colab": {
          "base_uri": "https://localhost:8080/"
        },
        "id": "juDbY6_i2u3H",
        "outputId": "3da4ea47-54a2-4383-894e-d33cd9f18f98"
      },
      "execution_count": 3,
      "outputs": [
        {
          "output_type": "execute_result",
          "data": {
            "text/plain": [
              "16.197136379341828"
            ]
          },
          "metadata": {},
          "execution_count": 3
        }
      ]
    },
    {
      "cell_type": "code",
      "source": [
        "minutesLeft=(hoursLeft%1)*60\n",
        "minutesLeft"
      ],
      "metadata": {
        "colab": {
          "base_uri": "https://localhost:8080/"
        },
        "id": "H-6ct48P8aAk",
        "outputId": "9ac37361-a639-4455-8839-2865973c1392"
      },
      "execution_count": 4,
      "outputs": [
        {
          "output_type": "execute_result",
          "data": {
            "text/plain": [
              "11.828182760509662"
            ]
          },
          "metadata": {},
          "execution_count": 4
        }
      ]
    },
    {
      "cell_type": "code",
      "source": [
        "secondsLeft=minutesLeft%1*60\n",
        "secondsLeft"
      ],
      "metadata": {
        "colab": {
          "base_uri": "https://localhost:8080/"
        },
        "id": "OhBFuv258-zZ",
        "outputId": "2c7f637d-1ab8-4170-c4cf-705e9f7e745b"
      },
      "execution_count": 5,
      "outputs": [
        {
          "output_type": "execute_result",
          "data": {
            "text/plain": [
              "49.69096563057974"
            ]
          },
          "metadata": {},
          "execution_count": 5
        }
      ]
    }
  ]
}