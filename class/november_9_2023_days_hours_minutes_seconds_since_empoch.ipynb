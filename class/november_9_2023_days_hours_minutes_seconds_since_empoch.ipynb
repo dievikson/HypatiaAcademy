{
  "nbformat": 4,
  "nbformat_minor": 0,
  "metadata": {
    "colab": {
      "provenance": [],
      "authorship_tag": "ABX9TyP3n36Sx73Ufct2Qo+aigar",
      "include_colab_link": true
    },
    "kernelspec": {
      "name": "python3",
      "display_name": "Python 3"
    },
    "language_info": {
      "name": "python"
    }
  },
  "cells": [
    {
      "cell_type": "markdown",
      "metadata": {
        "id": "view-in-github",
        "colab_type": "text"
      },
      "source": [
        "<a href=\"https://colab.research.google.com/github/werowe/HypatiaAcademy/blob/master/class/november_9_2023_days_hours_minutes_seconds_since_empoch.ipynb\" target=\"_parent\"><img src=\"https://colab.research.google.com/assets/colab-badge.svg\" alt=\"Open In Colab\"/></a>"
      ]
    },
    {
      "cell_type": "code",
      "execution_count": null,
      "metadata": {
        "colab": {
          "base_uri": "https://localhost:8080/"
        },
        "id": "sCTyvIpj1i1g",
        "outputId": "ab63550e-926e-4392-c848-0033c64333da"
      },
      "outputs": [
        {
          "output_type": "stream",
          "name": "stdout",
          "text": [
            "miliseconds passed since epoch: 1699462819430\n",
            "seconds passed since epoch: 1699462819\n",
            "minutes passed since epoch: 28324380\n",
            "hours passed since epoch: 472073\n",
            "days passed since epoch: 19669.708558258124\n"
          ]
        }
      ],
      "source": [
        "import time\n",
        "\n",
        "\n",
        "print('miliseconds passed since epoch:', round(time.time()*1000))\n",
        "print('seconds passed since epoch:', round(time.time()))\n",
        "print('minutes passed since epoch:',round(time.time()/60))\n",
        "print('hours passed since epoch:',round(time.time()/3600))\n",
        "print('days passed since epoch:',(time.time()/3600/24))\n"
      ]
    },
    {
      "cell_type": "code",
      "source": [
        "import time\n",
        "\n",
        "seconds=1\n",
        "minute=60 * seconds\n",
        "hour=minute * 60\n",
        "day=hour * 24\n",
        "\n",
        "epochTime = time.time()\n",
        "\n",
        "print(\"epoch time=\" , epochTime)\n",
        "\n",
        "print(\"epoch time\", time.ctime(epochTime))\n",
        "\n",
        "# how many hours, days, minutes, and seconds have passed\n",
        "\n",
        "daysSince=time.time()/day\n",
        "\n",
        "# % is the remainder after division. This works because, for example 3/2=1.5 and 1.5 % 1 = 0.5\n",
        "\n",
        "hoursLeft=daysSince%1*24\n",
        "\n",
        "\n",
        "minutesLeft=(hoursLeft%1)*60\n",
        "\n",
        "\n",
        "secondsLeft=minutesLeft%1*60\n",
        "\n",
        "\n",
        "microsecondsLeft=secondsLeft*1000\n",
        "\n",
        "print(\"\\n Days since epochTime\", round(daysSince), \"\\n hours since\", round(hoursLeft), \\\n",
        "      \"\\n minutes since\", round(minutesLeft), \"\\n second since\",\n",
        "      round(secondsLeft) , \"\\n microseconds left\", round(microsecondsLeft))\n",
        "\n",
        "\n"
      ],
      "metadata": {
        "colab": {
          "base_uri": "https://localhost:8080/"
        },
        "id": "X9s6TY8f15JG",
        "outputId": "3e06f2ba-49aa-4079-8585-1c3aca0aa499"
      },
      "execution_count": 19,
      "outputs": [
        {
          "output_type": "stream",
          "name": "stdout",
          "text": [
            "epoch time= 1699510329.0073073\n",
            "epoch time Thu Nov  9 06:12:09 2023\n",
            "\n",
            " Days since epochTime 19670 \n",
            " hours since 6 \n",
            " minutes since 12 \n",
            " second since 9 \n",
            " microseconds left 9012\n"
          ]
        }
      ]
    }
  ]
}