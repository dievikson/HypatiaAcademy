{
  "nbformat": 4,
  "nbformat_minor": 0,
  "metadata": {
    "colab": {
      "provenance": [],
      "authorship_tag": "ABX9TyNYYfly+NEKY1PCl9jrfFKT",
      "include_colab_link": true
    },
    "kernelspec": {
      "name": "python3",
      "display_name": "Python 3"
    },
    "language_info": {
      "name": "python"
    }
  },
  "cells": [
    {
      "cell_type": "markdown",
      "metadata": {
        "id": "view-in-github",
        "colab_type": "text"
      },
      "source": [
        "<a href=\"https://colab.research.google.com/github/werowe/HypatiaAcademy/blob/master/class/october_6_2023_lists.ipynb\" target=\"_parent\"><img src=\"https://colab.research.google.com/assets/colab-badge.svg\" alt=\"Open In Colab\"/></a>"
      ]
    },
    {
      "cell_type": "code",
      "execution_count": 1,
      "metadata": {
        "colab": {
          "base_uri": "https://localhost:8080/"
        },
        "id": "ngzgL6-9gzO1",
        "outputId": "c52212de-1e77-4534-adf1-1f76e4902a37"
      },
      "outputs": [
        {
          "output_type": "stream",
          "name": "stdout",
          "text": [
            "['nina', 'ilias', 'raphael', 'mari', 'george']\n"
          ]
        }
      ],
      "source": [
        "# this is a list. a list has brackets []\n",
        "\n",
        "family = [\"nina\", \"ilias\", \"raphael\", \"mari\", \"george\"]\n",
        "\n",
        "print(family)\n"
      ]
    },
    {
      "cell_type": "code",
      "source": [
        "numbers=[1,2,3]\n",
        "print(numbers)"
      ],
      "metadata": {
        "colab": {
          "base_uri": "https://localhost:8080/"
        },
        "id": "HB51wolqkE2v",
        "outputId": "a0e7583f-5a40-41e1-f22a-79143e433c34"
      },
      "execution_count": 20,
      "outputs": [
        {
          "output_type": "stream",
          "name": "stdout",
          "text": [
            "[1, 2, 3]\n"
          ]
        }
      ]
    },
    {
      "cell_type": "code",
      "source": [
        "# the first item in a list starts with 0\n",
        "\n",
        "numbers[0]"
      ],
      "metadata": {
        "colab": {
          "base_uri": "https://localhost:8080/"
        },
        "id": "AYe_2-i2kRUQ",
        "outputId": "a69cf3d5-2f82-4e26-caeb-a49f0a8b276e"
      },
      "execution_count": 21,
      "outputs": [
        {
          "output_type": "execute_result",
          "data": {
            "text/plain": [
              "1"
            ]
          },
          "metadata": {},
          "execution_count": 21
        }
      ]
    },
    {
      "cell_type": "code",
      "source": [
        "# use\n",
        "\n",
        "print(len(numbers))"
      ],
      "metadata": {
        "colab": {
          "base_uri": "https://localhost:8080/"
        },
        "id": "arCIDbcFkYM-",
        "outputId": "9c21fcc9-c7c2-465c-931b-6c04c93344a1"
      },
      "execution_count": 22,
      "outputs": [
        {
          "output_type": "stream",
          "name": "stdout",
          "text": [
            "3\n"
          ]
        }
      ]
    },
    {
      "cell_type": "code",
      "source": [
        "print(\"first item in list\", family[0])\n",
        "print(\"second item in list\", family[1])\n",
        "print(\"last item in list\", family[4])"
      ],
      "metadata": {
        "colab": {
          "base_uri": "https://localhost:8080/"
        },
        "id": "hI2XzmkZhJYD",
        "outputId": "ed8e191b-4028-4d40-ce28-aad025f8361d"
      },
      "execution_count": 6,
      "outputs": [
        {
          "output_type": "stream",
          "name": "stdout",
          "text": [
            "first item in list nina\n",
            "second item in list ilias\n",
            "lasy item in list george\n"
          ]
        }
      ]
    },
    {
      "cell_type": "code",
      "source": [
        "# loop means do something until you are finished\n",
        "\n",
        "# this one has no range\n",
        "# this just means print everything in the list\n",
        "\n",
        "# to print one at a time we have to make a loop\n",
        "\n",
        "for i in family:\n",
        "  print(i)\n"
      ],
      "metadata": {
        "colab": {
          "base_uri": "https://localhost:8080/"
        },
        "id": "v72rdAG2h0yQ",
        "outputId": "d07e1780-69d1-4e20-8033-c844c713696b"
      },
      "execution_count": 27,
      "outputs": [
        {
          "output_type": "stream",
          "name": "stdout",
          "text": [
            "nina\n",
            "ilias\n",
            "raphael\n",
            "mari\n",
            "george\n",
            "bobbie\n",
            "fred\n"
          ]
        }
      ]
    },
    {
      "cell_type": "code",
      "source": [
        "# this prints the list\n",
        "\n",
        "print(numbers)\n",
        "\n",
        "# this prints each item in the list, one at a time\n",
        "\n",
        "for n in numbers:\n",
        "  print(n)"
      ],
      "metadata": {
        "colab": {
          "base_uri": "https://localhost:8080/"
        },
        "id": "eu5G3Ea_lQJM",
        "outputId": "8c4304c6-5f7a-4e64-dd5b-42205d794ce7"
      },
      "execution_count": 29,
      "outputs": [
        {
          "output_type": "stream",
          "name": "stdout",
          "text": [
            "[1, 2, 3]\n",
            "1\n",
            "2\n",
            "3\n"
          ]
        }
      ]
    },
    {
      "cell_type": "code",
      "source": [
        "# this I showed you just to example how a loop works\n",
        "\n",
        "# but we would not use this.  use range(5) instead\n",
        "\n",
        "count = [0,1,2,3,4]\n",
        "\n",
        "\n",
        "for i in count:\n",
        "  print(\"counter is \", i, \" which is item \", family[i])\n",
        "\n"
      ],
      "metadata": {
        "colab": {
          "base_uri": "https://localhost:8080/"
        },
        "id": "vTADhc1phgyw",
        "outputId": "659316ec-29cb-46b7-d3e2-f40f22e85bec"
      },
      "execution_count": 9,
      "outputs": [
        {
          "output_type": "stream",
          "name": "stdout",
          "text": [
            "counter is  0  which is item  nina\n",
            "counter is  1  which is item  ilias\n",
            "counter is  2  which is item  raphael\n",
            "counter is  3  which is item  mari\n",
            "counter is  4  which is item  george\n"
          ]
        }
      ]
    },
    {
      "cell_type": "code",
      "source": [
        "family.append(\"bobbie\")\n",
        "print(family)"
      ],
      "metadata": {
        "colab": {
          "base_uri": "https://localhost:8080/"
        },
        "id": "K2A8z-gkjCBz",
        "outputId": "c16f8586-5e18-4de3-db0e-9185ed69c924"
      },
      "execution_count": 12,
      "outputs": [
        {
          "output_type": "stream",
          "name": "stdout",
          "text": [
            "['nina', 'ilias', 'raphael', 'mari', 'george', 'bobbie']\n"
          ]
        }
      ]
    },
    {
      "cell_type": "code",
      "source": [
        "# rule: don't hard-code .  that's like this.  we put 5 that's hard-code\n",
        "\n",
        "# use 'for' to make a loop\n",
        "# we can say 'range' to tell it how many times to run\n",
        "\n",
        "for i in range(5):\n",
        "  print(\"counter is \", i, \" which is item \", family[i])"
      ],
      "metadata": {
        "colab": {
          "base_uri": "https://localhost:8080/"
        },
        "id": "LOhJ2AKiivtl",
        "outputId": "9316eeaf-2ace-4962-e587-9c9ebcdab657"
      },
      "execution_count": 25,
      "outputs": [
        {
          "output_type": "stream",
          "name": "stdout",
          "text": [
            "counter is  0  which is item  nina\n",
            "counter is  1  which is item  ilias\n",
            "counter is  2  which is item  raphael\n",
            "counter is  3  which is item  mari\n",
            "counter is  4  which is item  george\n"
          ]
        }
      ]
    },
    {
      "cell_type": "code",
      "source": [
        "len(family)"
      ],
      "metadata": {
        "colab": {
          "base_uri": "https://localhost:8080/"
        },
        "id": "duaJjz9Mklf5",
        "outputId": "76edcb05-f370-426d-e211-abebc01c409d"
      },
      "execution_count": 24,
      "outputs": [
        {
          "output_type": "execute_result",
          "data": {
            "text/plain": [
              "7"
            ]
          },
          "metadata": {},
          "execution_count": 24
        }
      ]
    },
    {
      "cell_type": "code",
      "source": [
        "len(family)"
      ],
      "metadata": {
        "colab": {
          "base_uri": "https://localhost:8080/"
        },
        "id": "ZT2SS7r0jff1",
        "outputId": "3324dfc7-bf98-4de5-c6ce-5074902776cb"
      },
      "execution_count": 18,
      "outputs": [
        {
          "output_type": "execute_result",
          "data": {
            "text/plain": [
              "7"
            ]
          },
          "metadata": {},
          "execution_count": 18
        }
      ]
    },
    {
      "cell_type": "code",
      "source": [
        "family"
      ],
      "metadata": {
        "colab": {
          "base_uri": "https://localhost:8080/"
        },
        "id": "J6zOJPBDjunm",
        "outputId": "e51ed78b-339f-4407-f9ad-d9c08c708372"
      },
      "execution_count": 17,
      "outputs": [
        {
          "output_type": "execute_result",
          "data": {
            "text/plain": [
              "['nina', 'ilias', 'raphael', 'mari', 'george', 'bobbie', 'fred']"
            ]
          },
          "metadata": {},
          "execution_count": 17
        }
      ]
    },
    {
      "cell_type": "code",
      "source": [
        "family.append(\"fred\")"
      ],
      "metadata": {
        "id": "4kUwRYCSjnUP"
      },
      "execution_count": 16,
      "outputs": []
    },
    {
      "cell_type": "code",
      "source": [
        "\n",
        "\n",
        "for i in range(len(family)):\n",
        "  print(\"counter is \", i, \" which is item \", family[i])"
      ],
      "metadata": {
        "colab": {
          "base_uri": "https://localhost:8080/"
        },
        "id": "yCgK3p_VjbHj",
        "outputId": "4d5fca32-dd02-47f3-efe3-87edc9015c80"
      },
      "execution_count": 19,
      "outputs": [
        {
          "output_type": "stream",
          "name": "stdout",
          "text": [
            "counter is  0  which is item  nina\n",
            "counter is  1  which is item  ilias\n",
            "counter is  2  which is item  raphael\n",
            "counter is  3  which is item  mari\n",
            "counter is  4  which is item  george\n",
            "counter is  5  which is item  bobbie\n",
            "counter is  6  which is item  fred\n"
          ]
        }
      ]
    },
    {
      "cell_type": "code",
      "source": [
        "'''\n",
        "homework:\n",
        "\n",
        "make a list of everyone on your basketball team\n",
        "\n",
        "print the list using a for loop\n",
        "\n",
        "print the list using a for loop with the len() and range() like I did above\n",
        "\n",
        "\n",
        "\n",
        "'''"
      ],
      "metadata": {
        "id": "IbWgmdGPlgNa"
      },
      "execution_count": null,
      "outputs": []
    }
  ]
}