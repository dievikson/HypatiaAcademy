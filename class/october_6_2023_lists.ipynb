{
  "nbformat": 4,
  "nbformat_minor": 0,
  "metadata": {
    "colab": {
      "provenance": [],
      "authorship_tag": "ABX9TyMWXo9LmCaqcDlAxljonDeF",
      "include_colab_link": true
    },
    "kernelspec": {
      "name": "python3",
      "display_name": "Python 3"
    },
    "language_info": {
      "name": "python"
    }
  },
  "cells": [
    {
      "cell_type": "markdown",
      "metadata": {
        "id": "view-in-github",
        "colab_type": "text"
      },
      "source": [
        "<a href=\"https://colab.research.google.com/github/werowe/HypatiaAcademy/blob/master/class/october_6_2023_lists.ipynb\" target=\"_parent\"><img src=\"https://colab.research.google.com/assets/colab-badge.svg\" alt=\"Open In Colab\"/></a>"
      ]
    },
    {
      "cell_type": "code",
      "execution_count": 18,
      "metadata": {
        "colab": {
          "base_uri": "https://localhost:8080/"
        },
        "id": "ngzgL6-9gzO1",
        "outputId": "b4560ffe-5589-4297-d759-175b23799a16"
      },
      "outputs": [
        {
          "output_type": "stream",
          "name": "stdout",
          "text": [
            "['nina', 'ilias', 'raphael', 'mari', 'george']\n"
          ]
        }
      ],
      "source": [
        "# this is a list. a list has brackets []\n",
        "\n",
        "family = [\"nina\", \"ilias\", \"raphael\", \"mari\", \"george\"]\n",
        "\n",
        "print(family)\n"
      ]
    },
    {
      "cell_type": "code",
      "source": [
        "games = ['fortine','chess', 'call of duty', 'lol']\n",
        "print(games)"
      ],
      "metadata": {
        "id": "nptsJ5GRPbuQ",
        "outputId": "3d5a173d-a72d-4e0b-c37f-adf602c6d09e",
        "colab": {
          "base_uri": "https://localhost:8080/"
        }
      },
      "execution_count": 15,
      "outputs": [
        {
          "output_type": "stream",
          "name": "stdout",
          "text": [
            "['fortine', 'chess', 'call of duty', 'lol']\n"
          ]
        }
      ]
    },
    {
      "cell_type": "code",
      "source": [
        "numbers=[1,2,3]\n",
        "print(numbers)"
      ],
      "metadata": {
        "colab": {
          "base_uri": "https://localhost:8080/"
        },
        "id": "HB51wolqkE2v",
        "outputId": "a0e7583f-5a40-41e1-f22a-79143e433c34"
      },
      "execution_count": null,
      "outputs": [
        {
          "output_type": "stream",
          "name": "stdout",
          "text": [
            "[1, 2, 3]\n"
          ]
        }
      ]
    },
    {
      "cell_type": "code",
      "source": [
        "# the first item in a list starts with 0\n",
        "\n",
        "numbers[0]"
      ],
      "metadata": {
        "colab": {
          "base_uri": "https://localhost:8080/"
        },
        "id": "AYe_2-i2kRUQ",
        "outputId": "a69cf3d5-2f82-4e26-caeb-a49f0a8b276e"
      },
      "execution_count": null,
      "outputs": [
        {
          "output_type": "execute_result",
          "data": {
            "text/plain": [
              "1"
            ]
          },
          "metadata": {},
          "execution_count": 21
        }
      ]
    },
    {
      "cell_type": "code",
      "source": [
        "# you start counting 0 not 1.  so the first item in the list of 0\n",
        "\n",
        "games[0]\n"
      ],
      "metadata": {
        "id": "ZylpnzPDPvhn",
        "outputId": "b253562b-f9c0-4b5a-c3a2-e8ea5a8ac247",
        "colab": {
          "base_uri": "https://localhost:8080/",
          "height": 37
        }
      },
      "execution_count": 6,
      "outputs": [
        {
          "output_type": "execute_result",
          "data": {
            "text/plain": [
              "'fortine'"
            ],
            "application/vnd.google.colaboratory.intrinsic+json": {
              "type": "string"
            }
          },
          "metadata": {},
          "execution_count": 6
        }
      ]
    },
    {
      "cell_type": "code",
      "source": [
        "# this tells you how many games you have.  you use len()\n",
        "\n",
        "print(len(games))"
      ],
      "metadata": {
        "colab": {
          "base_uri": "https://localhost:8080/"
        },
        "id": "arCIDbcFkYM-",
        "outputId": "ed200bcf-1188-4a38-ff88-c3083a3720a2"
      },
      "execution_count": 9,
      "outputs": [
        {
          "output_type": "stream",
          "name": "stdout",
          "text": [
            "4\n"
          ]
        }
      ]
    },
    {
      "cell_type": "code",
      "source": [],
      "metadata": {
        "id": "oLtpk_RuQe9e"
      },
      "execution_count": null,
      "outputs": []
    },
    {
      "cell_type": "code",
      "source": [
        "print(\"first item in list\", games[0])\n",
        "print(\"second item in list\", games[1])\n",
        "print(\"third game is item\", games[2])\n",
        "print(\"last item in list\", games[3])\n"
      ],
      "metadata": {
        "colab": {
          "base_uri": "https://localhost:8080/"
        },
        "id": "hI2XzmkZhJYD",
        "outputId": "1d675b55-1e65-4fed-f459-b61d525a54cd"
      },
      "execution_count": 11,
      "outputs": [
        {
          "output_type": "stream",
          "name": "stdout",
          "text": [
            "first item in list fortine\n",
            "second item in list chess\n",
            "third game is item call of duty\n",
            "last item in list lol\n"
          ]
        }
      ]
    },
    {
      "cell_type": "code",
      "source": [
        "# loop means do something until you are finished\n",
        "\n",
        "# this one has no range\n",
        "# this just means print everything in the list\n",
        "\n",
        "# to print one at a time we have to make a loop\n",
        "\n",
        "for game in games:\n",
        "  print(game)\n"
      ],
      "metadata": {
        "colab": {
          "base_uri": "https://localhost:8080/"
        },
        "id": "v72rdAG2h0yQ",
        "outputId": "98dd20f3-570e-4992-f348-ae23a64659e2"
      },
      "execution_count": 16,
      "outputs": [
        {
          "output_type": "stream",
          "name": "stdout",
          "text": [
            "fortine\n",
            "chess\n",
            "call of duty\n",
            "lol\n"
          ]
        }
      ]
    },
    {
      "cell_type": "code",
      "source": [
        "# this prints the list\n",
        "\n",
        "print(numbers)\n",
        "\n",
        "# this prints each item in the list, one at a time\n",
        "\n",
        "for n in numbers:\n",
        "  print(n)"
      ],
      "metadata": {
        "colab": {
          "base_uri": "https://localhost:8080/"
        },
        "id": "eu5G3Ea_lQJM",
        "outputId": "8c4304c6-5f7a-4e64-dd5b-42205d794ce7"
      },
      "execution_count": null,
      "outputs": [
        {
          "output_type": "stream",
          "name": "stdout",
          "text": [
            "[1, 2, 3]\n",
            "1\n",
            "2\n",
            "3\n"
          ]
        }
      ]
    },
    {
      "cell_type": "code",
      "source": [
        "# this I showed you just to example how a loop works\n",
        "\n",
        "# but we would not use this.  use range(5) instead\n",
        "\n",
        "count = [0,1,2,3,4]\n",
        "\n",
        "\n",
        "for i in count:\n",
        "  print(\"counter is \", i, \" which is item \", family[i])\n",
        "\n"
      ],
      "metadata": {
        "colab": {
          "base_uri": "https://localhost:8080/"
        },
        "id": "vTADhc1phgyw",
        "outputId": "d5a240d4-43ba-4f99-b1a5-056060529471"
      },
      "execution_count": 19,
      "outputs": [
        {
          "output_type": "stream",
          "name": "stdout",
          "text": [
            "counter is  0  which is item  nina\n",
            "counter is  1  which is item  ilias\n",
            "counter is  2  which is item  raphael\n",
            "counter is  3  which is item  mari\n",
            "counter is  4  which is item  george\n"
          ]
        }
      ]
    },
    {
      "cell_type": "code",
      "source": [
        "family"
      ],
      "metadata": {
        "id": "EPIbsDCSRgsm",
        "outputId": "c1c5da91-82cc-4832-a246-b21700413054",
        "colab": {
          "base_uri": "https://localhost:8080/"
        }
      },
      "execution_count": 20,
      "outputs": [
        {
          "output_type": "execute_result",
          "data": {
            "text/plain": [
              "['nina', 'ilias', 'raphael', 'mari', 'george']"
            ]
          },
          "metadata": {},
          "execution_count": 20
        }
      ]
    },
    {
      "cell_type": "code",
      "source": [
        "family.append(\"bobbie\")\n",
        "print(family)"
      ],
      "metadata": {
        "colab": {
          "base_uri": "https://localhost:8080/"
        },
        "id": "K2A8z-gkjCBz",
        "outputId": "3235a150-fc35-443a-aa6d-baacb90521a5"
      },
      "execution_count": 21,
      "outputs": [
        {
          "output_type": "stream",
          "name": "stdout",
          "text": [
            "['nina', 'ilias', 'raphael', 'mari', 'george', 'bobbie']\n"
          ]
        }
      ]
    },
    {
      "cell_type": "code",
      "source": [
        "# rule: don't hard-code .  that's like this.  we put 5 that's hard-code\n",
        "\n",
        "# use 'for' to make a loop\n",
        "# we can say 'range' to tell it how many times to run\n",
        "\n",
        "# don't count on finders\n",
        "\n",
        "for i in range(6):\n",
        "  print(\"counter is \", i, \" which is item \", family[i])"
      ],
      "metadata": {
        "colab": {
          "base_uri": "https://localhost:8080/"
        },
        "id": "LOhJ2AKiivtl",
        "outputId": "541c1bea-a0b6-45da-8150-aea0c78b92df"
      },
      "execution_count": 26,
      "outputs": [
        {
          "output_type": "stream",
          "name": "stdout",
          "text": [
            "counter is  0  which is item  nina\n",
            "counter is  1  which is item  ilias\n",
            "counter is  2  which is item  raphael\n",
            "counter is  3  which is item  mari\n",
            "counter is  4  which is item  george\n",
            "counter is  5  which is item  bobbie\n"
          ]
        }
      ]
    },
    {
      "cell_type": "code",
      "source": [
        "len(family)"
      ],
      "metadata": {
        "colab": {
          "base_uri": "https://localhost:8080/"
        },
        "id": "duaJjz9Mklf5",
        "outputId": "d536464a-e57b-45d3-e47f-5f5563c9da4a"
      },
      "execution_count": 27,
      "outputs": [
        {
          "output_type": "execute_result",
          "data": {
            "text/plain": [
              "6"
            ]
          },
          "metadata": {},
          "execution_count": 27
        }
      ]
    },
    {
      "cell_type": "code",
      "source": [
        "len(family)"
      ],
      "metadata": {
        "colab": {
          "base_uri": "https://localhost:8080/"
        },
        "id": "ZT2SS7r0jff1",
        "outputId": "3324dfc7-bf98-4de5-c6ce-5074902776cb"
      },
      "execution_count": null,
      "outputs": [
        {
          "output_type": "execute_result",
          "data": {
            "text/plain": [
              "7"
            ]
          },
          "metadata": {},
          "execution_count": 18
        }
      ]
    },
    {
      "cell_type": "code",
      "source": [
        "family"
      ],
      "metadata": {
        "colab": {
          "base_uri": "https://localhost:8080/"
        },
        "id": "J6zOJPBDjunm",
        "outputId": "e51ed78b-339f-4407-f9ad-d9c08c708372"
      },
      "execution_count": null,
      "outputs": [
        {
          "output_type": "execute_result",
          "data": {
            "text/plain": [
              "['nina', 'ilias', 'raphael', 'mari', 'george', 'bobbie', 'fred']"
            ]
          },
          "metadata": {},
          "execution_count": 17
        }
      ]
    },
    {
      "cell_type": "code",
      "source": [
        "family.append(\"fred\")"
      ],
      "metadata": {
        "id": "4kUwRYCSjnUP"
      },
      "execution_count": null,
      "outputs": []
    },
    {
      "cell_type": "code",
      "source": [
        "# don't count on fingers.  use len()\n",
        "\n",
        "for i in range(len(family)):\n",
        "  print(\"counter is \", i, \" which is item \", family[i])"
      ],
      "metadata": {
        "colab": {
          "base_uri": "https://localhost:8080/"
        },
        "id": "yCgK3p_VjbHj",
        "outputId": "a36f209e-25e6-489b-f712-078a4579c8df"
      },
      "execution_count": 28,
      "outputs": [
        {
          "output_type": "stream",
          "name": "stdout",
          "text": [
            "counter is  0  which is item  nina\n",
            "counter is  1  which is item  ilias\n",
            "counter is  2  which is item  raphael\n",
            "counter is  3  which is item  mari\n",
            "counter is  4  which is item  george\n",
            "counter is  5  which is item  bobbie\n"
          ]
        }
      ]
    },
    {
      "cell_type": "code",
      "source": [
        "'''\n",
        "homework:\n",
        "\n",
        "make a list of everyone on your basketball team\n",
        "\n",
        "print the list using a for loop\n",
        "\n",
        "print the list using a for loop with the len() and range() like I did above\n",
        "\n",
        "\n",
        "\n",
        "'''"
      ],
      "metadata": {
        "id": "IbWgmdGPlgNa"
      },
      "execution_count": null,
      "outputs": []
    }
  ]
}