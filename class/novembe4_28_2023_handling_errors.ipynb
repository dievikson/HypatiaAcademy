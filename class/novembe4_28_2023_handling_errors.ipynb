{
  "nbformat": 4,
  "nbformat_minor": 0,
  "metadata": {
    "colab": {
      "provenance": [],
      "authorship_tag": "ABX9TyObe2yFIvH+l0g93Vip9vMe",
      "include_colab_link": true
    },
    "kernelspec": {
      "name": "python3",
      "display_name": "Python 3"
    },
    "language_info": {
      "name": "python"
    }
  },
  "cells": [
    {
      "cell_type": "markdown",
      "metadata": {
        "id": "view-in-github",
        "colab_type": "text"
      },
      "source": [
        "<a href=\"https://colab.research.google.com/github/werowe/HypatiaAcademy/blob/master/class/novembe4_28_2023_handling_errors.ipynb\" target=\"_parent\"><img src=\"https://colab.research.google.com/assets/colab-badge.svg\" alt=\"Open In Colab\"/></a>"
      ]
    },
    {
      "cell_type": "markdown",
      "source": [
        "\n",
        "# Handling Errors\n",
        "\n",
        "You should put error handling into your code.  This is better than just letting it crash.\n",
        "\n",
        "Suppose Elon Musk put no error handling in his Telsa car.  Below then it divides by zero the Telsa would crash.  It's better to put a nice error message on the screen instead of hanving the program just blow up.\n"
      ],
      "metadata": {
        "id": "h-aekBOPbXvL"
      }
    },
    {
      "cell_type": "code",
      "source": [
        "# error handling\n",
        "\n",
        "batteryCapacityHours=200\n",
        "batteryRemaining=0\n",
        "\n",
        "\n",
        "try:\n",
        "  print(\"you car will run out of power in \",batteryCapacityHours/batteryRemaining )\n",
        "\n",
        "except ZeroDivisionError:\n",
        "\n",
        "  print(\"you can't divide by zero\")\n"
      ],
      "metadata": {
        "colab": {
          "base_uri": "https://localhost:8080/"
        },
        "id": "uSteigIDb7a1",
        "outputId": "42dd9e45-2ea6-42f1-a5e2-c08e12ac51fd"
      },
      "execution_count": null,
      "outputs": [
        {
          "output_type": "stream",
          "name": "stdout",
          "text": [
            "you can't divide by zero\n"
          ]
        }
      ]
    },
    {
      "cell_type": "markdown",
      "source": [
        "Here is another example.  Here the program will give an error message if the file it is trying to open does not exist."
      ],
      "metadata": {
        "id": "KknaJYViqBgV"
      }
    },
    {
      "cell_type": "code",
      "source": [
        "try:\n",
        "\n",
        "  f=open(\"abc.txt\")\n",
        "  f.read()\n",
        "\n",
        "except FileNotFoundError:\n",
        "\n",
        "  print(\"file not found\")\n",
        "\n",
        "except:\n",
        "\n",
        "  print(\"Something else went wrong\")\n",
        "\n",
        "finally:\n",
        "  print(\"clean up the mess\")\n"
      ],
      "metadata": {
        "colab": {
          "base_uri": "https://localhost:8080/"
        },
        "id": "cIgkzNQSg2vr",
        "outputId": "b8464174-dfc9-4dba-9a1e-fb026b8ff8b5"
      },
      "execution_count": null,
      "outputs": [
        {
          "output_type": "stream",
          "name": "stdout",
          "text": [
            "file not found\n",
            "clean up the mess\n"
          ]
        }
      ]
    },
    {
      "cell_type": "markdown",
      "source": [
        "# Why do you need finally?\n",
        "\n",
        "So they you can undo something that broke in the middle.  In this example if we do item (1) but not item (2) then Walker lost his money and Oleksii never got it.  Walker wanted to send Oleksii money.  So in this case we need to put the moneyback into Walker's account.\n",
        "\n",
        "\n",
        "1.  take from walker's account\n",
        "2.  put money in oleksii's account. (error)\n",
        "\n",
        "if there is an error in a two-step operation then you need to clean up the mess\n",
        "\n",
        "3.  if 2. did not work then put back the money\n",
        "\n",
        "\n"
      ],
      "metadata": {
        "id": "6Arg2LhDiCiX"
      }
    }
  ]
}