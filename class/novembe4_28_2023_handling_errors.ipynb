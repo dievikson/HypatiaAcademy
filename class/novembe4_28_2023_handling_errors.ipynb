{
  "nbformat": 4,
  "nbformat_minor": 0,
  "metadata": {
    "colab": {
      "provenance": [],
      "authorship_tag": "ABX9TyNsi9YrsdlkHukiOLly37Hh",
      "include_colab_link": true
    },
    "kernelspec": {
      "name": "python3",
      "display_name": "Python 3"
    },
    "language_info": {
      "name": "python"
    }
  },
  "cells": [
    {
      "cell_type": "markdown",
      "metadata": {
        "id": "view-in-github",
        "colab_type": "text"
      },
      "source": [
        "<a href=\"https://colab.research.google.com/github/werowe/HypatiaAcademy/blob/master/class/novembe4_28_2023_handling_errors.ipynb\" target=\"_parent\"><img src=\"https://colab.research.google.com/assets/colab-badge.svg\" alt=\"Open In Colab\"/></a>"
      ]
    },
    {
      "cell_type": "markdown",
      "source": [
        "\n",
        "# Handling Errors\n",
        "\n",
        "You should put error handling into your code.  This is better than just letting it crash.\n",
        "\n",
        "Suppose Elon Musk put no error handling in his Telsa car.  Below then it divides by zero the Telsa would crash.  It's better to put a nice error message on the screen instead of hanving the program just blow up.\n"
      ],
      "metadata": {
        "id": "h-aekBOPbXvL"
      }
    },
    {
      "cell_type": "code",
      "source": [
        "# error handling\n",
        "\n",
        "batteryCapacityHours=200\n",
        "batteryRemaining=0\n",
        "\n",
        "\n",
        "try:\n",
        "  print(\"you car will run out of power in \",batteryCapacityHours/batteryRemaining )\n",
        "\n",
        "except ZeroDivisionError:\n",
        "\n",
        "  print(\"you can't divide by zero\")\n"
      ],
      "metadata": {
        "colab": {
          "base_uri": "https://localhost:8080/"
        },
        "id": "uSteigIDb7a1",
        "outputId": "ca2086cf-bf74-4fe8-a1eb-2e9586ab5a2a"
      },
      "execution_count": 1,
      "outputs": [
        {
          "output_type": "stream",
          "name": "stdout",
          "text": [
            "you can't divide by zero\n"
          ]
        }
      ]
    },
    {
      "cell_type": "markdown",
      "source": [
        "Here is another example.  Here the program will give an error message if the file it is trying to open does not exist."
      ],
      "metadata": {
        "id": "KknaJYViqBgV"
      }
    },
    {
      "cell_type": "code",
      "source": [
        "try:\n",
        "\n",
        "  f=open(\"abc.txt\")\n",
        "  f.read()\n",
        "\n",
        "except FileNotFoundError:\n",
        "\n",
        "  print(\"file not found\")\n",
        "\n",
        "except:\n",
        "\n",
        "  print(\"Something else went wrong\")\n",
        "\n",
        "finally:\n",
        "  print(\"clean up the mess\")\n"
      ],
      "metadata": {
        "colab": {
          "base_uri": "https://localhost:8080/"
        },
        "id": "cIgkzNQSg2vr",
        "outputId": "39bd115c-feb6-43ce-b621-6101a1b33371"
      },
      "execution_count": 2,
      "outputs": [
        {
          "output_type": "stream",
          "name": "stdout",
          "text": [
            "file not found\n",
            "clean up the mess\n"
          ]
        }
      ]
    },
    {
      "cell_type": "markdown",
      "source": [
        "# Why do you need finally?\n",
        "\n",
        "So they you can undo something that broke in the middle.  In this example if we do item (1) but not item (2) then Walker lost his money and Oleksii never got it.  Walker wanted to send Oleksii money.  So in this case we need to put the moneyback into Walker's account.\n",
        "\n",
        "\n",
        "1.  take from walker's account\n",
        "2.  put money in oleksii's account. (error)\n",
        "\n",
        "if there is an error in a two-step operation then you need to clean up the mess\n",
        "\n",
        "3.  if 2. did not work then put back the money\n",
        "\n",
        "\n"
      ],
      "metadata": {
        "id": "6Arg2LhDiCiX"
      }
    },
    {
      "cell_type": "code",
      "source": [
        "# You can also put names on the error object\n",
        "\n",
        "# notice here that we can also use else\n",
        "\n",
        "try:\n",
        "    numerator = 10\n",
        "    denominator = 0\n",
        "    result = numerator / denominator\n",
        "except ZeroDivisionError as error:\n",
        "    print(f\"Error: {error}\")\n",
        "else:\n",
        "    print(f\"Result: {result}\")\n",
        "\n"
      ],
      "metadata": {
        "colab": {
          "base_uri": "https://localhost:8080/"
        },
        "id": "29ORK-gTvZ81",
        "outputId": "88be49ae-e6a9-40f3-e485-87f0264da36c"
      },
      "execution_count": 3,
      "outputs": [
        {
          "output_type": "stream",
          "name": "stdout",
          "text": [
            "Error: division by zero\n"
          ]
        }
      ]
    }
  ]
}