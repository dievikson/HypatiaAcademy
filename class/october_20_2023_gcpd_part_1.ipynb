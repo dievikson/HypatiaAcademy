{
  "nbformat": 4,
  "nbformat_minor": 0,
  "metadata": {
    "colab": {
      "provenance": [],
      "authorship_tag": "ABX9TyNin8rmjBPSWPDPIFbQXq8w",
      "include_colab_link": true
    },
    "kernelspec": {
      "name": "python3",
      "display_name": "Python 3"
    },
    "language_info": {
      "name": "python"
    }
  },
  "cells": [
    {
      "cell_type": "markdown",
      "metadata": {
        "id": "view-in-github",
        "colab_type": "text"
      },
      "source": [
        "<a href=\"https://colab.research.google.com/github/werowe/HypatiaAcademy/blob/master/class/october_20_2023_gcpd_part_1.ipynb\" target=\"_parent\"><img src=\"https://colab.research.google.com/assets/colab-badge.svg\" alt=\"Open In Colab\"/></a>"
      ]
    },
    {
      "cell_type": "code",
      "execution_count": 6,
      "metadata": {
        "colab": {
          "base_uri": "https://localhost:8080/"
        },
        "id": "vvLBjjTRcotO",
        "outputId": "15f4b1ce-479b-4a78-b69b-3a918fc10b55"
      },
      "outputs": [
        {
          "output_type": "stream",
          "name": "stdout",
          "text": [
            "a= 45 b= 33 c= 12\n",
            "a= 33 b= 12 c= 21\n",
            "a= 21 b= 12 c= 9\n"
          ]
        }
      ],
      "source": [
        "a=45\n",
        "b=33\n",
        "\n",
        "\n",
        "\n",
        "c=a-b\n",
        "\n",
        "print(\"a=\",a,\"b=\",b,\"c=\",c)\n",
        "\n",
        "if b > c:\n",
        "  a = b\n",
        "  b = c\n",
        "\n",
        "# it's better to put an else:\n",
        "\n",
        "if b < c:\n",
        "  a = c\n",
        "\n",
        "\n",
        "c=a-b\n",
        "\n",
        "print(\"a=\",a,\"b=\",b,\"c=\",c)\n",
        "\n",
        "if b < c:\n",
        "  a = c\n",
        "\n",
        "c=a-b\n",
        "\n",
        "print(\"a=\",a,\"b=\",b,\"c=\",c)"
      ]
    },
    {
      "cell_type": "code",
      "source": [
        "'''\n",
        "\n",
        "home work\n",
        "\n",
        "finish this\n",
        "\n",
        "\n",
        "while a != b:\n",
        "  check if a > b\n",
        "  set new a\n",
        "  set new b\n",
        "  calculate c\n",
        "\n",
        "\n",
        "and this do the spreadsheet again using\n",
        "\n",
        "a=3*4*7=84\n",
        "\n",
        "b=3*4=12\n",
        "\n",
        "\n",
        "check your work using the python match gcd function\n",
        "\n",
        "\n",
        "'''\n",
        "\n",
        "# my algorithm calculate not the gcd\n",
        "# it calculates the gcd prime number divisor\n",
        "\n",
        "\n",
        "import math\n",
        "math.gcd(84,12)\n"
      ],
      "metadata": {
        "colab": {
          "base_uri": "https://localhost:8080/"
        },
        "id": "MbBs82DfeTIi",
        "outputId": "ce44468c-dd6c-4efd-a742-469500939ffa"
      },
      "execution_count": 7,
      "outputs": [
        {
          "output_type": "execute_result",
          "data": {
            "text/plain": [
              "12"
            ]
          },
          "metadata": {},
          "execution_count": 7
        }
      ]
    }
  ]
}