{
  "nbformat": 4,
  "nbformat_minor": 0,
  "metadata": {
    "colab": {
      "provenance": [],
      "include_colab_link": true
    },
    "kernelspec": {
      "name": "python3",
      "display_name": "Python 3"
    },
    "language_info": {
      "name": "python"
    }
  },
  "cells": [
    {
      "cell_type": "markdown",
      "metadata": {
        "id": "view-in-github",
        "colab_type": "text"
      },
      "source": [
        "<a href=\"https://colab.research.google.com/github/werowe/HypatiaAcademy/blob/master/class/December-1-2024-Yevhen-classes.ipynb\" target=\"_parent\"><img src=\"https://colab.research.google.com/assets/colab-badge.svg\" alt=\"Open In Colab\"/></a>"
      ]
    },
    {
      "cell_type": "code",
      "execution_count": 47,
      "metadata": {
        "id": "_5BlwK4kaIiG"
      },
      "outputs": [],
      "source": [
        "class Shirt:\n",
        "\n",
        " def __init__ ( self, madefrom, color):\n",
        "   #self.madefrom=cotton\n",
        "   #self.color=red\n",
        "   self.madefrom=madefrom\n",
        "   self.color=color\n",
        "\n",
        " def toString(self):\n",
        "    return \"madeform=\" + self.madefrom +  \" color =\" + self.color\n",
        "\n",
        " def isEqual(self,shirt):\n",
        "    # double equals means check is equal to\n",
        "    # single equals means assign a value like x=1\n",
        "    # double means check is x==1 is equal to 1\n",
        "\n",
        "\n",
        "\n",
        "    # the wordy way, too long, can be shorter\n",
        "    #sameColor=self.color == shirt.color\n",
        "    #sameMake=self.madefrom == shirt.madefrom\n",
        "\n",
        "    #if sameColor == True and sameMake == True:\n",
        "    #  return True\n",
        "    # I believe we found what we could call a compiler error\n",
        "    # Python should have told me that I did not consider what to do when this statement\n",
        "    # above is False.\n",
        "    #else:\n",
        "    #  return False\n",
        "\n",
        "    return self.color == shirt.color and self.madeform == shirt.madeform"
      ]
    },
    {
      "cell_type": "code",
      "source": [
        "teeShirt=Shirt(\"cotton\", \"blue\")"
      ],
      "metadata": {
        "id": "8gyX5q3X8rqy"
      },
      "execution_count": 48,
      "outputs": []
    },
    {
      "cell_type": "code",
      "source": [
        "redCottonShirt=Shirt(\"cotton\", \"red\")"
      ],
      "metadata": {
        "id": "FcBlne5D9IlB"
      },
      "execution_count": 49,
      "outputs": []
    },
    {
      "cell_type": "code",
      "source": [
        "print(\"the color of my teeShirt is \" ,  teeShirt.color)"
      ],
      "metadata": {
        "id": "Xw87Qlvv9Sce",
        "outputId": "91a8d434-6d99-4d33-8e0d-a9f091c78b72",
        "colab": {
          "base_uri": "https://localhost:8080/"
        }
      },
      "execution_count": 50,
      "outputs": [
        {
          "output_type": "stream",
          "name": "stdout",
          "text": [
            "the color of my teeShirt is  blue\n"
          ]
        }
      ]
    },
    {
      "cell_type": "code",
      "source": [
        "teeShirt.toString()"
      ],
      "metadata": {
        "id": "JQPOzwA-9i8D",
        "outputId": "3c89b086-e388-4b53-d4e5-52e0e7833b1d",
        "colab": {
          "base_uri": "https://localhost:8080/",
          "height": 37
        }
      },
      "execution_count": 51,
      "outputs": [
        {
          "output_type": "execute_result",
          "data": {
            "text/plain": [
              "'madeform=cotton color =blue'"
            ],
            "application/vnd.google.colaboratory.intrinsic+json": {
              "type": "string"
            }
          },
          "metadata": {},
          "execution_count": 51
        }
      ]
    },
    {
      "cell_type": "code",
      "source": [
        "redCottonShirt.toString()"
      ],
      "metadata": {
        "id": "FLtoV27TAiMK",
        "outputId": "5902715b-09d4-4d07-dfde-53a5a5832c52",
        "colab": {
          "base_uri": "https://localhost:8080/",
          "height": 37
        }
      },
      "execution_count": 52,
      "outputs": [
        {
          "output_type": "execute_result",
          "data": {
            "text/plain": [
              "'madeform=cotton color =red'"
            ],
            "application/vnd.google.colaboratory.intrinsic+json": {
              "type": "string"
            }
          },
          "metadata": {},
          "execution_count": 52
        }
      ]
    },
    {
      "cell_type": "code",
      "source": [],
      "metadata": {
        "id": "tG0Q1xMFA2WZ"
      },
      "execution_count": 52,
      "outputs": []
    },
    {
      "cell_type": "code",
      "source": [
        "teeShirt.isEqual(redCottonShirt)"
      ],
      "metadata": {
        "id": "_uFvkoIT-V2A",
        "outputId": "380f10ac-0548-48c9-f41b-cf2ab90e8264",
        "colab": {
          "base_uri": "https://localhost:8080/"
        }
      },
      "execution_count": 53,
      "outputs": [
        {
          "output_type": "execute_result",
          "data": {
            "text/plain": [
              "False"
            ]
          },
          "metadata": {},
          "execution_count": 53
        }
      ]
    },
    {
      "cell_type": "code",
      "source": [
        "2==2 and 3==3\n"
      ],
      "metadata": {
        "id": "YfQXF5if-32O",
        "outputId": "d8fef435-d136-40f8-9f3c-51a1cc03b1e4",
        "colab": {
          "base_uri": "https://localhost:8080/"
        }
      },
      "execution_count": 54,
      "outputs": [
        {
          "output_type": "execute_result",
          "data": {
            "text/plain": [
              "True"
            ]
          },
          "metadata": {},
          "execution_count": 54
        }
      ]
    }
  ]
}