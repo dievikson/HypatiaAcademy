{
  "nbformat": 4,
  "nbformat_minor": 0,
  "metadata": {
    "colab": {
      "provenance": [],
      "authorship_tag": "ABX9TyMuctiJy7KBEp4Kt9DLNgFY",
      "include_colab_link": true
    },
    "kernelspec": {
      "name": "python3",
      "display_name": "Python 3"
    },
    "language_info": {
      "name": "python"
    }
  },
  "cells": [
    {
      "cell_type": "markdown",
      "metadata": {
        "id": "view-in-github",
        "colab_type": "text"
      },
      "source": [
        "<a href=\"https://colab.research.google.com/github/werowe/HypatiaAcademy/blob/master/class/october_3_2023_print.ipynb\" target=\"_parent\"><img src=\"https://colab.research.google.com/assets/colab-badge.svg\" alt=\"Open In Colab\"/></a>"
      ]
    },
    {
      "cell_type": "code",
      "execution_count": 5,
      "metadata": {
        "colab": {
          "base_uri": "https://localhost:8080/"
        },
        "id": "aVzdNfexH1kO",
        "outputId": "f3f7c2be-703e-4cf9-8f13-3a1b51e0942c"
      },
      "outputs": [
        {
          "output_type": "stream",
          "name": "stdout",
          "text": [
            "4\n",
            "3*4\n",
            "3 times 4 is  12\n"
          ]
        }
      ],
      "source": [
        "# print is a command\n",
        "\n",
        "\n",
        "# not correct\n",
        "#(print 1+3)\n",
        "\n",
        "# should be like this:\n",
        "\n",
        "print(1+3)\n",
        "\n",
        "\n",
        "print(\"3*4\")\n",
        "\n",
        "\n",
        "print(\"3 times 4 is \", 3*4)"
      ]
    },
    {
      "cell_type": "code",
      "source": [
        "print(\"ilias calcultes this\", 3*4)"
      ],
      "metadata": {
        "colab": {
          "base_uri": "https://localhost:8080/"
        },
        "id": "xhT04gY-K-3i",
        "outputId": "9599f167-243b-4b5f-896d-ed2f222f1db8"
      },
      "execution_count": 6,
      "outputs": [
        {
          "output_type": "stream",
          "name": "stdout",
          "text": [
            "12\n"
          ]
        }
      ]
    },
    {
      "cell_type": "code",
      "source": [
        "print(\"my name is ilias I am this old\", 13)\n",
        "print(13)"
      ],
      "metadata": {
        "colab": {
          "base_uri": "https://localhost:8080/"
        },
        "id": "96ymzsEhLGqj",
        "outputId": "149e0efd-f24b-4c5b-b1c7-db10f4dd5812"
      },
      "execution_count": 10,
      "outputs": [
        {
          "output_type": "stream",
          "name": "stdout",
          "text": [
            "my name is ilias I am this old 13\n",
            "13\n"
          ]
        }
      ]
    },
    {
      "cell_type": "code",
      "source": [
        "# this puts the number 13 in the variable age\n",
        "\n",
        "age=13\n",
        "\n",
        "print(\"my name is ilias I am this old\", age)"
      ],
      "metadata": {
        "colab": {
          "base_uri": "https://localhost:8080/"
        },
        "id": "WYmlAmQqLUY7",
        "outputId": "775126c1-f610-40e1-f45b-4e6f392a91af"
      },
      "execution_count": 11,
      "outputs": [
        {
          "output_type": "stream",
          "name": "stdout",
          "text": [
            "my name is ilias I am this old 13\n"
          ]
        }
      ]
    },
    {
      "cell_type": "code",
      "source": [
        "silly=13\n",
        "\n",
        "print(\"my name is ilias I am this old\", silly)"
      ],
      "metadata": {
        "colab": {
          "base_uri": "https://localhost:8080/"
        },
        "id": "8jHyqp6cLfDe",
        "outputId": "0a25f446-86a6-4b2e-dc78-52f4eff1446d"
      },
      "execution_count": 12,
      "outputs": [
        {
          "output_type": "stream",
          "name": "stdout",
          "text": [
            "my name is ilias I am this old 13\n"
          ]
        }
      ]
    },
    {
      "cell_type": "code",
      "source": [
        "# division is math books uses this symbol ÷\n",
        "\n",
        "# that's hard to read and it's not on the keyboard\n",
        "\n",
        "# so computers use /\n",
        "\n",
        "print(\"3 divided by 2=\", 3/2)\n"
      ],
      "metadata": {
        "colab": {
          "base_uri": "https://localhost:8080/"
        },
        "id": "_MwO6y-qLkWP",
        "outputId": "6363a010-503f-432b-83d4-8a2531d54d56"
      },
      "execution_count": 14,
      "outputs": [
        {
          "output_type": "stream",
          "name": "stdout",
          "text": [
            "3 divided by 2= 1.5\n"
          ]
        }
      ]
    },
    {
      "cell_type": "code",
      "source": [
        "# there are three ways to print stuff\n",
        "\n",
        "# first is commas\n",
        "\n",
        "print(\"a\", \"b\", \"c\")\n",
        "\n",
        "# second is plus sign. plus is called concatenation in computers\n",
        "\n",
        "print(\"a\"+\"b\"+\"c\")\n",
        "\n",
        "# then there is formatted output.  this is for dates, money, and it's shorter\n",
        "\n",
        "print(\"%s %s %s\" % ( \"a\", \"b\", \"c\"))\n",
        "\n"
      ],
      "metadata": {
        "colab": {
          "base_uri": "https://localhost:8080/"
        },
        "id": "F5zU6WTZMGEh",
        "outputId": "3a3f0f34-159c-47a2-a49b-d31c5066254d"
      },
      "execution_count": 16,
      "outputs": [
        {
          "output_type": "stream",
          "name": "stdout",
          "text": [
            "a b c\n",
            "abc\n",
            "a b c\n"
          ]
        }
      ]
    }
  ]
}