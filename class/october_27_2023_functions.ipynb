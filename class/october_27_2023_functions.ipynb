{
  "nbformat": 4,
  "nbformat_minor": 0,
  "metadata": {
    "colab": {
      "provenance": [],
      "authorship_tag": "ABX9TyM+pOSngK3gNkeEX0P1fTTN",
      "include_colab_link": true
    },
    "kernelspec": {
      "name": "python3",
      "display_name": "Python 3"
    },
    "language_info": {
      "name": "python"
    }
  },
  "cells": [
    {
      "cell_type": "markdown",
      "metadata": {
        "id": "view-in-github",
        "colab_type": "text"
      },
      "source": [
        "<a href=\"https://colab.research.google.com/github/werowe/HypatiaAcademy/blob/master/class/october_27_2023_functions.ipynb\" target=\"_parent\"><img src=\"https://colab.research.google.com/assets/colab-badge.svg\" alt=\"Open In Colab\"/></a>"
      ]
    },
    {
      "cell_type": "code",
      "execution_count": 1,
      "metadata": {
        "colab": {
          "base_uri": "https://localhost:8080/"
        },
        "id": "8CxMCVmdzjb1",
        "outputId": "5e945efa-3241-46a2-cf3f-92891fbe100f"
      },
      "outputs": [
        {
          "output_type": "stream",
          "name": "stdout",
          "text": [
            "hello\n"
          ]
        }
      ],
      "source": [
        "print(\"hello\")"
      ]
    },
    {
      "cell_type": "code",
      "source": [
        "# functions\n",
        "\n",
        "# a function takes some input and produces some output\n",
        "\n",
        "# def means define function\n",
        "# parameters means what goes it\n",
        "# return means what comes out\n",
        "\n",
        "\n",
        "#def functionName(parameters)\n",
        "\n",
        "#    return something\n",
        "\n",
        "\n",
        "def oleksander(p):\n",
        "\n",
        "  return 2*p\n",
        "\n"
      ],
      "metadata": {
        "id": "d56v0fmP0tWU"
      },
      "execution_count": 2,
      "outputs": []
    },
    {
      "cell_type": "code",
      "source": [
        "# to call a function you just put its name\n",
        "\n",
        "\n",
        "# this says call function oleksander and send it the value 3\n",
        "# call means use\n",
        "\n",
        "oleksander(3)\n",
        "\n"
      ],
      "metadata": {
        "colab": {
          "base_uri": "https://localhost:8080/"
        },
        "id": "et-ndVxh1iSL",
        "outputId": "8085094d-0744-4bfd-cb46-3ebf7492fc4b"
      },
      "execution_count": 3,
      "outputs": [
        {
          "output_type": "execute_result",
          "data": {
            "text/plain": [
              "6"
            ]
          },
          "metadata": {},
          "execution_count": 3
        }
      ]
    },
    {
      "cell_type": "code",
      "source": [
        "# a function can have more than one argument\n",
        "# argument and parameter are the same thing\n",
        "# both means what comes in\n",
        "\n",
        "def oleksanderTwo(p, q):\n",
        "\n",
        "  return 2*p*q\n",
        "\n",
        "\n",
        "oleksanderTwo(2,3)"
      ],
      "metadata": {
        "colab": {
          "base_uri": "https://localhost:8080/"
        },
        "id": "jfLQxkDE2BS3",
        "outputId": "d845bd5f-90d8-4cb3-9dba-ed4e3adb3966"
      },
      "execution_count": 5,
      "outputs": [
        {
          "output_type": "execute_result",
          "data": {
            "text/plain": [
              "12"
            ]
          },
          "metadata": {},
          "execution_count": 5
        }
      ]
    },
    {
      "cell_type": "code",
      "source": [
        "# python prints the last item in the cell\n",
        "\n",
        "print(oleksanderTwo(2,3))\n",
        "\n",
        "print(\"goodbye\")"
      ],
      "metadata": {
        "colab": {
          "base_uri": "https://localhost:8080/"
        },
        "id": "h95Aplrn2rBi",
        "outputId": "cb16320d-811b-4b78-c0dc-e151f8edd789"
      },
      "execution_count": 6,
      "outputs": [
        {
          "output_type": "stream",
          "name": "stdout",
          "text": [
            "12\n",
            "goodbye\n"
          ]
        }
      ]
    },
    {
      "cell_type": "code",
      "source": [
        "# variables\n",
        "\n",
        "# this assigns the variable x the value 2\n",
        "\n",
        "x=2\n",
        "\n",
        "# but functions you can also assign to a variable\n",
        "\n",
        "# run the function oleksander() with the value 3 and put it in b\n",
        "\n",
        "# this will not print\n",
        "\n",
        "b=oleksander(3)\n",
        "\n",
        "print(b)\n",
        "\n",
        "print(\"the result of sending 3 to oleksander is \", b)\n"
      ],
      "metadata": {
        "colab": {
          "base_uri": "https://localhost:8080/"
        },
        "id": "bV8OooIS26Z5",
        "outputId": "d9c39f35-b5f5-432e-d583-baf7d7b2ee72"
      },
      "execution_count": 9,
      "outputs": [
        {
          "output_type": "stream",
          "name": "stdout",
          "text": [
            "6\n",
            "the result of sending 3 to oleksander is  6\n"
          ]
        }
      ]
    },
    {
      "cell_type": "code",
      "source": [
        "'''\n",
        "homework\n",
        "\n",
        "1. get slack working\n",
        "2. get google colab working\n",
        "3.  get google colab to save your work in github\n",
        "\n",
        "\n",
        "'''"
      ],
      "metadata": {
        "id": "E3MCe90m3gpw"
      },
      "execution_count": null,
      "outputs": []
    }
  ]
}