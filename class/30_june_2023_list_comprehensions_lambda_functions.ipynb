{
  "nbformat": 4,
  "nbformat_minor": 0,
  "metadata": {
    "colab": {
      "provenance": [],
      "authorship_tag": "ABX9TyNQxOQcGmJi0hpgEjOGWAh3",
      "include_colab_link": true
    },
    "kernelspec": {
      "name": "python3",
      "display_name": "Python 3"
    },
    "language_info": {
      "name": "python"
    }
  },
  "cells": [
    {
      "cell_type": "markdown",
      "metadata": {
        "id": "view-in-github",
        "colab_type": "text"
      },
      "source": [
        "<a href=\"https://colab.research.google.com/github/werowe/HypatiaAcademy/blob/master/class/30_june_2023_list_comprehensions_lambda_functions.ipynb\" target=\"_parent\"><img src=\"https://colab.research.google.com/assets/colab-badge.svg\" alt=\"Open In Colab\"/></a>"
      ]
    },
    {
      "cell_type": "markdown",
      "source": [
        "# Lambda functions, list comprehensions, and map functions\n"
      ],
      "metadata": {
        "id": "pfRq5RiduTfB"
      }
    },
    {
      "cell_type": "code",
      "execution_count": null,
      "metadata": {
        "id": "w5cwzQoDTiOf"
      },
      "outputs": [],
      "source": [
        "def square(x):\n",
        "  return x^x\n",
        "\n",
        "\n"
      ]
    },
    {
      "cell_type": "code",
      "source": [
        "#lambda or anonymous\n",
        "\n",
        "sq=lambda x: x**x\n",
        "\n",
        "print(sq(2))\n",
        "\n"
      ],
      "metadata": {
        "colab": {
          "base_uri": "https://localhost:8080/"
        },
        "id": "oZuh2tbzT5QM",
        "outputId": "50d3decc-98b9-4c97-9151-ca2e171f3c2e"
      },
      "execution_count": null,
      "outputs": [
        {
          "output_type": "stream",
          "name": "stdout",
          "text": [
            "4\n"
          ]
        }
      ]
    },
    {
      "cell_type": "code",
      "source": [
        "fruits = [\"apple\", \"banana\", \"cherry\", \"kiwi\", \"mango\"]\n",
        "\n",
        "# a list comprehension makes a new list\n",
        "\n",
        "print([x for x in fruits])\n",
        "\n",
        "print([x for x in fruits if len(x)==4])\n",
        "\n",
        "print([x.upper() for x in fruits if 'a' in x])"
      ],
      "metadata": {
        "colab": {
          "base_uri": "https://localhost:8080/"
        },
        "id": "LD38tdgpUK2m",
        "outputId": "94b298f2-5ad7-4ea2-da0d-d307b768bbbf"
      },
      "execution_count": null,
      "outputs": [
        {
          "output_type": "stream",
          "name": "stdout",
          "text": [
            "['apple', 'banana', 'cherry', 'kiwi', 'mango']\n",
            "['kiwi']\n",
            "['APPLE', 'BANANA', 'MANGO']\n"
          ]
        }
      ]
    },
    {
      "cell_type": "code",
      "source": [
        "sq=lambda x: x**x\n",
        "\n",
        "\n"
      ],
      "metadata": {
        "id": "rZBz7XMQWPm-"
      },
      "execution_count": null,
      "outputs": []
    },
    {
      "cell_type": "code",
      "source": [
        "numbers = [1,2,3,4,5]\n",
        "\n",
        "# a list comprehension makes a new list\n",
        "\n",
        "print([sq(x) for x in numbers])"
      ],
      "metadata": {
        "colab": {
          "base_uri": "https://localhost:8080/"
        },
        "id": "-ZDrqBXoVbnR",
        "outputId": "c7a6505d-4576-4efa-ff02-c875a460a791"
      },
      "execution_count": null,
      "outputs": [
        {
          "output_type": "stream",
          "name": "stdout",
          "text": [
            "[1, 4, 27, 256, 3125]\n"
          ]
        }
      ]
    },
    {
      "cell_type": "markdown",
      "source": [
        "# Map function\n",
        "\n",
        "**map** funs a function over every item in a list.\n",
        "\n",
        "The format is:\n",
        "\n",
        "```python\n",
        "map(functionName,listName)\n"
      ],
      "metadata": {
        "id": "qBaL-JwzttGZ"
      }
    },
    {
      "cell_type": "code",
      "source": [
        "\n",
        "\n",
        "cars=[\"porche\", \"audi\", \"tesla\"]\n",
        "\n",
        "def addToList(car):\n",
        "  return car.upper()\n",
        "\n",
        "# addCar creates a map.  It's not something we can easily read so (see next step)\n",
        "\n",
        "addCar=map(addToList,cars)\n",
        "\n",
        "# convert the map object to a list\n",
        "\n",
        "print(list(addCar))\n",
        "\n",
        "\n"
      ],
      "metadata": {
        "id": "jS0TdqWPto_P",
        "outputId": "b61a7f6b-34f0-4be6-8001-59239169573d",
        "colab": {
          "base_uri": "https://localhost:8080/"
        }
      },
      "execution_count": 1,
      "outputs": [
        {
          "output_type": "stream",
          "name": "stdout",
          "text": [
            "['PORCHE', 'AUDI', 'TESLA']\n"
          ]
        }
      ]
    }
  ]
}