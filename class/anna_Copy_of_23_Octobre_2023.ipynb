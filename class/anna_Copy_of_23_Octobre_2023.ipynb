{
  "nbformat": 4,
  "nbformat_minor": 0,
  "metadata": {
    "colab": {
      "provenance": [],
      "include_colab_link": true
    },
    "kernelspec": {
      "name": "python3",
      "display_name": "Python 3"
    },
    "language_info": {
      "name": "python"
    }
  },
  "cells": [
    {
      "cell_type": "markdown",
      "metadata": {
        "id": "view-in-github",
        "colab_type": "text"
      },
      "source": [
        "<a href=\"https://colab.research.google.com/github/werowe/HypatiaAcademy/blob/master/class/anna_Copy_of_23_Octobre_2023.ipynb\" target=\"_parent\"><img src=\"https://colab.research.google.com/assets/colab-badge.svg\" alt=\"Open In Colab\"/></a>"
      ]
    },
    {
      "cell_type": "code",
      "source": [
        "\n",
        "a = 45\n",
        "b = 33\n",
        "c = a-b\n",
        "\n",
        "print(\"a=\",a,\"b=\",b,\"c=\",c)\n",
        "\n",
        "if b > c:\n",
        "  a = b\n",
        "  b = c\n",
        "\n",
        "c = a-b\n",
        "print(\"a=\",a,\"b=\",b,\"c=\",c)\n",
        "\n",
        "if b < c:\n",
        "  a = c\n",
        "\n",
        "c = a-b\n",
        "print(\"s=\",a,\"b=\",b,\"c=\",c)\n",
        "\n",
        "if a > b:\n",
        "  a = b\n",
        "  b = c\n",
        "\n",
        "c = a-b\n",
        "print(\"a=\",a,\"b=\",b,\"c=\",c)\n",
        "\n",
        "if a > b:\n",
        "  a = b\n",
        "  b = c\n",
        "\n",
        "c = a-b\n",
        "print(\"a=\",a,\"b=\",b,\"c=\",c)\n",
        "\n",
        "if b < c:\n",
        "  a = c\n",
        "\n",
        "c = a-b\n",
        "print(\"a=\",a,\"b=\",b,\"c=\",c)"
      ],
      "metadata": {
        "colab": {
          "base_uri": "https://localhost:8080/"
        },
        "id": "BmPoxkEW6KZt",
        "outputId": "4625e3a3-22cb-4cfb-8508-c893c7d0aa51"
      },
      "execution_count": null,
      "outputs": [
        {
          "output_type": "stream",
          "name": "stdout",
          "text": [
            "a= 45 b= 33 c= 12\n",
            "a= 33 b= 12 c= 21\n",
            "s= 21 b= 12 c= 9\n",
            "a= 12 b= 9 c= 3\n",
            "a= 9 b= 3 c= 6\n",
            "a= 6 b= 3 c= 3\n"
          ]
        }
      ]
    },
    {
      "cell_type": "code",
      "execution_count": 10,
      "metadata": {
        "id": "ztlDzc3H5-uQ",
        "colab": {
          "base_uri": "https://localhost:8080/"
        },
        "outputId": "0c7e6020-0959-489d-ce1d-8313588284b9"
      },
      "outputs": [
        {
          "output_type": "stream",
          "name": "stdout",
          "text": [
            "a= 64 b= 20 c= 44\n",
            "a= 44 b= 20 c= 24\n",
            "a= 44 b= 20 c= 24\n",
            "a= 24 b= 20 c= 4\n",
            "a= 20 b= 4 c= 16\n",
            "a= 16 b= 4 c= 12\n",
            "a= 16 b= 4 c= 12\n",
            "a= 12 b= 4 c= 8\n",
            "a= 12 b= 4 c= 8\n",
            "a= 8 b= 4 c= 4\n",
            "a= 8 b= 4 c= 4\n",
            "a= 4 b= 4 c= 0\n"
          ]
        }
      ],
      "source": [
        "\n",
        "a = 84\n",
        "b = 64\n",
        "c = a-b\n",
        "\n",
        "while c != 0:\n",
        "\n",
        "  if b > c:\n",
        "    a = b\n",
        "    b = c\n",
        "\n",
        "  c = a-b\n",
        "\n",
        "  print(\"a=\",a,\"b=\",b,\"c=\",c)\n",
        "\n",
        "  if b <= c:\n",
        "    a = c\n",
        "\n",
        "  c = a-b\n",
        "\n",
        "  print(\"a=\",a,\"b=\",b,\"c=\",c)\n",
        "\n",
        "\n",
        "\n",
        "\n",
        "\n"
      ]
    },
    {
      "cell_type": "code",
      "source": [
        "a = 84\n",
        "b = 64\n",
        "c = a-b\n",
        "\n",
        "while c != 0:\n",
        "\n",
        "\n",
        "  if b > c:\n",
        "    a = b\n",
        "    b = c\n",
        "  else:\n",
        "    a = c\n",
        "\n",
        "  c = a-b\n",
        "\n",
        "  print(\"a=\",a,\"b=\",b,\"c=\",c)\n",
        "\n",
        ""
      ],
      "metadata": {
        "colab": {
          "base_uri": "https://localhost:8080/"
        },
        "id": "R0TSPTHwxos8",
        "outputId": "d7928138-02e3-4d3a-c25e-2675ed259140"
      },
      "execution_count": 9,
      "outputs": [
        {
          "output_type": "stream",
          "name": "stdout",
          "text": [
            "a= 64 b= 20 c= 44\n",
            "a= 44 b= 20 c= 24\n",
            "a= 24 b= 20 c= 4\n",
            "a= 20 b= 4 c= 16\n",
            "a= 16 b= 4 c= 12\n",
            "a= 12 b= 4 c= 8\n",
            "a= 8 b= 4 c= 4\n",
            "a= 4 b= 4 c= 0\n"
          ]
        }
      ]
    }
  ]
}