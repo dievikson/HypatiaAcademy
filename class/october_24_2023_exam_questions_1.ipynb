{
  "nbformat": 4,
  "nbformat_minor": 0,
  "metadata": {
    "colab": {
      "provenance": [],
      "authorship_tag": "ABX9TyNmHEprYNVUqMOuRn0zy7aP",
      "include_colab_link": true
    },
    "kernelspec": {
      "name": "python3",
      "display_name": "Python 3"
    },
    "language_info": {
      "name": "python"
    }
  },
  "cells": [
    {
      "cell_type": "markdown",
      "metadata": {
        "id": "view-in-github",
        "colab_type": "text"
      },
      "source": [
        "<a href=\"https://colab.research.google.com/github/werowe/HypatiaAcademy/blob/master/class/october_24_2023_exam_questions_1.ipynb\" target=\"_parent\"><img src=\"https://colab.research.google.com/assets/colab-badge.svg\" alt=\"Open In Colab\"/></a>"
      ]
    },
    {
      "cell_type": "code",
      "execution_count": 1,
      "metadata": {
        "colab": {
          "base_uri": "https://localhost:8080/"
        },
        "id": "PA-gP5_BEhZG",
        "outputId": "bb24b56d-0626-470d-f82d-2a916236b0d5"
      },
      "outputs": [
        {
          "output_type": "stream",
          "name": "stdout",
          "text": [
            "4.0\n",
            "4.0\n",
            "4.0\n"
          ]
        }
      ],
      "source": [
        "\n",
        "print(4*3/3)\n",
        "\n",
        "\n",
        "\n",
        "\n",
        "print((4*3)/3)\n",
        "\n",
        "print(4*(3/3))\n",
        "\n",
        "\n",
        "\n",
        "\n"
      ]
    },
    {
      "cell_type": "code",
      "source": [
        "print(5*7/5)\n",
        "\n",
        "print((5*7)/5)\n",
        "\n",
        "print(5*(7/5))\n",
        "\n",
        "\n",
        "\n"
      ],
      "metadata": {
        "colab": {
          "base_uri": "https://localhost:8080/"
        },
        "id": "DejUiNhnGcki",
        "outputId": "58ab63c4-26f7-4661-d866-a7772946e824"
      },
      "execution_count": 2,
      "outputs": [
        {
          "output_type": "stream",
          "name": "stdout",
          "text": [
            "7.0\n",
            "7.0\n",
            "7.0\n"
          ]
        }
      ]
    },
    {
      "cell_type": "code",
      "source": [
        "#. homework\n",
        "\n",
        "# extra credit\n",
        "\n",
        "# which is not all of this 8?\n",
        "\n",
        "\n",
        "print(4-3+7)\n",
        "\n",
        "print((4-3)+7)\n",
        "\n",
        "print(4-(3+7))\n",
        "\n"
      ],
      "metadata": {
        "colab": {
          "base_uri": "https://localhost:8080/"
        },
        "id": "0Hba39LzGyzT",
        "outputId": "54700b64-7858-443b-9127-333c5ca7842e"
      },
      "execution_count": 3,
      "outputs": [
        {
          "output_type": "stream",
          "name": "stdout",
          "text": [
            "8\n",
            "8\n",
            "-6\n"
          ]
        }
      ]
    },
    {
      "cell_type": "code",
      "source": [
        "# unary operator will operator on itself so it does not matter\n",
        "\n",
        "\n",
        "print(3*2**2)\n",
        "\n",
        "\n",
        "#wrong one\n",
        "\n",
        "print((3*2)**2)\n",
        "\n",
        "# oleksi\n",
        "\n",
        "print(3*(2**2))\n",
        "\n",
        "\n"
      ],
      "metadata": {
        "colab": {
          "base_uri": "https://localhost:8080/"
        },
        "id": "aDv_GcGxHTgJ",
        "outputId": "15bcf56c-7d2b-4866-b98d-e351dedcc508"
      },
      "execution_count": 4,
      "outputs": [
        {
          "output_type": "stream",
          "name": "stdout",
          "text": [
            "12\n",
            "36\n",
            "12\n"
          ]
        }
      ]
    },
    {
      "cell_type": "code",
      "source": [
        "# this will go left to right\n",
        "\n",
        "(1 < 2) and (4 < 8)\n",
        "\n",
        "1.  is 1 < 2\n",
        "2. is 4 < 8\n",
        "3.  is 1. and 2. true\n",
        "\n",
        "\n",
        "\n",
        "\n",
        "\n"
      ],
      "metadata": {
        "id": "ApFGonkeIDf8"
      },
      "execution_count": null,
      "outputs": []
    },
    {
      "cell_type": "code",
      "source": [
        "print(2 ** 3 ** 2 ** 1)\n",
        "\n",
        "\n",
        "print(2**9)\n",
        "\n",
        "1.  2**1=2\n",
        "\n",
        "2.  3**2=9\n",
        "\n",
        "3.  2**9\n",
        "\n",
        "\n",
        "\n",
        "\n",
        "\n",
        "\n",
        "\n",
        "'''\n",
        "A. invalid (not this one)\n",
        "B. equal to 16\n",
        "C. equal to 16.0\n",
        "D. equal to 512\n",
        "E. equal to 64\n",
        "F. equal to 128.0\n",
        "'''\n"
      ],
      "metadata": {
        "colab": {
          "base_uri": "https://localhost:8080/",
          "height": 72
        },
        "id": "RPCYOt_IIoky",
        "outputId": "566ffd63-200b-476b-957f-8884cea9fec1"
      },
      "execution_count": 7,
      "outputs": [
        {
          "output_type": "stream",
          "name": "stdout",
          "text": [
            "512\n",
            "512\n"
          ]
        },
        {
          "output_type": "execute_result",
          "data": {
            "text/plain": [
              "'\\nA. invalid (not this one)\\nB. equal to 16\\nC. equal to 16.0\\nD. equal to 512\\nE. equal to 64\\nF. equal to 128.0\\n'"
            ],
            "application/vnd.google.colaboratory.intrinsic+json": {
              "type": "string"
            }
          },
          "metadata": {},
          "execution_count": 7
        }
      ]
    },
    {
      "cell_type": "code",
      "source": [
        "'''\n",
        "\n",
        "1'. Parentheses ( )\n",
        "2. Exponentiation (^, **, etc.)\n",
        "? Multiplication (*) and Division (/)\n",
        "? Addition (+) and Subtraction (-)\n",
        "4.Comparison Operators (<, >, <=, >=, ==, !=)\n",
        "5.Logical Operators (&&, ||, !)\n",
        "Assignment Operators (=, +=, -=, etc.)\n",
        "Ternary Conditional Operator (?:)\n",
        "Comma Operator (,)\n",
        "\n",
        "'''"
      ],
      "metadata": {
        "id": "jbulAxi2FZPC"
      },
      "execution_count": null,
      "outputs": []
    },
    {
      "cell_type": "code",
      "source": [
        "\n",
        "'''\n",
        "If you want to build a string that reads:\n",
        "Peter's sister's name's \"Anna\"\n",
        "\n",
        "which of the following literals would you use? (Select all that apply)\n",
        "A. \"Peter's sister's name's \\\"Anna\\\"\"\n",
        "B. 'Peter\\'s sister\\'s name\\'s \\\"Anna\\\"'\n",
        "C. \"Peter's sister's name's \"Anna\"\"\n",
        "D. 'Peter's sister's name's \"Anna\"\n",
        "\n",
        "'''\n",
        "\n",
        "# escape means ignore that as a character it has a special meanings\n",
        "\n",
        "\n",
        "\"olek\\\"si\"\n",
        "\n",
        "print(\"olek\\ns\\ti\")\n",
        "\n",
        "\n",
        "\n",
        "\n"
      ],
      "metadata": {
        "colab": {
          "base_uri": "https://localhost:8080/"
        },
        "id": "lvhJGmBLKMw7",
        "outputId": "c4248d8e-c775-4cf5-9163-be9ab25aefd2"
      },
      "execution_count": 10,
      "outputs": [
        {
          "output_type": "stream",
          "name": "stdout",
          "text": [
            "olek\n",
            "s\ti\n"
          ]
        }
      ]
    },
    {
      "cell_type": "code",
      "source": [
        "'''\n",
        "\n",
        "\n",
        "What is the expected output of the following snippet?\n",
        "\n",
        "i = 250\n",
        "while len(str(i)) > 72:\n",
        " i *= 2\n",
        "else:\n",
        " i //= 2\n",
        "print(i)\n",
        "\n",
        "\n",
        "A. 125\n",
        "B. 250\n",
        "C. 72\n",
        "D. 500\n",
        "\n",
        "'''\n",
        "\n",
        "\n",
        "i *= 2\n",
        "\n",
        "i = i * 2\n",
        "\n",
        "\n",
        "#. // has a special meaning in python\n",
        "\n",
        "\n",
        "\n",
        "\n",
        "\n",
        "\n",
        "\n",
        "\n",
        "\n"
      ],
      "metadata": {
        "id": "HVD9jL5FK0LX"
      },
      "execution_count": null,
      "outputs": []
    }
  ]
}