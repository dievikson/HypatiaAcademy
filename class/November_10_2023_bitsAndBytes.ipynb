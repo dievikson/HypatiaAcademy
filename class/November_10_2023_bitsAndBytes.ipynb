{
  "cells": [
    {
      "cell_type": "markdown",
      "metadata": {
        "id": "view-in-github",
        "colab_type": "text"
      },
      "source": [
        "<a href=\"https://colab.research.google.com/github/werowe/HypatiaAcademy/blob/master/class/November_10_2023_bitsAndBytes.ipynb\" target=\"_parent\"><img src=\"https://colab.research.google.com/assets/colab-badge.svg\" alt=\"Open In Colab\"/></a>"
      ]
    },
    {
      "cell_type": "code",
      "source": [
        "\n",
        "#345=300+40+5\n",
        "\n",
        "(3*(10**2))+(4*(10**1))+(5*(10**0))\n",
        "\n"
      ],
      "metadata": {
        "colab": {
          "base_uri": "https://localhost:8080/"
        },
        "id": "EmRlnckaw5D2",
        "outputId": "8d00a8f6-9cf1-4a14-e576-193e46ccf003"
      },
      "execution_count": 4,
      "outputs": [
        {
          "output_type": "execute_result",
          "data": {
            "text/plain": [
              "345"
            ]
          },
          "metadata": {},
          "execution_count": 4
        }
      ]
    },
    {
      "cell_type": "code",
      "source": [
        "#111\n",
        "\n",
        "1*2**2+1*2**1+1*2**0\n",
        "\n"
      ],
      "metadata": {
        "colab": {
          "base_uri": "https://localhost:8080/"
        },
        "id": "UsarXI4qxkSV",
        "outputId": "115d607f-8f77-4d3d-a7d5-413066910291"
      },
      "execution_count": 6,
      "outputs": [
        {
          "output_type": "execute_result",
          "data": {
            "text/plain": [
              "4"
            ]
          },
          "metadata": {},
          "execution_count": 6
        }
      ]
    },
    {
      "cell_type": "code",
      "source": [
        "#110\n",
        "\n",
        "1*2**2+1*2**1+0*2**0"
      ],
      "metadata": {
        "colab": {
          "base_uri": "https://localhost:8080/"
        },
        "id": "5vSd5lW6yiX0",
        "outputId": "1b056f8c-3209-4a6f-dab7-961743027523"
      },
      "execution_count": 7,
      "outputs": [
        {
          "output_type": "execute_result",
          "data": {
            "text/plain": [
              "6"
            ]
          },
          "metadata": {},
          "execution_count": 7
        }
      ]
    },
    {
      "cell_type": "code",
      "source": [
        "# what is this binary number, which is base 2 number, in the decimal system\n",
        "\n",
        "100\n",
        "\n",
        "\n"
      ],
      "metadata": {
        "id": "SRzLVw5FytBs"
      },
      "execution_count": null,
      "outputs": []
    },
    {
      "cell_type": "markdown",
      "source": [
        "101\n",
        "\n",
        "\n",
        "| coefficient | exponent |\n",
        "| ----------- | ----------- |\n",
        "| 1 |   10**2 |\n",
        "| 0 |   10**1 |\n",
        "| 1 |   10**0 |"
      ],
      "metadata": {
        "id": "MssVfl8UzXh9"
      }
    },
    {
      "cell_type": "markdown",
      "source": [
        "| coefficient | exponent |\n",
        "| ----------- | ----------- |\n",
        "| 1 |   2**2 |\n",
        "| 0 |   2**1 |\n",
        "| 0 |   2**0 |"
      ],
      "metadata": {
        "id": "ZLMdkFBly9RP"
      }
    },
    {
      "cell_type": "markdown",
      "metadata": {
        "id": "oR1z0sGHxJWd"
      },
      "source": [
        "# Bits and Bytes\n",
        "\n",
        "A byte is 8 bits, on most computer systems.  Bits are written as 1s and 0s.  Bytes are written using the hexadecimal number system, which uses digits 0 thrpugh 9 plus the letters A to F.\n",
        "\n",
        "Bites are written like as a series of 8 digits like 00000001.  Those 8 digits equal to one bytes, which you can thin of as a character, like \"A\" or \"$\".\n",
        "\n"
      ]
    },
    {
      "cell_type": "code",
      "source": [
        "b'111'"
      ],
      "metadata": {
        "colab": {
          "base_uri": "https://localhost:8080/"
        },
        "id": "aX2bVidTzu58",
        "outputId": "c5a96887-c5e2-41d3-cb41-19704b442c52"
      },
      "execution_count": 8,
      "outputs": [
        {
          "output_type": "execute_result",
          "data": {
            "text/plain": [
              "b'111'"
            ]
          },
          "metadata": {},
          "execution_count": 8
        }
      ]
    },
    {
      "cell_type": "code",
      "execution_count": null,
      "metadata": {
        "colab": {
          "base_uri": "https://localhost:8080/"
        },
        "id": "Df07we2kxJWl",
        "outputId": "b51136c5-e1f2-4193-b158-ca43e2ccd2c9"
      },
      "outputs": [
        {
          "output_type": "execute_result",
          "data": {
            "text/plain": [
              "b'11111'"
            ]
          },
          "metadata": {},
          "execution_count": 1
        }
      ],
      "source": [
        "b'11111'"
      ]
    },
    {
      "cell_type": "markdown",
      "metadata": {
        "id": "ASet4CehxJWn"
      },
      "source": [
        "# The decimal system.\n",
        "In the decimal system numbers are written as powers of 10.  We use the digits 0,1,2,3,4,5,6,7,8,9.\n",
        "\n",
        "353 is:\n",
        "\n",
        "\\begin{align}\n",
        "(3*10^2)+(5*10^1)+(3*10^0)=353\n",
        "\\end{align}\n",
        "\n",
        "\n",
        "\n",
        "\n",
        "\n",
        "\n",
        "\n"
      ]
    },
    {
      "cell_type": "markdown",
      "metadata": {
        "id": "pyIkjLAuxJWn"
      },
      "source": [
        "###### Binary Numbers\n",
        "In the binary system numbers are written as power of 2.  We use the digits 0 and 1.\n",
        "\n",
        "110 binary is 6 decimal:\n",
        "\n",
        "\n"
      ]
    },
    {
      "cell_type": "markdown",
      "metadata": {
        "id": "L2y9zCHGxJWn"
      },
      "source": [
        "\\begin{align}\n",
        "(1*2^2)+(1*2^1)+(0*2^0)\n",
        "\\end{align}\n",
        "\\begin{align}\n",
        "=(1*4)+(1*2)+(0*1)\n",
        "\\end{align}\n",
        "\\begin{align}\n",
        "=6\n",
        "\\end{align}\n"
      ]
    },
    {
      "cell_type": "code",
      "source": [
        "\n",
        "# base 16\n",
        "\n",
        "\n",
        "#111\n",
        "\n",
        "1*16**2 + 1*16**1 + 1*16**0\n",
        "\n",
        "0\n",
        "1\n",
        "2\n",
        "3\n",
        "4\n",
        "5\n",
        "6\n",
        "7\n",
        "8\n",
        "9\n",
        "10, A\n",
        "11, B\n",
        "12, C\n",
        "13, D\n",
        "14, E\n",
        "15, F\n",
        "\n",
        "\n",
        "\n",
        "\n",
        "\n",
        "\n",
        "\n"
      ],
      "metadata": {
        "colab": {
          "base_uri": "https://localhost:8080/"
        },
        "id": "EPqmbtojz7b8",
        "outputId": "a34dfa9c-0b2a-43ea-c8ca-f2ad4dff8772"
      },
      "execution_count": 9,
      "outputs": [
        {
          "output_type": "execute_result",
          "data": {
            "text/plain": [
              "273"
            ]
          },
          "metadata": {},
          "execution_count": 9
        }
      ]
    },
    {
      "cell_type": "markdown",
      "metadata": {
        "id": "_StSsscLxJWn"
      },
      "source": [
        "# Hexadecidamel Numbers\n",
        "Hexadecimal numbers are written as powers of 16.\n",
        "\n",
        "| number | hex digit |\n",
        "| ----------- | ----------- |\n",
        "| 0 | 0 |\n",
        "| 1 | 1 |\n",
        "| 2 | 2 |\n",
        "| 3 | 3 |\n",
        "| 4 | 4 |\n",
        "| 5 | 5 |\n",
        "| 6 | 6 |\n",
        "| 7 | 7 |\n",
        "| 8 | 8 |\n",
        "| 9 | 9 |\n",
        "| 10 | A |\n",
        "| 11 | B |\n",
        "| 12 | C |\n",
        "| 13 | D |\n",
        "| 14 | E |\n",
        "| 15 | F |\n",
        "\n",
        "\n",
        "\n",
        "\n",
        "1AC hex is 428 decimal:"
      ]
    },
    {
      "cell_type": "markdown",
      "metadata": {
        "id": "gD5PYQVVxJWn"
      },
      "source": []
    },
    {
      "cell_type": "markdown",
      "metadata": {
        "id": "KloWCpdjxJWo"
      },
      "source": [
        "\\begin{align}\n",
        "(1*16^2)+(A*16^1)+(C*16^0)  \n",
        "\\end{align}\n",
        "\\begin{align}\n",
        " =(1*16^2)+(10*16^1)+(12*16^0)=428\n",
        "\\end{align}"
      ]
    },
    {
      "cell_type": "code",
      "source": [
        "\n",
        "\n",
        "\n",
        "| coefficient | exponent |\n",
        "| ----------- | ----------- |\n",
        "| 1 |   16**2 |\n",
        "| A (15) |   16**1 |\n",
        "| C  (12)|   16**0 |\n",
        "\n",
        "\n",
        "\n"
      ],
      "metadata": {
        "colab": {
          "base_uri": "https://localhost:8080/",
          "height": 142
        },
        "id": "DJMtOTlV0sYD",
        "outputId": "2f2798a6-26b1-45d9-a512-fca39b4b2850"
      },
      "execution_count": 13,
      "outputs": [
        {
          "output_type": "error",
          "ename": "SyntaxError",
          "evalue": "ignored",
          "traceback": [
            "\u001b[0;36m  File \u001b[0;32m\"<ipython-input-13-fe401a687899>\"\u001b[0;36m, line \u001b[0;32m1\u001b[0m\n\u001b[0;31m    1AC\u001b[0m\n\u001b[0m    ^\u001b[0m\n\u001b[0;31mSyntaxError\u001b[0m\u001b[0;31m:\u001b[0m invalid decimal literal\n"
          ]
        }
      ]
    },
    {
      "cell_type": "code",
      "source": [
        "1*16**2+10*16**1+12*16**0"
      ],
      "metadata": {
        "colab": {
          "base_uri": "https://localhost:8080/"
        },
        "id": "ytVv4V6u06tI",
        "outputId": "d92b1058-ce99-493c-da17-ee6cd1ab66e0"
      },
      "execution_count": 12,
      "outputs": [
        {
          "output_type": "execute_result",
          "data": {
            "text/plain": [
              "428"
            ]
          },
          "metadata": {},
          "execution_count": 12
        }
      ]
    },
    {
      "cell_type": "code",
      "source": [
        "100\n",
        "\n",
        "1*16**2\n"
      ],
      "metadata": {
        "colab": {
          "base_uri": "https://localhost:8080/"
        },
        "id": "kV7sY_hy1M5H",
        "outputId": "8143a02d-699d-405d-c789-4f4223777490"
      },
      "execution_count": 14,
      "outputs": [
        {
          "output_type": "execute_result",
          "data": {
            "text/plain": [
              "256"
            ]
          },
          "metadata": {},
          "execution_count": 14
        }
      ]
    },
    {
      "cell_type": "code",
      "source": [
        "#f00\n",
        "\n",
        "15*16**2\n",
        "\n",
        "coefficient(digit)*power of 16\n",
        "\n",
        "300\n",
        "\n",
        "3 * 10**2\n",
        "\n"
      ],
      "metadata": {
        "colab": {
          "base_uri": "https://localhost:8080/"
        },
        "id": "oyzAGiUb1iLP",
        "outputId": "a1ea684e-4738-41a9-d56f-24e5156e0de5"
      },
      "execution_count": 15,
      "outputs": [
        {
          "output_type": "execute_result",
          "data": {
            "text/plain": [
              "3840"
            ]
          },
          "metadata": {},
          "execution_count": 15
        }
      ]
    },
    {
      "cell_type": "code",
      "source": [
        "hex(3840)"
      ],
      "metadata": {
        "colab": {
          "base_uri": "https://localhost:8080/",
          "height": 37
        },
        "id": "zNRDOioj19_w",
        "outputId": "3ba991d1-8884-48b7-cc34-b217c34e62e7"
      },
      "execution_count": 16,
      "outputs": [
        {
          "output_type": "execute_result",
          "data": {
            "text/plain": [
              "'0xf00'"
            ],
            "application/vnd.google.colaboratory.intrinsic+json": {
              "type": "string"
            }
          },
          "metadata": {},
          "execution_count": 16
        }
      ]
    },
    {
      "cell_type": "markdown",
      "metadata": {
        "id": "9DdwbkvtxJWo"
      },
      "source": [
        "Here is the hexdecimal value of 16."
      ]
    },
    {
      "cell_type": "markdown",
      "metadata": {
        "id": "TrYsIXQyxJWo"
      },
      "source": [
        "FF is:"
      ]
    },
    {
      "cell_type": "code",
      "execution_count": null,
      "metadata": {
        "colab": {
          "base_uri": "https://localhost:8080/"
        },
        "id": "yXeaPgqNxJWo",
        "outputId": "98031f33-f215-439a-bfa4-3a6860ea26f2"
      },
      "outputs": [
        {
          "output_type": "execute_result",
          "data": {
            "text/plain": [
              "240"
            ]
          },
          "metadata": {},
          "execution_count": 2
        }
      ],
      "source": [
        "\n",
        "\n",
        "15*(16*1)+15*(16*0)"
      ]
    },
    {
      "cell_type": "code",
      "execution_count": null,
      "metadata": {
        "colab": {
          "base_uri": "https://localhost:8080/",
          "height": 37
        },
        "id": "XFUHf2cGxJWo",
        "outputId": "93866ba8-30da-405c-d221-c5791bd01f94"
      },
      "outputs": [
        {
          "output_type": "execute_result",
          "data": {
            "text/plain": [
              "'0x10'"
            ],
            "application/vnd.google.colaboratory.intrinsic+json": {
              "type": "string"
            }
          },
          "metadata": {},
          "execution_count": 3
        }
      ],
      "source": [
        "hex(16)"
      ]
    },
    {
      "cell_type": "code",
      "source": [
        "g='0x16'\n",
        "\n",
        "h='ob11'\n",
        "\n",
        "g+h\n",
        "\n"
      ],
      "metadata": {
        "colab": {
          "base_uri": "https://localhost:8080/",
          "height": 37
        },
        "id": "b619jwuY2H1L",
        "outputId": "27821c3b-ecc6-4f85-e46c-28934a99f133"
      },
      "execution_count": 18,
      "outputs": [
        {
          "output_type": "execute_result",
          "data": {
            "text/plain": [
              "'0x16ob11'"
            ],
            "application/vnd.google.colaboratory.intrinsic+json": {
              "type": "string"
            }
          },
          "metadata": {},
          "execution_count": 18
        }
      ]
    },
    {
      "cell_type": "markdown",
      "metadata": {
        "id": "MCmI2JprxJWo"
      },
      "source": [
        "Here is the binary value of 2."
      ]
    },
    {
      "cell_type": "code",
      "execution_count": 17,
      "metadata": {
        "colab": {
          "base_uri": "https://localhost:8080/",
          "height": 37
        },
        "id": "Qnu3XlwqxJWo",
        "outputId": "8f689784-c761-4fe9-8fe4-099ad2a5889e"
      },
      "outputs": [
        {
          "output_type": "execute_result",
          "data": {
            "text/plain": [
              "'0b110'"
            ],
            "application/vnd.google.colaboratory.intrinsic+json": {
              "type": "string"
            }
          },
          "metadata": {},
          "execution_count": 17
        }
      ],
      "source": [
        "# convert from decimal to binary\n",
        "\n",
        "\n",
        "bin(6)"
      ]
    },
    {
      "cell_type": "markdown",
      "metadata": {
        "id": "CpjzaAFixJWo"
      },
      "source": [
        "Convert hexadecimal number to integer"
      ]
    },
    {
      "cell_type": "code",
      "execution_count": 19,
      "metadata": {
        "colab": {
          "base_uri": "https://localhost:8080/"
        },
        "id": "-kWwBY-_xJWp",
        "outputId": "8d8c724a-3c11-417a-a9b0-cc2d4c66bf5b"
      },
      "outputs": [
        {
          "output_type": "execute_result",
          "data": {
            "text/plain": [
              "3840"
            ]
          },
          "metadata": {},
          "execution_count": 19
        }
      ],
      "source": [
        "int(\"0xf00\", 16)"
      ]
    },
    {
      "cell_type": "code",
      "execution_count": null,
      "metadata": {
        "id": "7ha1p6WYxJWp"
      },
      "outputs": [],
      "source": []
    },
    {
      "cell_type": "markdown",
      "source": [
        "https://www.ascii-code.com/"
      ],
      "metadata": {
        "id": "1gS6IH1l3EDS"
      }
    },
    {
      "cell_type": "markdown",
      "metadata": {
        "id": "aqJ4b78JxJWp"
      },
      "source": [
        "In the ASCII character set there are 256 letters?  Why?  Because 8 bits the largest number you can make is 11111111.\n",
        "\n",
        "mike:  prove"
      ]
    },
    {
      "cell_type": "code",
      "execution_count": null,
      "metadata": {
        "colab": {
          "base_uri": "https://localhost:8080/"
        },
        "id": "SsUCMmFTxJWp",
        "outputId": "03be26ec-16cd-4fc1-ad5e-62960afa8ca0"
      },
      "outputs": [
        {
          "output_type": "execute_result",
          "data": {
            "text/plain": [
              "256"
            ]
          },
          "metadata": {},
          "execution_count": 6
        }
      ],
      "source": [
        "2**8"
      ]
    },
    {
      "cell_type": "markdown",
      "metadata": {
        "id": "2p5s51-1xJWp"
      },
      "source": [
        "what is FFEF?\n",
        "\n",
        "This is:\n",
        "    \n",
        "    F----15*(16**3)\n",
        "    F----15*(16**2)\n",
        "    E----14*(16**1)\n",
        "    F----15*(16**0)"
      ]
    },
    {
      "cell_type": "code",
      "execution_count": null,
      "metadata": {
        "colab": {
          "base_uri": "https://localhost:8080/"
        },
        "id": "bYwiFy18xJWp",
        "outputId": "61e6eb97-9ffe-4ae2-c3d8-d3ece16e9723"
      },
      "outputs": [
        {
          "output_type": "execute_result",
          "data": {
            "text/plain": [
              "65519"
            ]
          },
          "metadata": {},
          "execution_count": 7
        }
      ],
      "source": [
        "15*(16**3)+15*(16**2)+14*(16**1)+15*(16**0)"
      ]
    },
    {
      "cell_type": "markdown",
      "source": [
        "The computer stores data in bits and bytes.\n",
        "\n",
        "A bit is a single unit of data.  Bits are either 0 or 1.\n",
        "\n",
        "A byte is 8 bits.  \n",
        "\n",
        "A hex letter is 4 bits.\n",
        "\n",
        "All of this are the letter \"D\":\n",
        "\n",
        "\n",
        "\n",
        "\n",
        "\n",
        "| value       | type           |  \n",
        "| ------------- |:-------------:|  \n",
        "| 68     | decimal |\n",
        "| 44 |         hexadecimal\n",
        "| 01000100 |   binary |\n",
        "| D |          ASCII |\n",
        "\n",
        "\n",
        "binary numbers are base 2\n",
        "\n",
        "* b'000' = 0\n",
        "* b'001' = 1\n",
        "* b'010' = 2\n",
        "* b'010' = 3\n",
        "\n",
        "\n",
        "\n",
        "\n",
        "\n",
        "decimal numbers are base 10:\n",
        "\n",
        "| number | decimal number|\n",
        "| ----------- | ----------- |\n",
        "| 0 | 0 |\n",
        "| 1 | 1 |\n",
        "| 2 | 2 |\n",
        "| 3 | 3 |\n",
        "| 4 | 4 |\n",
        "| 5 | 5 |\n",
        "| 6 | 6 |\n",
        "| 7 | 7 |\n",
        "| 8 | 8 |\n",
        "| 9 | 9 |\n",
        "\n",
        "\n",
        "\n",
        "hexademical numbers are base 16:\n",
        "\n",
        "| number | hex digit |\n",
        "| ----------- | ----------- |\n",
        "| 0 | 0 |\n",
        "| 1 | 1 |\n",
        "| 2 | 2 |\n",
        "| 3 | 3 |\n",
        "| 4 | 4 |\n",
        "| 5 | 5 |\n",
        "| 6 | 6 |\n",
        "| 7 | 7 |\n",
        "| 8 | 8 |\n",
        "| 9 | 9 |\n",
        "| 10 | A |\n",
        "| 11 | B |\n",
        "| 12 | C |\n",
        "| 13 | D |\n",
        "| 14 | E |\n",
        "| 15 | F |\n",
        "\n"
      ],
      "metadata": {
        "id": "IIkn3icJyEq2"
      }
    },
    {
      "cell_type": "code",
      "source": [
        "# decimal\n",
        "\n",
        "#321 = 300 + 20 + 1\n",
        "\n",
        "3 * (10**2) + 2 * (10**1) + 1 * (10**0)"
      ],
      "metadata": {
        "colab": {
          "base_uri": "https://localhost:8080/"
        },
        "id": "3L_EawNMyG6q",
        "outputId": "e56e757b-c658-4ebb-8244-03a116c175c5"
      },
      "execution_count": null,
      "outputs": [
        {
          "output_type": "execute_result",
          "data": {
            "text/plain": [
              "321"
            ]
          },
          "metadata": {},
          "execution_count": 8
        }
      ]
    },
    {
      "cell_type": "code",
      "source": [
        "# binary\n",
        "\n",
        "# 110\n",
        "\n",
        "1*(2**2)+1*(2**1)+0*(2**0)\n"
      ],
      "metadata": {
        "colab": {
          "base_uri": "https://localhost:8080/"
        },
        "id": "jIWtRjv-yMT9",
        "outputId": "310cabcf-50bc-4a89-adf4-d3ad267a8fd7"
      },
      "execution_count": null,
      "outputs": [
        {
          "output_type": "execute_result",
          "data": {
            "text/plain": [
              "6"
            ]
          },
          "metadata": {},
          "execution_count": 9
        }
      ]
    },
    {
      "cell_type": "code",
      "source": [
        "print(\"hex(65) \" , hex(65))\n",
        "print(\"bin(65) \" , bin(65))"
      ],
      "metadata": {
        "colab": {
          "base_uri": "https://localhost:8080/"
        },
        "id": "ZMrkltADyRwg",
        "outputId": "144c5ec8-bdb8-44d9-9473-c86690fe376e"
      },
      "execution_count": null,
      "outputs": [
        {
          "output_type": "stream",
          "name": "stdout",
          "text": [
            "hex(65)  0x41\n",
            "bin(65)  0b1000001\n"
          ]
        }
      ]
    },
    {
      "cell_type": "code",
      "source": [
        "chr(65)"
      ],
      "metadata": {
        "colab": {
          "base_uri": "https://localhost:8080/",
          "height": 37
        },
        "id": "CvITGmUC32ZW",
        "outputId": "7ca8a5b9-911a-4686-d8b6-cab7fec6c553"
      },
      "execution_count": 20,
      "outputs": [
        {
          "output_type": "execute_result",
          "data": {
            "text/plain": [
              "'A'"
            ],
            "application/vnd.google.colaboratory.intrinsic+json": {
              "type": "string"
            }
          },
          "metadata": {},
          "execution_count": 20
        }
      ]
    },
    {
      "cell_type": "code",
      "source": [
        "b'1000001'.decode('ascii')"
      ],
      "metadata": {
        "colab": {
          "base_uri": "https://localhost:8080/",
          "height": 37
        },
        "id": "4K-2uBKuyXw-",
        "outputId": "111ed23f-436c-4a88-a7c3-17072df4e39c"
      },
      "execution_count": null,
      "outputs": [
        {
          "output_type": "execute_result",
          "data": {
            "text/plain": [
              "'1000001'"
            ],
            "application/vnd.google.colaboratory.intrinsic+json": {
              "type": "string"
            }
          },
          "metadata": {},
          "execution_count": 11
        }
      ]
    },
    {
      "cell_type": "code",
      "source": [
        "int('0b1000001',2)"
      ],
      "metadata": {
        "colab": {
          "base_uri": "https://localhost:8080/"
        },
        "id": "HNP53wOc4F8x",
        "outputId": "8f65a1e1-a096-4e8e-e73b-07233bf8baec"
      },
      "execution_count": 21,
      "outputs": [
        {
          "output_type": "execute_result",
          "data": {
            "text/plain": [
              "65"
            ]
          },
          "metadata": {},
          "execution_count": 21
        }
      ]
    },
    {
      "cell_type": "code",
      "source": [
        "'''\n",
        "how do we convert from binary 1000001 to the letter A\n",
        "\n",
        "int('1000001',2) says convert int('1000001' to a base 2 number\n",
        "\n",
        "'''\n",
        "\n",
        "\n",
        "chr(int('1000001',2))\n"
      ],
      "metadata": {
        "colab": {
          "base_uri": "https://localhost:8080/",
          "height": 37
        },
        "id": "u3xtDhhcyYrp",
        "outputId": "bc548823-ec00-4b4f-92c8-1df0125f7a0d"
      },
      "execution_count": null,
      "outputs": [
        {
          "output_type": "execute_result",
          "data": {
            "text/plain": [
              "'A'"
            ],
            "application/vnd.google.colaboratory.intrinsic+json": {
              "type": "string"
            }
          },
          "metadata": {},
          "execution_count": 12
        }
      ]
    },
    {
      "cell_type": "code",
      "source": [
        "chr(97)"
      ],
      "metadata": {
        "colab": {
          "base_uri": "https://localhost:8080/",
          "height": 37
        },
        "id": "bEWXyCOE4PYU",
        "outputId": "1b61a0e2-5f01-4fca-db6d-565569e845e2"
      },
      "execution_count": 22,
      "outputs": [
        {
          "output_type": "execute_result",
          "data": {
            "text/plain": [
              "'a'"
            ],
            "application/vnd.google.colaboratory.intrinsic+json": {
              "type": "string"
            }
          },
          "metadata": {},
          "execution_count": 22
        }
      ]
    },
    {
      "cell_type": "code",
      "source": [
        "print(\"walker\\tlika\")"
      ],
      "metadata": {
        "colab": {
          "base_uri": "https://localhost:8080/"
        },
        "id": "05xFTPio4vKc",
        "outputId": "534d3500-264c-4537-9a96-818bc3568e9d"
      },
      "execution_count": 31,
      "outputs": [
        {
          "output_type": "stream",
          "name": "stdout",
          "text": [
            "walker\\slika\n"
          ]
        }
      ]
    },
    {
      "cell_type": "code",
      "source": [
        "for i in range(32,127):\n",
        "  print(chr(i), i)"
      ],
      "metadata": {
        "colab": {
          "base_uri": "https://localhost:8080/"
        },
        "id": "Ff16-WuS4YLn",
        "outputId": "6314ac6a-e5bd-4aa1-da9c-aa1a47c0095d"
      },
      "execution_count": 30,
      "outputs": [
        {
          "output_type": "stream",
          "name": "stdout",
          "text": [
            "  32\n",
            "! 33\n",
            "\" 34\n",
            "# 35\n",
            "$ 36\n",
            "% 37\n",
            "& 38\n",
            "' 39\n",
            "( 40\n",
            ") 41\n",
            "* 42\n",
            "+ 43\n",
            ", 44\n",
            "- 45\n",
            ". 46\n",
            "/ 47\n",
            "0 48\n",
            "1 49\n",
            "2 50\n",
            "3 51\n",
            "4 52\n",
            "5 53\n",
            "6 54\n",
            "7 55\n",
            "8 56\n",
            "9 57\n",
            ": 58\n",
            "; 59\n",
            "< 60\n",
            "= 61\n",
            "> 62\n",
            "? 63\n",
            "@ 64\n",
            "A 65\n",
            "B 66\n",
            "C 67\n",
            "D 68\n",
            "E 69\n",
            "F 70\n",
            "G 71\n",
            "H 72\n",
            "I 73\n",
            "J 74\n",
            "K 75\n",
            "L 76\n",
            "M 77\n",
            "N 78\n",
            "O 79\n",
            "P 80\n",
            "Q 81\n",
            "R 82\n",
            "S 83\n",
            "T 84\n",
            "U 85\n",
            "V 86\n",
            "W 87\n",
            "X 88\n",
            "Y 89\n",
            "Z 90\n",
            "[ 91\n",
            "\\ 92\n",
            "] 93\n",
            "^ 94\n",
            "_ 95\n",
            "` 96\n",
            "a 97\n",
            "b 98\n",
            "c 99\n",
            "d 100\n",
            "e 101\n",
            "f 102\n",
            "g 103\n",
            "h 104\n",
            "i 105\n",
            "j 106\n",
            "k 107\n",
            "l 108\n",
            "m 109\n",
            "n 110\n",
            "o 111\n",
            "p 112\n",
            "q 113\n",
            "r 114\n",
            "s 115\n",
            "t 116\n",
            "u 117\n",
            "v 118\n",
            "w 119\n",
            "x 120\n",
            "y 121\n",
            "z 122\n",
            "{ 123\n",
            "| 124\n",
            "} 125\n",
            "~ 126\n"
          ]
        }
      ]
    },
    {
      "cell_type": "code",
      "source": [
        "\n",
        "int('0xff',16)\n",
        "\n",
        "# byte 8 bits\n",
        "\n",
        "#16 bits\n",
        "\n"
      ],
      "metadata": {
        "colab": {
          "base_uri": "https://localhost:8080/"
        },
        "id": "7B-Vjcmk4jRu",
        "outputId": "be368903-d326-4d79-d725-0ee9e5153e46"
      },
      "execution_count": 36,
      "outputs": [
        {
          "output_type": "execute_result",
          "data": {
            "text/plain": [
              "255"
            ]
          },
          "metadata": {},
          "execution_count": 36
        }
      ]
    },
    {
      "cell_type": "markdown",
      "source": [
        "\n",
        "# Homework\n",
        "\n",
        "\n",
        "use the for loop:\n",
        "\n",
        "```python\n",
        "for i in range(32,127):\n",
        "  print(chr(i), i, hexPart, binaryPart)\n",
        "\n",
        "```\n",
        "\n",
        "add to is convert i to binary and hex\n",
        "\n",
        "so just look above how I converted decimal to binary and hex\n",
        "\n",
        "\n"
      ],
      "metadata": {
        "id": "-UWuylQE6fhJ"
      }
    },
    {
      "cell_type": "code",
      "source": [],
      "metadata": {
        "id": "9kUCyPNe6ceY"
      },
      "execution_count": 36,
      "outputs": []
    }
  ],
  "metadata": {
    "kernelspec": {
      "display_name": "Python 3",
      "language": "python",
      "name": "python3"
    },
    "language_info": {
      "codemirror_mode": {
        "name": "ipython",
        "version": 3
      },
      "file_extension": ".py",
      "mimetype": "text/x-python",
      "name": "python",
      "nbconvert_exporter": "python",
      "pygments_lexer": "ipython3",
      "version": "3.4.4"
    },
    "colab": {
      "provenance": [],
      "include_colab_link": true
    }
  },
  "nbformat": 4,
  "nbformat_minor": 0
}