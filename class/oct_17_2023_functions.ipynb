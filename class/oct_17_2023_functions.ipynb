{
  "nbformat": 4,
  "nbformat_minor": 0,
  "metadata": {
    "colab": {
      "provenance": [],
      "authorship_tag": "ABX9TyPXVq6f+/sEqjnpxo5yW8Me",
      "include_colab_link": true
    },
    "kernelspec": {
      "name": "python3",
      "display_name": "Python 3"
    },
    "language_info": {
      "name": "python"
    }
  },
  "cells": [
    {
      "cell_type": "markdown",
      "metadata": {
        "id": "view-in-github",
        "colab_type": "text"
      },
      "source": [
        "<a href=\"https://colab.research.google.com/github/werowe/HypatiaAcademy/blob/master/class/oct_17_2023_functions.ipynb\" target=\"_parent\"><img src=\"https://colab.research.google.com/assets/colab-badge.svg\" alt=\"Open In Colab\"/></a>"
      ]
    },
    {
      "cell_type": "code",
      "execution_count": 1,
      "metadata": {
        "colab": {
          "base_uri": "https://localhost:8080/"
        },
        "id": "5TIgr4X3S78Y",
        "outputId": "aab7e991-b8cf-4a4c-a5f2-3ca44e3db16f"
      },
      "outputs": [
        {
          "output_type": "execute_result",
          "data": {
            "text/plain": [
              "6"
            ]
          },
          "metadata": {},
          "execution_count": 1
        }
      ],
      "source": [
        "2*3"
      ]
    },
    {
      "cell_type": "code",
      "source": [
        "3*4"
      ],
      "metadata": {
        "colab": {
          "base_uri": "https://localhost:8080/"
        },
        "id": "pmoV4QGcTHns",
        "outputId": "35eb6ae7-90a3-4b8b-a14a-6b6e59fc4f1e"
      },
      "execution_count": 2,
      "outputs": [
        {
          "output_type": "execute_result",
          "data": {
            "text/plain": [
              "12"
            ]
          },
          "metadata": {},
          "execution_count": 2
        }
      ]
    },
    {
      "cell_type": "code",
      "source": [
        "7*6"
      ],
      "metadata": {
        "colab": {
          "base_uri": "https://localhost:8080/"
        },
        "id": "y_LycM2oTJjH",
        "outputId": "9cdda9f9-ab89-443a-b8d6-46fce73ec9f2"
      },
      "execution_count": 3,
      "outputs": [
        {
          "output_type": "execute_result",
          "data": {
            "text/plain": [
              "42"
            ]
          },
          "metadata": {},
          "execution_count": 3
        }
      ]
    },
    {
      "cell_type": "code",
      "source": [
        "# we can make a function so that we don't have to type the same thing each time\n",
        "\n",
        "# like we can make a multiply function.  this will multiply two numbers\n",
        "\n",
        "\n",
        "# def -- means function\n",
        "# someName\n",
        "# in here () we give it numbers to multiply\n",
        "\n",
        "# so this function is called multiply and it takes two inputs a and b\n",
        "\n",
        "\n",
        "def multiply(a,b):\n",
        "\n",
        "  # here we make c hold the calculation\n",
        "\n",
        "  c = a * b\n",
        "\n",
        "  # return sends back the answer\n",
        "\n",
        "  return c\n",
        "\n",
        "\n"
      ],
      "metadata": {
        "id": "1sUJx2-lTPZj"
      },
      "execution_count": 15,
      "outputs": []
    },
    {
      "cell_type": "code",
      "source": [
        "# you use the function by writing the name and values to send it\n",
        "\n",
        "x=multiply(3,4)\n",
        "\n",
        "print(x)\n",
        "\n",
        "\n",
        "\n",
        "\n"
      ],
      "metadata": {
        "colab": {
          "base_uri": "https://localhost:8080/"
        },
        "id": "qId_CaubUBTz",
        "outputId": "7651834a-a896-416b-ed55-20ae327348d0"
      },
      "execution_count": 7,
      "outputs": [
        {
          "output_type": "stream",
          "name": "stdout",
          "text": [
            "12\n"
          ]
        }
      ]
    },
    {
      "cell_type": "code",
      "source": [
        "# make a function to add two numbers\n",
        "\n",
        "# how can we make a function to add two numbers\n",
        "\n",
        "#here we make the function\n",
        "\n",
        "def add(a,b):\n",
        "\n",
        "  c = a + b\n",
        "\n",
        "  return c\n",
        "\n",
        "# here we use the function\n",
        "\n",
        "add(7,5)"
      ],
      "metadata": {
        "colab": {
          "base_uri": "https://localhost:8080/"
        },
        "id": "XMeHaSUgVE_9",
        "outputId": "74a5ef6e-b2b9-40ef-e8ed-88d3b206f21c"
      },
      "execution_count": 18,
      "outputs": [
        {
          "output_type": "execute_result",
          "data": {
            "text/plain": [
              "12"
            ]
          },
          "metadata": {},
          "execution_count": 18
        }
      ]
    },
    {
      "cell_type": "code",
      "source": [
        "# make a function to divide  two numbers\n",
        "\n",
        "def divide(a,b):\n",
        "\n",
        "  c = a / b\n",
        "\n",
        "  return c\n",
        "\n",
        "\n",
        "divide(12,3)\n",
        "\n",
        "\n",
        "\n"
      ],
      "metadata": {
        "colab": {
          "base_uri": "https://localhost:8080/"
        },
        "id": "Wv-TSFLjVKbF",
        "outputId": "743edc21-50f6-4cb1-ed12-6825e09ab25a"
      },
      "execution_count": 10,
      "outputs": [
        {
          "output_type": "execute_result",
          "data": {
            "text/plain": [
              "4.0"
            ]
          },
          "metadata": {},
          "execution_count": 10
        }
      ]
    },
    {
      "cell_type": "code",
      "source": [
        "x=add(2,3) + multiply(2,3)\n",
        "print(\"x=\", x)\n",
        "\n"
      ],
      "metadata": {
        "colab": {
          "base_uri": "https://localhost:8080/"
        },
        "id": "b94m-adNVvBV",
        "outputId": "af617c66-3a75-49b3-b24b-a078d1149959"
      },
      "execution_count": 13,
      "outputs": [
        {
          "output_type": "stream",
          "name": "stdout",
          "text": [
            "x= 11\n"
          ]
        }
      ]
    },
    {
      "cell_type": "code",
      "source": [
        "\n",
        "def addThree(a,b, c):\n",
        "\n",
        "  f = a + b + c\n",
        "\n",
        "  return f\n",
        "\n",
        "\n",
        "\n",
        "addThree(7,5, 6)"
      ],
      "metadata": {
        "colab": {
          "base_uri": "https://localhost:8080/"
        },
        "id": "BKLZ629gWPBq",
        "outputId": "04e9601c-7c80-45d0-8756-bffecd7deaa2"
      },
      "execution_count": 19,
      "outputs": [
        {
          "output_type": "execute_result",
          "data": {
            "text/plain": [
              "18"
            ]
          },
          "metadata": {},
          "execution_count": 19
        }
      ]
    },
    {
      "cell_type": "code",
      "source": [
        "# so a function can call another function\n",
        "\n",
        "\n",
        "add(multiply(2,3),multiply(3,4))\n",
        "\n"
      ],
      "metadata": {
        "colab": {
          "base_uri": "https://localhost:8080/"
        },
        "id": "SQzhI_2kWogP",
        "outputId": "a656c095-7d76-40ea-a85a-8593941c5c56"
      },
      "execution_count": 20,
      "outputs": [
        {
          "output_type": "execute_result",
          "data": {
            "text/plain": [
              "18"
            ]
          },
          "metadata": {},
          "execution_count": 20
        }
      ]
    },
    {
      "cell_type": "code",
      "source": [
        "'''\n",
        "homework\n",
        "\n",
        "\n",
        "1.  make a function to multiply 3 numbers\n",
        "2.  make a function to subtract 2 numbers\n",
        "3.  calculate (2*3*4) + (4-2) by using the functions you created in 1. and 2.\n",
        "\n",
        "\n",
        "for the next time we will make a function that can have any nunber of inputs\n",
        "because we don't want add, addThree, addFour\n",
        "\n",
        "\n",
        "\n",
        "'''"
      ],
      "metadata": {
        "id": "DtFTvKHjWBQu"
      },
      "execution_count": null,
      "outputs": []
    }
  ]
}