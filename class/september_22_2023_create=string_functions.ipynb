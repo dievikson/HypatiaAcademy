{
  "nbformat": 4,
  "nbformat_minor": 0,
  "metadata": {
    "colab": {
      "provenance": [],
      "authorship_tag": "ABX9TyNud4bh6BxuZ7TBFl5GSm+b",
      "include_colab_link": true
    },
    "kernelspec": {
      "name": "python3",
      "display_name": "Python 3"
    },
    "language_info": {
      "name": "python"
    }
  },
  "cells": [
    {
      "cell_type": "markdown",
      "metadata": {
        "id": "view-in-github",
        "colab_type": "text"
      },
      "source": [
        "<a href=\"https://colab.research.google.com/github/werowe/HypatiaAcademy/blob/master/class/september_22_2023_create%3Dstring_functions.ipynb\" target=\"_parent\"><img src=\"https://colab.research.google.com/assets/colab-badge.svg\" alt=\"Open In Colab\"/></a>"
      ]
    },
    {
      "cell_type": "code",
      "execution_count": 2,
      "metadata": {
        "colab": {
          "base_uri": "https://localhost:8080/",
          "height": 37
        },
        "id": "WUwUn10uQIJz",
        "outputId": "f710f254-4845-4ab3-a5d4-cb461cb3530a"
      },
      "outputs": [
        {
          "output_type": "execute_result",
          "data": {
            "text/plain": [
              "'walker'"
            ],
            "application/vnd.google.colaboratory.intrinsic+json": {
              "type": "string"
            }
          },
          "metadata": {},
          "execution_count": 2
        }
      ],
      "source": [
        "# homework\n",
        "\n",
        "# write the string function left()\n",
        "\n",
        "# if we put find(\"walker is teacher\",6)\n",
        "\n",
        "# it will print \"walker\"\n",
        "\n",
        "# this function will have two arguments:  (1) the string and (2) how many letters to print\n",
        "\n",
        "\n",
        "\"walker is teacher\"[0:6]\n",
        "\n",
        "\n",
        "#homework hint\n",
        "\n",
        "\n",
        "def lastLetter(str):\n",
        "\n",
        "  return str[-1:]\n",
        "\n",
        "lastLetter(\"walker\")\n",
        "\n"
      ]
    },
    {
      "cell_type": "code",
      "source": [
        "# a function takes some input and returns some output\n",
        "\n",
        "# argumemnt what goes it\n",
        "\n",
        "# return means what comes out\n",
        "\n",
        "def double(argument):\n",
        "\n",
        "  # the spaces means inside function\n",
        "\n",
        "  return argument * 2\n",
        "\n",
        "\n",
        "# remove spaces and we are outsied the function\n",
        "\n",
        "\n",
        "# in some programming languages they use {}\n",
        "\n",
        "# function {\n",
        " # inside\n",
        "\n",
        "#}\n"
      ],
      "metadata": {
        "id": "xqRyM8HgRFmb"
      },
      "execution_count": 4,
      "outputs": []
    },
    {
      "cell_type": "code",
      "source": [
        "# double is the name of the function\n",
        "# 3 is the argument\n",
        "\n",
        "# to use it put double(3)\n",
        "\n",
        "double(3)"
      ],
      "metadata": {
        "colab": {
          "base_uri": "https://localhost:8080/"
        },
        "id": "uzCBeGEtR17P",
        "outputId": "551aa2c0-c0ac-4c44-c71e-d24a43e3fee5"
      },
      "execution_count": 5,
      "outputs": [
        {
          "output_type": "execute_result",
          "data": {
            "text/plain": [
              "6"
            ]
          },
          "metadata": {},
          "execution_count": 5
        }
      ]
    },
    {
      "cell_type": "code",
      "source": [
        "def upcase(string):\n",
        "\n",
        "  return string.upper()\n",
        "\n",
        "\n",
        "upcase(\"cyprus\")\n",
        "\n"
      ],
      "metadata": {
        "colab": {
          "base_uri": "https://localhost:8080/",
          "height": 37
        },
        "id": "2F1iWXN5R8MP",
        "outputId": "207ab718-210a-4cd3-f7ff-0759f9ec214d"
      },
      "execution_count": 7,
      "outputs": [
        {
          "output_type": "execute_result",
          "data": {
            "text/plain": [
              "'CYPRUS'"
            ],
            "application/vnd.google.colaboratory.intrinsic+json": {
              "type": "string"
            }
          },
          "metadata": {},
          "execution_count": 7
        }
      ]
    },
    {
      "cell_type": "code",
      "source": [
        "def f(a,b):\n",
        "\n",
        "  return a,b\n",
        "\n",
        "\n",
        "# named arguments\n",
        "\n",
        "\n",
        "f(a=2,b=3)\n",
        "\n",
        "\n",
        "# no name means just put in order, first is a second is b\n",
        "\n",
        "f(2,3)"
      ],
      "metadata": {
        "colab": {
          "base_uri": "https://localhost:8080/"
        },
        "id": "Iid1MtL8SjDb",
        "outputId": "3c24cdc0-6222-4234-b2d1-1053285f8986"
      },
      "execution_count": 10,
      "outputs": [
        {
          "output_type": "execute_result",
          "data": {
            "text/plain": [
              "(2, 3)"
            ]
          },
          "metadata": {},
          "execution_count": 10
        }
      ]
    }
  ]
}