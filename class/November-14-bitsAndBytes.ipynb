{
  "cells": [
    {
      "cell_type": "markdown",
      "metadata": {
        "id": "view-in-github",
        "colab_type": "text"
      },
      "source": [
        "<a href=\"https://colab.research.google.com/github/werowe/HypatiaAcademy/blob/master/class/November-14-bitsAndBytes.ipynb\" target=\"_parent\"><img src=\"https://colab.research.google.com/assets/colab-badge.svg\" alt=\"Open In Colab\"/></a>"
      ]
    },
    {
      "cell_type": "markdown",
      "metadata": {
        "id": "oR1z0sGHxJWd"
      },
      "source": [
        "# Bits, Bytes, Hexadecimal numbers, and ASCII characters\n",
        "\n",
        "\n",
        "\n",
        "* decimal number—are based 10 numbers, like 345\n",
        "* bit—are the digits 0 and 1.  These are called base 2 numbers.\n",
        "* bytes—are 8 bits.  Each ASCII character (see below)is one byte.\n",
        "* hexadecimal numbers—is a base 16 numbering system, often used in computer memory addresses, HTML color codes, etc.  For example, the hexadecimal letter F is the decimal number 16.  It is used because it is easier to read that bits.\n",
        "* ASCII characters—are the English (latin) letters A, B, a, b, z, $, !, etc.\n",
        "* UTF-8—extends the characters to double-byte character sets, like Greek and Chinese, and 4 byte emojis.\n",
        "\n"
      ]
    },
    {
      "cell_type": "markdown",
      "metadata": {
        "id": "ASet4CehxJWn"
      },
      "source": [
        "#Decimal Numbers\n",
        "In the decimal system numbers are written as powers of 10.  We use the digits 0,1,2,3,4,5,6,7,8,9.\n",
        "\n",
        "353 is:\n",
        "\n",
        "```text\n",
        "300 + 50 + 3\n",
        "\n",
        "= 3*10**2 + 5*10**1 + 3*10**0\n",
        "\n",
        "\n",
        "```\n",
        "\n",
        "\n",
        "\n",
        "\n",
        "\n",
        "\n",
        "\n"
      ]
    },
    {
      "cell_type": "code",
      "source": [
        "742\n",
        "\n",
        "700+40+2\n",
        "\n",
        "7*(100)\n",
        "\n",
        "7 * (10**2)\n",
        "\n",
        "7*10**2 + 4 * 10**1 + 2 * 10 ** 0\n",
        "\n",
        "\n",
        "\n"
      ],
      "metadata": {
        "id": "w5DSwBfyX7Jc"
      },
      "execution_count": null,
      "outputs": []
    },
    {
      "cell_type": "code",
      "source": [
        "47**0"
      ],
      "metadata": {
        "id": "QqiB4masYeAh",
        "outputId": "a18b7d1c-fd92-4de4-c24e-59b5990e658b",
        "colab": {
          "base_uri": "https://localhost:8080/"
        }
      },
      "execution_count": 1,
      "outputs": [
        {
          "output_type": "execute_result",
          "data": {
            "text/plain": [
              "1"
            ]
          },
          "metadata": {},
          "execution_count": 1
        }
      ]
    },
    {
      "cell_type": "markdown",
      "metadata": {
        "id": "pyIkjLAuxJWn"
      },
      "source": [
        "#Binary Numbers\n",
        "In the binary system numbers are written as power of 2.  We use the digits 0 and 1.\n",
        "\n",
        "111 binary is 7 decimal:\n",
        "\n",
        "```text\n",
        "\n",
        "1*2**2 + 1*2**1 + 1*2**0\n",
        "\n",
        "```\n",
        "\n",
        "110 binary is 6 decimal:\n",
        "\n",
        "\n",
        "```text\n",
        "\n",
        "1*2**2 + 1*2**1 + 0*2**0\n",
        "\n",
        "```\n",
        "\n"
      ]
    },
    {
      "cell_type": "code",
      "source": [
        "5\n",
        "\n",
        "2*?\n",
        "\n",
        "0,2,4,8,16\n",
        "\n",
        "=4+1\n",
        "\n",
        "\n",
        "2*2\n",
        "\n",
        "2**2\n",
        "\n",
        "1*2**2\n",
        "\n",
        "\n",
        "\n",
        "2**0=1\n",
        "2**1=2\n",
        "2**2=4\n",
        "\n",
        "\n",
        "1*2**2+ 0 * 2**1 + 1*2**0\n",
        "\n",
        "101\n",
        "\n",
        "\n",
        "302\n",
        "\n",
        "3*100 + 0 * 10 + 2 * 1\n",
        "\n",
        "3*10**2 + 0 * 10**1 + 2 * 10**0\n",
        "\n",
        "301\n",
        "\n",
        "\n",
        "\n",
        "\n",
        "\n",
        "\n",
        "\n",
        "\n",
        "\n",
        "\n",
        "\n"
      ],
      "metadata": {
        "id": "3VQB49u3X6XE"
      },
      "execution_count": null,
      "outputs": []
    },
    {
      "cell_type": "markdown",
      "source": [
        "#Hexadecimal Numbers"
      ],
      "metadata": {
        "id": "NXu7MmR2E6au"
      }
    },
    {
      "cell_type": "markdown",
      "metadata": {
        "id": "9DdwbkvtxJWo"
      },
      "source": [
        "1ac in hex is 428 in decimal\n",
        "\n",
        "```text\n",
        "\n",
        "1*16**2+10*16**1+12*16**0\n",
        "\n",
        "```\n",
        "\n",
        "ff is 255:\n",
        "\n",
        "```text\n",
        "15*(16**1)+15*(16**0)\n",
        "```\n",
        "\n"
      ]
    },
    {
      "cell_type": "code",
      "source": [
        "0 1 2 3 4 5 6 7 8 9 a   b   c  d  e  f\n",
        "\n",
        "0 1 2 3 4 5 6 7 8 9 10. 11 12 13 14 15\n",
        "\n",
        "\n",
        "\n",
        "32 decimal = ? hex\n",
        "\n",
        "\n",
        "16**0=1<-------0\n",
        "\n",
        "16**1=16<--------2\n",
        "\n",
        "16**2=?\n",
        "\n",
        "\n",
        "20\n",
        "\n",
        "33 decimal in hex is ?\n",
        "\n",
        "\n",
        "32 + 1\n",
        "\n",
        "21\n",
        "\n",
        "\n",
        "\n",
        "\n"
      ],
      "metadata": {
        "id": "eHsjvkN9Zxgr"
      },
      "execution_count": null,
      "outputs": []
    },
    {
      "cell_type": "markdown",
      "source": [
        "#Convert Binary and Hex to Decimal and Decimal to Binary and Hex\n",
        "\n",
        "Use these functions to convert from one numbering system to another.\n",
        "\n",
        "| function    | Decimal |  \n",
        "|-----------|---------|\n",
        "| decimal to binary      | bin()       |  \n",
        "| decimal to hex     | hex()       |  \n",
        "| binary to decimal      | int(number, 2)      |  \n",
        "| hex to decimal      | int (number, 16)       |  \n",
        "\n",
        "\n"
      ],
      "metadata": {
        "id": "ThdoN6hDDXxo"
      }
    },
    {
      "cell_type": "code",
      "source": [
        "hex(33)"
      ],
      "metadata": {
        "id": "fidGnxzwax7m",
        "outputId": "6dddc120-749d-42dd-cd1b-39a24c8dae64",
        "colab": {
          "base_uri": "https://localhost:8080/",
          "height": 35
        }
      },
      "execution_count": 2,
      "outputs": [
        {
          "output_type": "execute_result",
          "data": {
            "text/plain": [
              "'0x21'"
            ],
            "application/vnd.google.colaboratory.intrinsic+json": {
              "type": "string"
            }
          },
          "metadata": {},
          "execution_count": 2
        }
      ]
    },
    {
      "cell_type": "code",
      "source": [
        "bin(5)"
      ],
      "metadata": {
        "id": "WTe3UdSKa4N2",
        "outputId": "353d6d4f-2ad0-4ee0-b629-9043d744f61b",
        "colab": {
          "base_uri": "https://localhost:8080/",
          "height": 35
        }
      },
      "execution_count": 3,
      "outputs": [
        {
          "output_type": "execute_result",
          "data": {
            "text/plain": [
              "'0b101'"
            ],
            "application/vnd.google.colaboratory.intrinsic+json": {
              "type": "string"
            }
          },
          "metadata": {},
          "execution_count": 3
        }
      ]
    },
    {
      "cell_type": "code",
      "execution_count": null,
      "metadata": {
        "colab": {
          "base_uri": "https://localhost:8080/",
          "height": 37
        },
        "id": "Qnu3XlwqxJWo",
        "outputId": "0fa62df6-c8a6-4717-9e1a-f757c563fb89"
      },
      "outputs": [
        {
          "output_type": "execute_result",
          "data": {
            "text/plain": [
              "'0b10'"
            ],
            "application/vnd.google.colaboratory.intrinsic+json": {
              "type": "string"
            }
          },
          "metadata": {},
          "execution_count": 9
        }
      ],
      "source": [
        "# Example: convert decimal value 2 to binary\n",
        "\n",
        "# Notice the '0b' in front.  They tells the number that this string is a binary number.\n",
        "bin(2)\n"
      ]
    },
    {
      "cell_type": "code",
      "source": [
        "int(\"4\",10)\n"
      ],
      "metadata": {
        "id": "Gr3kijEabBht",
        "outputId": "f398b5da-8ff3-4742-b9e1-16995d6aabaa",
        "colab": {
          "base_uri": "https://localhost:8080/"
        }
      },
      "execution_count": 5,
      "outputs": [
        {
          "output_type": "execute_result",
          "data": {
            "text/plain": [
              "4"
            ]
          },
          "metadata": {},
          "execution_count": 5
        }
      ]
    },
    {
      "cell_type": "code",
      "source": [
        "int('0b101',2)"
      ],
      "metadata": {
        "id": "iML8D5pPbI2g",
        "outputId": "3bc4c4cd-9793-4621-a22e-ebcc63af9bb9",
        "colab": {
          "base_uri": "https://localhost:8080/"
        }
      },
      "execution_count": 7,
      "outputs": [
        {
          "output_type": "execute_result",
          "data": {
            "text/plain": [
              "5"
            ]
          },
          "metadata": {},
          "execution_count": 7
        }
      ]
    },
    {
      "cell_type": "code",
      "source": [
        "# convert 0x21 to an integer?\n",
        "\n",
        "int('0x21',16)"
      ],
      "metadata": {
        "id": "LwDKLze_bWSP",
        "outputId": "a770e922-6c29-45ed-8099-b6198a40a296",
        "colab": {
          "base_uri": "https://localhost:8080/"
        }
      },
      "execution_count": 8,
      "outputs": [
        {
          "output_type": "execute_result",
          "data": {
            "text/plain": [
              "33"
            ]
          },
          "metadata": {},
          "execution_count": 8
        }
      ]
    },
    {
      "cell_type": "code",
      "source": [
        "# Example: convert decimal value 82 to hex\n",
        "\n",
        "#Notice the '0x' in front.  They tells the number that this string is a hexadecimal number.\n",
        "\n",
        "hex(85)"
      ],
      "metadata": {
        "colab": {
          "base_uri": "https://localhost:8080/",
          "height": 37
        },
        "id": "tMlPH-04FTUX",
        "outputId": "c1525212-ca71-4fdf-b14c-6f8461b5cad6"
      },
      "execution_count": null,
      "outputs": [
        {
          "output_type": "execute_result",
          "data": {
            "text/plain": [
              "'0x55'"
            ],
            "application/vnd.google.colaboratory.intrinsic+json": {
              "type": "string"
            }
          },
          "metadata": {},
          "execution_count": 10
        }
      ]
    },
    {
      "cell_type": "code",
      "source": [
        "# convert binarynumber 1000001 to decimal\n",
        "\n",
        "int('1000001',2)"
      ],
      "metadata": {
        "colab": {
          "base_uri": "https://localhost:8080/"
        },
        "id": "CRq9CRJmFNMu",
        "outputId": "6b355835-f8c3-456e-a0a9-a9ace666c550"
      },
      "execution_count": null,
      "outputs": [
        {
          "output_type": "execute_result",
          "data": {
            "text/plain": [
              "65"
            ]
          },
          "metadata": {},
          "execution_count": 11
        }
      ]
    },
    {
      "cell_type": "code",
      "source": [
        "# convert hex number fff to decimal\n",
        "\n",
        "int('fff', 16)\n"
      ],
      "metadata": {
        "colab": {
          "base_uri": "https://localhost:8080/"
        },
        "id": "CcOgP6-2FaS9",
        "outputId": "9f211afa-7838-47f1-d37b-6e84973a2182"
      },
      "execution_count": null,
      "outputs": [
        {
          "output_type": "execute_result",
          "data": {
            "text/plain": [
              "4095"
            ]
          },
          "metadata": {},
          "execution_count": 12
        }
      ]
    },
    {
      "cell_type": "code",
      "source": [
        "print(\"walker \\n lika\")\n"
      ],
      "metadata": {
        "id": "ANeYWI9Ub1-q",
        "outputId": "2b2c8796-3205-4671-b179-9f4ae6405c6b",
        "colab": {
          "base_uri": "https://localhost:8080/"
        }
      },
      "execution_count": 9,
      "outputs": [
        {
          "output_type": "stream",
          "name": "stdout",
          "text": [
            "walker \n",
            " lika\n"
          ]
        }
      ]
    },
    {
      "cell_type": "markdown",
      "source": [
        "#ASCII Characters\n",
        "\n",
        "ASCII characters are basically the latin letters (i.e., English).  There are only 128 of these, because computer languages are in English.  It roughly is the same as the US English keyboard.  Later this was extended to Greek and other alphabets and emojis, using the [UTF-8](https://github.com/werowe/HypatiaAcademy/blob/master/class/27_june_2023_cyrillic_alphabet.ipynb) character encoding standard.\n",
        "\n",
        "\n",
        "https://www.ascii-code.com/\n",
        "\n",
        "A single ASCII character is one byte.  So it is 8 bits.  So there are 2**8=256 possible letters.\n",
        "\n",
        "The ASCII characters are divided into:\n",
        "\n",
        "* **non printable**—this includes the space, table, line feed, and even a bell (remember computers are old)\n",
        "\n",
        "* **printable**—the alphabet, dollar sign, numbers, exclamation (!)\n",
        "\n",
        "* **extended**—this added the British Pound, Japanese Yen, copyright symbol (©)\n",
        "\n",
        "# Double Byte Charactes\n",
        "\n",
        "https://www.utf8-chartable.de/unicode-utf8-table.pl?start=1024\n",
        "\n",
        "Greek letters take 2 bytes, like this 2 byte string:\n",
        "\n",
        "```python\n",
        "\"λ\".encode('utf-8')\n",
        "b'\\xce\\xbb'\n",
        "```\n",
        "\n",
        "# Four Byte Characters\n",
        "Emojis are 4 bites, like this 4 byte string:\n",
        "\n",
        "\n",
        "```python\n",
        "\"😀\".encode('utf-8')\n",
        "b'\\xf0\\x9f\\x98\\x80'\n",
        "\n",
        "```"
      ],
      "metadata": {
        "id": "DfSllYB0-Nj6"
      }
    },
    {
      "cell_type": "code",
      "source": [
        "#.  LAST LETTER OF CYRILLIC ALPHABET\n",
        "\n",
        "# this should be this cyrcilliuc letter Я in twio hexadecimal bytes\n",
        "\n",
        "\n",
        "# first decode the decimal number d0af to decimal\n",
        "ya=int(\"0xd0af\", 16)\n",
        "print(ya)\n",
        "\n",
        "# convert this to 2 bytes\n",
        "\n",
        "twoBytes=ya.to_bytes(2,'big')\n",
        "print(twoBytes)\n",
        "\n",
        "# now decode this UTF-8 encoded string to something we can read (cyrillic)\n",
        "\n",
        "decodedTwoBytes=twoBytes.decode('utf-8')\n",
        "print(decodedTwoBytes)\n",
        "\n",
        "# check your work\n",
        "\n",
        "print(\"Я\".encode('utf-8'))\n",
        ""
      ],
      "metadata": {
        "id": "Bp2tceKqb0R1",
        "outputId": "0c0ad93b-1c41-4818-8d64-02352f9ea1b6",
        "colab": {
          "base_uri": "https://localhost:8080/"
        }
      },
      "execution_count": 10,
      "outputs": [
        {
          "output_type": "stream",
          "name": "stdout",
          "text": [
            "53423\n",
            "b'\\xd0\\xaf'\n",
            "Я\n",
            "b'\\xd0\\xaf'\n"
          ]
        }
      ]
    },
    {
      "cell_type": "code",
      "source": [
        "# b means byte string so more one bytes.  here is ce and then bb\n",
        "\n",
        "\n",
        "# first conver the hex value of the greek letter lambda to an integer:\n",
        "\n",
        "λ=int(\"0xcebb\", 16)\n",
        "print(λ)\n",
        "\n",
        "\n",
        "# convert this to a 2 byte byte string\n",
        "\n",
        "twoBytes=λ.to_bytes(2,'big')\n",
        "print(twoBytes)\n",
        "\n",
        "\n",
        "\n",
        "# this is already a byte string to put it into utf-8 format use .decode()\n",
        "\n",
        "# think of utf-8 as ASCII extended to handle emojis, greek, cyrillic\n",
        "\n",
        "\n",
        "\n",
        "\n",
        "\n",
        "\n",
        ""
      ],
      "metadata": {
        "id": "Nzt7CSpeeaKX",
        "outputId": "2b1f3323-76ef-4d68-d081-92c8924a07f5",
        "colab": {
          "base_uri": "https://localhost:8080/"
        }
      },
      "execution_count": 12,
      "outputs": [
        {
          "output_type": "stream",
          "name": "stdout",
          "text": [
            "52923\n",
            "b'\\xce\\xbb'\n"
          ]
        }
      ]
    },
    {
      "cell_type": "code",
      "source": [
        "b'\\xce\\xbb'.decode('utf-8')"
      ],
      "metadata": {
        "id": "rZGHMgkIffZ2",
        "outputId": "453a88f2-fd89-4d11-f545-e59365306805",
        "colab": {
          "base_uri": "https://localhost:8080/",
          "height": 35
        }
      },
      "execution_count": 14,
      "outputs": [
        {
          "output_type": "execute_result",
          "data": {
            "text/plain": [
              "'λ'"
            ],
            "application/vnd.google.colaboratory.intrinsic+json": {
              "type": "string"
            }
          },
          "metadata": {},
          "execution_count": 14
        }
      ]
    },
    {
      "cell_type": "code",
      "source": [
        "'😢'.encode('utf-8')\n",
        "\n",
        "\n",
        "\n",
        "\n"
      ],
      "metadata": {
        "id": "1Lomuz-2hARe",
        "outputId": "3cbe5c40-f804-4103-abcc-1d9da9de38ef",
        "colab": {
          "base_uri": "https://localhost:8080/"
        }
      },
      "execution_count": 16,
      "outputs": [
        {
          "output_type": "execute_result",
          "data": {
            "text/plain": [
              "b'\\xf0\\x9f\\x98\\xa2'"
            ]
          },
          "metadata": {},
          "execution_count": 16
        }
      ]
    },
    {
      "cell_type": "markdown",
      "source": [
        "homework.  look up your favorite emoji and find the 4 byte hex code that represents it.  \n",
        "\n",
        "remember don't use unicode.  that is something else.\n",
        "\n",
        "remember it is 4 bytes\n",
        "\n",
        "\n",
        "here is an example page\n",
        "\n",
        "http://www.iemoji.com/view/emoji/24/smileys-people/crying-face\n",
        "\n",
        "\n",
        "\n",
        "where it says:\n",
        "\n",
        "Emoji Character Encoding Data"
      ],
      "metadata": {
        "id": "R1o1Y9m1hl14"
      }
    },
    {
      "cell_type": "code",
      "source": [],
      "metadata": {
        "id": "JF5dPgrSh28D"
      },
      "execution_count": 16,
      "outputs": []
    }
  ],
  "metadata": {
    "kernelspec": {
      "display_name": "Python 3",
      "language": "python",
      "name": "python3"
    },
    "language_info": {
      "codemirror_mode": {
        "name": "ipython",
        "version": 3
      },
      "file_extension": ".py",
      "mimetype": "text/x-python",
      "name": "python",
      "nbconvert_exporter": "python",
      "pygments_lexer": "ipython3",
      "version": "3.4.4"
    },
    "colab": {
      "provenance": [],
      "include_colab_link": true
    }
  },
  "nbformat": 4,
  "nbformat_minor": 0
}