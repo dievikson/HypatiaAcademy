{
  "nbformat": 4,
  "nbformat_minor": 0,
  "metadata": {
    "colab": {
      "provenance": [],
      "authorship_tag": "ABX9TyO6dCDozwjn29Jv6YMjlVrk",
      "include_colab_link": true
    },
    "kernelspec": {
      "name": "python3",
      "display_name": "Python 3"
    },
    "language_info": {
      "name": "python"
    }
  },
  "cells": [
    {
      "cell_type": "markdown",
      "metadata": {
        "id": "view-in-github",
        "colab_type": "text"
      },
      "source": [
        "<a href=\"https://colab.research.google.com/github/werowe/HypatiaAcademy/blob/master/class/october_31_roman_number_calculator.ipynb\" target=\"_parent\"><img src=\"https://colab.research.google.com/assets/colab-badge.svg\" alt=\"Open In Colab\"/></a>"
      ]
    },
    {
      "cell_type": "code",
      "execution_count": 63,
      "metadata": {
        "colab": {
          "base_uri": "https://localhost:8080/"
        },
        "id": "55fjIeeVyvtp",
        "outputId": "0417e351-2cba-4e60-a473-178fb34eddbc"
      },
      "outputs": [
        {
          "output_type": "stream",
          "name": "stdout",
          "text": [
            "prevLetter I roman I decimal -1 sum 1\n",
            "prevLetter I roman X decimal -10 sum 0\n",
            "-10\n"
          ]
        }
      ],
      "source": [
        "# first convert roman numer to decimal\n",
        "\n",
        "'''\n",
        "\n",
        "Arabic and Roman numerals\n",
        "Arabic\tRoman\n",
        "1\tI\n",
        "2\tII\n",
        "3\tIII\n",
        "4\tIV\n",
        "5\tV\n",
        "6\tVI\n",
        "7\tVII\n",
        "8\tVIII\n",
        "9\tIX\n",
        "10\tX\n",
        "11\tXI\n",
        "12\tXII\n",
        "13\tXIII\n",
        "14\tXIV\n",
        "15\tXV\n",
        "16\tXVI\n",
        "17\tXVII\n",
        "18\tXVIII\n",
        "19\tXIX\n",
        "20\tXX\n",
        "21\tXXI\n",
        "22\tXXII\n",
        "23\tXXIII\n",
        "24\tXXIV\n",
        "30\tXXX\n",
        "40\tXL\n",
        "50\tL\n",
        "60\tLX\n",
        "70\tLXX\n",
        "80\tLXXX\n",
        "90\tXC\n",
        "100\tC\n",
        "101\tCI\n",
        "102\tCII\n",
        "200\tCC\n",
        "300\tCCC\n",
        "400\tCD\n",
        "500\tD\n",
        "600\tDC\n",
        "700\tDCC\n",
        "800\tDCCC\n",
        "900\tCM\n",
        "1,000\tM\n",
        "1,001\tMI\n",
        "1,002\tMII\n",
        "1,900\tMCM\n",
        "2,000\tMM\n",
        "2,001\tMMI\n",
        "2,002\tMMII\n",
        "2,100\tMMC\n",
        "3,000\tMMM\n",
        "4,000\tIV̅\n",
        "5,000\tV̅\n",
        "\n",
        "\n",
        " go left to right\n",
        "\n",
        " if number on left is less than number to right then subtract\n",
        " otherwise add\n",
        "\n",
        " when number going left to right is 10 times as large stop\n",
        "\n",
        "'''\n",
        "\n",
        "numbers = {\n",
        "  'I': 1,\n",
        "  'V': 5,\n",
        "  'X': 10,\n",
        "  'L': 50,\n",
        "  'C': 100,\n",
        "  'D': 500,\n",
        "  'M': 1000\n",
        "}\n",
        "\n",
        "number='IIX'\n",
        "\n",
        "sum=numbers[number[0]]\n",
        "prevLetter=number[0]\n",
        "\n",
        "for i in range(1,len(number)):\n",
        "  decimal=numbers[number[i]]\n",
        "\n",
        "  if numbers[prevLetter] <= decimal:\n",
        "    decimal= decimal * -1\n",
        "\n",
        "  print(\"prevLetter\", prevLetter, \"roman\", number[i], \"decimal\",decimal, \"sum\", sum)\n",
        "\n",
        "\n",
        "  sum=sum+decimal\n",
        "\n",
        "  prevLetter=number[i]\n",
        "\n",
        "print(sum)\n",
        ""
      ]
    },
    {
      "cell_type": "code",
      "source": [
        "numbers[number[0]]"
      ],
      "metadata": {
        "colab": {
          "base_uri": "https://localhost:8080/"
        },
        "id": "8mTe2s9c-QxC",
        "outputId": "fb406198-7d9c-4e1b-a280-0df240527f33"
      },
      "execution_count": 60,
      "outputs": [
        {
          "output_type": "execute_result",
          "data": {
            "text/plain": [
              "1"
            ]
          },
          "metadata": {},
          "execution_count": 60
        }
      ]
    },
    {
      "cell_type": "code",
      "source": [
        "numbers"
      ],
      "metadata": {
        "id": "q-cHicg2DvN_",
        "outputId": "48732ede-b4ff-45ee-eb55-35da34c6698d",
        "colab": {
          "base_uri": "https://localhost:8080/"
        }
      },
      "execution_count": 41,
      "outputs": [
        {
          "output_type": "execute_result",
          "data": {
            "text/plain": [
              "{1: 1, 5: 5, 10: 10, 50: 50, 100: 100, 500: 500, 1000: 1000}"
            ]
          },
          "metadata": {},
          "execution_count": 41
        }
      ]
    },
    {
      "cell_type": "code",
      "source": [],
      "metadata": {
        "id": "u9w40LkEDwKm"
      },
      "execution_count": null,
      "outputs": []
    }
  ]
}