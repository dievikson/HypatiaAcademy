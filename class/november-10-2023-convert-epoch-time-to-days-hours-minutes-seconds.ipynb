{
  "nbformat": 4,
  "nbformat_minor": 0,
  "metadata": {
    "colab": {
      "provenance": [],
      "authorship_tag": "ABX9TyMZxCoICr+APaQ2zhiFDZtR",
      "include_colab_link": true
    },
    "kernelspec": {
      "name": "python3",
      "display_name": "Python 3"
    },
    "language_info": {
      "name": "python"
    }
  },
  "cells": [
    {
      "cell_type": "markdown",
      "metadata": {
        "id": "view-in-github",
        "colab_type": "text"
      },
      "source": [
        "<a href=\"https://colab.research.google.com/github/werowe/HypatiaAcademy/blob/master/class/november-10-2023-convert-epoch-time-to-days-hours-minutes-seconds.ipynb\" target=\"_parent\"><img src=\"https://colab.research.google.com/assets/colab-badge.svg\" alt=\"Open In Colab\"/></a>"
      ]
    },
    {
      "cell_type": "code",
      "source": [
        "import math\n",
        "import time\n",
        "\n",
        "# this converts the epoch time to days, hours minutes seconds\n",
        "\n",
        "# note that the remainder operator % is key to getting this to work\n",
        "\n",
        "# for example 3/2=1.5 but 3/2%1 is the remainder when you divide 3 by 2, which is 0.5\n",
        "\n",
        "epochTime=time.time()\n",
        "print(\"epoch time\", epochTime, \"\\n\")\n",
        "print(\"epoch time\", time.ctime(), \"\\n\")\n",
        "\n",
        "second=1\n",
        "minute = 60 * second\n",
        "hour = 60 * minute\n",
        "day = 24 * hour\n",
        "\n",
        "daysSince=epochTime/hour/24\n",
        "hoursLeft=daysSince%1*24\n",
        "minutesLeft=hoursLeft%1*60\n",
        "secondsLeft=minutesLeft%1*60\n",
        "milisecondsLeft=secondsLeft%1*1000000\n",
        "\n",
        "# here we use the %i to convert each number to an integer, this rounding it off.  it would be more correct to use\n",
        "# math.floor since, for example, a fraction of a day, like 3.6 days is 3 days and not 4\n",
        "\n",
        "print((\"days %i hours %i minutes %i seconds %i miliseconds %i \") % (daysSince, hoursLeft, minutesLeft, secondsLeft, milisecondsLeft))\n"
      ],
      "metadata": {
        "colab": {
          "base_uri": "https://localhost:8080/"
        },
        "id": "juDbY6_i2u3H",
        "outputId": "aab469ee-fc4a-4c4c-bab6-9d4100d86202"
      },
      "execution_count": 1,
      "outputs": [
        {
          "output_type": "stream",
          "name": "stdout",
          "text": [
            "epoch time 1699627133.3657448 \n",
            "\n",
            "epoch time Fri Nov 10 14:38:53 2023 \n",
            "\n",
            "days 19671 hours 14 minutes 38 seconds 53 miliseconds 365744 \n"
          ]
        }
      ]
    }
  ]
}