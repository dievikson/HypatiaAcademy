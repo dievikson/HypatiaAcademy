{
  "nbformat": 4,
  "nbformat_minor": 0,
  "metadata": {
    "colab": {
      "provenance": [],
      "include_colab_link": true
    },
    "kernelspec": {
      "name": "python3",
      "display_name": "Python 3"
    },
    "language_info": {
      "name": "python"
    }
  },
  "cells": [
    {
      "cell_type": "markdown",
      "metadata": {
        "id": "view-in-github",
        "colab_type": "text"
      },
      "source": [
        "<a href=\"https://colab.research.google.com/github/werowe/HypatiaAcademy/blob/master/class/31_Octobre_2023-students-to-dict.ipynb\" target=\"_parent\"><img src=\"https://colab.research.google.com/assets/colab-badge.svg\" alt=\"Open In Colab\"/></a>"
      ]
    },
    {
      "cell_type": "code",
      "source": [
        "!wget https://raw.githubusercontent.com/werowe/HypatiaAcademy/master/class/students.csv"
      ],
      "metadata": {
        "id": "5GrFmef-bdjr",
        "outputId": "9d5c2ef1-4b81-4f0f-d1a1-21e76787d214",
        "colab": {
          "base_uri": "https://localhost:8080/"
        }
      },
      "execution_count": 1,
      "outputs": [
        {
          "output_type": "stream",
          "name": "stdout",
          "text": [
            "--2023-10-31 15:51:05--  https://raw.githubusercontent.com/werowe/HypatiaAcademy/master/class/students.csv\n",
            "Resolving raw.githubusercontent.com (raw.githubusercontent.com)... 185.199.108.133, 185.199.109.133, 185.199.110.133, ...\n",
            "Connecting to raw.githubusercontent.com (raw.githubusercontent.com)|185.199.108.133|:443... connected.\n",
            "HTTP request sent, awaiting response... 200 OK\n",
            "Length: 167 [text/plain]\n",
            "Saving to: ‘students.csv’\n",
            "\n",
            "\rstudents.csv          0%[                    ]       0  --.-KB/s               \rstudents.csv        100%[===================>]     167  --.-KB/s    in 0s      \n",
            "\n",
            "2023-10-31 15:51:05 (2.17 MB/s) - ‘students.csv’ saved [167/167]\n",
            "\n"
          ]
        }
      ]
    },
    {
      "cell_type": "code",
      "execution_count": null,
      "metadata": {
        "colab": {
          "base_uri": "https://localhost:8080/"
        },
        "id": "NmWynhp77nNA",
        "outputId": "a197691b-809b-4dda-c6ea-4a9cf0186666"
      },
      "outputs": [
        {
          "output_type": "stream",
          "name": "stdout",
          "text": [
            "{'studentNumber': 1969, 'name': 'Walker', 'city': 'Konia', 'gpa': 85.32, 'isUkrainian': False, 'birthday': '3/10/1983'}\n"
          ]
        }
      ],
      "source": [
        "d = {'studentNumber': 1969,\n",
        " 'name': 'Walker',\n",
        " 'city': 'Konia',\n",
        " 'gpa': 85.32,\n",
        " 'isUkrainian': False,\n",
        " 'birthday': '3/10/1983'}\n",
        "print(d)\n",
        "\n"
      ]
    },
    {
      "cell_type": "code",
      "source": [
        "file = \"students.csv\"\n",
        "\n",
        "with open(file, \"r\",encoding=\"utf-8\") as f:\n",
        "    data = f.readlines()\n",
        "\n",
        "\n",
        "columnHeadings=data[0].rstrip().split(\",\")\n",
        "\n",
        "##. homework write definitions of these items\n",
        "\n",
        "# what type of object is data\n",
        "\n",
        "\n",
        "# make sure you understand:\n",
        "\n",
        "# rstring()\n",
        "# split()\n",
        "# zip()\n",
        "# dict()\n",
        "\n",
        "\n",
        "for i in range(1,len(data)):\n",
        "  elements=data[i].split(\",\")\n",
        "  sz=dict(zip(columnHeadings,elements))\n",
        "  print(sz)\n",
        ""
      ],
      "metadata": {
        "id": "VfAT6GPibcbC",
        "outputId": "fa9c8825-c441-40b2-eefa-dfe644612366",
        "colab": {
          "base_uri": "https://localhost:8080/"
        }
      },
      "execution_count": 2,
      "outputs": [
        {
          "output_type": "stream",
          "name": "stdout",
          "text": [
            "{'studentNumber': '1969', 'name': 'Walker', 'city': 'Konia', 'gpa': '85.32', 'isUkrainian': 'False', 'birthday': '3/10/1983\\n'}\n",
            "{'studentNumber': '1755', 'name': 'Fred', 'city': 'Kiev', 'gpa': '74.23', 'isUkrainian': 'True', 'birthday': '4/10/2004\\n'}\n",
            "{'studentNumber': '1725', 'name': 'Oscar', 'city': 'Prague', 'gpa': '92.34', 'isUkrainian': 'True', 'birthday': '06/07/2032'}\n"
          ]
        }
      ]
    }
  ]
}