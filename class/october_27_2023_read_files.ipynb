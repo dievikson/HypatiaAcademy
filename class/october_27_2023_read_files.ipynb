{
  "nbformat": 4,
  "nbformat_minor": 0,
  "metadata": {
    "colab": {
      "provenance": [],
      "authorship_tag": "ABX9TyPygdPyVdj9vFj0Yd1nbYQW",
      "include_colab_link": true
    },
    "kernelspec": {
      "name": "python3",
      "display_name": "Python 3"
    },
    "language_info": {
      "name": "python"
    }
  },
  "cells": [
    {
      "cell_type": "markdown",
      "metadata": {
        "id": "view-in-github",
        "colab_type": "text"
      },
      "source": [
        "<a href=\"https://colab.research.google.com/github/werowe/HypatiaAcademy/blob/master/class/october_27_2023_read_files.ipynb\" target=\"_parent\"><img src=\"https://colab.research.google.com/assets/colab-badge.svg\" alt=\"Open In Colab\"/></a>"
      ]
    },
    {
      "cell_type": "code",
      "execution_count": 18,
      "metadata": {
        "colab": {
          "base_uri": "https://localhost:8080/"
        },
        "id": "b2qt3g3lerSs",
        "outputId": "674434c9-d891-4fc3-bdf8-3de127d6bbd9"
      },
      "outputs": [
        {
          "output_type": "stream",
          "name": "stdout",
          "text": [
            "--2023-10-27 14:47:06--  https://raw.githubusercontent.com/werowe/HypatiaAcademy/master/class/students.csv\n",
            "Resolving raw.githubusercontent.com (raw.githubusercontent.com)... 185.199.108.133, 185.199.109.133, 185.199.110.133, ...\n",
            "Connecting to raw.githubusercontent.com (raw.githubusercontent.com)|185.199.108.133|:443... connected.\n",
            "HTTP request sent, awaiting response... 200 OK\n",
            "Length: 167 [text/plain]\n",
            "Saving to: ‘students.csv.1’\n",
            "\n",
            "\rstudents.csv.1        0%[                    ]       0  --.-KB/s               \rstudents.csv.1      100%[===================>]     167  --.-KB/s    in 0s      \n",
            "\n",
            "2023-10-27 14:47:07 (16.6 MB/s) - ‘students.csv.1’ saved [167/167]\n",
            "\n"
          ]
        }
      ],
      "source": [
        "!wget https://raw.githubusercontent.com/werowe/HypatiaAcademy/master/class/students.csv\n"
      ]
    },
    {
      "cell_type": "code",
      "source": [
        "!cat students.csv"
      ],
      "metadata": {
        "colab": {
          "base_uri": "https://localhost:8080/"
        },
        "id": "ZsUY4vx7hQOr",
        "outputId": "996e0d7c-2823-47e2-de5c-27ca9bcae4dd"
      },
      "execution_count": 19,
      "outputs": [
        {
          "output_type": "stream",
          "name": "stdout",
          "text": [
            "studentNumber,name,city,gpa,isUkrainian,birthday\r\n",
            "1969,Walker,Konia,85.32,False,3/10/1983\r\n",
            "1755,Fred,Kiev,74.23,True,4/10/2004\r\n",
            "1725,Oscar,Prague,92.34,True,06/07/2032"
          ]
        }
      ]
    },
    {
      "cell_type": "code",
      "source": [
        "\n",
        "# r means read\n",
        "\n",
        "f = open(\"students.csv\", \"r\")\n",
        "\n",
        "# read() means read the whole file.\n",
        "# readlines() reads one line at a time\n",
        "\n",
        "\n",
        "# good website https://www.w3schools.com/\n",
        "\n",
        "# while it's not the end of a file read a line\n",
        "\n",
        "\n",
        "columnHeadings=f.readline()\n",
        "\n",
        "print(columnHeadings)\n",
        "\n",
        "studentText=f.readline()\n",
        "\n",
        "print(student)\n",
        "\n",
        "\n"
      ],
      "metadata": {
        "colab": {
          "base_uri": "https://localhost:8080/"
        },
        "id": "gpbdNIZ1iS3r",
        "outputId": "5f82e54e-6884-461e-e5c3-243e33a8e203"
      },
      "execution_count": 20,
      "outputs": [
        {
          "output_type": "stream",
          "name": "stdout",
          "text": [
            "studentNumber,name,city,gpa,isUkrainian,birthday\n",
            "\n",
            "{'studentNumber': 1969, 'name': 'Walker', 'city': 'Konia', 'gpa': 85.32, 'isUkrainian': False, 'birthday': '3/10/1983'}\n"
          ]
        }
      ]
    },
    {
      "cell_type": "code",
      "source": [
        "studentElements=studentText.split(\",\")\n",
        "studentElements\n",
        "\n"
      ],
      "metadata": {
        "colab": {
          "base_uri": "https://localhost:8080/"
        },
        "id": "FRhO5kyAlvfF",
        "outputId": "6cdc19ce-e330-48fb-f407-310bb7bf1ac5"
      },
      "execution_count": 15,
      "outputs": [
        {
          "output_type": "execute_result",
          "data": {
            "text/plain": [
              "['1969', 'Walker', 'Konia', '85.32', 'False', '3/10/1983\\n']"
            ]
          },
          "metadata": {},
          "execution_count": 15
        }
      ]
    },
    {
      "cell_type": "code",
      "source": [
        "print(\"walker\\nrowe\")\n"
      ],
      "metadata": {
        "colab": {
          "base_uri": "https://localhost:8080/"
        },
        "id": "Slv7E986mD-w",
        "outputId": "4cbff5bd-7c96-48b3-ac7e-2aeedfb072b3"
      },
      "execution_count": 17,
      "outputs": [
        {
          "output_type": "stream",
          "name": "stdout",
          "text": [
            "walker\n",
            "rowe\n"
          ]
        }
      ]
    },
    {
      "cell_type": "code",
      "source": [
        "studentElements[0]\n"
      ],
      "metadata": {
        "colab": {
          "base_uri": "https://localhost:8080/",
          "height": 37
        },
        "id": "CFj7dA6pl6z_",
        "outputId": "4c4811f4-7600-4d6f-b32f-960beeec8a09"
      },
      "execution_count": 16,
      "outputs": [
        {
          "output_type": "execute_result",
          "data": {
            "text/plain": [
              "'1969'"
            ],
            "application/vnd.google.colaboratory.intrinsic+json": {
              "type": "string"
            }
          },
          "metadata": {},
          "execution_count": 16
        }
      ]
    },
    {
      "cell_type": "code",
      "source": [
        "# use what he have leardn to read each line and turn it into a dictionary object\n",
        "\n",
        "# 1969,Walker,Konia,85.32,False,3/10/1983\n",
        "\n",
        "studentDict={\n",
        "\n",
        "       \"studentNumber\": 1969,\n",
        "      \"name\": \"Walker\",\n",
        "       \"city\": \"Konia\",\n",
        "       \"gpa\": 85.32,\n",
        "       \"isUkrainian\" : False,\n",
        "       \"birthday\" : \"3/10/1983\"\n",
        "\n",
        "}"
      ],
      "metadata": {
        "id": "jA0RJ33Fj-0M"
      },
      "execution_count": 10,
      "outputs": []
    },
    {
      "cell_type": "code",
      "source": [
        "# you will need to review this lesson on dictionaries\n",
        "\n",
        "# https://github.com/werowe/HypatiaAcademy/blob/master/class/september_29_2023_dictionaries.ipynb\n",
        "\n",
        "\n",
        "'''\n",
        "\n",
        "homework\n",
        "\n",
        "\n",
        "make empty dictionary\n",
        "\n",
        "d={}\n",
        "\n",
        "add a key and a value:\n",
        "\n",
        "d['key']='value'\n",
        "\n",
        "go through every item in studentElements and complete this:\n",
        "\n",
        "\n",
        "{'studentNumber': 1969,\n",
        " 'name': 'Walker',\n",
        " 'city': 'Konia',\n",
        " 'gpa': 85.32,\n",
        " 'isUkrainian': False,\n",
        " 'birthday': '3/10/1983'}\n",
        "\n",
        "\n",
        "'''\n",
        "\n",
        "\n",
        "\n",
        "\n",
        "\n",
        "\n"
      ],
      "metadata": {
        "colab": {
          "base_uri": "https://localhost:8080/"
        },
        "id": "PLDCZQMBk-FH",
        "outputId": "bf48bccc-a605-414b-e558-6bd39a0fd7ee"
      },
      "execution_count": 11,
      "outputs": [
        {
          "output_type": "execute_result",
          "data": {
            "text/plain": [
              "{'studentNumber': 1969,\n",
              " 'name': 'Walker',\n",
              " 'city': 'Konia',\n",
              " 'gpa': 85.32,\n",
              " 'isUkrainian': False,\n",
              " 'birthday': '3/10/1983'}"
            ]
          },
          "metadata": {},
          "execution_count": 11
        }
      ]
    }
  ]
}