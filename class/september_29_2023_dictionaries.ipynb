{
  "nbformat": 4,
  "nbformat_minor": 0,
  "metadata": {
    "colab": {
      "provenance": [],
      "authorship_tag": "ABX9TyOmR7uo8EpK3uFUCK9jdPe8",
      "include_colab_link": true
    },
    "kernelspec": {
      "name": "python3",
      "display_name": "Python 3"
    },
    "language_info": {
      "name": "python"
    }
  },
  "cells": [
    {
      "cell_type": "markdown",
      "metadata": {
        "id": "view-in-github",
        "colab_type": "text"
      },
      "source": [
        "<a href=\"https://colab.research.google.com/github/werowe/HypatiaAcademy/blob/master/class/september_29_2023_dictionaries.ipynb\" target=\"_parent\"><img src=\"https://colab.research.google.com/assets/colab-badge.svg\" alt=\"Open In Colab\"/></a>"
      ]
    },
    {
      "cell_type": "code",
      "execution_count": 50,
      "metadata": {
        "colab": {
          "base_uri": "https://localhost:8080/"
        },
        "id": "EBg7YKR1QMl5",
        "outputId": "92c90831-c7bf-4734-f4cf-4f29b0c2f1d8"
      },
      "outputs": [
        {
          "output_type": "stream",
          "name": "stdout",
          "text": [
            "{'name': 'Lika', 'age': 16}\n",
            "{'name': 'anna', 'age': 14}\n",
            "==============================\n",
            "The student anna is 14 years old\n",
            "The student anna is 14 years old\n",
            "The student anna is 14 years old\n"
          ]
        }
      ],
      "source": [
        "'''\n",
        "\n",
        "make a list of dictionary objects\n",
        "\n",
        "print each object\n",
        "\n",
        "print each dictionary\n",
        "\n",
        "'''\n",
        "\n",
        "\n",
        "# empty dictionary\n",
        "\n",
        "d={}\n",
        "\n",
        "# empty list\n",
        "\n",
        "l={}\n",
        "\n",
        "\n",
        "# a dictionary is key-value pairs\n",
        "\n",
        "students=[\"Lika\", \"Anna\"]\n",
        "\n",
        "students[0]\n",
        "\n",
        "lika = {\n",
        "      \"name\": \"Lika\",\n",
        "      \"age\": 16\n",
        "}\n",
        "\n",
        "anna = {\n",
        "      \"name\": \"anna\",\n",
        "      \"age\": 14\n",
        "}\n",
        "\n",
        "print(lika)\n",
        "print(anna)\n",
        "\n",
        "print(\"==============================\")\n",
        "\n",
        "# here are three ways to print name and age\n",
        "\n",
        "print(\"The student\" , anna['name'] , \"is\" , anna[\"age\"] , \"years old\")\n",
        "\n",
        "print(\"The student \" + anna['name'] + \" is \" + str(anna[\"age\"]) + \" years old\")\n",
        "\n",
        "print(\"The student %s is %i years old\" % (anna['name'], anna[\"age\"]))"
      ]
    },
    {
      "cell_type": "code",
      "source": [
        "anna['languages'] = ['en', 'uk', 'gr', 'ru']\n",
        "\n",
        "print(anna)\n",
        "\n",
        "print(\"The student %s knows %i languages\" % (anna['name'], len(anna['languages'])))"
      ],
      "metadata": {
        "colab": {
          "base_uri": "https://localhost:8080/"
        },
        "id": "lmouwqC8S7LC",
        "outputId": "00d72686-002b-41dc-eee2-9732b0470615"
      },
      "execution_count": 55,
      "outputs": [
        {
          "output_type": "stream",
          "name": "stdout",
          "text": [
            "{'name': 'anna', 'age': 14, 'languages': ['en', 'uk', 'gr', 'ru']}\n",
            "The student anna knows 4 languages\n"
          ]
        }
      ]
    },
    {
      "cell_type": "code",
      "source": [
        " # make an empty list then add two objects to it\n",
        "\n",
        "lika['languages']=['en','ru','ge']\n",
        "\n",
        "# list\n",
        "students=[]\n",
        "\n",
        "#set\n",
        "#students={}\n",
        "\n",
        "\n",
        "students.append(lika)\n",
        "students.append(anna)\n",
        "print(students)"
      ],
      "metadata": {
        "colab": {
          "base_uri": "https://localhost:8080/"
        },
        "id": "xEVCwtb1TxTg",
        "outputId": "937727af-6113-4439-bdcc-0457ee61a74b"
      },
      "execution_count": 52,
      "outputs": [
        {
          "output_type": "stream",
          "name": "stdout",
          "text": [
            "[{'name': 'Lika', 'age': 16, 'languages': ['en', 'ru', 'ge']}, {'name': 'anna', 'age': 14}]\n"
          ]
        }
      ]
    },
    {
      "cell_type": "code",
      "source": [
        "students.append(lika)\n",
        "\n",
        "for s in students:\n",
        "  print(s)"
      ],
      "metadata": {
        "colab": {
          "base_uri": "https://localhost:8080/"
        },
        "id": "wdVPog1OUeR5",
        "outputId": "558d3d04-79c1-458b-8f4a-ac742ee6a58c"
      },
      "execution_count": 36,
      "outputs": [
        {
          "output_type": "stream",
          "name": "stdout",
          "text": [
            "{'name': 'Lika', 'age': 16, 'languages': ['en', 'ru', 'ge']}\n",
            "{'name': 'anna', 'age': 14, 'languages': ['en', 'uk', 'gr', 'ru']}\n",
            "{'name': 'Lika', 'age': 16, 'languages': ['en', 'ru', 'ge']}\n",
            "{'name': 'Lika', 'age': 16, 'languages': ['en', 'ru', 'ge']}\n",
            "{'name': 'Lika', 'age': 16, 'languages': ['en', 'ru', 'ge']}\n"
          ]
        }
      ]
    },
    {
      "cell_type": "code",
      "source": [
        "s={}\n",
        "\n",
        "type(s)\n",
        "\n",
        "s={\"a\",\"b\",\"c\"}\n",
        "s.add(\"d\")\n",
        "\n",
        "print(s)\n",
        "\n",
        "\n",
        "n={1,1,1,1,1,1}\n",
        "\n",
        "print(n)\n",
        "\n",
        "a={1,2,3}\n",
        "b={3,4,5}\n",
        "\n",
        "a.intersection(b)\n",
        "a.union(b)"
      ],
      "metadata": {
        "colab": {
          "base_uri": "https://localhost:8080/"
        },
        "id": "qKHvHxuCVEdg",
        "outputId": "95c38fa2-20eb-4887-c7d7-448f4b58ee0b"
      },
      "execution_count": 39,
      "outputs": [
        {
          "output_type": "stream",
          "name": "stdout",
          "text": [
            "{'b', 'c', 'a', 'd'}\n",
            "{1}\n"
          ]
        },
        {
          "output_type": "execute_result",
          "data": {
            "text/plain": [
              "{1, 2, 3, 4, 5}"
            ]
          },
          "metadata": {},
          "execution_count": 39
        }
      ]
    },
    {
      "cell_type": "code",
      "source": [
        "d={5,4,3}\n",
        "\n",
        "print(d)"
      ],
      "metadata": {
        "colab": {
          "base_uri": "https://localhost:8080/"
        },
        "id": "xqet0JKsWPvs",
        "outputId": "f4ebfd2b-e83e-4694-dd05-431a7e46f0c6"
      },
      "execution_count": 42,
      "outputs": [
        {
          "output_type": "stream",
          "name": "stdout",
          "text": [
            "{3, 4, 5}\n"
          ]
        }
      ]
    },
    {
      "cell_type": "code",
      "source": [
        "# why did it print b,c,a\n",
        "\n",
        "\n",
        "c={\"c\",\"b\",\"a\"}\n",
        "print(c)"
      ],
      "metadata": {
        "colab": {
          "base_uri": "https://localhost:8080/"
        },
        "id": "L_sNTJx6Wlv3",
        "outputId": "a5bf36b5-f767-4e54-e8b7-04975f6849e8"
      },
      "execution_count": 41,
      "outputs": [
        {
          "output_type": "stream",
          "name": "stdout",
          "text": [
            "{'b', 'c', 'a'}\n"
          ]
        }
      ]
    },
    {
      "cell_type": "code",
      "source": [
        "\n",
        "\n",
        "\n",
        "print(\"keys \", anna.keys())\n",
        "print(\"values \", anna.values())\n"
      ],
      "metadata": {
        "colab": {
          "base_uri": "https://localhost:8080/"
        },
        "id": "7l1WkYNSXDA5",
        "outputId": "13f5367d-cd3f-410b-cf01-013349ec5e06"
      },
      "execution_count": 45,
      "outputs": [
        {
          "output_type": "stream",
          "name": "stdout",
          "text": [
            "keys  dict_keys(['name', 'age', 'languages'])\n",
            "values  dict_values(['anna', 14, ['en', 'uk', 'gr', 'ru']])\n"
          ]
        }
      ]
    },
    {
      "cell_type": "code",
      "source": [
        "for key,value in anna.items():\n",
        "  print(key,\":\",value)\n",
        "\n",
        "\n",
        "for key,value in lika.items():\n",
        "  print(key,\":\",value)"
      ],
      "metadata": {
        "colab": {
          "base_uri": "https://localhost:8080/"
        },
        "id": "MNDgKk8GXVjo",
        "outputId": "f72bac6d-a2a2-486f-a5e2-4241fe1363f7"
      },
      "execution_count": 47,
      "outputs": [
        {
          "output_type": "stream",
          "name": "stdout",
          "text": [
            "name : anna\n",
            "age : 14\n",
            "languages : ['en', 'uk', 'gr', 'ru']\n",
            "name : Lika\n",
            "age : 16\n",
            "languages : ['en', 'ru', 'ge']\n"
          ]
        }
      ]
    },
    {
      "cell_type": "code",
      "source": [
        "for s in students:\n",
        "  for key,value in s.items():\n",
        "    print(key,\":\",value)\n",
        "  print(\"=========\")"
      ],
      "metadata": {
        "colab": {
          "base_uri": "https://localhost:8080/"
        },
        "id": "QNskIzC0XpiM",
        "outputId": "12c02094-8393-4497-f70f-b4d13a03353b"
      },
      "execution_count": 56,
      "outputs": [
        {
          "output_type": "stream",
          "name": "stdout",
          "text": [
            "name : Lika\n",
            "age : 16\n",
            "languages : ['en', 'ru', 'ge']\n",
            "=========\n",
            "name : anna\n",
            "age : 14\n",
            "languages : ['en', 'uk', 'gr', 'ru']\n",
            "=========\n"
          ]
        }
      ]
    },
    {
      "cell_type": "code",
      "source": [
        "from IPython.core.formatters import Dict\n",
        "'''\n",
        "\n",
        "we created a dictionary\n",
        "\n",
        "showed how to add keys to a dictionary\n",
        "\n",
        "e={\"key\":\"value\"}\n",
        "e['somethingNew]=\"blah blah\n",
        "\n",
        "we showed how to use sets\n",
        "\n",
        "sets don't allow duplicates\n",
        "\n",
        "s={}\n",
        "\n",
        "you use the s.add()\n",
        "\n",
        "to add an item to a set\n",
        "\n",
        "we added dictionary to a list\n",
        "\n",
        "l=[]\n",
        "\n",
        "use l.append() to add items to a list\n",
        "\n",
        "\n",
        "homework:\n",
        "\n",
        "print anns and lika but print the languages using a loop\n",
        "\n",
        "remember lika['languages'] is a list\n",
        "\n",
        "hint:\n",
        "\n",
        "in the loop above check each key if the type is list then use for i in xxxx to print the languages\n",
        "\n",
        "type(lika['languages'])\n",
        "\n",
        "\n",
        "\n",
        "'''\n",
        "\n",
        "\n",
        "isinstance(lika['languages'],list)\n",
        "\n",
        "\n",
        "isinstance(lika,dict)\n"
      ],
      "metadata": {
        "colab": {
          "base_uri": "https://localhost:8080/"
        },
        "id": "qF90dS_YYcDE",
        "outputId": "42a32fd7-fde9-4dbc-d22f-3c23d2b07d22"
      },
      "execution_count": 68,
      "outputs": [
        {
          "output_type": "execute_result",
          "data": {
            "text/plain": [
              "True"
            ]
          },
          "metadata": {},
          "execution_count": 68
        }
      ]
    }
  ]
}