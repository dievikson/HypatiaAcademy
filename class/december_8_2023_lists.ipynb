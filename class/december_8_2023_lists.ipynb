{
  "nbformat": 4,
  "nbformat_minor": 0,
  "metadata": {
    "colab": {
      "provenance": [],
      "authorship_tag": "ABX9TyNg8SXEVjLOjHS/0sXwiG3F",
      "include_colab_link": true
    },
    "kernelspec": {
      "name": "python3",
      "display_name": "Python 3"
    },
    "language_info": {
      "name": "python"
    }
  },
  "cells": [
    {
      "cell_type": "markdown",
      "metadata": {
        "id": "view-in-github",
        "colab_type": "text"
      },
      "source": [
        "<a href=\"https://colab.research.google.com/github/werowe/HypatiaAcademy/blob/master/class/december_8_2023_lists.ipynb\" target=\"_parent\"><img src=\"https://colab.research.google.com/assets/colab-badge.svg\" alt=\"Open In Colab\"/></a>"
      ]
    },
    {
      "cell_type": "code",
      "execution_count": 1,
      "metadata": {
        "id": "xTewnPgBSoll"
      },
      "outputs": [],
      "source": [
        "# a python list is just a list of things separated by a comma\n",
        "\n",
        "numbers = [1,2,3,4,5]\n",
        "\n",
        "names = [\"sasha\", \"walker\"]\n"
      ]
    },
    {
      "cell_type": "code",
      "source": [
        "print(numbers)"
      ],
      "metadata": {
        "colab": {
          "base_uri": "https://localhost:8080/"
        },
        "id": "RM-MmJ3zTCV-",
        "outputId": "88259554-25f6-4c0b-e971-7df8ccb33958"
      },
      "execution_count": 2,
      "outputs": [
        {
          "output_type": "stream",
          "name": "stdout",
          "text": [
            "[1, 2, 3, 4, 5]\n"
          ]
        }
      ]
    },
    {
      "cell_type": "code",
      "source": [
        "# how can I add another numbers\n",
        "\n",
        "numbers.append(6)"
      ],
      "metadata": {
        "id": "xu0mBOCiTG6T"
      },
      "execution_count": 4,
      "outputs": []
    },
    {
      "cell_type": "code",
      "source": [
        "# if I write numbers without saying print(numbers) it will print.\n",
        "\n",
        "# if that is the last statement in this box.  this box is called a cell\n",
        "\n",
        "numbers"
      ],
      "metadata": {
        "colab": {
          "base_uri": "https://localhost:8080/"
        },
        "id": "V325nBBMTQ8g",
        "outputId": "6756f305-1c63-4622-afb0-4563967b4f49"
      },
      "execution_count": 5,
      "outputs": [
        {
          "output_type": "execute_result",
          "data": {
            "text/plain": [
              "[1, 2, 3, 4, 5, 6]"
            ]
          },
          "metadata": {},
          "execution_count": 5
        }
      ]
    },
    {
      "cell_type": "code",
      "source": [
        "print(numbers)"
      ],
      "metadata": {
        "colab": {
          "base_uri": "https://localhost:8080/"
        },
        "id": "059w-GjZTcy-",
        "outputId": "0b5a08a1-c49f-4fcb-cdfc-55695172c353"
      },
      "execution_count": 6,
      "outputs": [
        {
          "output_type": "stream",
          "name": "stdout",
          "text": [
            "[1, 2, 3, 4, 5, 6]\n"
          ]
        }
      ]
    },
    {
      "cell_type": "code",
      "source": [
        "names.append(\"fred\")\n",
        "print(names)"
      ],
      "metadata": {
        "colab": {
          "base_uri": "https://localhost:8080/"
        },
        "id": "uMBLvsgcTnX8",
        "outputId": "4e482d67-d057-4784-9cda-580b05617344"
      },
      "execution_count": 7,
      "outputs": [
        {
          "output_type": "stream",
          "name": "stdout",
          "text": [
            "['sasha', 'walker', 'fred']\n"
          ]
        }
      ]
    },
    {
      "cell_type": "code",
      "source": [
        "# how do you you print the first item in a list\n",
        "\n",
        "names[0]\n"
      ],
      "metadata": {
        "colab": {
          "base_uri": "https://localhost:8080/",
          "height": 37
        },
        "id": "c4NhRsueTv5s",
        "outputId": "c149fad2-789e-4543-b199-917d2e9c03e1"
      },
      "execution_count": 8,
      "outputs": [
        {
          "output_type": "execute_result",
          "data": {
            "text/plain": [
              "'sasha'"
            ],
            "application/vnd.google.colaboratory.intrinsic+json": {
              "type": "string"
            }
          },
          "metadata": {},
          "execution_count": 8
        }
      ]
    },
    {
      "cell_type": "code",
      "source": [
        "names[1]"
      ],
      "metadata": {
        "colab": {
          "base_uri": "https://localhost:8080/",
          "height": 37
        },
        "id": "oTE9O52fT9i-",
        "outputId": "c986936c-b804-4871-f3e3-0f8b38460eef"
      },
      "execution_count": 9,
      "outputs": [
        {
          "output_type": "execute_result",
          "data": {
            "text/plain": [
              "'walker'"
            ],
            "application/vnd.google.colaboratory.intrinsic+json": {
              "type": "string"
            }
          },
          "metadata": {},
          "execution_count": 9
        }
      ]
    },
    {
      "cell_type": "code",
      "source": [
        "# how can we know how many names are in a list?  we use the len() function\n",
        "\n",
        "print(\"names has this many names:\", len(names))"
      ],
      "metadata": {
        "colab": {
          "base_uri": "https://localhost:8080/"
        },
        "id": "PVmgeqY1UBx8",
        "outputId": "e14b2361-c771-4103-8349-c9e723c51681"
      },
      "execution_count": 11,
      "outputs": [
        {
          "output_type": "stream",
          "name": "stdout",
          "text": [
            "names has this many names: 3\n"
          ]
        }
      ]
    },
    {
      "cell_type": "code",
      "source": [
        "# loops.  a loop means to go over or process or print every item in a list.\n",
        "\n",
        "# two ways to do it:\n",
        "\n",
        "\n",
        "for name in names:\n",
        "  print(name)"
      ],
      "metadata": {
        "colab": {
          "base_uri": "https://localhost:8080/"
        },
        "id": "8PfmNseJUQP_",
        "outputId": "815f7e12-4206-4b05-ce1c-19fa9eba7658"
      },
      "execution_count": 12,
      "outputs": [
        {
          "output_type": "stream",
          "name": "stdout",
          "text": [
            "sasha\n",
            "walker\n",
            "fred\n"
          ]
        }
      ]
    },
    {
      "cell_type": "code",
      "source": [
        "# so silly means create a new variable for each item in the list\n",
        "\n",
        "for silly in names:\n",
        "  print(silly)"
      ],
      "metadata": {
        "colab": {
          "base_uri": "https://localhost:8080/"
        },
        "id": "ylouhm31UhjZ",
        "outputId": "d4713989-56c4-4029-af1c-bb06afebf772"
      },
      "execution_count": 13,
      "outputs": [
        {
          "output_type": "stream",
          "name": "stdout",
          "text": [
            "sasha\n",
            "walker\n",
            "fred\n"
          ]
        }
      ]
    },
    {
      "cell_type": "code",
      "source": [
        "# we need something to create numbers.  we use the range() function\n",
        "\n",
        "for i in range(3):\n",
        "  print(i)"
      ],
      "metadata": {
        "colab": {
          "base_uri": "https://localhost:8080/"
        },
        "id": "7DkrI87UVQWg",
        "outputId": "24d3b596-cafa-453a-f988-45d9d534947b"
      },
      "execution_count": 17,
      "outputs": [
        {
          "output_type": "stream",
          "name": "stdout",
          "text": [
            "0\n",
            "1\n",
            "2\n"
          ]
        }
      ]
    },
    {
      "cell_type": "code",
      "source": [
        "# there is one more way to loop which is using the range object\n",
        "\n",
        "for i in range(3):\n",
        "  print(\"the number:\",  i)\n",
        "  print(\"the items at index \", i, \" is \", names[i])\n",
        "\n",
        "\n"
      ],
      "metadata": {
        "colab": {
          "base_uri": "https://localhost:8080/"
        },
        "id": "uLnKsdglUshE",
        "outputId": "7ef887eb-4fd2-49e1-dacc-dc5aaf5fd30b"
      },
      "execution_count": 15,
      "outputs": [
        {
          "output_type": "stream",
          "name": "stdout",
          "text": [
            "the number: 0\n",
            "the items at index  0  is  sasha\n",
            "the number: 1\n",
            "the items at index  1  is  walker\n",
            "the number: 2\n",
            "the items at index  2  is  fred\n"
          ]
        }
      ]
    },
    {
      "cell_type": "code",
      "source": [
        "names[1]"
      ],
      "metadata": {
        "colab": {
          "base_uri": "https://localhost:8080/",
          "height": 37
        },
        "id": "vf6dv5z9Veoe",
        "outputId": "6d8179f5-e4c2-4569-dc59-0b8643cbbfae"
      },
      "execution_count": 18,
      "outputs": [
        {
          "output_type": "execute_result",
          "data": {
            "text/plain": [
              "'walker'"
            ],
            "application/vnd.google.colaboratory.intrinsic+json": {
              "type": "string"
            }
          },
          "metadata": {},
          "execution_count": 18
        }
      ]
    },
    {
      "cell_type": "code",
      "source": [
        "# above we hard-coded the number 3.  what we should do is not hard-code.  but use the len() function\n",
        "\n",
        "for i in range(len(names)):\n",
        "  print(i)\n"
      ],
      "metadata": {
        "colab": {
          "base_uri": "https://localhost:8080/"
        },
        "id": "kgVr9cTsVI9g",
        "outputId": "1f61fb1b-7541-42cf-9107-c12417e6e389"
      },
      "execution_count": 20,
      "outputs": [
        {
          "output_type": "stream",
          "name": "stdout",
          "text": [
            "0\n",
            "1\n",
            "2\n"
          ]
        }
      ]
    },
    {
      "cell_type": "markdown",
      "source": [
        "#Home\n",
        "\n",
        "\n",
        "1. Make a list of 5 items.  Call it things\n",
        "2. use the append() function to add 1 more item\n",
        "3. loop through and print each item using the range(6) function, range(len(things)), for the other way: for t in things ...."
      ],
      "metadata": {
        "id": "_XJ8lvtPVzRS"
      }
    }
  ]
}