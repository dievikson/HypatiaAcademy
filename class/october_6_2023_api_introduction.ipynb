{
  "nbformat": 4,
  "nbformat_minor": 0,
  "metadata": {
    "colab": {
      "provenance": [],
      "authorship_tag": "ABX9TyM2RLnxUSLrmRQXbZl5zth6",
      "include_colab_link": true
    },
    "kernelspec": {
      "name": "python3",
      "display_name": "Python 3"
    },
    "language_info": {
      "name": "python"
    }
  },
  "cells": [
    {
      "cell_type": "markdown",
      "metadata": {
        "id": "view-in-github",
        "colab_type": "text"
      },
      "source": [
        "<a href=\"https://colab.research.google.com/github/werowe/HypatiaAcademy/blob/master/class/october_6_2023_api_introduction.ipynb\" target=\"_parent\"><img src=\"https://colab.research.google.com/assets/colab-badge.svg\" alt=\"Open In Colab\"/></a>"
      ]
    },
    {
      "cell_type": "code",
      "execution_count": 8,
      "metadata": {
        "id": "S865BCHsVQaO",
        "colab": {
          "base_uri": "https://localhost:8080/"
        },
        "outputId": "14971acf-c23d-4f2e-e632-57d87919ad6c"
      },
      "outputs": [
        {
          "output_type": "stream",
          "name": "stdout",
          "text": [
            "{\n",
            "    \"base\": \"stations\",\n",
            "    \"clouds\": {\n",
            "        \"all\": 0\n",
            "    },\n",
            "    \"cod\": 200,\n",
            "    \"coord\": {\n",
            "        \"lat\": 35.17,\n",
            "        \"lon\": 33.37\n",
            "    },\n",
            "    \"dt\": 1696734765,\n",
            "    \"id\": 146268,\n",
            "    \"main\": {\n",
            "        \"feels_like\": 292.1,\n",
            "        \"humidity\": 82,\n",
            "        \"pressure\": 1015,\n",
            "        \"temp\": 292.02,\n",
            "        \"temp_max\": 293.24,\n",
            "        \"temp_min\": 292.02\n",
            "    },\n",
            "    \"name\": \"Nicosia\",\n",
            "    \"sys\": {\n",
            "        \"country\": \"CY\",\n",
            "        \"id\": 6370,\n",
            "        \"sunrise\": 1696736771,\n",
            "        \"sunset\": 1696778517,\n",
            "        \"type\": 1\n",
            "    },\n",
            "    \"timezone\": 10800,\n",
            "    \"visibility\": 10000,\n",
            "    \"weather\": [\n",
            "        {\n",
            "            \"description\": \"clear sky\",\n",
            "            \"icon\": \"01n\",\n",
            "            \"id\": 800,\n",
            "            \"main\": \"Clear\"\n",
            "        }\n",
            "    ],\n",
            "    \"wind\": {\n",
            "        \"deg\": 260,\n",
            "        \"speed\": 2.57\n",
            "    }\n",
            "}\n",
            "In Nicosia it's hot!!! 29.201999999999998\n"
          ]
        }
      ],
      "source": [
        "import json\n",
        "\n",
        "import requests\n",
        "\n",
        "url = \"http://api.openweathermap.org/data/2.5/weather?\"\n",
        "\n",
        "params = {'lat': 35.17,\n",
        "               'lon': 33.37,\n",
        "               'appid' : '91d1fc2871fedb0a0d70b09b77963b9b'}\n",
        "\n",
        "\n",
        "response = requests.get(url, params=params)\n",
        "\n",
        "print(json.dumps(response.json(), indent=4, sort_keys=True))\n",
        "\n",
        "print(\"In Nicosia it's hot!!!\", response.json()['main']['temp']/10 )"
      ]
    },
    {
      "cell_type": "code",
      "source": [
        "import json\n",
        "\n",
        "import requests\n",
        "\n",
        "\n",
        "url='https://jsonplaceholder.typicode.com/posts'\n",
        "\n",
        "body={\n",
        "    'title': 'foo',\n",
        "    'body': 'bar',\n",
        "    'userId': 1,\n",
        "    'silly': 'me'\n",
        "  }\n",
        "\n",
        "\n",
        "response = requests.post(url, data=body)\n",
        "\n",
        "response.json()\n",
        "\n"
      ],
      "metadata": {
        "id": "AlnthtPOSUEZ",
        "colab": {
          "base_uri": "https://localhost:8080/"
        },
        "outputId": "d838967a-e674-4e22-8a04-578ead68fb67"
      },
      "execution_count": 9,
      "outputs": [
        {
          "output_type": "execute_result",
          "data": {
            "text/plain": [
              "{'title': 'foo', 'body': 'bar', 'userId': '1', 'silly': 'me', 'id': 101}"
            ]
          },
          "metadata": {},
          "execution_count": 9
        }
      ]
    },
    {
      "cell_type": "markdown",
      "source": [
        "http://api.openweathermap.org/data/2.5/weather?lat=35.17&lon=33.37&appid=91d1fc2871fedb0a0d70b09b77963b9b\n",
        "\n",
        "http://api.openweathermap.org/data/2.5/weather?lat%3D35.17%26lon%3D33.37%26appid%3A91d1fc2871fedb0a0d70b09b77963b9b"
      ],
      "metadata": {
        "id": "S_PuAu2MRqBL"
      }
    },
    {
      "cell_type": "code",
      "source": [
        "!curl -XGET 'http://api.openweathermap.org/data/2.5/weather?lat=35.17&lon=33.37&appid=91d1fc2871fedb0a0d70b09b77963b9b'\n"
      ],
      "metadata": {
        "id": "jzC8CPkNcGrr",
        "colab": {
          "base_uri": "https://localhost:8080/"
        },
        "outputId": "92408710-5d24-4d47-f3c7-3c2d80415fb5"
      },
      "execution_count": 10,
      "outputs": [
        {
          "output_type": "stream",
          "name": "stdout",
          "text": [
            "{\"coord\":{\"lon\":33.37,\"lat\":35.17},\"weather\":[{\"id\":800,\"main\":\"Clear\",\"description\":\"clear sky\",\"icon\":\"01n\"}],\"base\":\"stations\",\"main\":{\"temp\":292.02,\"feels_like\":292.1,\"temp_min\":292.02,\"temp_max\":293.24,\"pressure\":1015,\"humidity\":82},\"visibility\":10000,\"wind\":{\"speed\":2.57,\"deg\":260},\"clouds\":{\"all\":0},\"dt\":1696734765,\"sys\":{\"type\":1,\"id\":6370,\"country\":\"CY\",\"sunrise\":1696736771,\"sunset\":1696778517},\"timezone\":10800,\"id\":146268,\"name\":\"Nicosia\",\"cod\":200}"
          ]
        }
      ]
    },
    {
      "cell_type": "code",
      "source": [
        "url='https://api.coindesk.com/v1/bpi/currentprice.json'\n",
        "\n",
        "response = requests.get(url)\n",
        "\n",
        "print(json.dumps(response.json(), indent=4, sort_keys=True))"
      ],
      "metadata": {
        "colab": {
          "base_uri": "https://localhost:8080/"
        },
        "id": "F9eZNcN9WZsB",
        "outputId": "2dbe2dc1-c29c-4492-c500-86570076dd82"
      },
      "execution_count": 11,
      "outputs": [
        {
          "output_type": "stream",
          "name": "stdout",
          "text": [
            "{\n",
            "    \"bpi\": {\n",
            "        \"EUR\": {\n",
            "            \"code\": \"EUR\",\n",
            "            \"description\": \"Euro\",\n",
            "            \"rate\": \"27,335.2722\",\n",
            "            \"rate_float\": 27335.2722,\n",
            "            \"symbol\": \"&euro;\"\n",
            "        },\n",
            "        \"GBP\": {\n",
            "            \"code\": \"GBP\",\n",
            "            \"description\": \"British Pound Sterling\",\n",
            "            \"rate\": \"23,447.3423\",\n",
            "            \"rate_float\": 23447.3423,\n",
            "            \"symbol\": \"&pound;\"\n",
            "        },\n",
            "        \"USD\": {\n",
            "            \"code\": \"USD\",\n",
            "            \"description\": \"United States Dollar\",\n",
            "            \"rate\": \"28,060.7549\",\n",
            "            \"rate_float\": 28060.7549,\n",
            "            \"symbol\": \"&#36;\"\n",
            "        }\n",
            "    },\n",
            "    \"chartName\": \"Bitcoin\",\n",
            "    \"disclaimer\": \"This data was produced from the CoinDesk Bitcoin Price Index (USD). Non-USD currency data converted using hourly conversion rate from openexchangerates.org\",\n",
            "    \"time\": {\n",
            "        \"updated\": \"Oct 8, 2023 03:13:00 UTC\",\n",
            "        \"updatedISO\": \"2023-10-08T03:13:00+00:00\",\n",
            "        \"updateduk\": \"Oct 8, 2023 at 04:13 BST\"\n",
            "    }\n",
            "}\n"
          ]
        }
      ]
    },
    {
      "cell_type": "code",
      "source": [
        "\n",
        "url='https://swapi.dev/api/'\n",
        "\n",
        "response = requests.get(url)\n",
        "\n",
        "print(json.dumps(response.json(), indent=4, sort_keys=True))\n",
        "\n"
      ],
      "metadata": {
        "id": "Z2px40CZYHHn",
        "colab": {
          "base_uri": "https://localhost:8080/"
        },
        "outputId": "f3d0ddc2-c18a-4de6-b595-a1c7788e5e36"
      },
      "execution_count": 12,
      "outputs": [
        {
          "output_type": "stream",
          "name": "stdout",
          "text": [
            "{\n",
            "    \"films\": \"https://swapi.dev/api/films/\",\n",
            "    \"people\": \"https://swapi.dev/api/people/\",\n",
            "    \"planets\": \"https://swapi.dev/api/planets/\",\n",
            "    \"species\": \"https://swapi.dev/api/species/\",\n",
            "    \"starships\": \"https://swapi.dev/api/starships/\",\n",
            "    \"vehicles\": \"https://swapi.dev/api/vehicles/\"\n",
            "}\n"
          ]
        }
      ]
    }
  ]
}