{
  "nbformat": 4,
  "nbformat_minor": 0,
  "metadata": {
    "colab": {
      "provenance": [],
      "authorship_tag": "ABX9TyMy7DfqON1RA/xzb99irhYB",
      "include_colab_link": true
    },
    "kernelspec": {
      "name": "python3",
      "display_name": "Python 3"
    },
    "language_info": {
      "name": "python"
    }
  },
  "cells": [
    {
      "cell_type": "markdown",
      "metadata": {
        "id": "view-in-github",
        "colab_type": "text"
      },
      "source": [
        "<a href=\"https://colab.research.google.com/github/werowe/HypatiaAcademy/blob/master/class/october_6_2023_api_introduction.ipynb\" target=\"_parent\"><img src=\"https://colab.research.google.com/assets/colab-badge.svg\" alt=\"Open In Colab\"/></a>"
      ]
    },
    {
      "cell_type": "code",
      "execution_count": 3,
      "metadata": {
        "id": "S865BCHsVQaO",
        "colab": {
          "base_uri": "https://localhost:8080/"
        },
        "outputId": "60c83543-f973-4a1a-9ae3-b3f146207ef7"
      },
      "outputs": [
        {
          "output_type": "stream",
          "name": "stdout",
          "text": [
            "{\n",
            "    \"base\": \"stations\",\n",
            "    \"clouds\": {\n",
            "        \"all\": 75\n",
            "    },\n",
            "    \"cod\": 200,\n",
            "    \"coord\": {\n",
            "        \"lat\": 35.1667,\n",
            "        \"lon\": 33.3667\n",
            "    },\n",
            "    \"dt\": 1696947109,\n",
            "    \"id\": 146268,\n",
            "    \"main\": {\n",
            "        \"feels_like\": 297.6,\n",
            "        \"humidity\": 78,\n",
            "        \"pressure\": 1011,\n",
            "        \"temp\": 297.11,\n",
            "        \"temp_max\": 301.14,\n",
            "        \"temp_min\": 296.98\n",
            "    },\n",
            "    \"name\": \"Nicosia\",\n",
            "    \"sys\": {\n",
            "        \"country\": \"CY\",\n",
            "        \"id\": 6370,\n",
            "        \"sunrise\": 1696909668,\n",
            "        \"sunset\": 1696951154,\n",
            "        \"type\": 1\n",
            "    },\n",
            "    \"timezone\": 10800,\n",
            "    \"visibility\": 8000,\n",
            "    \"weather\": [\n",
            "        {\n",
            "            \"description\": \"broken clouds\",\n",
            "            \"icon\": \"04d\",\n",
            "            \"id\": 803,\n",
            "            \"main\": \"Clouds\"\n",
            "        }\n",
            "    ],\n",
            "    \"wind\": {\n",
            "        \"deg\": 260,\n",
            "        \"speed\": 4.12\n",
            "    }\n",
            "}\n",
            "In Nicosia it's hot!!! 29.711000000000002\n"
          ]
        }
      ],
      "source": [
        "# we want to use the json and request Python packages\n",
        "\n",
        "\n",
        "import json\n",
        "\n",
        "\n",
        "# requests does get, post, delete\n",
        "\n",
        "import requests\n",
        "\n",
        "url = \"http://api.openweathermap.org/data/2.5/weather?\"\n",
        "\n",
        "# query line parameters\n",
        "\n",
        "params = {'lat': 35.17,\n",
        "               'lon': 33.37,\n",
        "               'appid' : '91d1fc2871fedb0a0d70b09b77963b9b'}\n",
        "\n",
        "\n",
        "response = requests.get(url, params=params)\n",
        "\n",
        "print(json.dumps(response.json(), indent=4, sort_keys=True))\n",
        "\n",
        "print(\"In Nicosia it's hot!!!\", response.json()['main']['temp']/10 )"
      ]
    },
    {
      "cell_type": "code",
      "source": [
        "'''\n",
        "\n",
        "API means Application Programming Interface\n",
        "\n",
        "\n",
        "\n",
        "API operations\n",
        "\n",
        "* GET.  get information\n",
        "* POST.  write information\n",
        "* DELETE.  delete information\n",
        "\n",
        "parameters.  http://foo.com/api?name=walker\n",
        "\n",
        "JSON Body\n",
        "\n",
        "URI.  URL http://foo.com\n",
        "      URI /api\n",
        "\n",
        "Different ways to get data:\n",
        "\n",
        "1.  URL with parameters\n",
        "2.  URL with no parameters\n",
        "\n",
        "to put data meaning write data:\n",
        "\n",
        "JSON object\n",
        "\n",
        "\n",
        "\n",
        "\n",
        "\n",
        "\n",
        "\n",
        "\n",
        "'''\n",
        "\n",
        "response.json()\n",
        "\n"
      ],
      "metadata": {
        "id": "nz0593yD67jL",
        "outputId": "a8c65f13-10e5-4700-9b22-eb4ae211f041",
        "colab": {
          "base_uri": "https://localhost:8080/"
        }
      },
      "execution_count": 8,
      "outputs": [
        {
          "output_type": "execute_result",
          "data": {
            "text/plain": [
              "{'coord': {'lon': 33.3667, 'lat': 35.1667},\n",
              " 'weather': [{'id': 803,\n",
              "   'main': 'Clouds',\n",
              "   'description': 'broken clouds',\n",
              "   'icon': '04d'}],\n",
              " 'base': 'stations',\n",
              " 'main': {'temp': 297.11,\n",
              "  'feels_like': 297.6,\n",
              "  'temp_min': 296.98,\n",
              "  'temp_max': 301.14,\n",
              "  'pressure': 1011,\n",
              "  'humidity': 78},\n",
              " 'visibility': 8000,\n",
              " 'wind': {'speed': 4.12, 'deg': 260},\n",
              " 'clouds': {'all': 75},\n",
              " 'dt': 1696947109,\n",
              " 'sys': {'type': 1,\n",
              "  'id': 6370,\n",
              "  'country': 'CY',\n",
              "  'sunrise': 1696909668,\n",
              "  'sunset': 1696951154},\n",
              " 'timezone': 10800,\n",
              " 'id': 146268,\n",
              " 'name': 'Nicosia',\n",
              " 'cod': 200}"
            ]
          },
          "metadata": {},
          "execution_count": 8
        }
      ]
    },
    {
      "cell_type": "code",
      "source": [
        "response.json()['coord']"
      ],
      "metadata": {
        "id": "sqspnLlN658L",
        "outputId": "12d675cf-0311-4b40-9f2e-8e75fa9be04b",
        "colab": {
          "base_uri": "https://localhost:8080/"
        }
      },
      "execution_count": 9,
      "outputs": [
        {
          "output_type": "execute_result",
          "data": {
            "text/plain": [
              "{'lon': 33.3667, 'lat': 35.1667}"
            ]
          },
          "metadata": {},
          "execution_count": 9
        }
      ]
    },
    {
      "cell_type": "code",
      "source": [],
      "metadata": {
        "id": "jUqJJ-Br64gd"
      },
      "execution_count": null,
      "outputs": []
    },
    {
      "cell_type": "code",
      "source": [
        "import json\n",
        "\n",
        "import requests\n",
        "\n",
        "\n",
        "url='https://jsonplaceholder.typicode.com/posts'\n",
        "\n",
        "body={\n",
        "    'title': 'foo',\n",
        "    'body': 'bar',\n",
        "    'userId': 1,\n",
        "    'silly': 'me',\n",
        "    'pet': 'dog'\n",
        "  }\n",
        "\n",
        "\n",
        "# request(url,data)\n",
        "# the other one the get said:  response = requests.get(url, params=params)\n",
        "\n",
        "response = requests.post(url, data=body)\n",
        "\n",
        "response.json()\n",
        "\n",
        "\n"
      ],
      "metadata": {
        "id": "AlnthtPOSUEZ",
        "colab": {
          "base_uri": "https://localhost:8080/"
        },
        "outputId": "a99b882a-dd10-4ed0-dfd7-eb7f37421be3"
      },
      "execution_count": 11,
      "outputs": [
        {
          "output_type": "stream",
          "name": "stdout",
          "text": [
            "201\n"
          ]
        }
      ]
    },
    {
      "cell_type": "markdown",
      "source": [
        "http://api.openweathermap.org/data/2.5/weather?lat=35.17&lon=33.37&appid=91d1fc2871fedb0a0d70b09b77963b9b\n",
        "\n",
        "http://api.openweathermap.org/data/2.5/weather?lat%3D35.17%26lon%3D33.37%26appid%3D91d1fc2871fedb0a0d70b09b77963b9b"
      ],
      "metadata": {
        "id": "S_PuAu2MRqBL"
      }
    },
    {
      "cell_type": "code",
      "source": [
        "!curl -XGET 'http://api.openweathermap.org/data/2.5/weather?lat=35.17&lon=33.37&appid=91d1fc2871fedb0a0d70b09b77963b9b'\n"
      ],
      "metadata": {
        "id": "jzC8CPkNcGrr",
        "colab": {
          "base_uri": "https://localhost:8080/"
        },
        "outputId": "92408710-5d24-4d47-f3c7-3c2d80415fb5"
      },
      "execution_count": null,
      "outputs": [
        {
          "output_type": "stream",
          "name": "stdout",
          "text": [
            "{\"coord\":{\"lon\":33.37,\"lat\":35.17},\"weather\":[{\"id\":800,\"main\":\"Clear\",\"description\":\"clear sky\",\"icon\":\"01n\"}],\"base\":\"stations\",\"main\":{\"temp\":292.02,\"feels_like\":292.1,\"temp_min\":292.02,\"temp_max\":293.24,\"pressure\":1015,\"humidity\":82},\"visibility\":10000,\"wind\":{\"speed\":2.57,\"deg\":260},\"clouds\":{\"all\":0},\"dt\":1696734765,\"sys\":{\"type\":1,\"id\":6370,\"country\":\"CY\",\"sunrise\":1696736771,\"sunset\":1696778517},\"timezone\":10800,\"id\":146268,\"name\":\"Nicosia\",\"cod\":200}"
          ]
        }
      ]
    },
    {
      "cell_type": "code",
      "source": [
        "url='https://api.coindesk.com/v1/bpi/currentprice.json'\n",
        "\n",
        "\n",
        "# the weather one:\n",
        "\n",
        "# requests.get(url, params=params)\n",
        "\n",
        "response = requests.get(url)\n",
        "\n",
        "# pretty print\n",
        "# means put indents.  make it easy to ready\n",
        "\n",
        "print(json.dumps(response.json(), indent=4, sort_keys=True))"
      ],
      "metadata": {
        "colab": {
          "base_uri": "https://localhost:8080/"
        },
        "id": "F9eZNcN9WZsB",
        "outputId": "dc8316ff-5033-4f17-b98a-964cace943bd"
      },
      "execution_count": 12,
      "outputs": [
        {
          "output_type": "stream",
          "name": "stdout",
          "text": [
            "{\n",
            "    \"bpi\": {\n",
            "        \"EUR\": {\n",
            "            \"code\": \"EUR\",\n",
            "            \"description\": \"Euro\",\n",
            "            \"rate\": \"26,872.9412\",\n",
            "            \"rate_float\": 26872.9412,\n",
            "            \"symbol\": \"&euro;\"\n",
            "        },\n",
            "        \"GBP\": {\n",
            "            \"code\": \"GBP\",\n",
            "            \"description\": \"British Pound Sterling\",\n",
            "            \"rate\": \"23,050.7693\",\n",
            "            \"rate_float\": 23050.7693,\n",
            "            \"symbol\": \"&pound;\"\n",
            "        },\n",
            "        \"USD\": {\n",
            "            \"code\": \"USD\",\n",
            "            \"description\": \"United States Dollar\",\n",
            "            \"rate\": \"27,586.1536\",\n",
            "            \"rate_float\": 27586.1536,\n",
            "            \"symbol\": \"&#36;\"\n",
            "        }\n",
            "    },\n",
            "    \"chartName\": \"Bitcoin\",\n",
            "    \"disclaimer\": \"This data was produced from the CoinDesk Bitcoin Price Index (USD). Non-USD currency data converted using hourly conversion rate from openexchangerates.org\",\n",
            "    \"time\": {\n",
            "        \"updated\": \"Oct 10, 2023 14:29:00 UTC\",\n",
            "        \"updatedISO\": \"2023-10-10T14:29:00+00:00\",\n",
            "        \"updateduk\": \"Oct 10, 2023 at 15:29 BST\"\n",
            "    }\n",
            "}\n"
          ]
        }
      ]
    },
    {
      "cell_type": "code",
      "source": [
        "\n",
        "# this looks up stuff based upon the URL\n",
        "\n",
        "url='https://swapi.dev/api/planets/1'\n",
        "\n",
        "url='https://swapi.dev/api/people/1/'\n",
        "\n",
        "response = requests.get(url)\n",
        "\n",
        "print(json.dumps(response.json(), indent=4, sort_keys=True))\n",
        "\n",
        "\n",
        "'''\n",
        "\n",
        "{\n",
        "    \"films\": \"https://swapi.dev/api/films/\",\n",
        "    \"people\": \"https://swapi.dev/api/people/\",\n",
        "    \"planets\": \"https://swapi.dev/api/planets/\",\n",
        "    \"species\": \"https://swapi.dev/api/species/\",\n",
        "    \"starships\": \"https://swapi.dev/api/starships/\",\n",
        "    \"vehicles\": \"https://swapi.dev/api/vehicles/\"\n",
        "}\n",
        "\n",
        "'''\n",
        "\n"
      ],
      "metadata": {
        "id": "Z2px40CZYHHn",
        "colab": {
          "base_uri": "https://localhost:8080/",
          "height": 589
        },
        "outputId": "72072350-a356-459c-af6a-b4bc75900adb"
      },
      "execution_count": 15,
      "outputs": [
        {
          "output_type": "stream",
          "name": "stdout",
          "text": [
            "{\n",
            "    \"birth_year\": \"19BBY\",\n",
            "    \"created\": \"2014-12-09T13:50:51.644000Z\",\n",
            "    \"edited\": \"2014-12-20T21:17:56.891000Z\",\n",
            "    \"eye_color\": \"blue\",\n",
            "    \"films\": [\n",
            "        \"https://swapi.dev/api/films/1/\",\n",
            "        \"https://swapi.dev/api/films/2/\",\n",
            "        \"https://swapi.dev/api/films/3/\",\n",
            "        \"https://swapi.dev/api/films/6/\"\n",
            "    ],\n",
            "    \"gender\": \"male\",\n",
            "    \"hair_color\": \"blond\",\n",
            "    \"height\": \"172\",\n",
            "    \"homeworld\": \"https://swapi.dev/api/planets/1/\",\n",
            "    \"mass\": \"77\",\n",
            "    \"name\": \"Luke Skywalker\",\n",
            "    \"skin_color\": \"fair\",\n",
            "    \"species\": [],\n",
            "    \"starships\": [\n",
            "        \"https://swapi.dev/api/starships/12/\",\n",
            "        \"https://swapi.dev/api/starships/22/\"\n",
            "    ],\n",
            "    \"url\": \"https://swapi.dev/api/people/1/\",\n",
            "    \"vehicles\": [\n",
            "        \"https://swapi.dev/api/vehicles/14/\",\n",
            "        \"https://swapi.dev/api/vehicles/30/\"\n",
            "    ]\n",
            "}\n"
          ]
        },
        {
          "output_type": "execute_result",
          "data": {
            "text/plain": [
              "'\\n\\n{\\n    \"films\": \"https://swapi.dev/api/films/\",\\n    \"people\": \"https://swapi.dev/api/people/\",\\n    \"planets\": \"https://swapi.dev/api/planets/\",\\n    \"species\": \"https://swapi.dev/api/species/\",\\n    \"starships\": \"https://swapi.dev/api/starships/\",\\n    \"vehicles\": \"https://swapi.dev/api/vehicles/\"\\n}\\n\\n'"
            ],
            "application/vnd.google.colaboratory.intrinsic+json": {
              "type": "string"
            }
          },
          "metadata": {},
          "execution_count": 15
        }
      ]
    }
  ]
}