{
  "nbformat": 4,
  "nbformat_minor": 0,
  "metadata": {
    "colab": {
      "provenance": [],
      "authorship_tag": "ABX9TyMYR2DFL51DPQeacjIit/z+",
      "include_colab_link": true
    },
    "kernelspec": {
      "name": "python3",
      "display_name": "Python 3"
    },
    "language_info": {
      "name": "python"
    }
  },
  "cells": [
    {
      "cell_type": "markdown",
      "metadata": {
        "id": "view-in-github",
        "colab_type": "text"
      },
      "source": [
        "<a href=\"https://colab.research.google.com/github/werowe/HypatiaAcademy/blob/master/class/october_6_2023_api_introduction.ipynb\" target=\"_parent\"><img src=\"https://colab.research.google.com/assets/colab-badge.svg\" alt=\"Open In Colab\"/></a>"
      ]
    },
    {
      "cell_type": "code",
      "execution_count": null,
      "metadata": {
        "id": "S865BCHsVQaO"
      },
      "outputs": [],
      "source": [
        "import json\n",
        "\n",
        "import requests\n",
        "\n",
        "url = \"http://api.openweathermap.org/data/2.5/weather?\"\n",
        "\n",
        "params = {'lat': 35.17,\n",
        "               'lon': 33.37,\n",
        "               'appid' : '91d1fc2871fedb0a0d70b09b77963b9b'}\n",
        "\n",
        "\n",
        "response = requests.get(url, params=params)\n",
        "\n",
        "print(json.dumps(response.json(), indent=4, sort_keys=True))\n",
        "\n",
        "print(\"In Nicosia it's hot!!!\", response.json()['main']['temp']/10 )"
      ]
    },
    {
      "cell_type": "code",
      "source": [
        "import json\n",
        "\n",
        "import requests\n",
        "\n",
        "\n",
        "url='https://jsonplaceholder.typicode.com/posts'\n",
        "\n",
        "body={\n",
        "    'title': 'foo',\n",
        "    'body': 'bar',\n",
        "    'userId': 1,\n",
        "    'silly': 'me'\n",
        "  }\n",
        "\n",
        "\n",
        "response = requests.post(url, data=body)\n",
        "\n",
        "response.json()\n",
        "\n",
        ""
      ],
      "metadata": {
        "id": "AlnthtPOSUEZ"
      },
      "execution_count": null,
      "outputs": []
    },
    {
      "cell_type": "code",
      "source": [
        "http://api.openweathermap.org/data/2.5/weather?lat=35.17&lon=33.37&appid=91d1fc2871fedb0a0d70b09b77963b9b\n",
        "\n",
        "http://api.openweathermap.org/data/2.5/weather?lat%3D35.17%26lon%3D33.37%26appid%3A91d1fc2871fedb0a0d70b09b77963b9b\n",
        "\n"
      ],
      "metadata": {
        "id": "F7xbbg3NbHEL"
      },
      "execution_count": null,
      "outputs": []
    },
    {
      "cell_type": "code",
      "source": [
        "!curl -XGET 'http://api.openweathermap.org/data/2.5/weather?lat=35.17&lon=33.37&appid=91d1fc2871fedb0a0d70b09b77963b9b'\n"
      ],
      "metadata": {
        "id": "jzC8CPkNcGrr"
      },
      "execution_count": null,
      "outputs": []
    },
    {
      "cell_type": "code",
      "source": [
        "url='https://api.coindesk.com/v1/bpi/currentprice.json'\n",
        "\n",
        "url='https://api.coindesk.com/v1/bpi/currentprice/EUR.json'\n",
        "\n",
        "response = requests.get(url)\n",
        "\n",
        "print(response.json())\n",
        "\n"
      ],
      "metadata": {
        "id": "Z2px40CZYHHn"
      },
      "execution_count": null,
      "outputs": []
    }
  ]
}