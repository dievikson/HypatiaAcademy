{
  "nbformat": 4,
  "nbformat_minor": 0,
  "metadata": {
    "colab": {
      "provenance": [],
      "authorship_tag": "ABX9TyMh0YdBsV6s/1QU0f7bDGCB",
      "include_colab_link": true
    },
    "kernelspec": {
      "name": "python3",
      "display_name": "Python 3"
    },
    "language_info": {
      "name": "python"
    }
  },
  "cells": [
    {
      "cell_type": "markdown",
      "metadata": {
        "id": "view-in-github",
        "colab_type": "text"
      },
      "source": [
        "<a href=\"https://colab.research.google.com/github/werowe/HypatiaAcademy/blob/master/class/october_31_2023_data_types_operators_if_test.ipynb\" target=\"_parent\"><img src=\"https://colab.research.google.com/assets/colab-badge.svg\" alt=\"Open In Colab\"/></a>"
      ]
    },
    {
      "cell_type": "code",
      "execution_count": 1,
      "metadata": {
        "id": "DMZp5PZpc2n3"
      },
      "outputs": [],
      "source": [
        "# data types\n",
        "\n",
        "# operators\n",
        "\n",
        "# if\n",
        "\n",
        "# == test\n",
        "\n"
      ]
    },
    {
      "cell_type": "code",
      "source": [
        "# integer 1,2,3,0,-1,-2\n",
        "\n",
        "i=1\n",
        "\n",
        "print(i, type(i))\n",
        "\n"
      ],
      "metadata": {
        "colab": {
          "base_uri": "https://localhost:8080/"
        },
        "id": "SWilzWltltof",
        "outputId": "cae04c1c-a15c-4a60-efa2-25a7d7269675"
      },
      "execution_count": 3,
      "outputs": [
        {
          "output_type": "stream",
          "name": "stdout",
          "text": [
            "1 <class 'int'>\n"
          ]
        }
      ]
    },
    {
      "cell_type": "code",
      "source": [
        "# floating point numbers are the same as decimal numbers\n",
        "\n",
        "# 3.27\n",
        "\n",
        "j=3.27\n",
        "\n",
        "print(j, type(j))\n"
      ],
      "metadata": {
        "colab": {
          "base_uri": "https://localhost:8080/"
        },
        "id": "TGvCsHMQl5pu",
        "outputId": "3a2ae9c7-20b9-4ac5-d0ec-05916e693c26"
      },
      "execution_count": 4,
      "outputs": [
        {
          "output_type": "stream",
          "name": "stdout",
          "text": [
            "3.27 <class 'float'>\n"
          ]
        }
      ]
    },
    {
      "cell_type": "code",
      "source": [
        "# a string is just text\n",
        "\n",
        "students = \"oleksandr-ilias\"\n",
        "\n",
        "print(students, type(students))\n"
      ],
      "metadata": {
        "colab": {
          "base_uri": "https://localhost:8080/"
        },
        "id": "pXpwTcK4mJC1",
        "outputId": "7df8264d-4428-4a7a-d3c8-143d0a1d0251"
      },
      "execution_count": 5,
      "outputs": [
        {
          "output_type": "stream",
          "name": "stdout",
          "text": [
            "oleksandr-ilias <class 'str'>\n"
          ]
        }
      ]
    },
    {
      "cell_type": "code",
      "source": [
        "d=\"123\"\n",
        "\n",
        "print(d, type(d))\n",
        "\n",
        "e=int(d)\n",
        "\n",
        "print(e, type(e))\n",
        "\n",
        "\n"
      ],
      "metadata": {
        "colab": {
          "base_uri": "https://localhost:8080/"
        },
        "id": "FO72mVbgmXAu",
        "outputId": "bb8c84ac-58cd-4de2-86a6-6f641b3d5731"
      },
      "execution_count": 8,
      "outputs": [
        {
          "output_type": "stream",
          "name": "stdout",
          "text": [
            "123 <class 'str'>\n",
            "123 <class 'int'>\n"
          ]
        }
      ]
    },
    {
      "cell_type": "code",
      "source": [
        "f=\"12.47\"\n",
        "\n",
        "# use the float function to convert to a floating point number\n",
        "\n",
        "# in 12.47 the decimal point is the dot (.).  they call it floating point number\n",
        "g=float(f)\n",
        "print(g, type(g))\n"
      ],
      "metadata": {
        "colab": {
          "base_uri": "https://localhost:8080/"
        },
        "id": "y6igGxWrmy6V",
        "outputId": "bc77d964-1649-4c1f-dfff-0430008d935c"
      },
      "execution_count": 10,
      "outputs": [
        {
          "output_type": "stream",
          "name": "stdout",
          "text": [
            "12.47 <class 'float'>\n"
          ]
        }
      ]
    },
    {
      "cell_type": "code",
      "source": [
        "\n",
        "i=17\n",
        "\n",
        "# put if\n",
        "# but some statement inside parantheses ()\n",
        "# put color (:) at the end\n",
        "# on the next line you put two, space, which we can call indent\n",
        "\n",
        "if (i>13):\n",
        "  print(\"ilias is teenger\")\n",
        "\n",
        "\n",
        "# it's on the left, no spaces in front.  so it's another atatement\n",
        "\n",
        "print(\"something else\")\n",
        "\n"
      ],
      "metadata": {
        "colab": {
          "base_uri": "https://localhost:8080/"
        },
        "id": "Y2C2Vi3mnI2p",
        "outputId": "f02e27aa-83fc-4e7e-fce4-50fb3b63a547"
      },
      "execution_count": 13,
      "outputs": [
        {
          "output_type": "stream",
          "name": "stdout",
          "text": [
            "ilias is teenger\n",
            "something else\n"
          ]
        }
      ]
    },
    {
      "cell_type": "code",
      "source": [
        "o=8\n",
        "\n",
        "# see if o < 10\n",
        "if (o < 10):\n",
        "  print(\"o is child\")\n",
        "# do this is o is not < 10\n",
        "else:\n",
        "  print(\"o is older than a child\")\n",
        "\n",
        "\n",
        "if (o < 10):\n",
        "  print(\"other way o is < 10\")\n",
        "\n",
        "if (o > 10):\n",
        "  print(\"o is > 10\")\n",
        "\n",
        "# == means test, that means check see if something is true\n",
        "if (o == 10):\n",
        "  print(\"o is > 10\")"
      ],
      "metadata": {
        "colab": {
          "base_uri": "https://localhost:8080/"
        },
        "id": "kwGV6BhYn9Hy",
        "outputId": "e12bbdab-c27a-47fa-94b9-ce96590a9333"
      },
      "execution_count": 15,
      "outputs": [
        {
          "output_type": "stream",
          "name": "stdout",
          "text": [
            "o is child\n"
          ]
        }
      ]
    },
    {
      "cell_type": "code",
      "source": [
        "o=10\n",
        "\n",
        "# check if is o is 10\n",
        "o == 10\n",
        "\n",
        "# check if o is bigger than OR equal to 10\n",
        "\n",
        "o >= 10\n"
      ],
      "metadata": {
        "colab": {
          "base_uri": "https://localhost:8080/"
        },
        "id": "wC8di6rApTTe",
        "outputId": "22332f5a-f213-4b9a-b159-2655153883ac"
      },
      "execution_count": 19,
      "outputs": [
        {
          "output_type": "execute_result",
          "data": {
            "text/plain": [
              "True"
            ]
          },
          "metadata": {},
          "execution_count": 19
        }
      ]
    },
    {
      "cell_type": "code",
      "source": [
        "# data type is boolean\n",
        "\n",
        "t=True\n",
        "\n",
        "f=False\n",
        "\n",
        "print(t, type(t))\n",
        "print(f, type(f))\n"
      ],
      "metadata": {
        "colab": {
          "base_uri": "https://localhost:8080/"
        },
        "id": "awEc4iD-ptF4",
        "outputId": "45138d78-dcd1-42c8-e0cf-862d6527b5cb"
      },
      "execution_count": 22,
      "outputs": [
        {
          "output_type": "stream",
          "name": "stdout",
          "text": [
            "True <class 'bool'>\n",
            "False <class 'bool'>\n"
          ]
        }
      ]
    },
    {
      "cell_type": "code",
      "source": [
        "# here we change o\n",
        "\n",
        "# here we assign the value 8 to o\n",
        "\n",
        "o=8\n",
        "\n",
        "# double equal tests whether something is true\n",
        "\n",
        "if (o == 8):\n",
        "  print(\"o is equal 8\")\n",
        "\n",
        "o==8\n"
      ],
      "metadata": {
        "colab": {
          "base_uri": "https://localhost:8080/"
        },
        "id": "rQVcCAGVqMZB",
        "outputId": "24701a4c-a892-40b2-b4df-d0b846c27a70"
      },
      "execution_count": 23,
      "outputs": [
        {
          "output_type": "stream",
          "name": "stdout",
          "text": [
            "o is equal 8\n"
          ]
        },
        {
          "output_type": "execute_result",
          "data": {
            "text/plain": [
              "True"
            ]
          },
          "metadata": {},
          "execution_count": 23
        }
      ]
    },
    {
      "cell_type": "code",
      "source": [
        "# boolean is something that is true or false\n",
        "\n",
        "print(o, \"check equals\", o==8, \" show type of data\", type(o==8))\n"
      ],
      "metadata": {
        "colab": {
          "base_uri": "https://localhost:8080/"
        },
        "id": "FtOvCLTZrMQz",
        "outputId": "40623215-03c7-4286-b678-762405092824"
      },
      "execution_count": 26,
      "outputs": [
        {
          "output_type": "stream",
          "name": "stdout",
          "text": [
            "8 check equals True  show type of data <class 'bool'>\n"
          ]
        }
      ]
    },
    {
      "cell_type": "code",
      "source": [
        "-1 > -2\n"
      ],
      "metadata": {
        "colab": {
          "base_uri": "https://localhost:8080/"
        },
        "id": "KE2kHJl8qvlu",
        "outputId": "57def41f-90c8-4ac5-8100-84526be3b6b3"
      },
      "execution_count": 24,
      "outputs": [
        {
          "output_type": "execute_result",
          "data": {
            "text/plain": [
              "True"
            ]
          },
          "metadata": {},
          "execution_count": 24
        }
      ]
    },
    {
      "cell_type": "code",
      "source": [
        "(1==1==1)"
      ],
      "metadata": {
        "colab": {
          "base_uri": "https://localhost:8080/"
        },
        "id": "wdSsTpWPq0o6",
        "outputId": "a69c350f-b0a7-4784-973b-ab12c3eca44a"
      },
      "execution_count": 25,
      "outputs": [
        {
          "output_type": "execute_result",
          "data": {
            "text/plain": [
              "True"
            ]
          },
          "metadata": {},
          "execution_count": 25
        }
      ]
    },
    {
      "cell_type": "code",
      "source": [
        "# homework\n",
        "\n",
        "# tell me whether each of these it true of false\n",
        "\n",
        "f=4\n",
        "\n",
        "# true or false\n",
        "f==4\n",
        "\n",
        "f>-4\n",
        "\n",
        "\n",
        "# what will this say?\n",
        "\n",
        "type(f>-4)\n",
        "\n",
        "\n",
        "\n"
      ],
      "metadata": {
        "id": "oBrspZ_5q6HS"
      },
      "execution_count": null,
      "outputs": []
    }
  ]
}