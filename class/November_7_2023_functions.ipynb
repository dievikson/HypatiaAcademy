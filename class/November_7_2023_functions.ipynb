{
  "nbformat": 4,
  "nbformat_minor": 0,
  "metadata": {
    "colab": {
      "provenance": [],
      "authorship_tag": "ABX9TyO2ezuBjHfBJA92LL9gp4Wg",
      "include_colab_link": true
    },
    "kernelspec": {
      "name": "python3",
      "display_name": "Python 3"
    },
    "language_info": {
      "name": "python"
    }
  },
  "cells": [
    {
      "cell_type": "markdown",
      "metadata": {
        "id": "view-in-github",
        "colab_type": "text"
      },
      "source": [
        "<a href=\"https://colab.research.google.com/github/werowe/HypatiaAcademy/blob/master/class/November_7_2023_functions.ipynb\" target=\"_parent\"><img src=\"https://colab.research.google.com/assets/colab-badge.svg\" alt=\"Open In Colab\"/></a>"
      ]
    },
    {
      "cell_type": "code",
      "execution_count": 1,
      "metadata": {
        "colab": {
          "base_uri": "https://localhost:8080/"
        },
        "id": "1rZdYbJJoIES",
        "outputId": "6ccfd0e8-d1c3-46b4-caa4-d74c8c35ef06"
      },
      "outputs": [
        {
          "output_type": "stream",
          "name": "stdout",
          "text": [
            "Oleksii\n"
          ]
        }
      ],
      "source": [
        "# review\n",
        "\n",
        "\n",
        "# addition\n",
        "\n",
        "3+4\n",
        "\n",
        "# division\n",
        "\n",
        "3 / 4\n",
        "\n",
        "\n",
        "# multiplication, asterisk\n",
        "\n",
        "3 * 4\n",
        "\n",
        "\n",
        "x=\"Oleksii\"\n",
        "\n",
        "print(x)\n",
        "\n",
        "# subtraction\n",
        "\n",
        "3 - 4\n",
        "\n",
        "\n"
      ]
    },
    {
      "cell_type": "code",
      "source": [
        "# data types\n",
        "\n",
        "# integer 0, 1 , 2, 3 , 4 , 5\n",
        "# also -4, -3 , -2 , -1\n",
        "\n",
        "a=1\n",
        "\n",
        "print(\"a=\", a)\n",
        "\n",
        "\n",
        "print(\"twice 2 =\", a * 2)\n",
        "\n",
        "print(\"what types is a\", a, type(a))\n"
      ],
      "metadata": {
        "colab": {
          "base_uri": "https://localhost:8080/"
        },
        "id": "OpPQhKxQouFE",
        "outputId": "b3663628-40d5-4ef3-b611-4feb12bb7233"
      },
      "execution_count": 6,
      "outputs": [
        {
          "output_type": "stream",
          "name": "stdout",
          "text": [
            "a= 1\n",
            "twice 2 = 2\n",
            "what types is a 1 <class 'int'>\n"
          ]
        }
      ]
    },
    {
      "cell_type": "code",
      "source": [
        "# floating point numbers are called decimal numbers in math class\n",
        "\n",
        "b=3.5\n",
        "\n",
        "type(3.5)\n",
        "\n",
        "\n",
        "print(\"5/3=\", 5/3, \" what data type is it? \", type( 5 / 3))\n"
      ],
      "metadata": {
        "colab": {
          "base_uri": "https://localhost:8080/"
        },
        "id": "OBla4szBpS1A",
        "outputId": "c20db954-c440-4e53-f0e4-94c39205224d"
      },
      "execution_count": 8,
      "outputs": [
        {
          "output_type": "stream",
          "name": "stdout",
          "text": [
            "5/3= 1.6666666666666667  what data type is it?  <class 'float'>\n"
          ]
        }
      ]
    },
    {
      "cell_type": "code",
      "source": [
        "from re import T\n",
        "# boolean\n",
        "\n",
        "# is logic\n",
        "\n",
        "f=False\n",
        "t=True\n",
        "\n",
        "\n",
        "3 > 2\n",
        "\n",
        "g=3 > 2\n",
        "\n",
        "print(g)\n",
        "\n",
        "\n",
        "# double equal sign mean like a==b means test if a is equal to b\n",
        "\n",
        "\n",
        "4==4\n",
        "\n",
        "type(4==4)\n"
      ],
      "metadata": {
        "colab": {
          "base_uri": "https://localhost:8080/"
        },
        "id": "8ab6leX3qBmR",
        "outputId": "5aa8ec9a-53c9-46bd-f422-4ee1d91385ce"
      },
      "execution_count": 12,
      "outputs": [
        {
          "output_type": "stream",
          "name": "stdout",
          "text": [
            "True\n"
          ]
        },
        {
          "output_type": "execute_result",
          "data": {
            "text/plain": [
              "bool"
            ]
          },
          "metadata": {},
          "execution_count": 12
        }
      ]
    },
    {
      "cell_type": "code",
      "source": [
        "# strings also known as characters or text\n",
        "\n",
        "w=\"walker\"\n",
        "\n",
        "o=\"oleksander\"\n",
        "\n",
        "\n",
        "# adding two strings is called concatenation\n",
        "\n",
        "\n",
        "print(w+ \" \" + o)\n",
        "\n",
        "print(\"how many letters are in Oleksander\", len(o))\n"
      ],
      "metadata": {
        "colab": {
          "base_uri": "https://localhost:8080/"
        },
        "id": "hri1seEvqqwr",
        "outputId": "7eda3c3d-3fcf-4453-835c-0a55da5fa0f1"
      },
      "execution_count": 16,
      "outputs": [
        {
          "output_type": "stream",
          "name": "stdout",
          "text": [
            "walker oleksander\n",
            "how many letters are in Oleksander 10\n"
          ]
        }
      ]
    },
    {
      "cell_type": "code",
      "source": [
        "# this is a math function\n",
        "# algebra\n",
        "\n",
        "# f(x)=2 * x\n",
        "\n",
        "# a function takes some input and creates an output\n",
        "\n",
        "# f(2)= 2 * 2 = 4\n",
        "\n",
        "# to make a python function use the word def, which means define function\n",
        "\n",
        "# use () parantheses which are the value that goes in\n",
        "\n",
        "# use return which is the value that comes out\n",
        "\n",
        "\n",
        "def f(x):\n",
        "  return 2 * x\n",
        "\n",
        "\n",
        "# this took the value 2 and sent it into the function f which returned 2 * 2\n",
        "\n",
        "f(2)\n"
      ],
      "metadata": {
        "colab": {
          "base_uri": "https://localhost:8080/"
        },
        "id": "wWc-znEErTr-",
        "outputId": "1bb55333-8a13-46a5-d889-444efbe542a8"
      },
      "execution_count": 19,
      "outputs": [
        {
          "output_type": "execute_result",
          "data": {
            "text/plain": [
              "4"
            ]
          },
          "metadata": {},
          "execution_count": 19
        }
      ]
    },
    {
      "cell_type": "markdown",
      "source": [
        "\n",
        "# Homework\n",
        "\n",
        "* Write a function to mutiply a number by 3\n",
        "\n",
        "* Write a function to add 3 to a number\n",
        "\n",
        "\n",
        "\n"
      ],
      "metadata": {
        "id": "cijU2dCasXyh"
      }
    }
  ]
}