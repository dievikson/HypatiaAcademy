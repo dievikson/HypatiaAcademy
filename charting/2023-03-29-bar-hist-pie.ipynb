{
 "cells": [
  {
   "cell_type": "code",
   "execution_count": 4,
   "id": "ef4db611",
   "metadata": {},
   "outputs": [
    {
     "name": "stdout",
     "output_type": "stream",
     "text": [
      "[[1 4]\n",
      " [2 3]\n",
      " [3 6]\n",
      " [4 8]]\n"
     ]
    },
    {
     "data": {
      "text/plain": [
       "<BarContainer object of 4 artists>"
      ]
     },
     "execution_count": 4,
     "metadata": {},
     "output_type": "execute_result"
    },
    {
     "data": {
      "image/png": "[encoded data removed]",
      "text/plain": [
       "<Figure size 640x480 with 1 Axes>"
      ]
     },
     "metadata": {},
     "output_type": "display_data"
    }
   ],
   "source": [
    "import numpy as np\n",
    "import matplotlib.pyplot as plt\n",
    "\n",
    "x = np.array([1,1,1,1,2,2,2,3,3,3,3,3,3,4,4,4,4,4,4,4,4])\n",
    "\n",
    "a, cnts = np.unique(x, return_counts=True)\n",
    "plt.bar(a,cnts)\n",
    "\n",
    "print(np.column_stack([a,cnts]))\n",
    "# Create the bar chart\n",
    "plt.bar(a, cnts, edgecolor='black')"
   ]
  },
  {
   "cell_type": "code",
   "execution_count": 5,
   "id": "86d5b4f6",
   "metadata": {},
   "outputs": [],
   "source": [
    "a, cnts = np.unique(x, return_counts=True)"
   ]
  },
  {
   "cell_type": "code",
   "execution_count": 7,
   "id": "d17d0f10",
   "metadata": {},
   "outputs": [
    {
     "data": {
      "text/plain": [
       "(array([1, 2, 3, 4]), array([4, 3, 6, 8]))"
      ]
     },
     "execution_count": 7,
     "metadata": {},
     "output_type": "execute_result"
    }
   ],
   "source": [
    "a,cnts"
   ]
  },
  {
   "cell_type": "code",
   "execution_count": 8,
   "id": "d735b3a3",
   "metadata": {},
   "outputs": [
    {
     "data": {
      "text/plain": [
       "array([[1, 4],\n",
       "       [2, 3],\n",
       "       [3, 6],\n",
       "       [4, 8]])"
      ]
     },
     "execution_count": 8,
     "metadata": {},
     "output_type": "execute_result"
    }
   ],
   "source": [
    "np.column_stack([a,cnts])"
   ]
  },
  {
   "cell_type": "code",
   "execution_count": 10,
   "id": "83fc4b13",
   "metadata": {},
   "outputs": [
    {
     "data": {
      "text/plain": [
       "([<matplotlib.patches.Wedge at 0x109cd65f0>,\n",
       "  <matplotlib.patches.Wedge at 0x109cd6500>,\n",
       "  <matplotlib.patches.Wedge at 0x109cd6d70>,\n",
       "  <matplotlib.patches.Wedge at 0x109cd7280>],\n",
       " [Text(0.9088626448409262, 0.6196520740002058, ''),\n",
       "  Text(-0.08220314940524794, 1.096924173417588, ''),\n",
       "  Text(-1.0877139256592978, 0.16394638125570068, ''),\n",
       "  Text(0.40187529571711916, -1.0239610572147155, '')])"
      ]
     },
     "execution_count": 10,
     "metadata": {},
     "output_type": "execute_result"
    },
    {
     "data": {
      "image/png": "[encoded data removed]",
      "text/plain": [
       "<Figure size 640x480 with 1 Axes>"
      ]
     },
     "metadata": {},
     "output_type": "display_data"
    }
   ],
   "source": [
    "# homework\n",
    "\n",
    "# 1. add text to this pie chart to write the % \n",
    "# meaning what percentage of data is in red, green\n",
    "\n",
    "\n",
    "\n",
    "# 2. use seaborn to create the histogram at the bottom\n",
    "\n",
    "\n",
    "\n",
    "\n",
    "plt.pie(cnts)"
   ]
  },
  {
   "cell_type": "code",
   "execution_count": null,
   "id": "f5a82350",
   "metadata": {},
   "outputs": [],
   "source": [
    "import numpy as np\n",
    "import matplotlib.pyplot as plt\n",
    "\n",
    "x = np.array([1,1,1,1,2,2,2,3,3,3,3,3,3,4,4,4,4,4,4,4,4])\n",
    "\n",
    "\n",
    "binEdges = np.arange(np.min(x)-0.5,np.max(x)+1.5,1)\n",
    "print(binEdges)\n",
    "\n",
    "counts, bins, _ = plt.hist(x, bins=binEdges, edgecolor='black')\n",
    "\n",
    "\n",
    "\n",
    "# Calculate the total number of observations\n",
    "total_observations = len(x)\n",
    "\n",
    "# Calculate the percentage of each bin\n",
    "percentages = counts / total_observations * 100\n",
    "\n",
    "# Add labels to the histogram bars\n",
    "for i in range(len(percentages)):\n",
    "    if percentages[i] > 0:\n",
    "      plt.text(bins[i] + 0.50, counts[i], f\"{percentages[i]:.1f}%\", ha='center', va='bottom')\n",
    "\n",
    "plt.xlabel('Value')\n",
    "plt.ylabel('Frequency')\n",
    "plt.title('Histogram')\n",
    "\n",
    "\n",
    "\n",
    "\n",
    "plt.show()"
   ]
  }
 ],
 "metadata": {
  "kernelspec": {
   "display_name": "Python 3 (ipykernel)",
   "language": "python",
   "name": "python3"
  },
  "language_info": {
   "codemirror_mode": {
    "name": "ipython",
    "version": 3
   },
   "file_extension": ".py",
   "mimetype": "text/x-python",
   "name": "python",
   "nbconvert_exporter": "python",
   "pygments_lexer": "ipython3",
   "version": "3.10.9"
  }
 },
 "nbformat": 4,
 "nbformat_minor": 5
}
