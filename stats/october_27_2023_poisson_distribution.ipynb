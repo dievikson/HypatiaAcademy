{
  "nbformat": 4,
  "nbformat_minor": 0,
  "metadata": {
    "colab": {
      "provenance": [],
      "authorship_tag": "ABX9TyPlstYTLma/YGVNNenfrQOz",
      "include_colab_link": true
    },
    "kernelspec": {
      "name": "python3",
      "display_name": "Python 3"
    },
    "language_info": {
      "name": "python"
    }
  },
  "cells": [
    {
      "cell_type": "markdown",
      "metadata": {
        "id": "view-in-github",
        "colab_type": "text"
      },
      "source": [
        "<a href=\"https://colab.research.google.com/github/werowe/HypatiaAcademy/blob/master/stats/october_27_2023_poisson_distribution.ipynb\" target=\"_parent\"><img src=\"https://colab.research.google.com/assets/colab-badge.svg\" alt=\"Open In Colab\"/></a>"
      ]
    },
    {
      "cell_type": "code",
      "execution_count": 2,
      "metadata": {
        "colab": {
          "base_uri": "https://localhost:8080/"
        },
        "id": "9ChmKao-N3K5",
        "outputId": "21b1b2d2-6736-4b64-c690-c87266fb7c95"
      },
      "outputs": [
        {
          "output_type": "execute_result",
          "data": {
            "text/plain": [
              "0.61"
            ]
          },
          "metadata": {},
          "execution_count": 2
        }
      ],
      "source": [
        "# how do we calculate lambda\n",
        "\n",
        "λ=0.61\n",
        "\n",
        "# number of events\n",
        "\n",
        "k=2\n"
      ]
    },
    {
      "cell_type": "code",
      "source": [
        "# get same answer as these guys did https://www.scribbr.com/statistics/poisson-distribution/\n",
        "\n",
        "\n",
        "# numpy function for calculating the Poisson distribution formula\n",
        "\n",
        "\n",
        "# scikit-learn function for calculating the Poisson distribution formula"
      ],
      "metadata": {
        "id": "Q9ASns4XOShC"
      },
      "execution_count": null,
      "outputs": []
    },
    {
      "cell_type": "code",
      "source": [
        "from IPython.display import display, Math, Latex\n",
        "display(Math(r'P(X = k) = \\frac{e^{-\\lambda} \\lambda^k}{k!}'))\n",
        "\n",
        "\n",
        "# Where:\n",
        "# $P(X = k)$ is the probability of observing $k$ events,\n",
        "#$\\lambda$ is the average rate of events (also called the rate parameter), and\n",
        "# $k$ is the number of events you want to find the probability for.\n",
        "\n"
      ],
      "metadata": {
        "colab": {
          "base_uri": "https://localhost:8080/",
          "height": 54
        },
        "id": "NoSX6yplPdPt",
        "outputId": "e2e35b34-df28-4e4f-b83f-5667c2fbcb2b"
      },
      "execution_count": 4,
      "outputs": [
        {
          "output_type": "display_data",
          "data": {
            "text/plain": [
              "<IPython.core.display.Math object>"
            ],
            "text/latex": "$\\displaystyle P(X = k) = \\frac{e^{-\\lambda} \\lambda^k}{k!}$"
          },
          "metadata": {}
        }
      ]
    },
    {
      "cell_type": "code",
      "source": [
        "\n",
        "\n",
        "from scipy.stats import poisson\n",
        "\n",
        "# Define the rate parameter (lambda) for the Poisson distribution\n",
        "rate_parameter = λ\n",
        "\n",
        "# Define the value (k) for which you want to calculate the probability\n",
        "k = 2\n",
        "\n",
        "# Calculate the Poisson probability P(X = k)\n",
        "probability = poisson.pmf(k, rate_parameter)\n",
        "\n",
        "print(f\"P(X = {k}) = {probability:.4f}\")\n",
        "\n"
      ],
      "metadata": {
        "colab": {
          "base_uri": "https://localhost:8080/"
        },
        "id": "aX21QNBNQaSe",
        "outputId": "33c2b2dc-1085-4133-fbd0-db43696bd5c1"
      },
      "execution_count": 5,
      "outputs": [
        {
          "output_type": "stream",
          "name": "stdout",
          "text": [
            "P(X = 2) = 0.1011\n"
          ]
        }
      ]
    },
    {
      "cell_type": "code",
      "source": [
        "import numpy as np\n",
        "\n",
        "# Define the rate parameter (lambda) for the Poisson distribution\n",
        "rate_parameter = λ\n",
        "\n",
        "# Define an array of values (k) for which you want to calculate the probabilities\n",
        "k_values = np.array([k])\n",
        "\n",
        "k_values=k\n",
        "\n",
        "# Calculate the Poisson probabilities for all values in k_values\n",
        "probability = np.exp(-rate_parameter) * (rate_parameter**k_values) / np.math.factorial(k_values)\n",
        "\n",
        "# Print the calculated probabilities\n",
        "#for k, probability in zip(k_values, probabilities):\n",
        "\n",
        "print(f\"P(X = {k}) = {probability:.4f}\")\n",
        "\n",
        "\n",
        "\n",
        "\n"
      ],
      "metadata": {
        "colab": {
          "base_uri": "https://localhost:8080/"
        },
        "id": "jETzX-baRZO6",
        "outputId": "534cee40-61d4-405a-f8a9-1aa0309bf100"
      },
      "execution_count": 12,
      "outputs": [
        {
          "output_type": "stream",
          "name": "stdout",
          "text": [
            "P(X = 2) = 0.1011\n"
          ]
        }
      ]
    },
    {
      "cell_type": "code",
      "source": [
        "'''\n",
        "homework.  how do you calculate lamba\n",
        "\n",
        "maybe try to find this guy's original data\n",
        "\n",
        "https://towardsdatascience.com/poisson-distribution-from-horse-kick-history-data-to-modern-analytic-5eb49e60fb5f\n",
        "\n",
        "\n",
        "\n",
        "'''"
      ],
      "metadata": {
        "id": "meCufZk8STlu"
      },
      "execution_count": null,
      "outputs": []
    }
  ]
}