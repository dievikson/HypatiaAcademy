{
  "nbformat": 4,
  "nbformat_minor": 0,
  "metadata": {
    "colab": {
      "provenance": [],
      "authorship_tag": "ABX9TyOBnw4v593IlA0pbcHcM2e+",
      "include_colab_link": true
    },
    "kernelspec": {
      "name": "python3",
      "display_name": "Python 3"
    },
    "language_info": {
      "name": "python"
    }
  },
  "cells": [
    {
      "cell_type": "markdown",
      "metadata": {
        "id": "view-in-github",
        "colab_type": "text"
      },
      "source": [
        "<a href=\"https://colab.research.google.com/github/werowe/HypatiaAcademy/blob/master/stats/duolingo_words.ipynb\" target=\"_parent\"><img src=\"https://colab.research.google.com/assets/colab-badge.svg\" alt=\"Open In Colab\"/></a>"
      ]
    },
    {
      "cell_type": "code",
      "execution_count": null,
      "metadata": {
        "id": "BM24XSJaua6S"
      },
      "outputs": [],
      "source": [
        "!wget https://raw.githubusercontent.com/werowe/HypatiaAcademy/master/stats/user.json"
      ]
    },
    {
      "cell_type": "code",
      "source": [
        "with open(\"user.json\", \"r\") as file:\n",
        "    words = file.readlines()\n",
        ""
      ],
      "metadata": {
        "id": "kmoS-mu4udi-"
      },
      "execution_count": null,
      "outputs": []
    },
    {
      "cell_type": "code",
      "source": [
        "import json\n",
        "\n",
        "with open('user.json', 'r') as file:\n",
        "    # Load the JSON data into a Python object\n",
        "    data = json.load(file)"
      ],
      "metadata": {
        "id": "A-IHkz--uvmk"
      },
      "execution_count": null,
      "outputs": []
    },
    {
      "cell_type": "code",
      "source": [
        "def walk_keys(json_obj, path=[]):\n",
        "    if isinstance(json_obj, dict):  # Ensure the element is a dictionary\n",
        "        for key in json_obj:\n",
        "            current_path = path + [key]  # Append the current key to the path\n",
        "            print('/'.join(current_path))  # Print the current path as a path-like string\n",
        "            walk_keys(json_obj[key], current_path)  # Recursive call with the updated path\n",
        "\n",
        "\n",
        "\n",
        "walk_keys(data)"
      ],
      "metadata": {
        "id": "vBHhIO5HvCbp"
      },
      "execution_count": null,
      "outputs": []
    },
    {
      "cell_type": "code",
      "source": [
        "b=keys(data)"
      ],
      "metadata": {
        "id": "3H0Wfef7xMmq"
      },
      "execution_count": null,
      "outputs": []
    },
    {
      "cell_type": "code",
      "source": [
        "d"
      ],
      "metadata": {
        "id": "jhFFQM8Fxf0g"
      },
      "execution_count": null,
      "outputs": []
    }
  ]
}