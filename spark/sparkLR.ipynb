{
 "cells": [
  {
   "cell_type": "code",
   "execution_count": 5,
   "id": "d8742bbb",
   "metadata": {},
   "outputs": [],
   "source": [
    "from pyspark.sql import SparkSession\n",
    "\n",
    "# Create a SparkSession\n",
    "spark = SparkSession.builder \\\n",
    "    .appName(\"example-app\") \\\n",
    "    .getOrCreate()\n",
    "\n",
    "sc = spark.sparkContext"
   ]
  },
  {
   "cell_type": "code",
   "execution_count": 6,
   "id": "84728592",
   "metadata": {},
   "outputs": [
    {
     "name": "stderr",
     "output_type": "stream",
     "text": [
      "24/04/30 10:22:33 WARN Instrumentation: [5e44161d] Initial coefficients will be ignored! Its dimensions (1, 2) did not match the expected size (1, 2)\n",
      "24/04/30 10:22:34 WARN InstanceBuilder: Failed to load implementation from:dev.ludovic.netlib.blas.JNIBLAS\n",
      "24/04/30 10:22:34 WARN InstanceBuilder: Failed to load implementation from:dev.ludovic.netlib.blas.VectorBLAS\n",
      "                                                                                \r"
     ]
    }
   ],
   "source": [
    "# brake train\n",
    "\n",
    "import pandas as pd\n",
    "from pyspark.mllib.regression import LabeledPoint\n",
    "from pyspark.mllib.classification import LogisticRegressionWithLBFGS\n",
    "import locale\n",
    "import math\n",
    "locale.setlocale( locale.LC_ALL, 'en_US.UTF-8' ) \n",
    "\n",
    "df = pd.read_csv('https://raw.githubusercontent.com/werowe/mist_preventive_maintenance_ml/master/brakedata.csv', sep= ',')\n",
    " \n",
    "brakeData =  df.iloc[:,0:3]\n",
    "\n",
    "a = [] \n",
    "\n",
    "\n",
    "def parsePoint(w,k,h):\n",
    "    return LabeledPoint(worn, [km, heat])\n",
    "\n",
    "for row in brakeData.itertuples():\n",
    "\tworn = getattr(row, 'worn')\n",
    "\tkm = locale.atof(getattr(row, 'km'))\n",
    "\theat = getattr(row,'heat')\n",
    "\tlp = parsePoint (worn, km, heat)\n",
    "\ta.append(lp)\n",
    "\n",
    "\n",
    "lrm = LogisticRegressionWithLBFGS.train(sc.parallelize(a))\n",
    "\n",
    "lrm.save(sc, \"/tmp/brakeModel\")\n",
    "\n",
    "p = sc.parallelize(a)\n",
    "\n",
    "valuesAndPreds = p.map(lambda p: (p.label, lrm.predict(p.features)))\n",
    " \n",
    "\n",
    "accurate = 1 - valuesAndPreds.map(lambda vp: math.fabs(vp[0] - vp[1])).reduce(lambda x, y: x + y) / valuesAndPreds.count()"
   ]
  },
  {
   "cell_type": "code",
   "execution_count": 8,
   "id": "68356725",
   "metadata": {},
   "outputs": [
    {
     "name": "stderr",
     "output_type": "stream",
     "text": [
      "\r",
      "[Stage 46:>                                                         (0 + 8) / 8]\r"
     ]
    },
    {
     "name": "stdout",
     "output_type": "stream",
     "text": [
      "(1.0, 1)\n",
      "(0.0, 0)\n",
      "(1.0, 1)\n",
      "(0.0, 0)\n",
      "(1.0, 1)\n",
      "(1.0, 1)\n",
      "(1.0, 1)\n",
      "(0.0, 1)\n",
      "(0.0, 0)\n",
      "(0.0, 0)\n",
      "(1.0, 1)\n",
      "(1.0, 1)\n"
     ]
    },
    {
     "name": "stderr",
     "output_type": "stream",
     "text": [
      "\r",
      "                                                                                \r"
     ]
    }
   ],
   "source": [
    "\n",
    "\n",
    "for value in valuesAndPreds.collect():\n",
    "    print(value)"
   ]
  },
  {
   "cell_type": "markdown",
   "id": "81073b7a",
   "metadata": {},
   "source": [
    "this part we need to modify to run on spark it was designed to run on mist"
   ]
  },
  {
   "cell_type": "code",
   "execution_count": null,
   "id": "89213f79",
   "metadata": {},
   "outputs": [],
   "source": [
    "from mist.mist_job import MistJob\n",
    "import os\n",
    "import numpy as np\n",
    "import pandas as pd\n",
    "import math\n",
    "from numpy import array\n",
    "from pyspark.mllib.regression import LabeledPoint\n",
    "from pyspark.mllib.classification import LogisticRegressionModel\n",
    "\n",
    "class Predict(MistJob):\n",
    " \n",
    "    def do_stuff(self, parameters):\n",
    "        val = parameters.values()\n",
    "        list = val.head()\n",
    "        size = list.size()\n",
    "        pylist = []\n",
    "        count = 0\n",
    "        while count < size:\n",
    "            pylist.append(list.head())\n",
    "            count = count + 1\n",
    "            list = list.tail()\n",
    "\n",
    "\n",
    "        heat = pylist[0]\n",
    "        km = pylist[1]\n",
    "        lrm = LogisticRegressionModel.load(self.context, \"/tmp/brakeModel\")\n",
    "        worn = lrm.predict([km,heat])\n",
    "        return (\"brake is worn=\", worn)"
   ]
  }
 ],
 "metadata": {
  "kernelspec": {
   "display_name": "Python 3 (ipykernel)",
   "language": "python",
   "name": "python3"
  },
  "language_info": {
   "codemirror_mode": {
    "name": "ipython",
    "version": 3
   },
   "file_extension": ".py",
   "mimetype": "text/x-python",
   "name": "python",
   "nbconvert_exporter": "python",
   "pygments_lexer": "ipython3",
   "version": "3.10.9"
  }
 },
 "nbformat": 4,
 "nbformat_minor": 5
}
