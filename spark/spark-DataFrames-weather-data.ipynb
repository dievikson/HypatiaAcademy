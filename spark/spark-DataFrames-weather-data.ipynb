{
 "cells": [
  {
   "cell_type": "code",
   "execution_count": 1,
   "id": "531a9caf",
   "metadata": {},
   "outputs": [
    {
     "name": "stderr",
     "output_type": "stream",
     "text": [
      "Setting default log level to \"WARN\".\n",
      "To adjust logging level use sc.setLogLevel(newLevel). For SparkR, use setLogLevel(newLevel).\n",
      "24/05/01 05:45:22 WARN NativeCodeLoader: Unable to load native-hadoop library for your platform... using builtin-java classes where applicable\n"
     ]
    }
   ],
   "source": [
    "from pyspark.sql import SparkSession\n",
    "\n",
    "# Create a SparkSession\n",
    "spark = SparkSession.builder \\\n",
    "    .appName(\"example-app\") \\\n",
    "    .getOrCreate()\n",
    "\n",
    "sc = spark.sparkContext"
   ]
  },
  {
   "cell_type": "code",
   "execution_count": 3,
   "id": "2518f5ef",
   "metadata": {},
   "outputs": [
    {
     "name": "stdout",
     "output_type": "stream",
     "text": [
      "--2024-05-01 05:48:43--  https://raw.githubusercontent.com/fivethirtyeight/data/master/us-weather-history/KCLT.csv\n",
      "Resolving raw.githubusercontent.com (raw.githubusercontent.com)... 185.199.110.133, 185.199.109.133, 185.199.111.133, ...\n",
      "Connecting to raw.githubusercontent.com (raw.githubusercontent.com)|185.199.110.133|:443... connected.\n",
      "HTTP request sent, awaiting response... 200 OK\n",
      "Length: 20629 (20K) [text/plain]\n",
      "Saving to: ‘KCLT.csv’\n",
      "\n",
      "KCLT.csv            100%[===================>]  20.15K  --.-KB/s    in 0.001s  \n",
      "\n",
      "2024-05-01 05:48:44 (34.7 MB/s) - ‘KCLT.csv’ saved [20629/20629]\n",
      "\n"
     ]
    }
   ],
   "source": [
    "!wget https://raw.githubusercontent.com/fivethirtyeight/data/master/us-weather-history/KCLT.csv"
   ]
  },
  {
   "cell_type": "code",
   "execution_count": 7,
   "id": "2a468efd",
   "metadata": {},
   "outputs": [
    {
     "name": "stdout",
     "output_type": "stream",
     "text": [
      "/Users/walkerrowe/Documents/hypatia/spark\r\n"
     ]
    }
   ],
   "source": [
    "!pwd"
   ]
  },
  {
   "cell_type": "code",
   "execution_count": 4,
   "id": "54dd56a0",
   "metadata": {},
   "outputs": [
    {
     "name": "stderr",
     "output_type": "stream",
     "text": [
      "\r",
      "[Stage 0:>                                                          (0 + 1) / 1]\r",
      "\r",
      "                                                                                \r"
     ]
    }
   ],
   "source": [
    "df = spark.read.csv(\"KCLT.csv\")\n"
   ]
  },
  {
   "cell_type": "code",
   "execution_count": 5,
   "id": "470c2fac",
   "metadata": {},
   "outputs": [
    {
     "name": "stdout",
     "output_type": "stream",
     "text": [
      "+---------+----------------+---------------+---------------+----------------+----------------+---------------+---------------+--------------------+--------------------+--------------------+--------------------+--------------------+\n",
      "|      _c0|             _c1|            _c2|            _c3|             _c4|             _c5|            _c6|            _c7|                 _c8|                 _c9|                _c10|                _c11|                _c12|\n",
      "+---------+----------------+---------------+---------------+----------------+----------------+---------------+---------------+--------------------+--------------------+--------------------+--------------------+--------------------+\n",
      "|     date|actual_mean_temp|actual_min_temp|actual_max_temp|average_min_temp|average_max_temp|record_min_temp|record_max_temp|record_min_temp_year|record_max_temp_year|actual_precipitation|average_precipita...|record_precipitation|\n",
      "| 2014-7-1|              81|             70|             91|              67|              89|             56|            104|                1919|                2012|                0.00|                0.10|                5.91|\n",
      "| 2014-7-2|              85|             74|             95|              68|              89|             56|            101|                2008|                1931|                0.00|                0.10|                1.53|\n",
      "| 2014-7-3|              82|             71|             93|              68|              89|             56|             99|                2010|                1931|                0.14|                0.11|                2.50|\n",
      "| 2014-7-4|              75|             64|             86|              68|              89|             55|             99|                1933|                1955|                0.00|                0.10|                2.63|\n",
      "| 2014-7-5|              72|             60|             84|              68|              89|             57|            100|                1967|                1954|                0.00|                0.10|                1.65|\n",
      "| 2014-7-6|              74|             61|             87|              68|              89|             57|             99|                1964|                1948|                0.00|                0.10|                1.95|\n",
      "| 2014-7-7|              79|             67|             91|              68|              89|             55|            100|                1972|                1954|                0.00|                0.11|                2.37|\n",
      "| 2014-7-8|              83|             72|             94|              68|              89|             58|            101|                1892|                2010|                0.00|                0.11|                1.87|\n",
      "| 2014-7-9|              80|             71|             89|              68|              89|             57|            101|                1891|                1986|                0.15|                0.12|                3.71|\n",
      "|2014-7-10|              78|             71|             85|              68|              89|             53|            101|                1961|                1926|                 0.0|                0.11|                2.45|\n",
      "|2014-7-11|              78|             68|             87|              68|              89|             55|            100|                1961|                1986|                0.00|                0.12|                3.10|\n",
      "|2014-7-12|              79|             67|             91|              68|              89|             59|            102|                1953|                1930|                0.00|                0.11|                1.95|\n",
      "|2014-7-13|              81|             69|             92|              68|              89|             56|            100|                1918|                1986|                0.00|                0.12|                2.09|\n",
      "|2014-7-14|              85|             74|             96|              68|              89|             59|            102|                2007|                1954|                0.00|                0.12|                2.15|\n",
      "|2014-7-15|              81|             67|             94|              68|              89|             58|            100|                2001|                1893|                0.87|                0.12|                4.61|\n",
      "|2014-7-16|              76|             66|             85|              68|              89|             58|            100|                2001|                1887|                0.00|                0.12|                1.47|\n",
      "|2014-7-17|              74|             63|             84|              68|              89|             62|            100|                1886|                1986|                0.00|                0.12|                4.14|\n",
      "|2014-7-18|              77|             70|             83|              68|              89|             62|            102|                1896|                1887|                 0.0|                0.12|                1.82|\n",
      "|2014-7-19|              70|             66|             74|              68|              89|             60|            103|                2009|                1986|                0.17|                0.12|                2.30|\n",
      "+---------+----------------+---------------+---------------+----------------+----------------+---------------+---------------+--------------------+--------------------+--------------------+--------------------+--------------------+\n",
      "only showing top 20 rows\n",
      "\n"
     ]
    }
   ],
   "source": [
    "df.show()"
   ]
  },
  {
   "cell_type": "code",
   "execution_count": 6,
   "id": "ab222159",
   "metadata": {},
   "outputs": [
    {
     "name": "stdout",
     "output_type": "stream",
     "text": [
      "root\n",
      " |-- _c0: string (nullable = true)\n",
      " |-- _c1: string (nullable = true)\n",
      " |-- _c2: string (nullable = true)\n",
      " |-- _c3: string (nullable = true)\n",
      " |-- _c4: string (nullable = true)\n",
      " |-- _c5: string (nullable = true)\n",
      " |-- _c6: string (nullable = true)\n",
      " |-- _c7: string (nullable = true)\n",
      " |-- _c8: string (nullable = true)\n",
      " |-- _c9: string (nullable = true)\n",
      " |-- _c10: string (nullable = true)\n",
      " |-- _c11: string (nullable = true)\n",
      " |-- _c12: string (nullable = true)\n",
      "\n"
     ]
    }
   ],
   "source": [
    "df.printSchema()"
   ]
  },
  {
   "cell_type": "code",
   "execution_count": null,
   "id": "0d8a66c4",
   "metadata": {},
   "outputs": [],
   "source": []
  }
 ],
 "metadata": {
  "kernelspec": {
   "display_name": "Python 3 (ipykernel)",
   "language": "python",
   "name": "python3"
  },
  "language_info": {
   "codemirror_mode": {
    "name": "ipython",
    "version": 3
   },
   "file_extension": ".py",
   "mimetype": "text/x-python",
   "name": "python",
   "nbconvert_exporter": "python",
   "pygments_lexer": "ipython3",
   "version": "3.10.9"
  }
 },
 "nbformat": 4,
 "nbformat_minor": 5
}
